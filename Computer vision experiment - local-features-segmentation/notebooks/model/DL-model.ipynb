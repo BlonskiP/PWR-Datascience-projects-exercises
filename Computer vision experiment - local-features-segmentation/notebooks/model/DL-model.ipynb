{
 "cells": [
  {
   "cell_type": "code",
   "execution_count": 1,
   "metadata": {},
   "outputs": [
    {
     "data": {
      "text/plain": [
       "<torch._C.Generator at 0x1fd824df1d0>"
      ]
     },
     "execution_count": 1,
     "metadata": {},
     "output_type": "execute_result"
    }
   ],
   "source": [
    "%load_ext autoreload\n",
    "%autoreload 2\n",
    "import sys; \n",
    "sys.path.append('../../')\n",
    "import pandas as pd\n",
    "from PIL import Image\n",
    "import numpy as np\n",
    "from tqdm import tqdm\n",
    "import os\n",
    "import torch\n",
    "import matplotlib.pyplot as plt\n",
    "import torchvision.transforms as transforms\n",
    "import torch.nn as nn\n",
    "from torch.utils.tensorboard import SummaryWriter\n",
    "from datetime import date, time, datetime\n",
    "from sklearn.metrics import f1_score\n",
    "import copy\n",
    "import plotly\n",
    "import pickle\n",
    "from torch.utils.data import Dataset, DataLoader\n",
    "import torch.optim as optim\n",
    "from skimage import io\n",
    "from src.model.dataset import VoronoiRegionDataset\n",
    "from sklearn.model_selection import train_test_split\n",
    "DEVICE = torch.device(\"cuda:0\" if torch.cuda.is_available() else \"cpu\") #cuda:0\n",
    "DEVICE\n",
    "torch.manual_seed(42)"
   ]
  },
  {
   "cell_type": "code",
   "execution_count": 2,
   "metadata": {},
   "outputs": [],
   "source": [
    "#limit = 100\n",
    "limit = None\n",
    "BATCH_SIZE = 20\n",
    "IMG_SHAPE = [244,244]"
   ]
  },
  {
   "cell_type": "code",
   "execution_count": 8,
   "metadata": {},
   "outputs": [],
   "source": [
    "train_root = r\"../../dl/model_filtered\"\n",
    "assert os.path.exists(train_root)\n",
    "test_root = r\"../../dl/model_filtered_Test\"\n",
    "assert os.path.exists(test_root)"
   ]
  },
  {
   "cell_type": "code",
   "execution_count": 9,
   "metadata": {},
   "outputs": [],
   "source": [
    "train_dataset = VoronoiRegionDataset(train_root,limit)\n",
    "targets_train = train_dataset.labels\n",
    "test_dataset = VoronoiRegionDataset(test_root,limit)\n",
    "targets_test = test_dataset.labels"
   ]
  },
  {
   "cell_type": "code",
   "execution_count": 10,
   "metadata": {},
   "outputs": [
    {
     "data": {
      "text/html": [
       "<div>\n",
       "<style scoped>\n",
       "    .dataframe tbody tr th:only-of-type {\n",
       "        vertical-align: middle;\n",
       "    }\n",
       "\n",
       "    .dataframe tbody tr th {\n",
       "        vertical-align: top;\n",
       "    }\n",
       "\n",
       "    .dataframe thead th {\n",
       "        text-align: right;\n",
       "    }\n",
       "</style>\n",
       "<table border=\"1\" class=\"dataframe\">\n",
       "  <thead>\n",
       "    <tr style=\"text-align: right;\">\n",
       "      <th></th>\n",
       "      <th>Unnamed: 0</th>\n",
       "      <th>filename</th>\n",
       "      <th>label</th>\n",
       "    </tr>\n",
       "  </thead>\n",
       "  <tbody>\n",
       "    <tr>\n",
       "      <th>0</th>\n",
       "      <td>0</td>\n",
       "      <td>p10_0035_9_0.jpg</td>\n",
       "      <td>3</td>\n",
       "    </tr>\n",
       "    <tr>\n",
       "      <th>1</th>\n",
       "      <td>1</td>\n",
       "      <td>p10_0035_9_1.jpg</td>\n",
       "      <td>3</td>\n",
       "    </tr>\n",
       "    <tr>\n",
       "      <th>2</th>\n",
       "      <td>2</td>\n",
       "      <td>p10_0035_9_2.jpg</td>\n",
       "      <td>3</td>\n",
       "    </tr>\n",
       "    <tr>\n",
       "      <th>3</th>\n",
       "      <td>3</td>\n",
       "      <td>p10_0035_9_3.jpg</td>\n",
       "      <td>3</td>\n",
       "    </tr>\n",
       "    <tr>\n",
       "      <th>4</th>\n",
       "      <td>4</td>\n",
       "      <td>p10_0035_9_4.jpg</td>\n",
       "      <td>2</td>\n",
       "    </tr>\n",
       "    <tr>\n",
       "      <th>...</th>\n",
       "      <td>...</td>\n",
       "      <td>...</td>\n",
       "      <td>...</td>\n",
       "    </tr>\n",
       "    <tr>\n",
       "      <th>316903</th>\n",
       "      <td>316903</td>\n",
       "      <td>p9_0245_6_324.jpg</td>\n",
       "      <td>3</td>\n",
       "    </tr>\n",
       "    <tr>\n",
       "      <th>316904</th>\n",
       "      <td>316904</td>\n",
       "      <td>p9_0245_6_325.jpg</td>\n",
       "      <td>3</td>\n",
       "    </tr>\n",
       "    <tr>\n",
       "      <th>316905</th>\n",
       "      <td>316905</td>\n",
       "      <td>p9_0245_6_326.jpg</td>\n",
       "      <td>3</td>\n",
       "    </tr>\n",
       "    <tr>\n",
       "      <th>316906</th>\n",
       "      <td>316906</td>\n",
       "      <td>p9_0245_6_327.jpg</td>\n",
       "      <td>3</td>\n",
       "    </tr>\n",
       "    <tr>\n",
       "      <th>316907</th>\n",
       "      <td>316907</td>\n",
       "      <td>p9_0245_6_328.jpg</td>\n",
       "      <td>2</td>\n",
       "    </tr>\n",
       "  </tbody>\n",
       "</table>\n",
       "<p>316908 rows × 3 columns</p>\n",
       "</div>"
      ],
      "text/plain": [
       "        Unnamed: 0           filename  label\n",
       "0                0   p10_0035_9_0.jpg      3\n",
       "1                1   p10_0035_9_1.jpg      3\n",
       "2                2   p10_0035_9_2.jpg      3\n",
       "3                3   p10_0035_9_3.jpg      3\n",
       "4                4   p10_0035_9_4.jpg      2\n",
       "...            ...                ...    ...\n",
       "316903      316903  p9_0245_6_324.jpg      3\n",
       "316904      316904  p9_0245_6_325.jpg      3\n",
       "316905      316905  p9_0245_6_326.jpg      3\n",
       "316906      316906  p9_0245_6_327.jpg      3\n",
       "316907      316907  p9_0245_6_328.jpg      2\n",
       "\n",
       "[316908 rows x 3 columns]"
      ]
     },
     "execution_count": 10,
     "metadata": {},
     "output_type": "execute_result"
    }
   ],
   "source": [
    "targets_test"
   ]
  },
  {
   "cell_type": "code",
   "execution_count": 11,
   "metadata": {},
   "outputs": [
    {
     "data": {
      "text/html": [
       "<div>\n",
       "<style scoped>\n",
       "    .dataframe tbody tr th:only-of-type {\n",
       "        vertical-align: middle;\n",
       "    }\n",
       "\n",
       "    .dataframe tbody tr th {\n",
       "        vertical-align: top;\n",
       "    }\n",
       "\n",
       "    .dataframe thead th {\n",
       "        text-align: right;\n",
       "    }\n",
       "</style>\n",
       "<table border=\"1\" class=\"dataframe\">\n",
       "  <thead>\n",
       "    <tr style=\"text-align: right;\">\n",
       "      <th></th>\n",
       "      <th>Unnamed: 0</th>\n",
       "      <th>filename</th>\n",
       "      <th>label</th>\n",
       "    </tr>\n",
       "  </thead>\n",
       "  <tbody>\n",
       "    <tr>\n",
       "      <th>0</th>\n",
       "      <td>0</td>\n",
       "      <td>p10_0031_5_0.jpg</td>\n",
       "      <td>3</td>\n",
       "    </tr>\n",
       "    <tr>\n",
       "      <th>1</th>\n",
       "      <td>1</td>\n",
       "      <td>p10_0031_5_1.jpg</td>\n",
       "      <td>3</td>\n",
       "    </tr>\n",
       "    <tr>\n",
       "      <th>2</th>\n",
       "      <td>2</td>\n",
       "      <td>p10_0031_5_2.jpg</td>\n",
       "      <td>3</td>\n",
       "    </tr>\n",
       "    <tr>\n",
       "      <th>3</th>\n",
       "      <td>3</td>\n",
       "      <td>p10_0031_5_3.jpg</td>\n",
       "      <td>1</td>\n",
       "    </tr>\n",
       "    <tr>\n",
       "      <th>4</th>\n",
       "      <td>4</td>\n",
       "      <td>p10_0031_5_4.jpg</td>\n",
       "      <td>3</td>\n",
       "    </tr>\n",
       "    <tr>\n",
       "      <th>...</th>\n",
       "      <td>...</td>\n",
       "      <td>...</td>\n",
       "      <td>...</td>\n",
       "    </tr>\n",
       "    <tr>\n",
       "      <th>712248</th>\n",
       "      <td>712248</td>\n",
       "      <td>p9_0245_7_138.jpg</td>\n",
       "      <td>3</td>\n",
       "    </tr>\n",
       "    <tr>\n",
       "      <th>712249</th>\n",
       "      <td>712249</td>\n",
       "      <td>p9_0245_7_139.jpg</td>\n",
       "      <td>3</td>\n",
       "    </tr>\n",
       "    <tr>\n",
       "      <th>712250</th>\n",
       "      <td>712250</td>\n",
       "      <td>p9_0245_7_140.jpg</td>\n",
       "      <td>3</td>\n",
       "    </tr>\n",
       "    <tr>\n",
       "      <th>712251</th>\n",
       "      <td>712251</td>\n",
       "      <td>p9_0245_7_141.jpg</td>\n",
       "      <td>2</td>\n",
       "    </tr>\n",
       "    <tr>\n",
       "      <th>712252</th>\n",
       "      <td>712252</td>\n",
       "      <td>p9_0245_7_142.jpg</td>\n",
       "      <td>3</td>\n",
       "    </tr>\n",
       "  </tbody>\n",
       "</table>\n",
       "<p>712253 rows × 3 columns</p>\n",
       "</div>"
      ],
      "text/plain": [
       "        Unnamed: 0           filename  label\n",
       "0                0   p10_0031_5_0.jpg      3\n",
       "1                1   p10_0031_5_1.jpg      3\n",
       "2                2   p10_0031_5_2.jpg      3\n",
       "3                3   p10_0031_5_3.jpg      1\n",
       "4                4   p10_0031_5_4.jpg      3\n",
       "...            ...                ...    ...\n",
       "712248      712248  p9_0245_7_138.jpg      3\n",
       "712249      712249  p9_0245_7_139.jpg      3\n",
       "712250      712250  p9_0245_7_140.jpg      3\n",
       "712251      712251  p9_0245_7_141.jpg      2\n",
       "712252      712252  p9_0245_7_142.jpg      3\n",
       "\n",
       "[712253 rows x 3 columns]"
      ]
     },
     "execution_count": 11,
     "metadata": {},
     "output_type": "execute_result"
    }
   ],
   "source": [
    "targets_train"
   ]
  },
  {
   "cell_type": "code",
   "execution_count": 12,
   "metadata": {},
   "outputs": [
    {
     "data": {
      "text/plain": [
       "712253"
      ]
     },
     "execution_count": 12,
     "metadata": {},
     "output_type": "execute_result"
    }
   ],
   "source": [
    "train_dataset.__len__()"
   ]
  },
  {
   "cell_type": "code",
   "execution_count": 13,
   "metadata": {},
   "outputs": [
    {
     "data": {
      "image/png": "[encoded data removed]",
      "text/plain": [
       "<Figure size 432x288 with 1 Axes>"
      ]
     },
     "metadata": {
      "needs_background": "light"
     },
     "output_type": "display_data"
    }
   ],
   "source": [
    "x = train_dataset.__getlabels__().label.hist()"
   ]
  },
  {
   "cell_type": "code",
   "execution_count": 14,
   "metadata": {},
   "outputs": [
    {
     "data": {
      "image/png": "[encoded data removed]",
      "text/plain": [
       "<Figure size 432x288 with 1 Axes>"
      ]
     },
     "metadata": {
      "needs_background": "light"
     },
     "output_type": "display_data"
    }
   ],
   "source": [
    "x_1 = test_dataset.__getlabels__().label.hist()"
   ]
  },
  {
   "cell_type": "code",
   "execution_count": 21,
   "metadata": {},
   "outputs": [
    {
     "name": "stderr",
     "output_type": "stream",
     "text": [
      "Clipping input data to the valid range for imshow with RGB data ([0..1] for floats or [0..255] for integers).\n"
     ]
    },
    {
     "data": {
      "image/png": "[encoded data removed]",
      "text/plain": [
       "<Figure size 432x288 with 1 Axes>"
      ]
     },
     "metadata": {
      "needs_background": "light"
     },
     "output_type": "display_data"
    },
    {
     "name": "stderr",
     "output_type": "stream",
     "text": [
      "Clipping input data to the valid range for imshow with RGB data ([0..1] for floats or [0..255] for integers).\n"
     ]
    },
    {
     "data": {
      "image/png": "[encoded data removed]",
      "text/plain": [
       "<Figure size 432x288 with 1 Axes>"
      ]
     },
     "metadata": {
      "needs_background": "light"
     },
     "output_type": "display_data"
    }
   ],
   "source": [
    "#train_idx, valid_idx= train_test_split(np.arange(len(targets.label)),test_size=0.2,shuffle=True,stratify=targets.label)\n",
    "#train_sampler = torch.utils.data.SubsetRandomSampler(train_idx)\n",
    "#valid_sampler = torch.utils.data.SubsetRandomSampler(valid_idx)\n",
    "#train_dataloader = DataLoader(dataset=train_dataset,batch_size=BATCH_SIZE,sampler=train_sampler)\n",
    "#test_dataloader = DataLoader(dataset=train_dataset,batch_size=BATCH_SIZE,sampler=valid_sampler)\n",
    "train_dataloader = DataLoader(dataset=train_dataset,batch_size=BATCH_SIZE)\n",
    "test_dataloader = DataLoader(dataset=test_dataset,batch_size=BATCH_SIZE)\n",
    "train_dataset.plot(0)\n",
    "test_dataset.plot(5)"
   ]
  },
  {
   "cell_type": "code",
   "execution_count": 22,
   "metadata": {},
   "outputs": [
    {
     "name": "stdout",
     "output_type": "stream",
     "text": [
      "712253\n",
      "316908\n"
     ]
    }
   ],
   "source": [
    "print(train_dataset.__len__())\n",
    "print(test_dataset.__len__())"
   ]
  },
  {
   "cell_type": "code",
   "execution_count": 23,
   "metadata": {},
   "outputs": [],
   "source": [
    "from torchvision import datasets, models, transforms"
   ]
  },
  {
   "cell_type": "code",
   "execution_count": null,
   "metadata": {},
   "outputs": [],
   "source": []
  },
  {
   "cell_type": "code",
   "execution_count": 24,
   "metadata": {},
   "outputs": [],
   "source": [
    "NUM_CLASSES = train_dataset.__get_num_classes__()\n",
    "model = models.densenet121(pretrained=True)"
   ]
  },
  {
   "cell_type": "code",
   "execution_count": 25,
   "metadata": {},
   "outputs": [],
   "source": [
    "num_ftrs = model.classifier.in_features\n",
    "model.classifier = nn.Linear(num_ftrs, NUM_CLASSES)"
   ]
  },
  {
   "cell_type": "code",
   "execution_count": 26,
   "metadata": {},
   "outputs": [],
   "source": [
    "model = model.to(DEVICE)\n"
   ]
  },
  {
   "cell_type": "code",
   "execution_count": 27,
   "metadata": {},
   "outputs": [],
   "source": [
    "adam = optim.Adam(model.parameters(),lr=0.001)"
   ]
  },
  {
   "cell_type": "code",
   "execution_count": 28,
   "metadata": {},
   "outputs": [],
   "source": [
    "loss_fnc = nn.CrossEntropyLoss()"
   ]
  },
  {
   "cell_type": "code",
   "execution_count": 29,
   "metadata": {},
   "outputs": [],
   "source": [
    "dataloaders = {\n",
    "    'train':train_dataloader,\n",
    "    'val': test_dataloader\n",
    "}"
   ]
  },
  {
   "cell_type": "code",
   "execution_count": null,
   "metadata": {},
   "outputs": [],
   "source": []
  },
  {
   "cell_type": "code",
   "execution_count": 30,
   "metadata": {},
   "outputs": [],
   "source": [
    "def train(model,dataloaders,loss_fnc,optim,epochs):\n",
    "    logspath = os.path.join('logs',filename)\n",
    "    writer = SummaryWriter(log_dir=logspath)\n",
    "    best_model_wts = copy.deepcopy(model.state_dict())\n",
    "    best_fscore = 0.0\n",
    "    for epoch in tqdm(range(epochs)):\n",
    "        for phase in ['train','val']:\n",
    "            if phase == 'train':\n",
    "                model.train()  # Set model to training mode\n",
    "            else:\n",
    "                model.eval()   # Set model to evaluate mode\n",
    "                \n",
    "            running_loss = 0.0\n",
    "            running_corrects = 0\n",
    "            fscore_epoch = []\n",
    "            for inputs, labels in dataloaders[phase]:\n",
    "                    inputs = inputs.to(DEVICE)\n",
    "                    labels = labels.to(DEVICE)\n",
    "                    #print(inputs.shape)\n",
    "                    optim.zero_grad()\n",
    "                    with torch.set_grad_enabled(phase == 'train'):\n",
    "                        outputs = model(inputs)\n",
    "                        loss = loss_fnc(outputs, labels)\n",
    "\n",
    "                    _, preds = torch.max(outputs, 1)\n",
    "                    \n",
    "                    if phase == 'train':\n",
    "                        loss.backward()\n",
    "                        optim.step()\n",
    "                    running_loss += loss.cpu().item() * inputs.size(0)\n",
    "                    #\n",
    "                    running_corrects += torch.sum(preds == labels.data).cpu()\n",
    "                    predicted_numpy = preds.cpu()\n",
    "                    predicted_numpy = predicted_numpy.numpy()\n",
    "                    fscore_epoch.append(f1_score(y_true=labels.cpu().data,y_pred=predicted_numpy,average='macro'))\n",
    "                    \n",
    "            epoch_acc = running_corrects/ len(dataloaders[phase].dataset)\n",
    "            loss_epoch = running_loss/ len(dataloaders[phase].dataset)\n",
    "            fscore_epoch = sum(fscore_epoch) / len(fscore_epoch)\n",
    "            writer.add_scalar('Loss/'+phase, loss_epoch, epoch)\n",
    "            #history['loss_'+phase].append()\n",
    "            writer.add_scalar('acc/'+phase, epoch_acc, epoch)\n",
    "            #history['acc_'+phase].append(epoch_acc)\n",
    "            writer.add_scalar('fscore/'+phase, fscore_epoch, epoch)\n",
    "            #history['fscore_'+phase].append(fscore_epoch)\n",
    "            if phase == 'val' and fscore_epoch > best_fscore:\n",
    "                best_fscore = fscore_epoch\n",
    "                best_model_wts = copy.deepcopy(model.state_dict())\n",
    "    model.load_state_dict(best_model_wts)\n",
    "    return model"
   ]
  },
  {
   "cell_type": "code",
   "execution_count": null,
   "metadata": {},
   "outputs": [
    {
     "name": "stderr",
     "output_type": "stream",
     "text": [
      " 25%|█████████████████████████████████████████▎                                                                                                                           | 5/20 [17:24:10<52:13:54, 12535.60s/it]"
     ]
    }
   ],
   "source": [
    "date = datetime.now()\n",
    "filename = 'densenet_'+str(date.date())+\"start_at_time_\"+str(date.time()).split('.')[0].replace(\":\",\"_\")\n",
    "model_trained = train(model,dataloaders,loss_fnc,adam,20)\n",
    "#filename=\"densenet_mean.model\"\n",
    "torch.save(model_trained.state_dict(),filename)"
   ]
  },
  {
   "cell_type": "code",
   "execution_count": null,
   "metadata": {},
   "outputs": [],
   "source": []
  },
  {
   "cell_type": "code",
   "execution_count": null,
   "metadata": {},
   "outputs": [],
   "source": []
  },
  {
   "cell_type": "code",
   "execution_count": null,
   "metadata": {},
   "outputs": [],
   "source": [
    "from sklearn.metrics import classification_report"
   ]
  },
  {
   "cell_type": "code",
   "execution_count": null,
   "metadata": {},
   "outputs": [],
   "source": []
  },
  {
   "cell_type": "code",
   "execution_count": null,
   "metadata": {},
   "outputs": [],
   "source": [
    "MODEL_PATH = filename\n",
    "model = models.densenet121(pretrained=True)\n",
    "\n",
    "num_ftrs = model.classifier.in_features\n",
    "model.classifier = nn.Linear(num_ftrs, NUM_CLASSES)\n",
    "model = model.to(DEVICE)\n",
    "model.load_state_dict(torch.load(MODEL_PATH))\n",
    "model.eval()\n",
    "for phase in ['train','val']:\n",
    "    y_true = []\n",
    "    y_pred = []\n",
    "    for inputs, labels in tqdm(dataloaders[phase]):\n",
    "        with torch.set_grad_enabled(False):\n",
    "            inputs = inputs.to(DEVICE)\n",
    "            labels = labels.to(DEVICE)\n",
    "            outputs = model(inputs)\n",
    "            _, preds = torch.max(outputs, 1)\n",
    "            y_pred.append(preds.cpu().numpy())\n",
    "            y_true.append(labels.cpu().data.numpy())\n",
    "    print(f\"*****{phase}*******\")\n",
    "    y_pred=  [item for sublist in y_pred for item in sublist]\n",
    "    y_true=  [item for sublist in y_true for item in sublist]\n",
    "    print(classification_report(y_true, y_pred))"
   ]
  },
  {
   "cell_type": "code",
   "execution_count": null,
   "metadata": {},
   "outputs": [],
   "source": []
  }
 ],
 "metadata": {
  "kernelspec": {
   "display_name": "Python 3",
   "language": "python",
   "name": "python3"
  },
  "language_info": {
   "codemirror_mode": {
    "name": "ipython",
    "version": 3
   },
   "file_extension": ".py",
   "mimetype": "text/x-python",
   "name": "python",
   "nbconvert_exporter": "python",
   "pygments_lexer": "ipython3",
   "version": "3.8.3"
  }
 },
 "nbformat": 4,
 "nbformat_minor": 4
}
