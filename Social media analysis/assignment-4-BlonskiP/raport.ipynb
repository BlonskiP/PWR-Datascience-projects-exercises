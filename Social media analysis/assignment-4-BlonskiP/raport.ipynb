{
 "cells": [
  {
   "cell_type": "markdown",
   "metadata": {
    "id": "GWtz-amPEsMJ"
   },
   "source": [
    "# Polish tweets annotations"
   ]
  },
  {
   "cell_type": "code",
   "execution_count": 1,
   "metadata": {
    "executionInfo": {
     "elapsed": 769,
     "status": "ok",
     "timestamp": 1604711373741,
     "user": {
      "displayName": "Piotr Wilk Błoński",
      "photoUrl": "https://lh3.googleusercontent.com/a-/AOh14GjkUySBQ1lbWIuepsSmk5y83okpTCmPNHWPy-bGDA=s64",
      "userId": "13887880608049797141"
     },
     "user_tz": -60
    },
    "id": "kLnYQ-slEsMJ"
   },
   "outputs": [],
   "source": [
    "from os.path import join\n",
    "import matplotlib.pyplot as plt\n",
    "import pandas as pd"
   ]
  },
  {
   "cell_type": "code",
   "execution_count": 2,
   "metadata": {
    "executionInfo": {
     "elapsed": 1449,
     "status": "ok",
     "timestamp": 1604711374430,
     "user": {
      "displayName": "Piotr Wilk Błoński",
      "photoUrl": "https://lh3.googleusercontent.com/a-/AOh14GjkUySBQ1lbWIuepsSmk5y83okpTCmPNHWPy-bGDA=s64",
      "userId": "13887880608049797141"
     },
     "user_tz": -60
    },
    "id": "wW3-ZhPpEsMM"
   },
   "outputs": [],
   "source": [
    "path = join(\"wust_2k20_twitter_emotion_annotations.json\")"
   ]
  },
  {
   "cell_type": "code",
   "execution_count": 3,
   "metadata": {
    "colab": {
     "base_uri": "https://localhost:8080/",
     "height": 0
    },
    "executionInfo": {
     "elapsed": 1441,
     "status": "ok",
     "timestamp": 1604711374431,
     "user": {
      "displayName": "Piotr Wilk Błoński",
      "photoUrl": "https://lh3.googleusercontent.com/a-/AOh14GjkUySBQ1lbWIuepsSmk5y83okpTCmPNHWPy-bGDA=s64",
      "userId": "13887880608049797141"
     },
     "user_tz": -60
    },
    "id": "3eh_7be0EsMO",
    "outputId": "0d18ed60-9ca0-40e4-d898-eb89ba261041"
   },
   "outputs": [
    {
     "data": {
      "text/html": [
       "<div>\n",
       "<style scoped>\n",
       "    .dataframe tbody tr th:only-of-type {\n",
       "        vertical-align: middle;\n",
       "    }\n",
       "\n",
       "    .dataframe tbody tr th {\n",
       "        vertical-align: top;\n",
       "    }\n",
       "\n",
       "    .dataframe thead th {\n",
       "        text-align: right;\n",
       "    }\n",
       "</style>\n",
       "<table border=\"1\" class=\"dataframe\">\n",
       "  <thead>\n",
       "    <tr style=\"text-align: right;\">\n",
       "      <th></th>\n",
       "      <th>tweet</th>\n",
       "      <th>most_common_annotation</th>\n",
       "      <th>annotation_1</th>\n",
       "      <th>annotation_2</th>\n",
       "      <th>annotation_3</th>\n",
       "      <th>num_different_annotations</th>\n",
       "      <th>num_total_annotations</th>\n",
       "    </tr>\n",
       "  </thead>\n",
       "  <tbody>\n",
       "    <tr>\n",
       "      <th>0</th>\n",
       "      <td>Miesięczny (30 dni) przyrost zgonów na #korona...</td>\n",
       "      <td>neutralne</td>\n",
       "      <td>neutralne</td>\n",
       "      <td>neutralne</td>\n",
       "      <td>neutralne</td>\n",
       "      <td>1.0</td>\n",
       "      <td>3</td>\n",
       "    </tr>\n",
       "    <tr>\n",
       "      <th>1</th>\n",
       "      <td>#WROCŁAWAktualna #MAPA korków przekraczających...</td>\n",
       "      <td>neutralne</td>\n",
       "      <td>neutralne</td>\n",
       "      <td>neutralne</td>\n",
       "      <td>neutralne</td>\n",
       "      <td>1.0</td>\n",
       "      <td>3</td>\n",
       "    </tr>\n",
       "    <tr>\n",
       "      <th>2</th>\n",
       "      <td>Wigilię w @krecisie czas zacząć #christmas #św...</td>\n",
       "      <td>neutralne</td>\n",
       "      <td>radosc</td>\n",
       "      <td>neutralne</td>\n",
       "      <td>neutralne</td>\n",
       "      <td>2.0</td>\n",
       "      <td>3</td>\n",
       "    </tr>\n",
       "    <tr>\n",
       "      <th>3</th>\n",
       "      <td>Dzisiaj szału nie będzie. Nie bez powodu robi ...</td>\n",
       "      <td>smutek</td>\n",
       "      <td>smutek</td>\n",
       "      <td>neutralne</td>\n",
       "      <td>smutek</td>\n",
       "      <td>2.0</td>\n",
       "      <td>3</td>\n",
       "    </tr>\n",
       "    <tr>\n",
       "      <th>4</th>\n",
       "      <td>#IgaŚwiatek Jazda Jazda  Młoda gwiazda coś pię...</td>\n",
       "      <td>podziw</td>\n",
       "      <td>podziw</td>\n",
       "      <td>podziw</td>\n",
       "      <td>podziw</td>\n",
       "      <td>1.0</td>\n",
       "      <td>3</td>\n",
       "    </tr>\n",
       "    <tr>\n",
       "      <th>...</th>\n",
       "      <td>...</td>\n",
       "      <td>...</td>\n",
       "      <td>...</td>\n",
       "      <td>...</td>\n",
       "      <td>...</td>\n",
       "      <td>...</td>\n",
       "      <td>...</td>\n",
       "    </tr>\n",
       "    <tr>\n",
       "      <th>5396</th>\n",
       "      <td>Nowoczesna technologia nie zmieniła ludzkiej n...</td>\n",
       "      <td>neutralne</td>\n",
       "      <td>neutralne</td>\n",
       "      <td>smutek</td>\n",
       "      <td>neutralne</td>\n",
       "      <td>2.0</td>\n",
       "      <td>3</td>\n",
       "    </tr>\n",
       "    <tr>\n",
       "      <th>5397</th>\n",
       "      <td>Jak patrzę na jedzenie, to mi się odechciewa O...</td>\n",
       "      <td>wstret</td>\n",
       "      <td>wstret</td>\n",
       "      <td>wstret</td>\n",
       "      <td>zaskoczenie</td>\n",
       "      <td>2.0</td>\n",
       "      <td>3</td>\n",
       "    </tr>\n",
       "    <tr>\n",
       "      <th>5398</th>\n",
       "      <td>HAHAHAHA ŚWIĄTECZNA REKLAMA ORANGE NA POLSACE ...</td>\n",
       "      <td>zaskoczenie</td>\n",
       "      <td>zaskoczenie</td>\n",
       "      <td>radosc</td>\n",
       "      <td>zaskoczenie</td>\n",
       "      <td>2.0</td>\n",
       "      <td>3</td>\n",
       "    </tr>\n",
       "    <tr>\n",
       "      <th>5399</th>\n",
       "      <td>@iGrabann a przepraszam, faktycznie, pomyłka, ...</td>\n",
       "      <td>radosc</td>\n",
       "      <td>neutralne</td>\n",
       "      <td>radosc</td>\n",
       "      <td>radosc</td>\n",
       "      <td>2.0</td>\n",
       "      <td>3</td>\n",
       "    </tr>\n",
       "    <tr>\n",
       "      <th>5400</th>\n",
       "      <td>Jeszcze zrozumiem wybór Piotrowicz, a nawet Pa...</td>\n",
       "      <td>zaskoczenie</td>\n",
       "      <td>zaskoczenie</td>\n",
       "      <td>zlosc</td>\n",
       "      <td>zaskoczenie</td>\n",
       "      <td>2.0</td>\n",
       "      <td>3</td>\n",
       "    </tr>\n",
       "  </tbody>\n",
       "</table>\n",
       "<p>5401 rows × 7 columns</p>\n",
       "</div>"
      ],
      "text/plain": [
       "                                                  tweet  \\\n",
       "0     Miesięczny (30 dni) przyrost zgonów na #korona...   \n",
       "1     #WROCŁAWAktualna #MAPA korków przekraczających...   \n",
       "2     Wigilię w @krecisie czas zacząć #christmas #św...   \n",
       "3     Dzisiaj szału nie będzie. Nie bez powodu robi ...   \n",
       "4     #IgaŚwiatek Jazda Jazda  Młoda gwiazda coś pię...   \n",
       "...                                                 ...   \n",
       "5396  Nowoczesna technologia nie zmieniła ludzkiej n...   \n",
       "5397  Jak patrzę na jedzenie, to mi się odechciewa O...   \n",
       "5398  HAHAHAHA ŚWIĄTECZNA REKLAMA ORANGE NA POLSACE ...   \n",
       "5399  @iGrabann a przepraszam, faktycznie, pomyłka, ...   \n",
       "5400  Jeszcze zrozumiem wybór Piotrowicz, a nawet Pa...   \n",
       "\n",
       "     most_common_annotation annotation_1 annotation_2 annotation_3  \\\n",
       "0                 neutralne    neutralne    neutralne    neutralne   \n",
       "1                 neutralne    neutralne    neutralne    neutralne   \n",
       "2                 neutralne       radosc    neutralne    neutralne   \n",
       "3                    smutek       smutek    neutralne       smutek   \n",
       "4                    podziw       podziw       podziw       podziw   \n",
       "...                     ...          ...          ...          ...   \n",
       "5396              neutralne    neutralne       smutek    neutralne   \n",
       "5397                 wstret       wstret       wstret  zaskoczenie   \n",
       "5398            zaskoczenie  zaskoczenie       radosc  zaskoczenie   \n",
       "5399                 radosc    neutralne       radosc       radosc   \n",
       "5400            zaskoczenie  zaskoczenie        zlosc  zaskoczenie   \n",
       "\n",
       "      num_different_annotations  num_total_annotations  \n",
       "0                           1.0                      3  \n",
       "1                           1.0                      3  \n",
       "2                           2.0                      3  \n",
       "3                           2.0                      3  \n",
       "4                           1.0                      3  \n",
       "...                         ...                    ...  \n",
       "5396                        2.0                      3  \n",
       "5397                        2.0                      3  \n",
       "5398                        2.0                      3  \n",
       "5399                        2.0                      3  \n",
       "5400                        2.0                      3  \n",
       "\n",
       "[5401 rows x 7 columns]"
      ]
     },
     "execution_count": 3,
     "metadata": {},
     "output_type": "execute_result"
    }
   ],
   "source": [
    "df = pd.read_json(path)\n",
    "df = df.drop([\"id\"], axis=1)\n",
    "df"
   ]
  },
  {
   "cell_type": "markdown",
   "metadata": {
    "id": "h8FEjKCVEsMR"
   },
   "source": [
    "# Three annotations"
   ]
  },
  {
   "cell_type": "markdown",
   "metadata": {
    "id": "AFGdDXBKEsMS"
   },
   "source": [
    "## Three same annotations"
   ]
  },
  {
   "cell_type": "code",
   "execution_count": 4,
   "metadata": {
    "colab": {
     "base_uri": "https://localhost:8080/",
     "height": 0
    },
    "executionInfo": {
     "elapsed": 1430,
     "status": "ok",
     "timestamp": 1604711374432,
     "user": {
      "displayName": "Piotr Wilk Błoński",
      "photoUrl": "https://lh3.googleusercontent.com/a-/AOh14GjkUySBQ1lbWIuepsSmk5y83okpTCmPNHWPy-bGDA=s64",
      "userId": "13887880608049797141"
     },
     "user_tz": -60
    },
    "id": "EPC2ZHboEsMS",
    "outputId": "8c6907d4-4b78-450f-cd1e-401d7fc834a1"
   },
   "outputs": [
    {
     "data": {
      "text/plain": [
       "'2235 tweets with 3 annotations and 1 emotion'"
      ]
     },
     "execution_count": 4,
     "metadata": {},
     "output_type": "execute_result"
    }
   ],
   "source": [
    "three_annotations_one_emotion_df = df[(df.num_total_annotations == 3) & (df.num_different_annotations == 1)] \n",
    "\n",
    "f\"{len(three_annotations_one_emotion_df)} tweets with 3 annotations and 1 emotion\""
   ]
  },
  {
   "cell_type": "markdown",
   "metadata": {
    "id": "gRLRWlWdEsMU"
   },
   "source": [
    "## Two same one different"
   ]
  },
  {
   "cell_type": "code",
   "execution_count": 5,
   "metadata": {
    "colab": {
     "base_uri": "https://localhost:8080/",
     "height": 0
    },
    "executionInfo": {
     "elapsed": 1420,
     "status": "ok",
     "timestamp": 1604711374433,
     "user": {
      "displayName": "Piotr Wilk Błoński",
      "photoUrl": "https://lh3.googleusercontent.com/a-/AOh14GjkUySBQ1lbWIuepsSmk5y83okpTCmPNHWPy-bGDA=s64",
      "userId": "13887880608049797141"
     },
     "user_tz": -60
    },
    "id": "0IL9p-pyEsMV",
    "outputId": "4fbd2348-6cbc-4ade-d597-3289d0da4d58"
   },
   "outputs": [
    {
     "data": {
      "text/plain": [
       "'1852 tweets with 3 annotations and 2 emotions'"
      ]
     },
     "execution_count": 5,
     "metadata": {},
     "output_type": "execute_result"
    }
   ],
   "source": [
    "three_annotations_two_emotions_df = df[(df.num_total_annotations == 3) & (df.num_different_annotations == 2)] \n",
    "\n",
    "\n",
    "f\"{len(three_annotations_two_emotions_df)} tweets with 3 annotations and 2 emotions\""
   ]
  },
  {
   "cell_type": "markdown",
   "metadata": {
    "id": "g7UQI8U_EsMX"
   },
   "source": [
    "## All three different"
   ]
  },
  {
   "cell_type": "code",
   "execution_count": 6,
   "metadata": {
    "colab": {
     "base_uri": "https://localhost:8080/",
     "height": 0
    },
    "executionInfo": {
     "elapsed": 1409,
     "status": "ok",
     "timestamp": 1604711374433,
     "user": {
      "displayName": "Piotr Wilk Błoński",
      "photoUrl": "https://lh3.googleusercontent.com/a-/AOh14GjkUySBQ1lbWIuepsSmk5y83okpTCmPNHWPy-bGDA=s64",
      "userId": "13887880608049797141"
     },
     "user_tz": -60
    },
    "id": "kJA0FWhkEsMY",
    "outputId": "7f924949-c63c-4502-f6f4-f3ab8b7fc5b9"
   },
   "outputs": [
    {
     "data": {
      "text/plain": [
       "'542 tweets with 3 annotations and 3 emotions'"
      ]
     },
     "execution_count": 6,
     "metadata": {},
     "output_type": "execute_result"
    }
   ],
   "source": [
    "three_annotations_three_emotions_df = df[(df.num_total_annotations == 3) & (df.num_different_annotations == 3)] \n",
    "\n",
    "\n",
    "f\"{len(three_annotations_three_emotions_df)} tweets with 3 annotations and 3 emotions\""
   ]
  },
  {
   "cell_type": "markdown",
   "metadata": {
    "id": "pK8lknwsEsMa"
   },
   "source": [
    "# Two annotations"
   ]
  },
  {
   "cell_type": "markdown",
   "metadata": {
    "id": "R9JPOhvoEsMb"
   },
   "source": [
    "## Two same annotations"
   ]
  },
  {
   "cell_type": "code",
   "execution_count": 7,
   "metadata": {
    "colab": {
     "base_uri": "https://localhost:8080/",
     "height": 0
    },
    "executionInfo": {
     "elapsed": 1399,
     "status": "ok",
     "timestamp": 1604711374434,
     "user": {
      "displayName": "Piotr Wilk Błoński",
      "photoUrl": "https://lh3.googleusercontent.com/a-/AOh14GjkUySBQ1lbWIuepsSmk5y83okpTCmPNHWPy-bGDA=s64",
      "userId": "13887880608049797141"
     },
     "user_tz": -60
    },
    "id": "6P4b-WQ_EsMb",
    "outputId": "cc5fa7b4-41c2-4c31-ad45-1a5b27dfb32c"
   },
   "outputs": [
    {
     "data": {
      "text/plain": [
       "'124 tweets with 2 annotations and 1 emotion'"
      ]
     },
     "execution_count": 7,
     "metadata": {},
     "output_type": "execute_result"
    }
   ],
   "source": [
    "two_annotations_one_emotion_df = df[(df.num_total_annotations == 2) & (df.num_different_annotations == 1)]  \n",
    "\n",
    "\n",
    "f\"{len(two_annotations_one_emotion_df)} tweets with 2 annotations and 1 emotion\""
   ]
  },
  {
   "cell_type": "markdown",
   "metadata": {
    "id": "dfT2ufE6EsMd"
   },
   "source": [
    "## Two different annotations "
   ]
  },
  {
   "cell_type": "code",
   "execution_count": 8,
   "metadata": {
    "colab": {
     "base_uri": "https://localhost:8080/",
     "height": 0
    },
    "executionInfo": {
     "elapsed": 1388,
     "status": "ok",
     "timestamp": 1604711374435,
     "user": {
      "displayName": "Piotr Wilk Błoński",
      "photoUrl": "https://lh3.googleusercontent.com/a-/AOh14GjkUySBQ1lbWIuepsSmk5y83okpTCmPNHWPy-bGDA=s64",
      "userId": "13887880608049797141"
     },
     "user_tz": -60
    },
    "id": "BQAmgDrTEsMe",
    "outputId": "05d7ddb1-e487-4168-c810-3a1d79575e32"
   },
   "outputs": [
    {
     "data": {
      "text/plain": [
       "'50 tweets with 2 annotations and 2 emotions'"
      ]
     },
     "execution_count": 8,
     "metadata": {},
     "output_type": "execute_result"
    }
   ],
   "source": [
    "two_annotations_two_emotions_df = df[(df.num_total_annotations == 2) & (df.num_different_annotations == 2)]  \n",
    "\n",
    "\n",
    "f\"{len(two_annotations_two_emotions_df)} tweets with 2 annotations and 2 emotions\""
   ]
  },
  {
   "cell_type": "markdown",
   "metadata": {
    "id": "ZofQwXdqEsMg"
   },
   "source": [
    "# Single annotation"
   ]
  },
  {
   "cell_type": "code",
   "execution_count": 9,
   "metadata": {
    "colab": {
     "base_uri": "https://localhost:8080/",
     "height": 0
    },
    "executionInfo": {
     "elapsed": 1376,
     "status": "ok",
     "timestamp": 1604711374435,
     "user": {
      "displayName": "Piotr Wilk Błoński",
      "photoUrl": "https://lh3.googleusercontent.com/a-/AOh14GjkUySBQ1lbWIuepsSmk5y83okpTCmPNHWPy-bGDA=s64",
      "userId": "13887880608049797141"
     },
     "user_tz": -60
    },
    "id": "AdEitypQEsMg",
    "outputId": "ec3b76f5-a510-4271-c8d6-48e83c5899b1"
   },
   "outputs": [
    {
     "data": {
      "text/plain": [
       "'232 tweets with 1 annotations and 1 emotion'"
      ]
     },
     "execution_count": 9,
     "metadata": {},
     "output_type": "execute_result"
    }
   ],
   "source": [
    "one_annotation_df = df[df.num_total_annotations == 1] \n",
    "\n",
    "f\"{len(one_annotation_df)} tweets with 1 annotations and 1 emotion\""
   ]
  },
  {
   "cell_type": "markdown",
   "metadata": {
    "id": "A70PmkpREsMi"
   },
   "source": [
    "# No annotation"
   ]
  },
  {
   "cell_type": "code",
   "execution_count": 10,
   "metadata": {
    "colab": {
     "base_uri": "https://localhost:8080/",
     "height": 0
    },
    "executionInfo": {
     "elapsed": 1366,
     "status": "ok",
     "timestamp": 1604711374436,
     "user": {
      "displayName": "Piotr Wilk Błoński",
      "photoUrl": "https://lh3.googleusercontent.com/a-/AOh14GjkUySBQ1lbWIuepsSmk5y83okpTCmPNHWPy-bGDA=s64",
      "userId": "13887880608049797141"
     },
     "user_tz": -60
    },
    "id": "qIHQf9LaEsMi",
    "outputId": "c3a7ebf8-e86e-4b80-a1cf-e0e49bd8f95c"
   },
   "outputs": [
    {
     "data": {
      "text/plain": [
       "'366 tweets without an annotation'"
      ]
     },
     "execution_count": 10,
     "metadata": {},
     "output_type": "execute_result"
    }
   ],
   "source": [
    "no_annotation_df = df[df.num_total_annotations == 0] \n",
    "\n",
    "f\"{len(no_annotation_df)} tweets without an annotation\""
   ]
  },
  {
   "cell_type": "markdown",
   "metadata": {
    "id": "dBgteHfAEsMk"
   },
   "source": [
    "## Sum of lengths of subsets of annotation"
   ]
  },
  {
   "cell_type": "code",
   "execution_count": 11,
   "metadata": {
    "colab": {
     "base_uri": "https://localhost:8080/"
    },
    "executionInfo": {
     "elapsed": 1354,
     "status": "ok",
     "timestamp": 1604711374436,
     "user": {
      "displayName": "Piotr Wilk Błoński",
      "photoUrl": "https://lh3.googleusercontent.com/a-/AOh14GjkUySBQ1lbWIuepsSmk5y83okpTCmPNHWPy-bGDA=s64",
      "userId": "13887880608049797141"
     },
     "user_tz": -60
    },
    "id": "tO-so7wzEsMl",
    "outputId": "d6b6853f-228f-46df-b5c6-9dab453af01f"
   },
   "outputs": [
    {
     "data": {
      "text/plain": [
       "5401"
      ]
     },
     "execution_count": 11,
     "metadata": {},
     "output_type": "execute_result"
    }
   ],
   "source": [
    "len(three_annotations_one_emotion_df) + len(three_annotations_two_emotions_df) + len(three_annotations_three_emotions_df) + len(two_annotations_one_emotion_df) + len(two_annotations_two_emotions_df) + len(one_annotation_df) + len(no_annotation_df)"
   ]
  },
  {
   "cell_type": "markdown",
   "metadata": {
    "id": "vTEhw_k1EsMn"
   },
   "source": [
    "# EDA"
   ]
  },
  {
   "cell_type": "code",
   "execution_count": 12,
   "metadata": {
    "colab": {
     "base_uri": "https://localhost:8080/"
    },
    "executionInfo": {
     "elapsed": 1346,
     "status": "ok",
     "timestamp": 1604711374438,
     "user": {
      "displayName": "Piotr Wilk Błoński",
      "photoUrl": "https://lh3.googleusercontent.com/a-/AOh14GjkUySBQ1lbWIuepsSmk5y83okpTCmPNHWPy-bGDA=s64",
      "userId": "13887880608049797141"
     },
     "user_tz": -60
    },
    "id": "CeoBBtUEEsMn",
    "outputId": "1e4732da-8e6f-489a-c92d-54546351914a"
   },
   "outputs": [
    {
     "data": {
      "text/plain": [
       "4211"
      ]
     },
     "execution_count": 12,
     "metadata": {},
     "output_type": "execute_result"
    }
   ],
   "source": [
    "frames = [three_annotations_one_emotion_df, three_annotations_two_emotions_df, two_annotations_one_emotion_df]\n",
    "\n",
    "reliable_df = pd.concat(frames)\n",
    "# reliable_df = reliable_df[reliable_df.most_common_annotation != \"neutralne\"]\n",
    "len(reliable_df)"
   ]
  },
  {
   "cell_type": "code",
   "execution_count": 13,
   "metadata": {
    "colab": {
     "base_uri": "https://localhost:8080/"
    },
    "executionInfo": {
     "elapsed": 1338,
     "status": "ok",
     "timestamp": 1604711374439,
     "user": {
      "displayName": "Piotr Wilk Błoński",
      "photoUrl": "https://lh3.googleusercontent.com/a-/AOh14GjkUySBQ1lbWIuepsSmk5y83okpTCmPNHWPy-bGDA=s64",
      "userId": "13887880608049797141"
     },
     "user_tz": -60
    },
    "id": "CxU86eBeEsMq",
    "outputId": "379d421a-d199-470f-a3ff-e4a18b804523"
   },
   "outputs": [
    {
     "data": {
      "text/plain": [
       "neutralne      2587\n",
       "zlosc           464\n",
       "radosc          414\n",
       "podziw          258\n",
       "oczekiwanie     139\n",
       "wstret          118\n",
       "smutek          103\n",
       "strach           65\n",
       "zaskoczenie      63\n",
       "Name: most_common_annotation, dtype: int64"
      ]
     },
     "execution_count": 13,
     "metadata": {},
     "output_type": "execute_result"
    }
   ],
   "source": [
    "reliable_df.most_common_annotation.value_counts()"
   ]
  },
  {
   "cell_type": "code",
   "execution_count": 14,
   "metadata": {
    "colab": {
     "base_uri": "https://localhost:8080/",
     "height": 0
    },
    "executionInfo": {
     "elapsed": 1743,
     "status": "ok",
     "timestamp": 1604711374855,
     "user": {
      "displayName": "Piotr Wilk Błoński",
      "photoUrl": "https://lh3.googleusercontent.com/a-/AOh14GjkUySBQ1lbWIuepsSmk5y83okpTCmPNHWPy-bGDA=s64",
      "userId": "13887880608049797141"
     },
     "user_tz": -60
    },
    "id": "g6N7CMA_EsMs",
    "outputId": "a05dcb6a-2e81-4bf4-fa76-92c4d694da87"
   },
   "outputs": [
    {
     "data": {
      "image/png": "[encoded data removed]",
      "text/plain": [
       "<Figure size 432x288 with 1 Axes>"
      ]
     },
     "metadata": {
      "needs_background": "light"
     },
     "output_type": "display_data"
    }
   ],
   "source": [
    "fig, ax = plt.subplots()\n",
    "plt.title(\"Tweet most common emotion distrubution\")\n",
    "plt.ylabel(\"Number of tweets\")\n",
    "reliable_df['most_common_annotation'].value_counts().plot(ax=ax, kind='bar')\n",
    "plt.show()"
   ]
  },
  {
   "cell_type": "code",
   "execution_count": 15,
   "metadata": {
    "colab": {
     "base_uri": "https://localhost:8080/"
    },
    "executionInfo": {
     "elapsed": 1735,
     "status": "ok",
     "timestamp": 1604711374856,
     "user": {
      "displayName": "Piotr Wilk Błoński",
      "photoUrl": "https://lh3.googleusercontent.com/a-/AOh14GjkUySBQ1lbWIuepsSmk5y83okpTCmPNHWPy-bGDA=s64",
      "userId": "13887880608049797141"
     },
     "user_tz": -60
    },
    "id": "VWbu5qb4EsMv",
    "outputId": "3e502d3f-4796-4cd9-8c8e-9241c2e1dd8f"
   },
   "outputs": [
    {
     "data": {
      "text/plain": [
       "1624"
      ]
     },
     "execution_count": 15,
     "metadata": {},
     "output_type": "execute_result"
    }
   ],
   "source": [
    "reliable_df_without_neutral = reliable_df[reliable_df.most_common_annotation != \"neutralne\"]\n",
    "len(reliable_df_without_neutral)"
   ]
  },
  {
   "cell_type": "code",
   "execution_count": 16,
   "metadata": {
    "colab": {
     "base_uri": "https://localhost:8080/",
     "height": 0
    },
    "executionInfo": {
     "elapsed": 1731,
     "status": "ok",
     "timestamp": 1604711374863,
     "user": {
      "displayName": "Piotr Wilk Błoński",
      "photoUrl": "https://lh3.googleusercontent.com/a-/AOh14GjkUySBQ1lbWIuepsSmk5y83okpTCmPNHWPy-bGDA=s64",
      "userId": "13887880608049797141"
     },
     "user_tz": -60
    },
    "id": "6a_KDdzZEsMx",
    "outputId": "f1b4b7b9-e7cd-424d-e153-48c082a84238"
   },
   "outputs": [
    {
     "data": {
      "image/png": "[encoded data removed]",
      "text/plain": [
       "<Figure size 432x288 with 1 Axes>"
      ]
     },
     "metadata": {
      "needs_background": "light"
     },
     "output_type": "display_data"
    }
   ],
   "source": [
    "fig, ax = plt.subplots()\n",
    "plt.title(\"Tweet most common emotion distrubution for tweets without neuralne\")\n",
    "plt.ylabel(\"Number of tweets\")\n",
    "reliable_df_without_neutral['most_common_annotation'].value_counts().plot(ax=ax, kind='bar')\n",
    "plt.show()"
   ]
  },
  {
   "cell_type": "markdown",
   "metadata": {
    "id": "KO9wSOrHEsMz"
   },
   "source": [
    "# HERBERT\n",
    "https://huggingface.co/allegro/herbert-base-cased"
   ]
  },
  {
   "cell_type": "code",
   "execution_count": 17,
   "metadata": {
    "colab": {
     "base_uri": "https://localhost:8080/"
    },
    "executionInfo": {
     "elapsed": 4080,
     "status": "ok",
     "timestamp": 1604711377223,
     "user": {
      "displayName": "Piotr Wilk Błoński",
      "photoUrl": "https://lh3.googleusercontent.com/a-/AOh14GjkUySBQ1lbWIuepsSmk5y83okpTCmPNHWPy-bGDA=s64",
      "userId": "13887880608049797141"
     },
     "user_tz": -60
    },
    "id": "5v7XacN3FDBr",
    "outputId": "ef5176d6-c448-41d1-b56d-a8f1d37b8087"
   },
   "outputs": [
    {
     "name": "stdout",
     "output_type": "stream",
     "text": [
      "Collecting transformers\n",
      "  Downloading transformers-3.4.0-py3-none-any.whl (1.3 MB)\n",
      "Collecting sacremoses\n",
      "  Downloading sacremoses-0.0.43.tar.gz (883 kB)\n",
      "Requirement already satisfied: protobuf in c:\\users\\wilk-pc\\anaconda3\\lib\\site-packages (from transformers) (3.13.0)\n",
      "Requirement already satisfied: requests in c:\\users\\wilk-pc\\anaconda3\\lib\\site-packages (from transformers) (2.24.0)\n",
      "Requirement already satisfied: packaging in c:\\users\\wilk-pc\\anaconda3\\lib\\site-packages (from transformers) (20.4)\n",
      "Collecting sentencepiece!=0.1.92\n",
      "  Downloading sentencepiece-0.1.94-cp38-cp38-win_amd64.whl (1.2 MB)\n",
      "Requirement already satisfied: numpy in c:\\users\\wilk-pc\\anaconda3\\lib\\site-packages (from transformers) (1.18.5)\n",
      "Requirement already satisfied: filelock in c:\\users\\wilk-pc\\anaconda3\\lib\\site-packages (from transformers) (3.0.12)\n",
      "Requirement already satisfied: tqdm>=4.27 in c:\\users\\wilk-pc\\anaconda3\\lib\\site-packages (from transformers) (4.47.0)\n",
      "Collecting tokenizers==0.9.2\n",
      "  Downloading tokenizers-0.9.2-cp38-cp38-win_amd64.whl (1.9 MB)\n",
      "Requirement already satisfied: regex!=2019.12.17 in c:\\users\\wilk-pc\\anaconda3\\lib\\site-packages (from transformers) (2020.6.8)\n",
      "Requirement already satisfied: six in c:\\users\\wilk-pc\\anaconda3\\lib\\site-packages (from sacremoses->transformers) (1.15.0)\n",
      "Requirement already satisfied: click in c:\\users\\wilk-pc\\anaconda3\\lib\\site-packages (from sacremoses->transformers) (7.1.2)\n",
      "Requirement already satisfied: joblib in c:\\users\\wilk-pc\\anaconda3\\lib\\site-packages (from sacremoses->transformers) (0.16.0)\n",
      "Requirement already satisfied: setuptools in c:\\users\\wilk-pc\\anaconda3\\lib\\site-packages (from protobuf->transformers) (49.2.0.post20200714)\n",
      "Requirement already satisfied: urllib3!=1.25.0,!=1.25.1,<1.26,>=1.21.1 in c:\\users\\wilk-pc\\anaconda3\\lib\\site-packages (from requests->transformers) (1.25.9)\n",
      "Requirement already satisfied: chardet<4,>=3.0.2 in c:\\users\\wilk-pc\\anaconda3\\lib\\site-packages (from requests->transformers) (3.0.4)\n",
      "Requirement already satisfied: idna<3,>=2.5 in c:\\users\\wilk-pc\\anaconda3\\lib\\site-packages (from requests->transformers) (2.10)\n",
      "Requirement already satisfied: certifi>=2017.4.17 in c:\\users\\wilk-pc\\anaconda3\\lib\\site-packages (from requests->transformers) (2020.6.20)\n",
      "Requirement already satisfied: pyparsing>=2.0.2 in c:\\users\\wilk-pc\\anaconda3\\lib\\site-packages (from packaging->transformers) (2.4.7)\n",
      "Building wheels for collected packages: sacremoses\n",
      "  Building wheel for sacremoses (setup.py): started\n",
      "  Building wheel for sacremoses (setup.py): finished with status 'done'\n",
      "  Created wheel for sacremoses: filename=sacremoses-0.0.43-py3-none-any.whl size=893262 sha256=b47b8054038a9188f690f670a9987f748e4202aecc972750cc88abcff6f3424d\n",
      "  Stored in directory: c:\\users\\wilk-pc\\appdata\\local\\pip\\cache\\wheels\\7b\\78\\f4\\27d43a65043e1b75dbddaa421b573eddc67e712be4b1c80677\n",
      "Successfully built sacremoses\n",
      "Installing collected packages: sacremoses, sentencepiece, tokenizers, transformers\n",
      "Successfully installed sacremoses-0.0.43 sentencepiece-0.1.94 tokenizers-0.9.2 transformers-3.4.0\n"
     ]
    }
   ],
   "source": [
    "!pip install transformers"
   ]
  },
  {
   "cell_type": "code",
   "execution_count": 17,
   "metadata": {
    "executionInfo": {
     "elapsed": 6419,
     "status": "ok",
     "timestamp": 1604711379570,
     "user": {
      "displayName": "Piotr Wilk Błoński",
      "photoUrl": "https://lh3.googleusercontent.com/a-/AOh14GjkUySBQ1lbWIuepsSmk5y83okpTCmPNHWPy-bGDA=s64",
      "userId": "13887880608049797141"
     },
     "user_tz": -60
    },
    "id": "FtdzXIdoEsM0"
   },
   "outputs": [
    {
     "ename": "ModuleNotFoundError",
     "evalue": "No module named 'torch'",
     "output_type": "error",
     "traceback": [
      "\u001b[1;31m---------------------------------------------------------------------------\u001b[0m",
      "\u001b[1;31mModuleNotFoundError\u001b[0m                       Traceback (most recent call last)",
      "\u001b[1;32m<ipython-input-17-753e8ad2cf82>\u001b[0m in \u001b[0;36m<module>\u001b[1;34m\u001b[0m\n\u001b[0;32m      1\u001b[0m \u001b[1;32mfrom\u001b[0m \u001b[0mtransformers\u001b[0m \u001b[1;32mimport\u001b[0m \u001b[0mAutoTokenizer\u001b[0m\u001b[1;33m,\u001b[0m \u001b[0mAutoModel\u001b[0m\u001b[1;33m\u001b[0m\u001b[1;33m\u001b[0m\u001b[0m\n\u001b[0;32m      2\u001b[0m \u001b[1;32mimport\u001b[0m \u001b[0mnumpy\u001b[0m \u001b[1;32mas\u001b[0m \u001b[0mnp\u001b[0m\u001b[1;33m\u001b[0m\u001b[1;33m\u001b[0m\u001b[0m\n\u001b[1;32m----> 3\u001b[1;33m \u001b[1;32mimport\u001b[0m \u001b[0mtorch\u001b[0m\u001b[1;33m\u001b[0m\u001b[1;33m\u001b[0m\u001b[0m\n\u001b[0m\u001b[0;32m      4\u001b[0m \u001b[0mMODEL_NAME\u001b[0m \u001b[1;33m=\u001b[0m \u001b[1;34m\"allegro/herbert-base-cased\"\u001b[0m\u001b[1;33m\u001b[0m\u001b[1;33m\u001b[0m\u001b[0m\n",
      "\u001b[1;31mModuleNotFoundError\u001b[0m: No module named 'torch'"
     ]
    }
   ],
   "source": [
    "from transformers import AutoTokenizer, AutoModel\n",
    "import numpy as np\n",
    "import torch\n",
    "MODEL_NAME = \"allegro/herbert-base-cased\""
   ]
  },
  {
   "cell_type": "code",
   "execution_count": null,
   "metadata": {
    "executionInfo": {
     "elapsed": 9883,
     "status": "ok",
     "timestamp": 1604711383043,
     "user": {
      "displayName": "Piotr Wilk Błoński",
      "photoUrl": "https://lh3.googleusercontent.com/a-/AOh14GjkUySBQ1lbWIuepsSmk5y83okpTCmPNHWPy-bGDA=s64",
      "userId": "13887880608049797141"
     },
     "user_tz": -60
    },
    "id": "WXsAFBsLEsM2"
   },
   "outputs": [],
   "source": [
    "tokenizer = AutoTokenizer.from_pretrained(\"allegro/herbert-base-cased\")\n",
    "model_herbert = AutoModel.from_pretrained(\"allegro/herbert-base-cased\")"
   ]
  },
  {
   "cell_type": "code",
   "execution_count": 21,
   "metadata": {
    "colab": {
     "base_uri": "https://localhost:8080/",
     "height": 417
    },
    "executionInfo": {
     "elapsed": 9867,
     "status": "ok",
     "timestamp": 1604711383046,
     "user": {
      "displayName": "Piotr Wilk Błoński",
      "photoUrl": "https://lh3.googleusercontent.com/a-/AOh14GjkUySBQ1lbWIuepsSmk5y83okpTCmPNHWPy-bGDA=s64",
      "userId": "13887880608049797141"
     },
     "user_tz": -60
    },
    "id": "-OMC9gG8EsM3",
    "outputId": "00185f27-879d-44c8-e0c4-3b17b5907879"
   },
   "outputs": [
    {
     "data": {
      "text/html": [
       "<div>\n",
       "<style scoped>\n",
       "    .dataframe tbody tr th:only-of-type {\n",
       "        vertical-align: middle;\n",
       "    }\n",
       "\n",
       "    .dataframe tbody tr th {\n",
       "        vertical-align: top;\n",
       "    }\n",
       "\n",
       "    .dataframe thead th {\n",
       "        text-align: right;\n",
       "    }\n",
       "</style>\n",
       "<table border=\"1\" class=\"dataframe\">\n",
       "  <thead>\n",
       "    <tr style=\"text-align: right;\">\n",
       "      <th></th>\n",
       "      <th>tweet</th>\n",
       "    </tr>\n",
       "  </thead>\n",
       "  <tbody>\n",
       "    <tr>\n",
       "      <th>0</th>\n",
       "      <td>Miesięczny (30 dni) przyrost zgonów na #korona...</td>\n",
       "    </tr>\n",
       "    <tr>\n",
       "      <th>1</th>\n",
       "      <td>#WROCŁAWAktualna #MAPA korków przekraczających...</td>\n",
       "    </tr>\n",
       "    <tr>\n",
       "      <th>2</th>\n",
       "      <td>Wigilię w @krecisie czas zacząć #christmas #św...</td>\n",
       "    </tr>\n",
       "    <tr>\n",
       "      <th>3</th>\n",
       "      <td>Dzisiaj szału nie będzie. Nie bez powodu robi ...</td>\n",
       "    </tr>\n",
       "    <tr>\n",
       "      <th>4</th>\n",
       "      <td>#IgaŚwiatek Jazda Jazda  Młoda gwiazda coś pię...</td>\n",
       "    </tr>\n",
       "    <tr>\n",
       "      <th>...</th>\n",
       "      <td>...</td>\n",
       "    </tr>\n",
       "    <tr>\n",
       "      <th>5396</th>\n",
       "      <td>Nowoczesna technologia nie zmieniła ludzkiej n...</td>\n",
       "    </tr>\n",
       "    <tr>\n",
       "      <th>5397</th>\n",
       "      <td>Jak patrzę na jedzenie, to mi się odechciewa O...</td>\n",
       "    </tr>\n",
       "    <tr>\n",
       "      <th>5398</th>\n",
       "      <td>HAHAHAHA ŚWIĄTECZNA REKLAMA ORANGE NA POLSACE ...</td>\n",
       "    </tr>\n",
       "    <tr>\n",
       "      <th>5399</th>\n",
       "      <td>@iGrabann a przepraszam, faktycznie, pomyłka, ...</td>\n",
       "    </tr>\n",
       "    <tr>\n",
       "      <th>5400</th>\n",
       "      <td>Jeszcze zrozumiem wybór Piotrowicz, a nawet Pa...</td>\n",
       "    </tr>\n",
       "  </tbody>\n",
       "</table>\n",
       "<p>4211 rows × 1 columns</p>\n",
       "</div>"
      ],
      "text/plain": [
       "                                                  tweet\n",
       "0     Miesięczny (30 dni) przyrost zgonów na #korona...\n",
       "1     #WROCŁAWAktualna #MAPA korków przekraczających...\n",
       "2     Wigilię w @krecisie czas zacząć #christmas #św...\n",
       "3     Dzisiaj szału nie będzie. Nie bez powodu robi ...\n",
       "4     #IgaŚwiatek Jazda Jazda  Młoda gwiazda coś pię...\n",
       "...                                                 ...\n",
       "5396  Nowoczesna technologia nie zmieniła ludzkiej n...\n",
       "5397  Jak patrzę na jedzenie, to mi się odechciewa O...\n",
       "5398  HAHAHAHA ŚWIĄTECZNA REKLAMA ORANGE NA POLSACE ...\n",
       "5399  @iGrabann a przepraszam, faktycznie, pomyłka, ...\n",
       "5400  Jeszcze zrozumiem wybór Piotrowicz, a nawet Pa...\n",
       "\n",
       "[4211 rows x 1 columns]"
      ]
     },
     "execution_count": 21,
     "metadata": {},
     "output_type": "execute_result"
    }
   ],
   "source": [
    "df=df.dropna(subset=['most_common_annotation'])\n",
    "dataset=df[['tweet']]\n",
    "labels = df['most_common_annotation']\n",
    "dataset"
   ]
  },
  {
   "cell_type": "code",
   "execution_count": null,
   "metadata": {
    "executionInfo": {
     "elapsed": 14210,
     "status": "ok",
     "timestamp": 1604711387403,
     "user": {
      "displayName": "Piotr Wilk Błoński",
      "photoUrl": "https://lh3.googleusercontent.com/a-/AOh14GjkUySBQ1lbWIuepsSmk5y83okpTCmPNHWPy-bGDA=s64",
      "userId": "13887880608049797141"
     },
     "user_tz": -60
    },
    "id": "5AzTjaJ_EsM5"
   },
   "outputs": [],
   "source": [
    "tokenized = dataset['tweet'].apply((lambda x: tokenizer.encode(x, add_special_tokens=True)))"
   ]
  },
  {
   "cell_type": "code",
   "execution_count": null,
   "metadata": {
    "colab": {
     "base_uri": "https://localhost:8080/"
    },
    "executionInfo": {
     "elapsed": 14204,
     "status": "ok",
     "timestamp": 1604711387408,
     "user": {
      "displayName": "Piotr Wilk Błoński",
      "photoUrl": "https://lh3.googleusercontent.com/a-/AOh14GjkUySBQ1lbWIuepsSmk5y83okpTCmPNHWPy-bGDA=s64",
      "userId": "13887880608049797141"
     },
     "user_tz": -60
    },
    "id": "UTB2xzfrEsM7",
    "outputId": "9666a98b-2dee-48c2-8610-0d9c91c4b4cb"
   },
   "outputs": [],
   "source": [
    "tokenized"
   ]
  },
  {
   "cell_type": "markdown",
   "metadata": {
    "id": "XgnqT1XrEsM9"
   },
   "source": [
    "Wszystkie tokeny powinny mieć tą samą długość więc dodamy token = 0, na koniec każdego krótszego"
   ]
  },
  {
   "cell_type": "code",
   "execution_count": null,
   "metadata": {
    "executionInfo": {
     "elapsed": 14196,
     "status": "ok",
     "timestamp": 1604711387410,
     "user": {
      "displayName": "Piotr Wilk Błoński",
      "photoUrl": "https://lh3.googleusercontent.com/a-/AOh14GjkUySBQ1lbWIuepsSmk5y83okpTCmPNHWPy-bGDA=s64",
      "userId": "13887880608049797141"
     },
     "user_tz": -60
    },
    "id": "GL_Q-VO0EsM9"
   },
   "outputs": [],
   "source": [
    "longest_size = 0\n",
    "longest_token = None\n",
    "for i , token in enumerate(tokenized.values):\n",
    "    if len(token) > longest_size:\n",
    "        longest_size = len(token)\n",
    "        longest_token = i"
   ]
  },
  {
   "cell_type": "code",
   "execution_count": null,
   "metadata": {
    "colab": {
     "base_uri": "https://localhost:8080/",
     "height": 35
    },
    "executionInfo": {
     "elapsed": 14187,
     "status": "ok",
     "timestamp": 1604711387411,
     "user": {
      "displayName": "Piotr Wilk Błoński",
      "photoUrl": "https://lh3.googleusercontent.com/a-/AOh14GjkUySBQ1lbWIuepsSmk5y83okpTCmPNHWPy-bGDA=s64",
      "userId": "13887880608049797141"
     },
     "user_tz": -60
    },
    "id": "InCo6aN_EsM_",
    "outputId": "f5d942dc-fb7d-49ef-92f3-5a700410fbf6"
   },
   "outputs": [],
   "source": [
    "dataset['tweet'][longest_token]"
   ]
  },
  {
   "cell_type": "code",
   "execution_count": null,
   "metadata": {
    "colab": {
     "base_uri": "https://localhost:8080/"
    },
    "executionInfo": {
     "elapsed": 14177,
     "status": "ok",
     "timestamp": 1604711387411,
     "user": {
      "displayName": "Piotr Wilk Błoński",
      "photoUrl": "https://lh3.googleusercontent.com/a-/AOh14GjkUySBQ1lbWIuepsSmk5y83okpTCmPNHWPy-bGDA=s64",
      "userId": "13887880608049797141"
     },
     "user_tz": -60
    },
    "id": "4g9Elbc7Mbt9",
    "outputId": "352b9006-4d1a-46f9-c82e-51f709d006f4"
   },
   "outputs": [],
   "source": [
    "len(dataset['tweet'][longest_token])"
   ]
  },
  {
   "cell_type": "code",
   "execution_count": null,
   "metadata": {
    "colab": {
     "base_uri": "https://localhost:8080/"
    },
    "executionInfo": {
     "elapsed": 14166,
     "status": "ok",
     "timestamp": 1604711387412,
     "user": {
      "displayName": "Piotr Wilk Błoński",
      "photoUrl": "https://lh3.googleusercontent.com/a-/AOh14GjkUySBQ1lbWIuepsSmk5y83okpTCmPNHWPy-bGDA=s64",
      "userId": "13887880608049797141"
     },
     "user_tz": -60
    },
    "id": "m846O7IbEsNB",
    "outputId": "f22fe225-dd43-4943-e5b0-31d594c62386"
   },
   "outputs": [],
   "source": [
    "padded = np.array([i + [0]*(longest_size-len(i)) for i in tokenized.values])\n",
    "padded.shape"
   ]
  },
  {
   "cell_type": "code",
   "execution_count": null,
   "metadata": {
    "colab": {
     "base_uri": "https://localhost:8080/"
    },
    "executionInfo": {
     "elapsed": 14156,
     "status": "ok",
     "timestamp": 1604711387412,
     "user": {
      "displayName": "Piotr Wilk Błoński",
      "photoUrl": "https://lh3.googleusercontent.com/a-/AOh14GjkUySBQ1lbWIuepsSmk5y83okpTCmPNHWPy-bGDA=s64",
      "userId": "13887880608049797141"
     },
     "user_tz": -60
    },
    "id": "tghCsAzoEsNE",
    "outputId": "ba95eacf-3b6e-49f1-c2e8-f68cf19c29d9"
   },
   "outputs": [],
   "source": [
    "padded"
   ]
  },
  {
   "cell_type": "code",
   "execution_count": null,
   "metadata": {
    "executionInfo": {
     "elapsed": 14148,
     "status": "ok",
     "timestamp": 1604711387413,
     "user": {
      "displayName": "Piotr Wilk Błoński",
      "photoUrl": "https://lh3.googleusercontent.com/a-/AOh14GjkUySBQ1lbWIuepsSmk5y83okpTCmPNHWPy-bGDA=s64",
      "userId": "13887880608049797141"
     },
     "user_tz": -60
    },
    "id": "8jqlfHOCFano"
   },
   "outputs": [],
   "source": []
  },
  {
   "cell_type": "markdown",
   "metadata": {
    "id": "SZ2XhvXXFb5C"
   },
   "source": [
    "Chcemy skorzystać z GPU\n"
   ]
  },
  {
   "cell_type": "markdown",
   "metadata": {
    "id": "DMDVXSulEsNG"
   },
   "source": [
    "Wszystkie zdania mają teraz długość 234. "
   ]
  },
  {
   "cell_type": "code",
   "execution_count": null,
   "metadata": {
    "colab": {
     "base_uri": "https://localhost:8080/"
    },
    "executionInfo": {
     "elapsed": 14140,
     "status": "ok",
     "timestamp": 1604711387413,
     "user": {
      "displayName": "Piotr Wilk Błoński",
      "photoUrl": "https://lh3.googleusercontent.com/a-/AOh14GjkUySBQ1lbWIuepsSmk5y83okpTCmPNHWPy-bGDA=s64",
      "userId": "13887880608049797141"
     },
     "user_tz": -60
    },
    "id": "WOXSDaIHEsNH",
    "outputId": "59e434c9-2e08-440a-bdd5-d67c8eb9545f"
   },
   "outputs": [],
   "source": [
    "input_ids = torch.tensor(np.array(padded)).to(torch.int64)\n",
    "input_ids[:200]"
   ]
  },
  {
   "cell_type": "code",
   "execution_count": null,
   "metadata": {
    "executionInfo": {
     "elapsed": 19803,
     "status": "ok",
     "timestamp": 1604711393085,
     "user": {
      "displayName": "Piotr Wilk Błoński",
      "photoUrl": "https://lh3.googleusercontent.com/a-/AOh14GjkUySBQ1lbWIuepsSmk5y83okpTCmPNHWPy-bGDA=s64",
      "userId": "13887880608049797141"
     },
     "user_tz": -60
    },
    "id": "PnCIJUTpEsNJ"
   },
   "outputs": [],
   "source": [
    "with torch.no_grad():\n",
    "    last_hidden_states = model_herbert(input_ids[:10])"
   ]
  },
  {
   "cell_type": "code",
   "execution_count": null,
   "metadata": {
    "colab": {
     "base_uri": "https://localhost:8080/"
    },
    "executionInfo": {
     "elapsed": 561,
     "status": "ok",
     "timestamp": 1604719366922,
     "user": {
      "displayName": "Piotr Wilk Błoński",
      "photoUrl": "https://lh3.googleusercontent.com/a-/AOh14GjkUySBQ1lbWIuepsSmk5y83okpTCmPNHWPy-bGDA=s64",
      "userId": "13887880608049797141"
     },
     "user_tz": -60
    },
    "id": "VDjyylhHEsNK",
    "outputId": "1b2777c9-23db-4657-c28a-8654aded93c4"
   },
   "outputs": [],
   "source": [
    "last_hidden_states"
   ]
  },
  {
   "cell_type": "code",
   "execution_count": null,
   "metadata": {
    "colab": {
     "base_uri": "https://localhost:8080/"
    },
    "executionInfo": {
     "elapsed": 601,
     "status": "ok",
     "timestamp": 1604719393090,
     "user": {
      "displayName": "Piotr Wilk Błoński",
      "photoUrl": "https://lh3.googleusercontent.com/a-/AOh14GjkUySBQ1lbWIuepsSmk5y83okpTCmPNHWPy-bGDA=s64",
      "userId": "13887880608049797141"
     },
     "user_tz": -60
    },
    "id": "fTS9WizKumMb",
    "outputId": "4951dbc9-9e44-4834-8e5a-bbef1c8660b0"
   },
   "outputs": [],
   "source": [
    "features = last_hidden_states[0][:,0,:].numpy()\n",
    "features"
   ]
  },
  {
   "cell_type": "markdown",
   "metadata": {
    "id": "S0MehrvzIL8q"
   },
   "source": [
    "Ponieważ mam mało ramu prezentuje przedstawienie wag z Herberta do klasyfikatora, pierwszych 10 zdań. Tak więc zdanie:"
   ]
  },
  {
   "cell_type": "code",
   "execution_count": null,
   "metadata": {
    "colab": {
     "base_uri": "https://localhost:8080/",
     "height": 35
    },
    "executionInfo": {
     "elapsed": 19792,
     "status": "ok",
     "timestamp": 1604711393090,
     "user": {
      "displayName": "Piotr Wilk Błoński",
      "photoUrl": "https://lh3.googleusercontent.com/a-/AOh14GjkUySBQ1lbWIuepsSmk5y83okpTCmPNHWPy-bGDA=s64",
      "userId": "13887880608049797141"
     },
     "user_tz": -60
    },
    "id": "t_85steGIbjL",
    "outputId": "0126c67e-2ccc-4495-9fc2-9f5a95558338"
   },
   "outputs": [],
   "source": [
    "dataset['tweet'][0]"
   ]
  },
  {
   "cell_type": "markdown",
   "metadata": {
    "id": "Pvn3fyXiIhCr"
   },
   "source": [
    "To jako wagi dla klasyfiaktora: "
   ]
  },
  {
   "cell_type": "code",
   "execution_count": null,
   "metadata": {
    "colab": {
     "base_uri": "https://localhost:8080/"
    },
    "executionInfo": {
     "elapsed": 19783,
     "status": "ok",
     "timestamp": 1604711393092,
     "user": {
      "displayName": "Piotr Wilk Błoński",
      "photoUrl": "https://lh3.googleusercontent.com/a-/AOh14GjkUySBQ1lbWIuepsSmk5y83okpTCmPNHWPy-bGDA=s64",
      "userId": "13887880608049797141"
     },
     "user_tz": -60
    },
    "id": "Izs5WghUIkTX",
    "outputId": "a98d43e3-df4d-4bef-a642-64dbd05eece6"
   },
   "outputs": [],
   "source": [
    "last_hidden_states[0][0]"
   ]
  },
  {
   "cell_type": "markdown",
   "metadata": {
    "id": "wufpXU6YIzgw"
   },
   "source": [
    "Zgodnie z informacjami o modelu powiniśmy miec 768 wag, co widać poniżej"
   ]
  },
  {
   "cell_type": "code",
   "execution_count": null,
   "metadata": {
    "colab": {
     "base_uri": "https://localhost:8080/"
    },
    "executionInfo": {
     "elapsed": 19774,
     "status": "ok",
     "timestamp": 1604711393093,
     "user": {
      "displayName": "Piotr Wilk Błoński",
      "photoUrl": "https://lh3.googleusercontent.com/a-/AOh14GjkUySBQ1lbWIuepsSmk5y83okpTCmPNHWPy-bGDA=s64",
      "userId": "13887880608049797141"
     },
     "user_tz": -60
    },
    "id": "21racA2lI877",
    "outputId": "6f9b4f1e-eb9a-489b-bde1-678b99e292fd"
   },
   "outputs": [],
   "source": [
    "last_hidden_states[0][0].shape"
   ]
  },
  {
   "cell_type": "code",
   "execution_count": null,
   "metadata": {
    "executionInfo": {
     "elapsed": 19766,
     "status": "ok",
     "timestamp": 1604711393094,
     "user": {
      "displayName": "Piotr Wilk Błoński",
      "photoUrl": "https://lh3.googleusercontent.com/a-/AOh14GjkUySBQ1lbWIuepsSmk5y83okpTCmPNHWPy-bGDA=s64",
      "userId": "13887880608049797141"
     },
     "user_tz": -60
    },
    "id": "XuYL020iI9pm"
   },
   "outputs": [],
   "source": []
  },
  {
   "cell_type": "markdown",
   "metadata": {
    "id": "Z5xqnfllJA8k"
   },
   "source": [
    "# Tworzenie klasyfikatora w TF"
   ]
  },
  {
   "cell_type": "code",
   "execution_count": 48,
   "metadata": {
    "executionInfo": {
     "elapsed": 19759,
     "status": "ok",
     "timestamp": 1604711393094,
     "user": {
      "displayName": "Piotr Wilk Błoński",
      "photoUrl": "https://lh3.googleusercontent.com/a-/AOh14GjkUySBQ1lbWIuepsSmk5y83okpTCmPNHWPy-bGDA=s64",
      "userId": "13887880608049797141"
     },
     "user_tz": -60
    },
    "id": "QsNkZrazJDFW"
   },
   "outputs": [],
   "source": [
    "import tensorflow as tf\n",
    "from tensorflow.keras.models import Sequential\n",
    "from tensorflow.keras.layers import Dense\n",
    "from sklearn.metrics import f1_score, accuracy_score\n",
    "import numpy as np\n",
    "import pandas as pd\n",
    "import pickle\n",
    "from tqdm import tqdm"
   ]
  },
  {
   "cell_type": "code",
   "execution_count": 32,
   "metadata": {
    "colab": {
     "base_uri": "https://localhost:8080/"
    },
    "executionInfo": {
     "elapsed": 19747,
     "status": "ok",
     "timestamp": 1604711393095,
     "user": {
      "displayName": "Piotr Wilk Błoński",
      "photoUrl": "https://lh3.googleusercontent.com/a-/AOh14GjkUySBQ1lbWIuepsSmk5y83okpTCmPNHWPy-bGDA=s64",
      "userId": "13887880608049797141"
     },
     "user_tz": -60
    },
    "id": "XPkG4cAvJpxg",
    "outputId": "53ebbe80-051d-42f9-9713-6e81b501a04f"
   },
   "outputs": [
    {
     "data": {
      "text/plain": [
       "array(['neutralne', 'smutek', 'podziw', 'zlosc', 'radosc', 'strach',\n",
       "       'oczekiwanie', 'wstret', 'zaskoczenie'], dtype=object)"
      ]
     },
     "execution_count": 32,
     "metadata": {},
     "output_type": "execute_result"
    }
   ],
   "source": [
    "pd.unique(labels)"
   ]
  },
  {
   "cell_type": "code",
   "execution_count": 33,
   "metadata": {
    "colab": {
     "base_uri": "https://localhost:8080/"
    },
    "executionInfo": {
     "elapsed": 19738,
     "status": "ok",
     "timestamp": 1604711393096,
     "user": {
      "displayName": "Piotr Wilk Błoński",
      "photoUrl": "https://lh3.googleusercontent.com/a-/AOh14GjkUySBQ1lbWIuepsSmk5y83okpTCmPNHWPy-bGDA=s64",
      "userId": "13887880608049797141"
     },
     "user_tz": -60
    },
    "id": "UymWnupOJF82",
    "outputId": "638053fb-ceed-4450-dc46-ad4bb62113b2"
   },
   "outputs": [
    {
     "data": {
      "text/plain": [
       "0         neutralne\n",
       "1         neutralne\n",
       "2         neutralne\n",
       "3            smutek\n",
       "4            podziw\n",
       "           ...     \n",
       "5396      neutralne\n",
       "5397         wstret\n",
       "5398    zaskoczenie\n",
       "5399         radosc\n",
       "5400    zaskoczenie\n",
       "Name: most_common_annotation, Length: 4211, dtype: object"
      ]
     },
     "execution_count": 33,
     "metadata": {},
     "output_type": "execute_result"
    }
   ],
   "source": [
    "labels_dict = {\n",
    "    'neutralne' : 0,\n",
    "    'smutek' : 1,\n",
    "    'podziw' : 2,\n",
    "    'zlosc' : 3,\n",
    "    'strach' : 4,\n",
    "    'oczekiwanie' : 5,\n",
    "    'wstret' : 6,\n",
    "    'zaskoczenie' : 7,\n",
    "    'radosc' : 8\n",
    "}\n",
    "labels"
   ]
  },
  {
   "cell_type": "code",
   "execution_count": 34,
   "metadata": {
    "colab": {
     "base_uri": "https://localhost:8080/"
    },
    "executionInfo": {
     "elapsed": 19729,
     "status": "ok",
     "timestamp": 1604711393096,
     "user": {
      "displayName": "Piotr Wilk Błoński",
      "photoUrl": "https://lh3.googleusercontent.com/a-/AOh14GjkUySBQ1lbWIuepsSmk5y83okpTCmPNHWPy-bGDA=s64",
      "userId": "13887880608049797141"
     },
     "user_tz": -60
    },
    "id": "MOqgy-62JeK1",
    "outputId": "e254d29a-f929-4ae6-b28a-554dcd322b87"
   },
   "outputs": [
    {
     "data": {
      "text/plain": [
       "array(['neutralne', 'smutek', 'podziw', 'zlosc', 'radosc', 'strach',\n",
       "       'oczekiwanie', 'wstret', 'zaskoczenie'], dtype=object)"
      ]
     },
     "execution_count": 34,
     "metadata": {},
     "output_type": "execute_result"
    }
   ],
   "source": [
    "pd.unique(labels)"
   ]
  },
  {
   "cell_type": "code",
   "execution_count": 35,
   "metadata": {
    "executionInfo": {
     "elapsed": 19721,
     "status": "ok",
     "timestamp": 1604711393097,
     "user": {
      "displayName": "Piotr Wilk Błoński",
      "photoUrl": "https://lh3.googleusercontent.com/a-/AOh14GjkUySBQ1lbWIuepsSmk5y83okpTCmPNHWPy-bGDA=s64",
      "userId": "13887880608049797141"
     },
     "user_tz": -60
    },
    "id": "BOLqCFPhJLO3"
   },
   "outputs": [],
   "source": [
    "y=labels.map(labels_dict)"
   ]
  },
  {
   "cell_type": "code",
   "execution_count": 36,
   "metadata": {
    "colab": {
     "base_uri": "https://localhost:8080/"
    },
    "executionInfo": {
     "elapsed": 19714,
     "status": "ok",
     "timestamp": 1604711393097,
     "user": {
      "displayName": "Piotr Wilk Błoński",
      "photoUrl": "https://lh3.googleusercontent.com/a-/AOh14GjkUySBQ1lbWIuepsSmk5y83okpTCmPNHWPy-bGDA=s64",
      "userId": "13887880608049797141"
     },
     "user_tz": -60
    },
    "id": "NvzbeXFmM-xX",
    "outputId": "3a580ffc-8c8d-49ad-9900-2fa304d3c5bb"
   },
   "outputs": [
    {
     "data": {
      "text/plain": [
       "False"
      ]
     },
     "execution_count": 36,
     "metadata": {},
     "output_type": "execute_result"
    }
   ],
   "source": [
    "y.isnull().any()\n"
   ]
  },
  {
   "cell_type": "code",
   "execution_count": 37,
   "metadata": {
    "colab": {
     "base_uri": "https://localhost:8080/"
    },
    "executionInfo": {
     "elapsed": 587,
     "status": "ok",
     "timestamp": 1604720575146,
     "user": {
      "displayName": "Piotr Wilk Błoński",
      "photoUrl": "https://lh3.googleusercontent.com/a-/AOh14GjkUySBQ1lbWIuepsSmk5y83okpTCmPNHWPy-bGDA=s64",
      "userId": "13887880608049797141"
     },
     "user_tz": -60
    },
    "id": "ASc_b4MfPIkK",
    "outputId": "0684ed1b-06aa-48d5-9b62-39a81682b065"
   },
   "outputs": [
    {
     "ename": "NameError",
     "evalue": "name 'input_ids' is not defined",
     "output_type": "error",
     "traceback": [
      "\u001b[1;31m---------------------------------------------------------------------------\u001b[0m",
      "\u001b[1;31mNameError\u001b[0m                                 Traceback (most recent call last)",
      "\u001b[1;32m<ipython-input-37-6666ab349e25>\u001b[0m in \u001b[0;36m<module>\u001b[1;34m\u001b[0m\n\u001b[0;32m      1\u001b[0m \u001b[0mbatch_size\u001b[0m \u001b[1;33m=\u001b[0m \u001b[1;36m200\u001b[0m\u001b[1;33m\u001b[0m\u001b[1;33m\u001b[0m\u001b[0m\n\u001b[0;32m      2\u001b[0m \u001b[0marr\u001b[0m \u001b[1;33m=\u001b[0m \u001b[1;32mNone\u001b[0m\u001b[1;33m\u001b[0m\u001b[1;33m\u001b[0m\u001b[0m\n\u001b[1;32m----> 3\u001b[1;33m \u001b[0minput_ids\u001b[0m\u001b[1;33m.\u001b[0m\u001b[0msize\u001b[0m\u001b[1;33m(\u001b[0m\u001b[1;33m)\u001b[0m\u001b[1;33m[\u001b[0m\u001b[1;36m0\u001b[0m\u001b[1;33m]\u001b[0m\u001b[1;33m\u001b[0m\u001b[1;33m\u001b[0m\u001b[0m\n\u001b[0m",
      "\u001b[1;31mNameError\u001b[0m: name 'input_ids' is not defined"
     ]
    }
   ],
   "source": [
    "batch_size = 200\n",
    "arr = None\n",
    "input_ids.size()[0]"
   ]
  },
  {
   "cell_type": "code",
   "execution_count": 38,
   "metadata": {
    "colab": {
     "base_uri": "https://localhost:8080/"
    },
    "id": "lRAL6NDduMwM",
    "outputId": "8371d584-2000-4504-f3a1-5d33a0425072"
   },
   "outputs": [
    {
     "ename": "NameError",
     "evalue": "name 'input_ids' is not defined",
     "output_type": "error",
     "traceback": [
      "\u001b[1;31m---------------------------------------------------------------------------\u001b[0m",
      "\u001b[1;31mNameError\u001b[0m                                 Traceback (most recent call last)",
      "\u001b[1;32m<ipython-input-38-8aec9f3f0370>\u001b[0m in \u001b[0;36m<module>\u001b[1;34m\u001b[0m\n\u001b[1;32m----> 1\u001b[1;33m \u001b[1;32mfor\u001b[0m \u001b[0mi\u001b[0m \u001b[1;32min\u001b[0m \u001b[0mtqdm\u001b[0m\u001b[1;33m(\u001b[0m\u001b[0mrange\u001b[0m\u001b[1;33m(\u001b[0m\u001b[1;36m0\u001b[0m\u001b[1;33m,\u001b[0m\u001b[0minput_ids\u001b[0m\u001b[1;33m.\u001b[0m\u001b[0msize\u001b[0m\u001b[1;33m(\u001b[0m\u001b[1;33m)\u001b[0m\u001b[1;33m[\u001b[0m\u001b[1;36m0\u001b[0m\u001b[1;33m]\u001b[0m\u001b[1;33m,\u001b[0m \u001b[0mbatch_size\u001b[0m\u001b[1;33m)\u001b[0m\u001b[1;33m)\u001b[0m\u001b[1;33m:\u001b[0m\u001b[1;33m\u001b[0m\u001b[1;33m\u001b[0m\u001b[0m\n\u001b[0m\u001b[0;32m      2\u001b[0m       \u001b[1;32mwith\u001b[0m \u001b[0mtorch\u001b[0m\u001b[1;33m.\u001b[0m\u001b[0mno_grad\u001b[0m\u001b[1;33m(\u001b[0m\u001b[1;33m)\u001b[0m\u001b[1;33m:\u001b[0m\u001b[1;33m\u001b[0m\u001b[1;33m\u001b[0m\u001b[0m\n\u001b[0;32m      3\u001b[0m         \u001b[0mlast_hidden_states\u001b[0m \u001b[1;33m=\u001b[0m \u001b[0mmodel_herbert\u001b[0m\u001b[1;33m(\u001b[0m\u001b[0minput_ids\u001b[0m\u001b[1;33m[\u001b[0m\u001b[0mi\u001b[0m\u001b[1;33m:\u001b[0m\u001b[0mi\u001b[0m\u001b[1;33m+\u001b[0m\u001b[0mbatch_size\u001b[0m\u001b[1;33m]\u001b[0m\u001b[1;33m)\u001b[0m\u001b[1;33m\u001b[0m\u001b[1;33m\u001b[0m\u001b[0m\n\u001b[0;32m      4\u001b[0m         \u001b[0mfeatures\u001b[0m \u001b[1;33m=\u001b[0m \u001b[0mlast_hidden_states\u001b[0m\u001b[1;33m[\u001b[0m\u001b[1;36m0\u001b[0m\u001b[1;33m]\u001b[0m\u001b[1;33m[\u001b[0m\u001b[1;33m:\u001b[0m\u001b[1;33m,\u001b[0m\u001b[1;36m0\u001b[0m\u001b[1;33m,\u001b[0m\u001b[1;33m:\u001b[0m\u001b[1;33m]\u001b[0m\u001b[1;33m.\u001b[0m\u001b[0mnumpy\u001b[0m\u001b[1;33m(\u001b[0m\u001b[1;33m)\u001b[0m\u001b[1;33m\u001b[0m\u001b[1;33m\u001b[0m\u001b[0m\n\u001b[0;32m      5\u001b[0m         \u001b[1;32mif\u001b[0m \u001b[0marr\u001b[0m \u001b[1;32mis\u001b[0m \u001b[1;32mNone\u001b[0m\u001b[1;33m:\u001b[0m\u001b[1;33m\u001b[0m\u001b[1;33m\u001b[0m\u001b[0m\n",
      "\u001b[1;31mNameError\u001b[0m: name 'input_ids' is not defined"
     ]
    }
   ],
   "source": [
    "for i in tqdm(range(0,input_ids.size()[0], batch_size)):\n",
    "      with torch.no_grad():\n",
    "        last_hidden_states = model_herbert(input_ids[i:i+batch_size])    \n",
    "        features = last_hidden_states[0][:,0,:].numpy()\n",
    "        if arr is None:\n",
    "            arr = features\n",
    "            print(type(arr))\n",
    "        else:\n",
    "            arr=np.concatenate((arr,features))\n",
    "        print(arr.shape)\n",
    "        pickle.dump( arr, open( \"inputs.p\", \"wb\" ) )"
   ]
  },
  {
   "cell_type": "code",
   "execution_count": 39,
   "metadata": {},
   "outputs": [],
   "source": [
    "df = pd.read_pickle(\"inputs.p\")"
   ]
  },
  {
   "cell_type": "code",
   "execution_count": 40,
   "metadata": {},
   "outputs": [
    {
     "data": {
      "text/plain": [
       "(4211, 768)"
      ]
     },
     "execution_count": 40,
     "metadata": {},
     "output_type": "execute_result"
    }
   ],
   "source": [
    "df.shape"
   ]
  },
  {
   "cell_type": "code",
   "execution_count": 41,
   "metadata": {},
   "outputs": [
    {
     "data": {
      "text/plain": [
       "9"
      ]
     },
     "execution_count": 41,
     "metadata": {},
     "output_type": "execute_result"
    }
   ],
   "source": [
    "classes = len(labels_dict)\n",
    "classes"
   ]
  },
  {
   "cell_type": "code",
   "execution_count": 42,
   "metadata": {},
   "outputs": [],
   "source": [
    "input_shape = df.shape"
   ]
  },
  {
   "cell_type": "code",
   "execution_count": 54,
   "metadata": {},
   "outputs": [],
   "source": [
    "def f1(y_true,y_pred):\n",
    "    re= tf.argmax(y_pred,axis=1)\n",
    "    re = tf.reshape(re,[-1,1])\n",
    "    #print(re.shape, y_true.shape)\n",
    "    F1 = f1_score(y_true=y_true.numpy(),y_pred=re,average=\"macro\")\n",
    "    return F1"
   ]
  },
  {
   "cell_type": "code",
   "execution_count": 55,
   "metadata": {},
   "outputs": [],
   "source": [
    "model = Sequential()\n",
    "model.add(Dense(256, input_shape=input_shape, activation='relu'))\n",
    "model.add(Dense(14, activation='relu'))\n",
    "model.add(Dense(classes, activation='softmax'))"
   ]
  },
  {
   "cell_type": "code",
   "execution_count": 63,
   "metadata": {},
   "outputs": [],
   "source": [
    "log_dir = 'logs2'\n",
    "tensorboard_callback = tf.keras.callbacks.TensorBoard(\n",
    "    log_dir=log_dir, histogram_freq=1,\n",
    ")"
   ]
  },
  {
   "cell_type": "code",
   "execution_count": 64,
   "metadata": {},
   "outputs": [],
   "source": [
    "model.compile(\n",
    "    loss=tf.keras.losses.SparseCategoricalCrossentropy(),\n",
    "    optimizer=tf.keras.optimizers.Adam(lr=0.001),\n",
    "    metrics=['accuracy',f1],\n",
    "    run_eagerly=True #for tensor.numpy() in f1 score metric\n",
    ")"
   ]
  },
  {
   "cell_type": "code",
   "execution_count": 65,
   "metadata": {},
   "outputs": [
    {
     "name": "stdout",
     "output_type": "stream",
     "text": [
      "Epoch 1/25\n",
      "106/106 [==============================] - 5s 43ms/step - loss: 0.5730 - accuracy: 0.8198 - f1: 0.5223 - val_loss: 1.3719 - val_accuracy: 0.6441 - val_f1: 0.2683\n",
      "Epoch 2/25\n",
      "106/106 [==============================] - 5s 43ms/step - loss: 0.5211 - accuracy: 0.8334 - f1: 0.5436 - val_loss: 1.3717 - val_accuracy: 0.6477 - val_f1: 0.2948\n",
      "Epoch 3/25\n",
      "106/106 [==============================] - 5s 45ms/step - loss: 0.4958 - accuracy: 0.8471 - f1: 0.5514 - val_loss: 1.3640 - val_accuracy: 0.6477 - val_f1: 0.2864\n",
      "Epoch 4/25\n",
      "106/106 [==============================] - 4s 42ms/step - loss: 0.4708 - accuracy: 0.8560 - f1: 0.5768 - val_loss: 1.4065 - val_accuracy: 0.6453 - val_f1: 0.2892\n",
      "Epoch 5/25\n",
      "106/106 [==============================] - 4s 42ms/step - loss: 0.4558 - accuracy: 0.8554 - f1: 0.5692 - val_loss: 1.4514 - val_accuracy: 0.6489 - val_f1: 0.2865\n",
      "Epoch 6/25\n",
      "106/106 [==============================] - 5s 43ms/step - loss: 0.4329 - accuracy: 0.8605 - f1: 0.5842 - val_loss: 1.4592 - val_accuracy: 0.6251 - val_f1: 0.2893\n",
      "Epoch 7/25\n",
      "106/106 [==============================] - 5s 45ms/step - loss: 0.4133 - accuracy: 0.8667 - f1: 0.6119 - val_loss: 1.6463 - val_accuracy: 0.6477 - val_f1: 0.2488\n",
      "Epoch 8/25\n",
      "106/106 [==============================] - 5s 43ms/step - loss: 0.3841 - accuracy: 0.8783 - f1: 0.6321 - val_loss: 1.5441 - val_accuracy: 0.6216 - val_f1: 0.2590\n",
      "Epoch 9/25\n",
      "106/106 [==============================] - 4s 42ms/step - loss: 0.3579 - accuracy: 0.8842 - f1: 0.6382 - val_loss: 1.5772 - val_accuracy: 0.6168 - val_f1: 0.2733\n",
      "Epoch 10/25\n",
      "106/106 [==============================] - 4s 42ms/step - loss: 0.3375 - accuracy: 0.8895 - f1: 0.6559 - val_loss: 1.7047 - val_accuracy: 0.6216 - val_f1: 0.2824\n",
      "Epoch 11/25\n",
      "106/106 [==============================] - 4s 42ms/step - loss: 0.3240 - accuracy: 0.8967 - f1: 0.6703 - val_loss: 1.6696 - val_accuracy: 0.6441 - val_f1: 0.2544\n",
      "Epoch 12/25\n",
      "106/106 [==============================] - 4s 42ms/step - loss: 0.3143 - accuracy: 0.9035 - f1: 0.6834 - val_loss: 1.7231 - val_accuracy: 0.6168 - val_f1: 0.2707\n",
      "Epoch 13/25\n",
      "106/106 [==============================] - 4s 42ms/step - loss: 0.2942 - accuracy: 0.9088 - f1: 0.7039 - val_loss: 1.7008 - val_accuracy: 0.6335 - val_f1: 0.2703\n",
      "Epoch 14/25\n",
      "106/106 [==============================] - 4s 42ms/step - loss: 0.2614 - accuracy: 0.9178 - f1: 0.7160 - val_loss: 1.7815 - val_accuracy: 0.6346 - val_f1: 0.2906\n",
      "Epoch 15/25\n",
      "106/106 [==============================] - 4s 41ms/step - loss: 0.2429 - accuracy: 0.9243 - f1: 0.7498 - val_loss: 1.8177 - val_accuracy: 0.6370 - val_f1: 0.2472\n",
      "Epoch 16/25\n",
      "106/106 [==============================] - 4s 42ms/step - loss: 0.2419 - accuracy: 0.9314 - f1: 0.7617 - val_loss: 1.8199 - val_accuracy: 0.6275 - val_f1: 0.2812\n",
      "Epoch 17/25\n",
      "106/106 [==============================] - 4s 42ms/step - loss: 0.2248 - accuracy: 0.9376 - f1: 0.7939 - val_loss: 1.9064 - val_accuracy: 0.6441 - val_f1: 0.2912\n",
      "Epoch 18/25\n",
      "106/106 [==============================] - 4s 41ms/step - loss: 0.1967 - accuracy: 0.9430 - f1: 0.7820 - val_loss: 1.9023 - val_accuracy: 0.6157 - val_f1: 0.2635\n",
      "Epoch 19/25\n",
      "106/106 [==============================] - 4s 41ms/step - loss: 0.1958 - accuracy: 0.9439 - f1: 0.8059 - val_loss: 2.0013 - val_accuracy: 0.6251 - val_f1: 0.2495\n",
      "Epoch 20/25\n",
      "106/106 [==============================] - 4s 42ms/step - loss: 0.2047 - accuracy: 0.9409 - f1: 0.8005 - val_loss: 2.0236 - val_accuracy: 0.6240 - val_f1: 0.2631\n",
      "Epoch 21/25\n",
      "106/106 [==============================] - 4s 42ms/step - loss: 0.1662 - accuracy: 0.9549 - f1: 0.8317 - val_loss: 2.1231 - val_accuracy: 0.5943 - val_f1: 0.2553y: 0.9564\n",
      "Epoch 22/25\n",
      "106/106 [==============================] - 4s 41ms/step - loss: 0.1657 - accuracy: 0.9522 - f1: 0.8265 - val_loss: 2.1462 - val_accuracy: 0.6240 - val_f1: 0.2677\n",
      "Epoch 23/25\n",
      "106/106 [==============================] - 4s 41ms/step - loss: 0.1765 - accuracy: 0.9451 - f1: 0.8321 - val_loss: 2.1092 - val_accuracy: 0.5991 - val_f1: 0.2501\n",
      "Epoch 24/25\n",
      "106/106 [==============================] - 4s 42ms/step - loss: 0.1800 - accuracy: 0.9439 - f1: 0.8345 - val_loss: 2.2708 - val_accuracy: 0.5955 - val_f1: 0.2405\n",
      "Epoch 25/25\n",
      "106/106 [==============================] - 4s 41ms/step - loss: 0.1343 - accuracy: 0.9667 - f1: 0.8902 - val_loss: 2.2685 - val_accuracy: 0.6014 - val_f1: 0.2434\n"
     ]
    },
    {
     "data": {
      "text/plain": [
       "<tensorflow.python.keras.callbacks.History at 0x1abfbbc1430>"
      ]
     },
     "execution_count": 65,
     "metadata": {},
     "output_type": "execute_result"
    }
   ],
   "source": [
    "model.fit(x=df,y=y,epochs=25,validation_split=0.2,callbacks=[tensorboard_callback],shuffle=True)"
   ]
  },
  {
   "cell_type": "code",
   "execution_count": null,
   "metadata": {},
   "outputs": [],
   "source": [
    "df.shape"
   ]
  },
  {
   "cell_type": "code",
   "execution_count": 66,
   "metadata": {},
   "outputs": [],
   "source": [
    "%load_ext tensorboard"
   ]
  },
  {
   "cell_type": "code",
   "execution_count": 67,
   "metadata": {},
   "outputs": [
    {
     "data": {
      "text/plain": [
       "ERROR: Timed out waiting for TensorBoard to start. It may still be running as pid 19204."
      ]
     },
     "metadata": {},
     "output_type": "display_data"
    }
   ],
   "source": [
    "%tensorboard --logdir logs"
   ]
  },
  {
   "cell_type": "code",
   "execution_count": null,
   "metadata": {},
   "outputs": [],
   "source": []
  }
 ],
 "metadata": {
  "accelerator": "GPU",
  "colab": {
   "collapsed_sections": [
    "GWtz-amPEsMJ",
    "h8FEjKCVEsMR",
    "AFGdDXBKEsMS",
    "gRLRWlWdEsMU",
    "g7UQI8U_EsMX",
    "pK8lknwsEsMa",
    "R9JPOhvoEsMb",
    "dfT2ufE6EsMd",
    "ZofQwXdqEsMg",
    "A70PmkpREsMi",
    "dBgteHfAEsMk",
    "vTEhw_k1EsMn",
    "Z5xqnfllJA8k",
    "GStR1LQQNqdA"
   ],
   "name": "raport.ipynb",
   "provenance": [],
   "toc_visible": true
  },
  "kernelspec": {
   "display_name": "Python 3",
   "language": "python",
   "name": "python3"
  },
  "language_info": {
   "codemirror_mode": {
    "name": "ipython",
    "version": 3
   },
   "file_extension": ".py",
   "mimetype": "text/x-python",
   "name": "python",
   "nbconvert_exporter": "python",
   "pygments_lexer": "ipython3",
   "version": "3.8.3"
  }
 },
 "nbformat": 4,
 "nbformat_minor": 1
}
