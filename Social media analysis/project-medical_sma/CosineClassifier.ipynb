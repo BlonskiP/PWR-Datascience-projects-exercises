{
  "nbformat": 4,
  "nbformat_minor": 0,
  "metadata": {
    "colab": {
      "name": "CosineClassifier",
      "provenance": [],
      "collapsed_sections": [
        "GyEldiSMLn2Q"
      ]
    },
    "kernelspec": {
      "name": "python3",
      "display_name": "Python 3"
    },
    "accelerator": "GPU"
  },
  "cells": [
    {
      "cell_type": "markdown",
      "metadata": {
        "id": "GyEldiSMLn2Q"
      },
      "source": [
        "# Przygotowanie środowiska na colabie"
      ]
    },
    {
      "cell_type": "code",
      "metadata": {
        "colab": {
          "base_uri": "https://localhost:8080/"
        },
        "id": "ATJ7iE62IE8L",
        "outputId": "961946fd-6dc9-4bd7-f931-5a6eabfd74c6"
      },
      "source": [
        "!cd /content && export CREDENTIALS=`cat credentials.txt` && git clone https://$CREDENTIALS@github.com/SMAPWr/project-medical_sma"
      ],
      "execution_count": 1,
      "outputs": [
        {
          "output_type": "stream",
          "text": [
            "Cloning into 'project-medical_sma'...\n",
            "remote: Enumerating objects: 111, done.\u001b[K\n",
            "remote: Counting objects: 100% (111/111), done.\u001b[K\n",
            "remote: Compressing objects: 100% (79/79), done.\u001b[K\n",
            "remote: Total 610 (delta 69), reused 63 (delta 29), pack-reused 499\u001b[K\n",
            "Receiving objects: 100% (610/610), 14.88 MiB | 28.91 MiB/s, done.\n",
            "Resolving deltas: 100% (350/350), done.\n"
          ],
          "name": "stdout"
        }
      ]
    },
    {
      "cell_type": "code",
      "metadata": {
        "colab": {
          "base_uri": "https://localhost:8080/"
        },
        "id": "flM7WIeaJNi2",
        "outputId": "7c40ab5b-e21d-44d5-e816-154ec4e641c9"
      },
      "source": [
        "from google.colab import drive\r\n",
        "drive.mount('/content/drive')"
      ],
      "execution_count": 2,
      "outputs": [
        {
          "output_type": "stream",
          "text": [
            "Drive already mounted at /content/drive; to attempt to forcibly remount, call drive.mount(\"/content/drive\", force_remount=True).\n"
          ],
          "name": "stdout"
        }
      ]
    },
    {
      "cell_type": "code",
      "metadata": {
        "colab": {
          "base_uri": "https://localhost:8080/"
        },
        "id": "TOWvZkKlJbAV",
        "outputId": "990b622d-e943-497e-f994-4c7604d1d214"
      },
      "source": [
        "!unzip /content/drive/MyDrive/colab-data/sma-medical/dr_herbert/dr_herbert_complete-20210119T154825Z-001.zip -d /content/project-medical_sma"
      ],
      "execution_count": 3,
      "outputs": [
        {
          "output_type": "stream",
          "text": [
            "Archive:  /content/drive/MyDrive/colab-data/sma-medical/dr_herbert/dr_herbert_complete-20210119T154825Z-001.zip\n",
            "  inflating: /content/project-medical_sma/dr_herbert_complete/special_tokens_map.json  \n",
            "  inflating: /content/project-medical_sma/dr_herbert_complete/config.json  \n",
            "  inflating: /content/project-medical_sma/dr_herbert_complete/tokenizer_config.json  \n",
            "  inflating: /content/project-medical_sma/dr_herbert_complete/training_args.bin  \n",
            "  inflating: /content/project-medical_sma/dr_herbert_complete/trainer_state.json  \n",
            "  inflating: /content/project-medical_sma/dr_herbert_complete/train_results.txt  \n",
            "  inflating: /content/project-medical_sma/dr_herbert_complete/merges.txt  \n",
            "  inflating: /content/project-medical_sma/dr_herbert_complete/vocab.json  \n",
            "  inflating: /content/project-medical_sma/dr_herbert_complete/pytorch_model.bin  \n"
          ],
          "name": "stdout"
        }
      ]
    },
    {
      "cell_type": "code",
      "metadata": {
        "id": "zoR4FvqtJpjR"
      },
      "source": [
        "!cp /content/drive/MyDrive/colab-data/sma-medical/objawy.csv /content/project-medical_sma/"
      ],
      "execution_count": 4,
      "outputs": []
    },
    {
      "cell_type": "code",
      "metadata": {
        "colab": {
          "base_uri": "https://localhost:8080/"
        },
        "id": "dd8uTT7JIOUC",
        "outputId": "5acced56-dcee-4225-e1f8-fb96c25b1d79"
      },
      "source": [
        "import sys, os\r\n",
        "os.chdir('/content/project-medical_sma')\r\n",
        "print(os.getcwd())\r\n",
        "if os.getcwd() not in sys.path:\r\n",
        "  sys.path.insert(0, os.getcwd())\r\n",
        "print(sys.path)"
      ],
      "execution_count": 5,
      "outputs": [
        {
          "output_type": "stream",
          "text": [
            "/content/project-medical_sma\n",
            "['/content/project-medical_sma', '', '/env/python', '/usr/lib/python36.zip', '/usr/lib/python3.6', '/usr/lib/python3.6/lib-dynload', '/usr/local/lib/python3.6/dist-packages', '/usr/lib/python3/dist-packages', '/usr/local/lib/python3.6/dist-packages/IPython/extensions', '/root/.ipython']\n"
          ],
          "name": "stdout"
        }
      ]
    },
    {
      "cell_type": "code",
      "metadata": {
        "id": "M4w3SkTOJfJ4"
      },
      "source": [
        ""
      ],
      "execution_count": null,
      "outputs": []
    },
    {
      "cell_type": "code",
      "metadata": {
        "colab": {
          "base_uri": "https://localhost:8080/"
        },
        "id": "qn5ed3zXIaos",
        "outputId": "48ee5384-4c57-4d59-870f-1bc4bb255aaf"
      },
      "source": [
        "!pip install demoji transformers"
      ],
      "execution_count": 7,
      "outputs": [
        {
          "output_type": "stream",
          "text": [
            "Collecting demoji\n",
            "  Downloading https://files.pythonhosted.org/packages/88/6a/34379abe01c9c36fe9fddc4181dd935332e7d0159ec3fae76f712e49bcea/demoji-0.4.0-py2.py3-none-any.whl\n",
            "Collecting transformers\n",
            "\u001b[?25l  Downloading https://files.pythonhosted.org/packages/88/b1/41130a228dd656a1a31ba281598a968320283f48d42782845f6ba567f00b/transformers-4.2.2-py3-none-any.whl (1.8MB)\n",
            "\u001b[K     |████████████████████████████████| 1.8MB 9.1MB/s \n",
            "\u001b[?25hCollecting colorama\n",
            "  Downloading https://files.pythonhosted.org/packages/44/98/5b86278fbbf250d239ae0ecb724f8572af1c91f4a11edf4d36a206189440/colorama-0.4.4-py2.py3-none-any.whl\n",
            "Requirement already satisfied: requests<3.0.0 in /usr/local/lib/python3.6/dist-packages (from demoji) (2.23.0)\n",
            "Collecting tokenizers==0.9.4\n",
            "\u001b[?25l  Downloading https://files.pythonhosted.org/packages/0f/1c/e789a8b12e28be5bc1ce2156cf87cb522b379be9cadc7ad8091a4cc107c4/tokenizers-0.9.4-cp36-cp36m-manylinux2010_x86_64.whl (2.9MB)\n",
            "\u001b[K     |████████████████████████████████| 2.9MB 48.3MB/s \n",
            "\u001b[?25hRequirement already satisfied: regex!=2019.12.17 in /usr/local/lib/python3.6/dist-packages (from transformers) (2019.12.20)\n",
            "Requirement already satisfied: packaging in /usr/local/lib/python3.6/dist-packages (from transformers) (20.8)\n",
            "Requirement already satisfied: filelock in /usr/local/lib/python3.6/dist-packages (from transformers) (3.0.12)\n",
            "Requirement already satisfied: numpy in /usr/local/lib/python3.6/dist-packages (from transformers) (1.19.5)\n",
            "Collecting sacremoses\n",
            "\u001b[?25l  Downloading https://files.pythonhosted.org/packages/7d/34/09d19aff26edcc8eb2a01bed8e98f13a1537005d31e95233fd48216eed10/sacremoses-0.0.43.tar.gz (883kB)\n",
            "\u001b[K     |████████████████████████████████| 890kB 51.9MB/s \n",
            "\u001b[?25hRequirement already satisfied: importlib-metadata; python_version < \"3.8\" in /usr/local/lib/python3.6/dist-packages (from transformers) (3.3.0)\n",
            "Requirement already satisfied: dataclasses; python_version < \"3.7\" in /usr/local/lib/python3.6/dist-packages (from transformers) (0.8)\n",
            "Requirement already satisfied: tqdm>=4.27 in /usr/local/lib/python3.6/dist-packages (from transformers) (4.41.1)\n",
            "Requirement already satisfied: urllib3!=1.25.0,!=1.25.1,<1.26,>=1.21.1 in /usr/local/lib/python3.6/dist-packages (from requests<3.0.0->demoji) (1.24.3)\n",
            "Requirement already satisfied: idna<3,>=2.5 in /usr/local/lib/python3.6/dist-packages (from requests<3.0.0->demoji) (2.10)\n",
            "Requirement already satisfied: chardet<4,>=3.0.2 in /usr/local/lib/python3.6/dist-packages (from requests<3.0.0->demoji) (3.0.4)\n",
            "Requirement already satisfied: certifi>=2017.4.17 in /usr/local/lib/python3.6/dist-packages (from requests<3.0.0->demoji) (2020.12.5)\n",
            "Requirement already satisfied: pyparsing>=2.0.2 in /usr/local/lib/python3.6/dist-packages (from packaging->transformers) (2.4.7)\n",
            "Requirement already satisfied: six in /usr/local/lib/python3.6/dist-packages (from sacremoses->transformers) (1.15.0)\n",
            "Requirement already satisfied: click in /usr/local/lib/python3.6/dist-packages (from sacremoses->transformers) (7.1.2)\n",
            "Requirement already satisfied: joblib in /usr/local/lib/python3.6/dist-packages (from sacremoses->transformers) (1.0.0)\n",
            "Requirement already satisfied: typing-extensions>=3.6.4; python_version < \"3.8\" in /usr/local/lib/python3.6/dist-packages (from importlib-metadata; python_version < \"3.8\"->transformers) (3.7.4.3)\n",
            "Requirement already satisfied: zipp>=0.5 in /usr/local/lib/python3.6/dist-packages (from importlib-metadata; python_version < \"3.8\"->transformers) (3.4.0)\n",
            "Building wheels for collected packages: sacremoses\n",
            "  Building wheel for sacremoses (setup.py) ... \u001b[?25l\u001b[?25hdone\n",
            "  Created wheel for sacremoses: filename=sacremoses-0.0.43-cp36-none-any.whl size=893261 sha256=a43d7b0dcaab19eb467e92348261dd0f3168e54aba89df9ea152db490db954f6\n",
            "  Stored in directory: /root/.cache/pip/wheels/29/3c/fd/7ce5c3f0666dab31a50123635e6fb5e19ceb42ce38d4e58f45\n",
            "Successfully built sacremoses\n",
            "Installing collected packages: colorama, demoji, tokenizers, sacremoses, transformers\n",
            "Successfully installed colorama-0.4.4 demoji-0.4.0 sacremoses-0.0.43 tokenizers-0.9.4 transformers-4.2.2\n"
          ],
          "name": "stdout"
        }
      ]
    },
    {
      "cell_type": "markdown",
      "metadata": {
        "id": "8FNijy2rL35J"
      },
      "source": [
        "# Demo: Jak korzystać z doktora Herberta"
      ]
    },
    {
      "cell_type": "code",
      "metadata": {
        "colab": {
          "base_uri": "https://localhost:8080/"
        },
        "id": "uWLEEm6SIUAP",
        "outputId": "cf5fa33c-d24e-4f83-a1c0-24659b54e964"
      },
      "source": [
        "from model.cosine_classifier import CosineClassifier"
      ],
      "execution_count": 6,
      "outputs": [
        {
          "output_type": "stream",
          "text": [
            "Downloading emoji data ...\n",
            "... OK (Got response in 0.16 seconds)\n",
            "Writing emoji data to /root/.demoji/codes.json ...\n",
            "... OK\n"
          ],
          "name": "stdout"
        }
      ]
    },
    {
      "cell_type": "code",
      "metadata": {
        "colab": {
          "base_uri": "https://localhost:8080/"
        },
        "id": "8xP4UFEFIZLt",
        "outputId": "7f50eb6d-29ed-4c6c-a131-bb75709c0a42"
      },
      "source": [
        "cc = CosineClassifier(embedding_model_path=\"dr_herbert_complete\", symptoms_path=\"objawy.csv\")"
      ],
      "execution_count": 7,
      "outputs": [
        {
          "output_type": "stream",
          "text": [
            "Tokenization completed!\n"
          ],
          "name": "stdout"
        },
        {
          "output_type": "stream",
          "text": [
            "100%|██████████| 8/8 [00:01<00:00,  6.51it/s]\n"
          ],
          "name": "stderr"
        }
      ]
    },
    {
      "cell_type": "code",
      "metadata": {
        "colab": {
          "base_uri": "https://localhost:8080/"
        },
        "id": "7gCTqu0PJ2iK",
        "outputId": "cb4c3624-f0af-40d6-ffbb-958997e2e333"
      },
      "source": [
        "cc.predict([\"Złamałem rękę\"])"
      ],
      "execution_count": 8,
      "outputs": [
        {
          "output_type": "stream",
          "text": [
            "Tokenization completed!\n"
          ],
          "name": "stdout"
        },
        {
          "output_type": "stream",
          "text": [
            "100%|██████████| 1/1 [00:00<00:00,  9.37it/s]\n"
          ],
          "name": "stderr"
        },
        {
          "output_type": "execute_result",
          "data": {
            "text/plain": [
              "[{'diagnosis': 'złamanie', 'distance': 0.72123, 'query': 'Złamałem rękę'}]"
            ]
          },
          "metadata": {
            "tags": []
          },
          "execution_count": 8
        }
      ]
    },
    {
      "cell_type": "code",
      "metadata": {
        "colab": {
          "base_uri": "https://localhost:8080/"
        },
        "id": "WDnjRcWuKcyW",
        "outputId": "cb025155-6d7e-43d2-846d-b3a73323ed5e"
      },
      "source": [
        "cc.predict([\"Objawem jest wywołujący duszności kaszel, ból w klatce piersiowej i świszczący oddech. W początkach choroby objawy mogą przypominać grypę:  dreszcze gorączka ogólne rozbicie i złe samopoczucie Lekarz osłuchujący chorego zazwyczaj może wysłuchać charakterystyczne szemrania i szmery w płucach.  Bakteryjne zapalenie płuc może być chorobą samą w sobie lub powikłaniem po infekcjach górnych dróg oddechowych lub chorobach zakaźnych.  Jeśli więc po przeziębieniu czy chorobie zakaźnej kaszel nie ustępuje, przeciwnie - staje się duszący i bolesny - trzeba skonsultować się z lekarzem.  W niektórych przypadkach zapalenie płuc może pozostać długo niezauważone, dawać znacznie mniej charakterystyczne objawy. Może nie być nie tylko gorączki czy kaszlu. Lekarz nie słyszy zmian w płucach, nawet badając nas stetoskopem.  Wówczas jedyną widoczną oznaką zapalenia płuc może być:'  osłabienie organizmu senność, łatwe męczenie się przy niewielkim wysiłku złe samopoczucie zlewne poty duszność\"])"
      ],
      "execution_count": 10,
      "outputs": [
        {
          "output_type": "stream",
          "text": [
            "Tokenization completed!\n"
          ],
          "name": "stdout"
        },
        {
          "output_type": "stream",
          "text": [
            "100%|██████████| 1/1 [00:00<00:00,  9.98it/s]\n"
          ],
          "name": "stderr"
        },
        {
          "output_type": "execute_result",
          "data": {
            "text/plain": [
              "[{'diagnosis': 'Zapalenie płuc',\n",
              "  'distance': 0.9225288,\n",
              "  'query': \"Objawem jest wywołujący duszności kaszel, ból w klatce piersiowej i świszczący oddech. W początkach choroby objawy mogą przypominać grypę:  dreszcze gorączka ogólne rozbicie i złe samopoczucie Lekarz osłuchujący chorego zazwyczaj może wysłuchać charakterystyczne szemrania i szmery w płucach.  Bakteryjne zapalenie płuc może być chorobą samą w sobie lub powikłaniem po infekcjach górnych dróg oddechowych lub chorobach zakaźnych.  Jeśli więc po przeziębieniu czy chorobie zakaźnej kaszel nie ustępuje, przeciwnie - staje się duszący i bolesny - trzeba skonsultować się z lekarzem.  W niektórych przypadkach zapalenie płuc może pozostać długo niezauważone, dawać znacznie mniej charakterystyczne objawy. Może nie być nie tylko gorączki czy kaszlu. Lekarz nie słyszy zmian w płucach, nawet badając nas stetoskopem.  Wówczas jedyną widoczną oznaką zapalenia płuc może być:'  osłabienie organizmu senność, łatwe męczenie się przy niewielkim wysiłku złe samopoczucie zlewne poty duszność\"}]"
            ]
          },
          "metadata": {
            "tags": []
          },
          "execution_count": 10
        }
      ]
    },
    {
      "cell_type": "markdown",
      "metadata": {
        "id": "jDTVihXEPiSz"
      },
      "source": [
        "# Przykładowe tweety sklasyfikowane jako diagnoza i ich klasyfikacja przez doktora Herberta"
      ]
    },
    {
      "cell_type": "code",
      "metadata": {
        "colab": {
          "base_uri": "https://localhost:8080/"
        },
        "id": "j8lAfR9HKm0V",
        "outputId": "ec78d504-11e3-4dd1-cd51-808e04c275a5"
      },
      "source": [
        "cc.predict([\"Oh god pliss no.   Zaczyna mi się kaszel i czuje jakbym miała coś w gardle. Jak się rozchoruje to idę odciąć sobie głowe\"])"
      ],
      "execution_count": 11,
      "outputs": [
        {
          "output_type": "stream",
          "text": [
            "Tokenization completed!\n"
          ],
          "name": "stdout"
        },
        {
          "output_type": "stream",
          "text": [
            "100%|██████████| 1/1 [00:00<00:00,  9.40it/s]\n"
          ],
          "name": "stderr"
        },
        {
          "output_type": "execute_result",
          "data": {
            "text/plain": [
              "[{'diagnosis': 'Migrena',\n",
              "  'distance': 0.8847605,\n",
              "  'query': 'Oh god pliss no.   Zaczyna mi się kaszel i czuje jakbym miała coś w gardle. Jak się rozchoruje to idę odciąć sobie głowe'}]"
            ]
          },
          "metadata": {
            "tags": []
          },
          "execution_count": 11
        }
      ]
    },
    {
      "cell_type": "code",
      "metadata": {
        "colab": {
          "base_uri": "https://localhost:8080/"
        },
        "id": "3SAXq6tgNud5",
        "outputId": "aa5a5343-a407-4b7e-9f9a-9cfafdd46f8b"
      },
      "source": [
        "cc.predict([\"Zaczyna mi się kaszel i czuje jakbym miała coś w gardle. Jak się rozchoruje to idę odciąć sobie głowe\"])"
      ],
      "execution_count": 12,
      "outputs": [
        {
          "output_type": "stream",
          "text": [
            "Tokenization completed!\n"
          ],
          "name": "stdout"
        },
        {
          "output_type": "stream",
          "text": [
            "100%|██████████| 1/1 [00:00<00:00,  9.43it/s]\n"
          ],
          "name": "stderr"
        },
        {
          "output_type": "execute_result",
          "data": {
            "text/plain": [
              "[{'diagnosis': 'Alergia',\n",
              "  'distance': 0.8961195,\n",
              "  'query': 'Zaczyna mi się kaszel i czuje jakbym miała coś w gardle. Jak się rozchoruje to idę odciąć sobie głowe'}]"
            ]
          },
          "metadata": {
            "tags": []
          },
          "execution_count": 12
        }
      ]
    },
    {
      "cell_type": "code",
      "metadata": {
        "colab": {
          "base_uri": "https://localhost:8080/"
        },
        "id": "WvMc1TzUN9sW",
        "outputId": "6025ec09-1941-400c-da2b-e8b2414bf634"
      },
      "source": [
        "cc.predict([\"@ItsJokeHoney_ agata ma problemy psychiczne, wydaje się być bardzo wrażliwa, jest jaka jest ale odnoszę wrażenie, że stawia potrzeby innych na 1 miejscu, w takim razie, nawet jak wiedziała, co robił w przeszłości, bo wątpię żeby jej to umknęło, nie zwracała na to uwagi i myślała pozytywnie\"])"
      ],
      "execution_count": 13,
      "outputs": [
        {
          "output_type": "stream",
          "text": [
            "Tokenization completed!\n"
          ],
          "name": "stdout"
        },
        {
          "output_type": "stream",
          "text": [
            "100%|██████████| 1/1 [00:00<00:00,  9.74it/s]\n"
          ],
          "name": "stderr"
        },
        {
          "output_type": "execute_result",
          "data": {
            "text/plain": [
              "[{'diagnosis': 'Depresja',\n",
              "  'distance': 0.7451586,\n",
              "  'query': '@ItsJokeHoney_ agata ma problemy psychiczne, wydaje się być bardzo wrażliwa, jest jaka jest ale odnoszę wrażenie, że stawia potrzeby innych na 1 miejscu, w takim razie, nawet jak wiedziała, co robił w przeszłości, bo wątpię żeby jej to umknęło, nie zwracała na to uwagi i myślała pozytywnie'}]"
            ]
          },
          "metadata": {
            "tags": []
          },
          "execution_count": 13
        }
      ]
    },
    {
      "cell_type": "code",
      "metadata": {
        "colab": {
          "base_uri": "https://localhost:8080/"
        },
        "id": "66Q9kNecOK9A",
        "outputId": "a6df6655-5349-4c0b-e242-1ecbc3deb990"
      },
      "source": [
        "cc.predict([\"Moje oczy mają bardzo dość więc chyba idę się położyć na 2/3 godziny\"])"
      ],
      "execution_count": 14,
      "outputs": [
        {
          "output_type": "stream",
          "text": [
            "Tokenization completed!\n"
          ],
          "name": "stdout"
        },
        {
          "output_type": "stream",
          "text": [
            "100%|██████████| 1/1 [00:00<00:00,  8.78it/s]\n"
          ],
          "name": "stderr"
        },
        {
          "output_type": "execute_result",
          "data": {
            "text/plain": [
              "[{'diagnosis': 'Alergia',\n",
              "  'distance': 0.8556728,\n",
              "  'query': 'Moje oczy mają bardzo dość więc chyba idę się położyć na 2/3 godziny'}]"
            ]
          },
          "metadata": {
            "tags": []
          },
          "execution_count": 14
        }
      ]
    },
    {
      "cell_type": "code",
      "metadata": {
        "id": "KXtry2CzOwZU"
      },
      "source": [
        ""
      ],
      "execution_count": null,
      "outputs": []
    }
  ]
}