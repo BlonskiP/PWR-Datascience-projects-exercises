{
  "nbformat": 4,
  "nbformat_minor": 0,
  "metadata": {
    "colab": {
      "name": "Embedding worker notebook",
      "provenance": [],
      "collapsed_sections": []
    },
    "kernelspec": {
      "name": "python3",
      "display_name": "Python 3"
    },
    "accelerator": "GPU"
  },
  "cells": [
    {
      "cell_type": "code",
      "metadata": {
        "colab": {
          "base_uri": "https://localhost:8080/"
        },
        "id": "MzMGqU46i6Fu",
        "outputId": "17241cf9-2afe-4e8b-b7d1-3c6190ce37ec"
      },
      "source": [
        "!nvidia-smi"
      ],
      "execution_count": 1,
      "outputs": [
        {
          "output_type": "stream",
          "text": [
            "Sun Jan 24 14:29:22 2021       \n",
            "+-----------------------------------------------------------------------------+\n",
            "| NVIDIA-SMI 460.32.03    Driver Version: 418.67       CUDA Version: 10.1     |\n",
            "|-------------------------------+----------------------+----------------------+\n",
            "| GPU  Name        Persistence-M| Bus-Id        Disp.A | Volatile Uncorr. ECC |\n",
            "| Fan  Temp  Perf  Pwr:Usage/Cap|         Memory-Usage | GPU-Util  Compute M. |\n",
            "|                               |                      |               MIG M. |\n",
            "|===============================+======================+======================|\n",
            "|   0  Tesla K80           Off  | 00000000:00:04.0 Off |                    0 |\n",
            "| N/A   50C    P8    30W / 149W |      0MiB / 11441MiB |      0%      Default |\n",
            "|                               |                      |                 ERR! |\n",
            "+-------------------------------+----------------------+----------------------+\n",
            "                                                                               \n",
            "+-----------------------------------------------------------------------------+\n",
            "| Processes:                                                                  |\n",
            "|  GPU   GI   CI        PID   Type   Process name                  GPU Memory |\n",
            "|        ID   ID                                                   Usage      |\n",
            "|=============================================================================|\n",
            "|  No running processes found                                                 |\n",
            "+-----------------------------------------------------------------------------+\n"
          ],
          "name": "stdout"
        }
      ]
    },
    {
      "cell_type": "markdown",
      "metadata": {
        "id": "yAEAdtcrjUsu"
      },
      "source": [
        "# Prepare colab environment"
      ]
    },
    {
      "cell_type": "code",
      "metadata": {
        "colab": {
          "base_uri": "https://localhost:8080/"
        },
        "id": "X7DmhEesjMKs",
        "outputId": "1044dbce-d15e-4b9d-b810-2889d0a2854b"
      },
      "source": [
        "!cd /content && export CREDENTIALS=`cat credentials.txt` && git clone https://$CREDENTIALS@github.com/SMAPWr/project-medical_sma"
      ],
      "execution_count": 2,
      "outputs": [
        {
          "output_type": "stream",
          "text": [
            "Cloning into 'project-medical_sma'...\n",
            "remote: Enumerating objects: 96, done.\u001b[K\n",
            "remote: Counting objects: 100% (96/96), done.\u001b[K\n",
            "remote: Compressing objects: 100% (70/70), done.\u001b[K\n",
            "remote: Total 595 (delta 62), reused 52 (delta 26), pack-reused 499\u001b[K\n",
            "Receiving objects: 100% (595/595), 14.86 MiB | 7.91 MiB/s, done.\n",
            "Resolving deltas: 100% (343/343), done.\n"
          ],
          "name": "stdout"
        }
      ]
    },
    {
      "cell_type": "code",
      "metadata": {
        "colab": {
          "base_uri": "https://localhost:8080/"
        },
        "id": "M4iFziv1jYFw",
        "outputId": "719962bc-a74b-437f-de2b-a09a8bcdeb44"
      },
      "source": [
        "!cd /content/project-medical_sma/ && git pull"
      ],
      "execution_count": 3,
      "outputs": [
        {
          "output_type": "stream",
          "text": [
            "Already up to date.\n"
          ],
          "name": "stdout"
        }
      ]
    },
    {
      "cell_type": "code",
      "metadata": {
        "colab": {
          "base_uri": "https://localhost:8080/"
        },
        "id": "dYivSi2njwum",
        "outputId": "bf4e03db-6ce2-4ddf-d8f4-051a81cda715"
      },
      "source": [
        "from google.colab import drive\r\n",
        "drive.mount('/content/drive')"
      ],
      "execution_count": 4,
      "outputs": [
        {
          "output_type": "stream",
          "text": [
            "Mounted at /content/drive\n"
          ],
          "name": "stdout"
        }
      ]
    },
    {
      "cell_type": "code",
      "metadata": {
        "colab": {
          "base_uri": "https://localhost:8080/"
        },
        "id": "D-VaXiiDjz1V",
        "outputId": "d9320ecf-43ff-4e5f-bf4f-b002aa91a3ca"
      },
      "source": [
        "import sys, os\r\n",
        "os.chdir('/content/project-medical_sma')\r\n",
        "print(os.getcwd())\r\n",
        "if os.getcwd() not in sys.path:\r\n",
        "  sys.path.insert(0, os.getcwd())\r\n",
        "  sys.path.insert(0, os.getcwd() + \"/scraper/src\")\r\n",
        "print(sys.path)"
      ],
      "execution_count": 5,
      "outputs": [
        {
          "output_type": "stream",
          "text": [
            "/content/project-medical_sma\n",
            "['/content/project-medical_sma/scraper/src', '/content/project-medical_sma', '', '/env/python', '/usr/lib/python36.zip', '/usr/lib/python3.6', '/usr/lib/python3.6/lib-dynload', '/usr/local/lib/python3.6/dist-packages', '/usr/lib/python3/dist-packages', '/usr/local/lib/python3.6/dist-packages/IPython/extensions', '/root/.ipython']\n"
          ],
          "name": "stdout"
        }
      ]
    },
    {
      "cell_type": "code",
      "metadata": {
        "colab": {
          "base_uri": "https://localhost:8080/"
        },
        "id": "MRt0oVYEkJyW",
        "outputId": "6060fff6-407b-4039-aa7b-02a52e4a410d"
      },
      "source": [
        "!unzip /content/drive/MyDrive/colab-data/sma-medical/dr_herbert/dr_herbert_complete-20210119T154825Z-001.zip -d /content/project-medical_sma"
      ],
      "execution_count": 6,
      "outputs": [
        {
          "output_type": "stream",
          "text": [
            "Archive:  /content/drive/MyDrive/colab-data/sma-medical/dr_herbert/dr_herbert_complete-20210119T154825Z-001.zip\n",
            "  inflating: /content/project-medical_sma/dr_herbert_complete/special_tokens_map.json  \n",
            "  inflating: /content/project-medical_sma/dr_herbert_complete/config.json  \n",
            "  inflating: /content/project-medical_sma/dr_herbert_complete/tokenizer_config.json  \n",
            "  inflating: /content/project-medical_sma/dr_herbert_complete/training_args.bin  \n",
            "  inflating: /content/project-medical_sma/dr_herbert_complete/trainer_state.json  \n",
            "  inflating: /content/project-medical_sma/dr_herbert_complete/train_results.txt  \n",
            "  inflating: /content/project-medical_sma/dr_herbert_complete/merges.txt  \n",
            "  inflating: /content/project-medical_sma/dr_herbert_complete/vocab.json  \n",
            "  inflating: /content/project-medical_sma/dr_herbert_complete/pytorch_model.bin  \n"
          ],
          "name": "stdout"
        }
      ]
    },
    {
      "cell_type": "code",
      "metadata": {
        "colab": {
          "base_uri": "https://localhost:8080/"
        },
        "id": "ATzTSbwYunw9",
        "outputId": "b3f3e921-2ff1-4ffc-efc1-e86cd250460a"
      },
      "source": [
        "!ls /content/drive/MyDrive/colab-data/sma-medical"
      ],
      "execution_count": 7,
      "outputs": [
        {
          "output_type": "stream",
          "text": [
            " All-in_one.npz\t\t\t\t    dr_herbert_saved_models\n",
            " checkpoints\t\t\t\t    medical_twiteer_embeddings_166.npz\n",
            " dr_herbert\t\t\t\t    medical_twiteer_embeddings.npz\n",
            " dr_herbert_complete_Twitter_end_200.npz   'tweeter dump'\n",
            " dr_herbert_complete_znany_lekarz_200.npz   znany_lekarz_2k_embeddings.npz\n"
          ],
          "name": "stdout"
        }
      ]
    },
    {
      "cell_type": "code",
      "metadata": {
        "colab": {
          "base_uri": "https://localhost:8080/"
        },
        "id": "M3ZF0ojDktrt",
        "outputId": "e256e4c5-5700-4182-9a80-7a5d37260614"
      },
      "source": [
        "!du -hs dr_herbert_complete"
      ],
      "execution_count": 8,
      "outputs": [
        {
          "output_type": "stream",
          "text": [
            "477M\tdr_herbert_complete\n"
          ],
          "name": "stdout"
        }
      ]
    },
    {
      "cell_type": "code",
      "metadata": {
        "colab": {
          "base_uri": "https://localhost:8080/"
        },
        "id": "fs4MoXmenbYR",
        "outputId": "cf595c12-6370-4325-86cb-65736d242074"
      },
      "source": [
        "!pip install transformers demoji"
      ],
      "execution_count": 9,
      "outputs": [
        {
          "output_type": "stream",
          "text": [
            "Collecting transformers\n",
            "\u001b[?25l  Downloading https://files.pythonhosted.org/packages/88/b1/41130a228dd656a1a31ba281598a968320283f48d42782845f6ba567f00b/transformers-4.2.2-py3-none-any.whl (1.8MB)\n",
            "\u001b[K     |████████████████████████████████| 1.8MB 6.0MB/s \n",
            "\u001b[?25hCollecting demoji\n",
            "  Downloading https://files.pythonhosted.org/packages/88/6a/34379abe01c9c36fe9fddc4181dd935332e7d0159ec3fae76f712e49bcea/demoji-0.4.0-py2.py3-none-any.whl\n",
            "Requirement already satisfied: regex!=2019.12.17 in /usr/local/lib/python3.6/dist-packages (from transformers) (2019.12.20)\n",
            "Requirement already satisfied: numpy in /usr/local/lib/python3.6/dist-packages (from transformers) (1.19.5)\n",
            "Requirement already satisfied: requests in /usr/local/lib/python3.6/dist-packages (from transformers) (2.23.0)\n",
            "Requirement already satisfied: tqdm>=4.27 in /usr/local/lib/python3.6/dist-packages (from transformers) (4.41.1)\n",
            "Requirement already satisfied: dataclasses; python_version < \"3.7\" in /usr/local/lib/python3.6/dist-packages (from transformers) (0.8)\n",
            "Collecting tokenizers==0.9.4\n",
            "\u001b[?25l  Downloading https://files.pythonhosted.org/packages/0f/1c/e789a8b12e28be5bc1ce2156cf87cb522b379be9cadc7ad8091a4cc107c4/tokenizers-0.9.4-cp36-cp36m-manylinux2010_x86_64.whl (2.9MB)\n",
            "\u001b[K     |████████████████████████████████| 2.9MB 40.8MB/s \n",
            "\u001b[?25hRequirement already satisfied: importlib-metadata; python_version < \"3.8\" in /usr/local/lib/python3.6/dist-packages (from transformers) (3.3.0)\n",
            "Requirement already satisfied: packaging in /usr/local/lib/python3.6/dist-packages (from transformers) (20.8)\n",
            "Requirement already satisfied: filelock in /usr/local/lib/python3.6/dist-packages (from transformers) (3.0.12)\n",
            "Collecting sacremoses\n",
            "\u001b[?25l  Downloading https://files.pythonhosted.org/packages/7d/34/09d19aff26edcc8eb2a01bed8e98f13a1537005d31e95233fd48216eed10/sacremoses-0.0.43.tar.gz (883kB)\n",
            "\u001b[K     |████████████████████████████████| 890kB 42.6MB/s \n",
            "\u001b[?25hCollecting colorama\n",
            "  Downloading https://files.pythonhosted.org/packages/44/98/5b86278fbbf250d239ae0ecb724f8572af1c91f4a11edf4d36a206189440/colorama-0.4.4-py2.py3-none-any.whl\n",
            "Requirement already satisfied: certifi>=2017.4.17 in /usr/local/lib/python3.6/dist-packages (from requests->transformers) (2020.12.5)\n",
            "Requirement already satisfied: urllib3!=1.25.0,!=1.25.1,<1.26,>=1.21.1 in /usr/local/lib/python3.6/dist-packages (from requests->transformers) (1.24.3)\n",
            "Requirement already satisfied: chardet<4,>=3.0.2 in /usr/local/lib/python3.6/dist-packages (from requests->transformers) (3.0.4)\n",
            "Requirement already satisfied: idna<3,>=2.5 in /usr/local/lib/python3.6/dist-packages (from requests->transformers) (2.10)\n",
            "Requirement already satisfied: typing-extensions>=3.6.4; python_version < \"3.8\" in /usr/local/lib/python3.6/dist-packages (from importlib-metadata; python_version < \"3.8\"->transformers) (3.7.4.3)\n",
            "Requirement already satisfied: zipp>=0.5 in /usr/local/lib/python3.6/dist-packages (from importlib-metadata; python_version < \"3.8\"->transformers) (3.4.0)\n",
            "Requirement already satisfied: pyparsing>=2.0.2 in /usr/local/lib/python3.6/dist-packages (from packaging->transformers) (2.4.7)\n",
            "Requirement already satisfied: six in /usr/local/lib/python3.6/dist-packages (from sacremoses->transformers) (1.15.0)\n",
            "Requirement already satisfied: click in /usr/local/lib/python3.6/dist-packages (from sacremoses->transformers) (7.1.2)\n",
            "Requirement already satisfied: joblib in /usr/local/lib/python3.6/dist-packages (from sacremoses->transformers) (1.0.0)\n",
            "Building wheels for collected packages: sacremoses\n",
            "  Building wheel for sacremoses (setup.py) ... \u001b[?25l\u001b[?25hdone\n",
            "  Created wheel for sacremoses: filename=sacremoses-0.0.43-cp36-none-any.whl size=893261 sha256=d46cf1f5a2326ae5af3474562cc354daa9d1319dce6960dc2bd01e8ce2920890\n",
            "  Stored in directory: /root/.cache/pip/wheels/29/3c/fd/7ce5c3f0666dab31a50123635e6fb5e19ceb42ce38d4e58f45\n",
            "Successfully built sacremoses\n",
            "Installing collected packages: tokenizers, sacremoses, transformers, colorama, demoji\n",
            "Successfully installed colorama-0.4.4 demoji-0.4.0 sacremoses-0.0.43 tokenizers-0.9.4 transformers-4.2.2\n"
          ],
          "name": "stdout"
        }
      ]
    },
    {
      "cell_type": "code",
      "metadata": {
        "id": "Dv3BRr6i5tuC"
      },
      "source": [
        "!grep datetime scraper/src/gpu_clf.py"
      ],
      "execution_count": null,
      "outputs": []
    },
    {
      "cell_type": "code",
      "metadata": {
        "colab": {
          "base_uri": "https://localhost:8080/"
        },
        "id": "gVVkAeCalPHk",
        "outputId": "5e475983-5f6a-49db-b317-9f5a0ceb76d2"
      },
      "source": [
        "%%shell\r\n",
        "export PYTHONPATH=\"$(pwd):$(pwd)/scraper/src\"\r\n",
        "export ML_EMBEDDING_MODEL_PATH=/content/project-medical_sma/dr_herbert_complete\r\n",
        "export ML_CLF_MODEL_PATH=/content/drive/MyDrive/colab-data/sma-medical/dr_herbert_saved_models/model-LSTM-50-save\r\n",
        "export ML_CUDA=1\r\n",
        "echo $PYTHONPATH\r\n",
        "export MONGO_CREDENTIALS=`cat /content/mongo_credentials.txt`\r\n",
        "python scraper/src/gpu_clf.py --gpu-batch 32 --save-batch 1000 \"mongodb://$MONGO_CREDENTIALS\""
      ],
      "execution_count": null,
      "outputs": [
        {
          "output_type": "stream",
          "text": [
            "/content/project-medical_sma:/content/project-medical_sma/scraper/src\n",
            "2021-01-24 14:53:49.052460: I tensorflow/stream_executor/platform/default/dso_loader.cc:49] Successfully opened dynamic library libcudart.so.10.1\n",
            "\u001b[33mDownloading emoji data ...\u001b[0m\n",
            "\u001b[32m... OK\u001b[0m (Got response in 0.51 seconds)\n",
            "\u001b[33mWriting emoji data to /root/.demoji/codes.json ...\u001b[0m\n",
            "\u001b[32m... OK\u001b[0m\n",
            "2021-01-24 14:53:53,352 [ml          ] INFO     ML logger init\n",
            "2021-01-24 14:53:59.153637: I tensorflow/compiler/jit/xla_cpu_device.cc:41] Not creating XLA devices, tf_xla_enable_xla_devices not set\n",
            "2021-01-24 14:53:59.154831: I tensorflow/stream_executor/platform/default/dso_loader.cc:49] Successfully opened dynamic library libcuda.so.1\n",
            "2021-01-24 14:53:59.171137: I tensorflow/stream_executor/cuda/cuda_gpu_executor.cc:941] successful NUMA node read from SysFS had negative value (-1), but there must be at least one NUMA node, so returning NUMA node zero\n",
            "2021-01-24 14:53:59.171917: I tensorflow/core/common_runtime/gpu/gpu_device.cc:1720] Found device 0 with properties: \n",
            "pciBusID: 0000:00:04.0 name: Tesla K80 computeCapability: 3.7\n",
            "coreClock: 0.8235GHz coreCount: 13 deviceMemorySize: 11.17GiB deviceMemoryBandwidth: 223.96GiB/s\n",
            "2021-01-24 14:53:59.171988: I tensorflow/stream_executor/platform/default/dso_loader.cc:49] Successfully opened dynamic library libcudart.so.10.1\n",
            "2021-01-24 14:53:59.174113: I tensorflow/stream_executor/platform/default/dso_loader.cc:49] Successfully opened dynamic library libcublas.so.10\n",
            "2021-01-24 14:53:59.174194: I tensorflow/stream_executor/platform/default/dso_loader.cc:49] Successfully opened dynamic library libcublasLt.so.10\n",
            "2021-01-24 14:53:59.175795: I tensorflow/stream_executor/platform/default/dso_loader.cc:49] Successfully opened dynamic library libcufft.so.10\n",
            "2021-01-24 14:53:59.176208: I tensorflow/stream_executor/platform/default/dso_loader.cc:49] Successfully opened dynamic library libcurand.so.10\n",
            "2021-01-24 14:53:59.178271: I tensorflow/stream_executor/platform/default/dso_loader.cc:49] Successfully opened dynamic library libcusolver.so.10\n",
            "2021-01-24 14:53:59.179366: I tensorflow/stream_executor/platform/default/dso_loader.cc:49] Successfully opened dynamic library libcusparse.so.10\n",
            "2021-01-24 14:53:59.183415: I tensorflow/stream_executor/platform/default/dso_loader.cc:49] Successfully opened dynamic library libcudnn.so.7\n",
            "2021-01-24 14:53:59.183530: I tensorflow/stream_executor/cuda/cuda_gpu_executor.cc:941] successful NUMA node read from SysFS had negative value (-1), but there must be at least one NUMA node, so returning NUMA node zero\n",
            "2021-01-24 14:53:59.184276: I tensorflow/stream_executor/cuda/cuda_gpu_executor.cc:941] successful NUMA node read from SysFS had negative value (-1), but there must be at least one NUMA node, so returning NUMA node zero\n",
            "2021-01-24 14:53:59.185024: I tensorflow/core/common_runtime/gpu/gpu_device.cc:1862] Adding visible gpu devices: 0\n",
            "2021-01-24 14:53:59.185610: I tensorflow/compiler/jit/xla_gpu_device.cc:99] Not creating XLA devices, tf_xla_enable_xla_devices not set\n",
            "2021-01-24 14:53:59.185746: I tensorflow/stream_executor/cuda/cuda_gpu_executor.cc:941] successful NUMA node read from SysFS had negative value (-1), but there must be at least one NUMA node, so returning NUMA node zero\n",
            "2021-01-24 14:53:59.186467: I tensorflow/core/common_runtime/gpu/gpu_device.cc:1720] Found device 0 with properties: \n",
            "pciBusID: 0000:00:04.0 name: Tesla K80 computeCapability: 3.7\n",
            "coreClock: 0.8235GHz coreCount: 13 deviceMemorySize: 11.17GiB deviceMemoryBandwidth: 223.96GiB/s\n",
            "2021-01-24 14:53:59.186522: I tensorflow/stream_executor/platform/default/dso_loader.cc:49] Successfully opened dynamic library libcudart.so.10.1\n",
            "2021-01-24 14:53:59.186574: I tensorflow/stream_executor/platform/default/dso_loader.cc:49] Successfully opened dynamic library libcublas.so.10\n",
            "2021-01-24 14:53:59.186616: I tensorflow/stream_executor/platform/default/dso_loader.cc:49] Successfully opened dynamic library libcublasLt.so.10\n",
            "2021-01-24 14:53:59.186678: I tensorflow/stream_executor/platform/default/dso_loader.cc:49] Successfully opened dynamic library libcufft.so.10\n",
            "2021-01-24 14:53:59.186727: I tensorflow/stream_executor/platform/default/dso_loader.cc:49] Successfully opened dynamic library libcurand.so.10\n",
            "2021-01-24 14:53:59.186786: I tensorflow/stream_executor/platform/default/dso_loader.cc:49] Successfully opened dynamic library libcusolver.so.10\n",
            "2021-01-24 14:53:59.186834: I tensorflow/stream_executor/platform/default/dso_loader.cc:49] Successfully opened dynamic library libcusparse.so.10\n",
            "2021-01-24 14:53:59.186877: I tensorflow/stream_executor/platform/default/dso_loader.cc:49] Successfully opened dynamic library libcudnn.so.7\n",
            "2021-01-24 14:53:59.186974: I tensorflow/stream_executor/cuda/cuda_gpu_executor.cc:941] successful NUMA node read from SysFS had negative value (-1), but there must be at least one NUMA node, so returning NUMA node zero\n",
            "2021-01-24 14:53:59.187697: I tensorflow/stream_executor/cuda/cuda_gpu_executor.cc:941] successful NUMA node read from SysFS had negative value (-1), but there must be at least one NUMA node, so returning NUMA node zero\n",
            "2021-01-24 14:53:59.188367: I tensorflow/core/common_runtime/gpu/gpu_device.cc:1862] Adding visible gpu devices: 0\n",
            "2021-01-24 14:53:59.188419: I tensorflow/stream_executor/platform/default/dso_loader.cc:49] Successfully opened dynamic library libcudart.so.10.1\n",
            "2021-01-24 14:53:59.720220: I tensorflow/core/common_runtime/gpu/gpu_device.cc:1261] Device interconnect StreamExecutor with strength 1 edge matrix:\n",
            "2021-01-24 14:53:59.720297: I tensorflow/core/common_runtime/gpu/gpu_device.cc:1267]      0 \n",
            "2021-01-24 14:53:59.720325: I tensorflow/core/common_runtime/gpu/gpu_device.cc:1280] 0:   N \n",
            "2021-01-24 14:53:59.720579: I tensorflow/stream_executor/cuda/cuda_gpu_executor.cc:941] successful NUMA node read from SysFS had negative value (-1), but there must be at least one NUMA node, so returning NUMA node zero\n",
            "2021-01-24 14:53:59.721395: I tensorflow/stream_executor/cuda/cuda_gpu_executor.cc:941] successful NUMA node read from SysFS had negative value (-1), but there must be at least one NUMA node, so returning NUMA node zero\n",
            "2021-01-24 14:53:59.722156: I tensorflow/stream_executor/cuda/cuda_gpu_executor.cc:941] successful NUMA node read from SysFS had negative value (-1), but there must be at least one NUMA node, so returning NUMA node zero\n",
            "2021-01-24 14:53:59.722850: W tensorflow/core/common_runtime/gpu/gpu_bfc_allocator.cc:39] Overriding allow_growth setting because the TF_FORCE_GPU_ALLOW_GROWTH environment variable is set. Original config value was 0.\n",
            "2021-01-24 14:53:59.722916: I tensorflow/core/common_runtime/gpu/gpu_device.cc:1406] Created TensorFlow device (/job:localhost/replica:0/task:0/device:GPU:0 with 10629 MB memory) -> physical GPU (device: 0, name: Tesla K80, pci bus id: 0000:00:04.0, compute capability: 3.7)\n",
            "  0% 0/21408 [00:00<?, ?it/s]2021-01-24 14:54:08,772 [ml          ] INFO     Purifing 1000 sacret texts...\n",
            "2021-01-24 14:54:09,328 [ml          ] INFO     Embeddings for 1000 sacret texts...\n",
            "Tokenization completed!\n",
            "\n",
            "  0% 0/32 [00:00<?, ?it/s]\u001b[A\n",
            "  3% 1/32 [00:01<00:53,  1.72s/it]\u001b[A\n",
            "  6% 2/32 [00:03<00:51,  1.71s/it]\u001b[A\n",
            "  9% 3/32 [00:05<00:49,  1.70s/it]\u001b[A\n",
            " 12% 4/32 [00:06<00:47,  1.70s/it]\u001b[A\n",
            " 16% 5/32 [00:08<00:45,  1.69s/it]\u001b[A\n",
            " 19% 6/32 [00:10<00:43,  1.69s/it]\u001b[A\n",
            " 22% 7/32 [00:11<00:42,  1.69s/it]\u001b[A\n",
            " 25% 8/32 [00:13<00:40,  1.69s/it]\u001b[A\n",
            " 28% 9/32 [00:15<00:39,  1.70s/it]\u001b[A\n",
            " 31% 10/32 [00:16<00:37,  1.70s/it]\u001b[A\n",
            " 34% 11/32 [00:18<00:35,  1.70s/it]\u001b[A\n",
            " 38% 12/32 [00:20<00:33,  1.70s/it]\u001b[A\n",
            " 41% 13/32 [00:22<00:32,  1.70s/it]\u001b[A\n",
            " 44% 14/32 [00:23<00:30,  1.69s/it]\u001b[A\n",
            " 47% 15/32 [00:25<00:28,  1.69s/it]\u001b[A\n",
            " 50% 16/32 [00:27<00:27,  1.69s/it]\u001b[A\n",
            " 53% 17/32 [00:28<00:25,  1.69s/it]\u001b[A\n",
            " 56% 18/32 [00:30<00:23,  1.69s/it]\u001b[A\n",
            " 59% 19/32 [00:32<00:22,  1.70s/it]\u001b[A\n",
            " 62% 20/32 [00:33<00:20,  1.70s/it]\u001b[A\n",
            " 66% 21/32 [00:35<00:18,  1.70s/it]\u001b[A\n",
            " 69% 22/32 [00:37<00:17,  1.70s/it]\u001b[A\n",
            " 72% 23/32 [00:38<00:15,  1.69s/it]\u001b[A\n",
            " 75% 24/32 [00:40<00:13,  1.69s/it]\u001b[A\n",
            " 78% 25/32 [00:42<00:11,  1.69s/it]\u001b[A\n",
            " 81% 26/32 [00:44<00:10,  1.69s/it]\u001b[A\n",
            " 84% 27/32 [00:45<00:08,  1.70s/it]\u001b[A\n",
            " 88% 28/32 [00:47<00:06,  1.70s/it]\u001b[A\n",
            " 91% 29/32 [00:49<00:05,  1.70s/it]\u001b[A\n",
            " 94% 30/32 [00:50<00:03,  1.70s/it]\u001b[A\n",
            " 97% 31/32 [00:52<00:01,  1.70s/it]\u001b[A\n",
            "100% 32/32 [00:53<00:00,  1.66s/it]\n",
            "2021-01-24 14:55:05,364 [ml          ] INFO     Classification for 1000 sacret texts...\n",
            "2021-01-24 14:55:05.405580: I tensorflow/compiler/mlir/mlir_graph_optimization_pass.cc:116] None of the MLIR optimization passes are enabled (registered 2)\n",
            "2021-01-24 14:55:05.406214: I tensorflow/core/platform/profile_utils/cpu_utils.cc:112] CPU Frequency: 2199995000 Hz\n",
            "  5% 1000/21408 [04:06<1:23:45,  4.06it/s]2021-01-24 14:58:15,114 [ml          ] INFO     Purifing 1000 sacret texts...\n",
            "2021-01-24 14:58:15,641 [ml          ] INFO     Embeddings for 1000 sacret texts...\n",
            "Tokenization completed!\n",
            "\n",
            "  0% 0/32 [00:00<?, ?it/s]\u001b[A\n",
            "  3% 1/32 [00:01<00:55,  1.80s/it]\u001b[A\n",
            "  6% 2/32 [00:03<00:52,  1.76s/it]\u001b[A\n",
            "  9% 3/32 [00:05<00:50,  1.74s/it]\u001b[A\n",
            " 12% 4/32 [00:06<00:48,  1.72s/it]\u001b[A\n",
            " 16% 5/32 [00:08<00:46,  1.71s/it]\u001b[A\n",
            " 19% 6/32 [00:10<00:44,  1.70s/it]\u001b[A\n",
            " 22% 7/32 [00:11<00:42,  1.69s/it]\u001b[A"
          ],
          "name": "stdout"
        }
      ]
    },
    {
      "cell_type": "code",
      "metadata": {
        "id": "8pE1ILflmEXP"
      },
      "source": [
        ""
      ],
      "execution_count": 10,
      "outputs": []
    }
  ]
}