{
 "cells": [
  {
   "cell_type": "code",
   "execution_count": 151,
   "metadata": {},
   "outputs": [],
   "source": [
    "import pandas as pd\n",
    "import networkx as nx\n",
    "import random\n",
    "from itertools import groupby"
   ]
  },
  {
   "cell_type": "code",
   "execution_count": 152,
   "metadata": {},
   "outputs": [],
   "source": [
    "\"\"\"Read graph from csv file\"\"\"\n",
    "goit = pd.read_csv(\"./GOIT.csv\", sep=\",\", header=None, names=['source', 'target','relation'])\n",
    "G = nx.from_pandas_edgelist(goit)"
   ]
  },
  {
   "cell_type": "code",
   "execution_count": 153,
   "metadata": {},
   "outputs": [
    {
     "name": "stdout",
     "output_type": "stream",
     "text": [
      "{'LYANNA STARK', 'ROBBYRT TULLY', 'SHAERA TARGARYEN', 'ALYS ARRYN', 'EDMURE TULLY', 'MARTYN LANNISTER', 'JAEHAERYS TARGARYEN', 'CASSANA ESTERMONT', 'LUTHOR TYRELL', 'CATELYN TULLY', 'MARON GREYJOY', 'ARYA STARK', 'DAENERYS TARGARYEN', 'DORNA LANNISTER', 'AERON GREYJOY', 'DORAN MARTELL', 'RHAELLA TARGARYEN', 'ALANNYS HARLAW', 'STANNIS BARATHEON', 'AEGON TARGARYEN', 'JAIME LANNISTER', 'DUNCAN TARGARYEN', 'LORAS TYRELL', 'ALERIE HIGHTOWER', 'CERSEI LANNISTER', 'GARLAN TYRELL', 'BRANDON STARK', 'RODRIK GREYJOY', 'RICKON STARK', 'RHAEGAR TARGARYEN', 'AERYS TARGARYEN', 'MARGAERY TYRELL', 'ROBERT BARATHEON', 'TYWIN LANNISTER', 'MYRCELLA BARATHEON', 'MACE TYRELL', 'JOANNA LANNISTER', 'JASPER ARRYN', 'STEFFON BARATHEON', 'LANCEL LANNISTER', 'ROBB STARK', 'BALON GREYJOY', 'THEON GREYJOY', 'LYSA TULLY', 'KEVAN LANNISTER', 'EDDARD STARK', 'SANSA STARK', 'BENJEN STARK', 'RENLY BARATHEON', 'JOFFREY BARATHEON', 'MELLARIO OF NORVOS', 'VISERYS TARGARYEN', 'LEWYN MARTELL', 'HOSTER TULLY', 'JON ARRYN', 'BRAN STARK', 'ELIA MARTELL', 'BRYNDEN TULLY', 'EURON GREYJOY', 'JANNA TYRELL', 'TYRION LANNISTER', 'DAERON TARGARYEN', 'RHAELLE TARGARYEN'}\n"
     ]
    }
   ],
   "source": [
    "\"\"\"Create set of distinct characters\"\"\"\n",
    "dist_edges = set()\n",
    "edges = list(nx.edges(G))[1:]\n",
    "for e in edges:\n",
    "    dist_edges.add(e[0])\n",
    "print(dist_edges)"
   ]
  },
  {
   "cell_type": "code",
   "execution_count": 154,
   "metadata": {},
   "outputs": [],
   "source": [
    "DG = nx.DiGraph(G)"
   ]
  },
  {
   "cell_type": "code",
   "execution_count": 160,
   "metadata": {},
   "outputs": [
    {
     "name": "stdout",
     "output_type": "stream",
     "text": [
      "Max degree 10 for CATELYN TULLY\n"
     ]
    }
   ],
   "source": [
    "\"\"\"Max degree\"\"\"\n",
    "max = 0\n",
    "max_egde = ''\n",
    "for e in dist_edges:\n",
    "    if G.degree[e] > max:\n",
    "        max = G.degree[e]\n",
    "        max_egde = e\n",
    "        \n",
    "print('Max degree {} for {}'.format(max, max_egde))\n"
   ]
  },
  {
   "cell_type": "code",
   "execution_count": 156,
   "metadata": {},
   "outputs": [],
   "source": [
    "\"\"\"Remove GREYJOY Family to count the longest path\"\"\"\n",
    "dist_edges.remove('EURON GREYJOY')\n",
    "dist_edges.remove('MARON GREYJOY')\n",
    "dist_edges.remove('AERON GREYJOY')\n",
    "dist_edges.remove('ALANNYS HARLAW')\n",
    "dist_edges.remove('RODRIK GREYJOY')\n",
    "dist_edges.remove('BALON GREYJOY')\n",
    "dist_edges.remove('THEON GREYJOY')\n"
   ]
  },
  {
   "cell_type": "code",
   "execution_count": 157,
   "metadata": {},
   "outputs": [
    {
     "name": "stdout",
     "output_type": "stream",
     "text": [
      "The longest path 13 between MELLARIO OF NORVOS and LUTHOR TYRELL \n"
     ]
    }
   ],
   "source": [
    "\"\"\"The longest path\"\"\"\n",
    "max_e = 0\n",
    "max_source = ''\n",
    "max_target = ''\n",
    "\n",
    "for edge in dist_edges: \n",
    "    for edge_ in dist_edges:\n",
    "        if nx.shortest_path_length(G,edge_,edge) != None:\n",
    "            if nx.shortest_path_length(G,edge_,edge) > max_e:\n",
    "                max_e = nx.shortest_path_length(G,edge_,edge)\n",
    "                max_source = edge_\n",
    "                max_target = edge\n",
    "print('The longest path {} between {} and {} '.format(max_e,max_source,max_target))\n"
   ]
  },
  {
   "cell_type": "code",
   "execution_count": 185,
   "metadata": {},
   "outputs": [
    {
     "data": {
      "text/plain": [
       "6"
      ]
     },
     "execution_count": 185,
     "metadata": {},
     "output_type": "execute_result"
    }
   ],
   "source": [
    "\"\"\"Degree\"\"\"\n",
    "x = nx.degree(G)\n",
    "#x['ROBB STARK']\n",
    "#x['ROBERT BARATHEON']\n",
    "#x['SANSA STARK']\n",
    "#x['JON SNOW']\n",
    "#x['TYRION LANNISTER']\n",
    "#x['CERSEI LANNISTER']\n",
    "#x['DAENERYS TARGARYEN']\n",
    "x['ARYA STARK']"
   ]
  },
  {
   "cell_type": "code",
   "execution_count": 186,
   "metadata": {},
   "outputs": [
    {
     "data": {
      "text/plain": [
       "0.18948096885813148"
      ]
     },
     "execution_count": 186,
     "metadata": {},
     "output_type": "execute_result"
    }
   ],
   "source": [
    "\"\"\"Closeness\"\"\"\n",
    "x = nx.closeness_centrality(G)\n",
    "#x['ROBB STARK']\n",
    "#x['ROBERT BARATHEON']\n",
    "#x['SANSA STARK']\n",
    "#x['JON SNOW']\n",
    "#x['TYRION LANNISTER']\n",
    "#x['CERSEI LANNISTER']\n",
    "#x['DAENERYS TARGARYEN']\n",
    "x['ARYA STARK']"
   ]
  },
  {
   "cell_type": "code",
   "execution_count": 197,
   "metadata": {},
   "outputs": [
    {
     "data": {
      "text/plain": [
       "0.0"
      ]
     },
     "execution_count": 197,
     "metadata": {},
     "output_type": "execute_result"
    }
   ],
   "source": [
    "\"\"\"Betweenness\"\"\"\n",
    "x = nx.betweenness_centrality(G)\n",
    "#x['ROBB STARK']\n",
    "#x['ROBERT BARATHEON']\n",
    "#x['SANSA STARK']\n",
    "#x['JON SNOW']\n",
    "#x['TYRION LANNISTER']\n",
    "#x['CERSEI LANNISTER']\n",
    "#x['DAENERYS TARGARYEN']\n",
    "x['ARYA STARK']"
   ]
  },
  {
   "cell_type": "code",
   "execution_count": 200,
   "metadata": {},
   "outputs": [
    {
     "data": {
      "text/plain": [
       "0.012022500394113228"
      ]
     },
     "execution_count": 200,
     "metadata": {},
     "output_type": "execute_result"
    }
   ],
   "source": [
    "\"\"\"PageRank\"\"\"\n",
    "x = nx.pagerank(G)\n",
    "#x['ROBB STARK']\n",
    "#x['ROBERT BARATHEON']\n",
    "#x['SANSA STARK']\n",
    "#x['JON SNOW']\n",
    "#x['TYRION LANNISTER']\n",
    "#x['CERSEI LANNISTER']\n",
    "#x['DAENERYS TARGARYEN']\n",
    "x['ARYA STARK']"
   ]
  }
 ],
 "metadata": {
  "kernelspec": {
   "display_name": "Python 3",
   "language": "python",
   "name": "python3"
  },
  "language_info": {
   "codemirror_mode": {
    "name": "ipython",
    "version": 3
   },
   "file_extension": ".py",
   "mimetype": "text/x-python",
   "name": "python",
   "nbconvert_exporter": "python",
   "pygments_lexer": "ipython3",
   "version": "3.7.5"
  }
 },
 "nbformat": 4,
 "nbformat_minor": 4
}
