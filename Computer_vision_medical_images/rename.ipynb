{
 "cells": [
  {
   "cell_type": "code",
   "execution_count": null,
   "metadata": {},
   "outputs": [],
   "source": [
    "import os\n",
    "from tqdm import tqdm\n",
    "data_path = \".data/cortical_lesion/\""
   ]
  },
  {
   "cell_type": "code",
   "execution_count": 6,
   "metadata": {},
   "outputs": [
    {
     "name": "stderr",
     "output_type": "stream",
     "text": [
      "0it [00:00, ?it/s]\n"
     ]
    }
   ],
   "source": [
    "for (root,dirs,files) in tqdm(os.walk(data_path, topdown=True)):\n",
    "    for filename in files:\n",
    "        path = os.path.join(root, filename)\n",
    "        print(path)\n",
    "        if filename.endswith('.bmp'):\n",
    "            src = path\n",
    "            patient = path.split('\\\\')[0].split('/')[-1]\n",
    "            new_filename = patient+'.'+filename\n",
    "            print(new_filename)\n",
    "            new_path = os.path.join(root,new_filename)\n",
    "            print(new_path)\n",
    "            os.rename(src,new_path)\n",
    "        else:\n",
    "            os.remove(path)"
   ]
  },
  {
   "cell_type": "code",
   "execution_count": null,
   "metadata": {},
   "outputs": [],
   "source": []
  },
  {
   "cell_type": "code",
   "execution_count": null,
   "metadata": {},
   "outputs": [],
   "source": []
  }
 ],
 "metadata": {
  "kernelspec": {
   "display_name": "Python 3",
   "language": "python",
   "name": "python3"
  },
  "language_info": {
   "codemirror_mode": {
    "name": "ipython",
    "version": 3
   },
   "file_extension": ".py",
   "mimetype": "text/x-python",
   "name": "python",
   "nbconvert_exporter": "python",
   "pygments_lexer": "ipython3",
   "version": "3.7.6"
  }
 },
 "nbformat": 4,
 "nbformat_minor": 4
}
