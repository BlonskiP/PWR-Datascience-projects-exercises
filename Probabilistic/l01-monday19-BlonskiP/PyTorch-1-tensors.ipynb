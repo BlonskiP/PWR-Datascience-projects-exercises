{
 "cells": [
  {
   "cell_type": "markdown",
   "metadata": {
    "slideshow": {
     "slide_type": "slide"
    }
   },
   "source": [
    "PyTorch\n",
    "====\n"
   ]
  },
  {
   "cell_type": "markdown",
   "metadata": {
    "slideshow": {
     "slide_type": "subslide"
    }
   },
   "source": [
    "**PyTorch** is an open source machine learning framework with two main features:\n",
    "  *  tensor computation (GPU-accelerated), *a.k.a.* a replacement for NumPy,\n",
    "  *  deep neural networks built on a tape-based autograd system.\n"
   ]
  },
  {
   "cell_type": "code",
   "execution_count": 60,
   "metadata": {
    "slideshow": {
     "slide_type": "subslide"
    }
   },
   "outputs": [],
   "source": [
    "# import the library\n",
    "import torch\n",
    "import numpy as np\n"
   ]
  },
  {
   "cell_type": "markdown",
   "metadata": {
    "slideshow": {
     "slide_type": "slide"
    }
   },
   "source": [
    "Tensors\n",
    "-----\n"
   ]
  },
  {
   "cell_type": "markdown",
   "metadata": {
    "slideshow": {
     "slide_type": "subslide"
    }
   },
   "source": [
    "`torch.Tensor` is the central class of the package. Tensors are similar to NumPy's `np.ndarray`s."
   ]
  },
  {
   "cell_type": "markdown",
   "metadata": {
    "slideshow": {
     "slide_type": "subslide"
    }
   },
   "source": [
    "###  1. Create tensors\n"
   ]
  },
  {
   "cell_type": "code",
   "execution_count": 21,
   "metadata": {
    "slideshow": {
     "slide_type": "subslide"
    }
   },
   "outputs": [
    {
     "name": "stdout",
     "output_type": "stream",
     "text": [
      "tensor([[0., 0., 0.],\n",
      "        [0., 0., 0.],\n",
      "        [0., 0., 0.],\n",
      "        [0., 0., 0.],\n",
      "        [0., 0., 0.]])\n"
     ]
    }
   ],
   "source": [
    "# construct an empty 5x3 matrix, uninitialized\n",
    "x = torch.empty(5, 3)\n",
    "print(x)\n"
   ]
  },
  {
   "cell_type": "code",
   "execution_count": 22,
   "metadata": {
    "slideshow": {
     "slide_type": "subslide"
    }
   },
   "outputs": [
    {
     "name": "stdout",
     "output_type": "stream",
     "text": [
      "tensor([[0.8653, 0.6897, 0.0229],\n",
      "        [0.9979, 0.6567, 0.9525],\n",
      "        [0.3046, 0.9542, 0.3341],\n",
      "        [0.0769, 0.9163, 0.7875],\n",
      "        [0.1992, 0.2836, 0.3276]])\n",
      "tensor([[-1.4974,  2.1544,  0.0557],\n",
      "        [-1.1442,  0.3541,  0.2077],\n",
      "        [-2.0445,  0.2598,  0.6199],\n",
      "        [ 1.0577, -1.0154, -0.5955],\n",
      "        [-0.1789, -2.0080, -0.7005]])\n"
     ]
    }
   ],
   "source": [
    "# construct a randomly initialized 5x3 matrix\n",
    "x = torch.rand(5, 3)  # uniform\n",
    "print(x)\n",
    "\n",
    "x = torch.randn(5, 3)  # normal ~ N(0, 1)\n",
    "print(x)"
   ]
  },
  {
   "cell_type": "code",
   "execution_count": 23,
   "metadata": {
    "slideshow": {
     "slide_type": "subslide"
    }
   },
   "outputs": [
    {
     "name": "stdout",
     "output_type": "stream",
     "text": [
      "tensor([[0, 0, 0],\n",
      "        [0, 0, 0],\n",
      "        [0, 0, 0],\n",
      "        [0, 0, 0],\n",
      "        [0, 0, 0]])\n"
     ]
    }
   ],
   "source": [
    "# construct a matrix filled with zeros, specify dtype as `long`\n",
    "x = torch.zeros(5, 3, dtype=torch.long)\n",
    "print(x)\n"
   ]
  },
  {
   "cell_type": "code",
   "execution_count": 24,
   "metadata": {
    "slideshow": {
     "slide_type": "subslide"
    }
   },
   "outputs": [
    {
     "name": "stdout",
     "output_type": "stream",
     "text": [
      "tensor([5.5000, 3.0000])\n"
     ]
    }
   ],
   "source": [
    "# construct a tensor from data\n",
    "x = torch.tensor([5.5, 3])  # from list\n",
    "print(x)\n"
   ]
  },
  {
   "cell_type": "code",
   "execution_count": 25,
   "metadata": {
    "slideshow": {
     "slide_type": "subslide"
    }
   },
   "outputs": [
    {
     "name": "stdout",
     "output_type": "stream",
     "text": [
      "tensor([[1, 1, 1, 1],\n",
      "        [1, 1, 1, 1],\n",
      "        [1, 1, 1, 1],\n",
      "        [1, 1, 1, 1],\n",
      "        [1, 1, 1, 1],\n",
      "        [1, 1, 1, 1],\n",
      "        [1, 1, 1, 1],\n",
      "        [1, 1, 1, 1]])\n",
      "-----\n",
      "tensor([[1, 1, 1],\n",
      "        [1, 1, 1],\n",
      "        [1, 1, 1],\n",
      "        [1, 1, 1],\n",
      "        [1, 1, 1]])\n",
      "tensor([[1, 1, 1, 1],\n",
      "        [1, 1, 1, 1],\n",
      "        [1, 1, 1, 1],\n",
      "        [1, 1, 1, 1],\n",
      "        [1, 1, 1, 1],\n",
      "        [1, 1, 1, 1],\n",
      "        [1, 1, 1, 1],\n",
      "        [1, 1, 1, 1]])\n",
      "-----\n",
      "tensor([[-0.2257,  0.6381,  0.3933, -1.8913],\n",
      "        [-0.7063,  0.8128,  0.5137, -0.6481],\n",
      "        [ 0.9507,  0.6035,  0.1347,  0.5544],\n",
      "        [ 2.3073, -0.7443,  0.1624,  0.2621],\n",
      "        [ 0.6736,  0.2323, -0.1784,  2.7506],\n",
      "        [ 0.0745,  0.4225,  1.3295, -0.2610],\n",
      "        [ 0.0169, -1.0924,  0.9874,  1.5124],\n",
      "        [ 1.2773, -0.0356, -0.7142, -1.0971]], dtype=torch.float64)\n",
      "tensor([[1, 1, 1, 1],\n",
      "        [1, 1, 1, 1],\n",
      "        [1, 1, 1, 1],\n",
      "        [1, 1, 1, 1],\n",
      "        [1, 1, 1, 1],\n",
      "        [1, 1, 1, 1],\n",
      "        [1, 1, 1, 1],\n",
      "        [1, 1, 1, 1]])\n"
     ]
    }
   ],
   "source": [
    "# create tensors based on existing tensors, reusing their parameters\n",
    "x = torch.ones(8, 4, dtype=torch.long)\n",
    "print(x)\n",
    "print('-----')\n",
    "\n",
    "# new_* methods reuse source tensor params, unless overridden\n",
    "print(x.new_ones(5, 3))\n",
    "print(x)  # not modified - new_* always copy data\n",
    "print('-----')\n",
    "\n",
    "# zeros_like, ones_like, empty_like, full_like, rand_like, randint_like, randn_like\n",
    "# create tensor of the same size, but different values\n",
    "print(torch.randn_like(x, dtype=torch.double))\n",
    "print(x)  # not modified\n"
   ]
  },
  {
   "cell_type": "markdown",
   "metadata": {
    "slideshow": {
     "slide_type": "slide"
    }
   },
   "source": [
    "###  2. Tensor attributes and operations\n"
   ]
  },
  {
   "cell_type": "markdown",
   "metadata": {
    "slideshow": {
     "slide_type": "subslide"
    }
   },
   "source": [
    "**tensor types**\n",
    "\n",
    "[torch.tensor](https://pytorch.org/docs/stable/tensors.html#torch-tensor)\n"
   ]
  },
  {
   "cell_type": "code",
   "execution_count": 26,
   "metadata": {
    "slideshow": {
     "slide_type": "subslide"
    }
   },
   "outputs": [
    {
     "name": "stdout",
     "output_type": "stream",
     "text": [
      "tensor([[ 1,  2,  3,  4],\n",
      "        [ 5,  6,  7,  8],\n",
      "        [ 9, 10, 11, 12]])\n",
      "-----\n",
      "tensor(4)\n",
      "tensor(7)\n",
      "-----\n",
      "tensor([[1],\n",
      "        [5],\n",
      "        [9]])\n",
      "tensor([[ 1,  2,  3,  4],\n",
      "        [ 9, 10, 11, 12]])\n",
      "tensor([1, 2, 3, 4])\n",
      "tensor(2)\n"
     ]
    }
   ],
   "source": [
    "# indexing and slicing\n",
    "x = torch.tensor([[1, 2, 3, 4], [5, 6, 7, 8], [9, 10, 11, 12]])\n",
    "print(x)\n",
    "print('-----')\n",
    "\n",
    "print(x[0, 3])\n",
    "print(x[1][2])\n",
    "print('-----')\n",
    "\n",
    "print(x[:, :1])\n",
    "print(x[::2])\n",
    "print(x[::2][0])\n",
    "print(x[::2][0][1]) # multiple indexing is applied to the returned tensor\n"
   ]
  },
  {
   "cell_type": "code",
   "execution_count": 27,
   "metadata": {
    "slideshow": {
     "slide_type": "subslide"
    }
   },
   "outputs": [
    {
     "name": "stdout",
     "output_type": "stream",
     "text": [
      "tensor([[[1]]], dtype=torch.uint8)\n",
      "1\n",
      "-----\n",
      "tensor(2.5000, dtype=torch.float64)\n",
      "2.5\n"
     ]
    }
   ],
   "source": [
    "# get value from a single-value tensor\n",
    "x = torch.tensor([[[1]]], dtype=torch.uint8)\n",
    "print(x)\n",
    "print(x.item())\n",
    "print('-----')\n",
    "\n",
    "x = torch.tensor(2.5, dtype=torch.float64)\n",
    "print(x)\n",
    "print(x.item())\n"
   ]
  },
  {
   "cell_type": "code",
   "execution_count": 50,
   "metadata": {
    "slideshow": {
     "slide_type": "subslide"
    }
   },
   "outputs": [
    {
     "name": "stdout",
     "output_type": "stream",
     "text": [
      "torch.Size([5, 3])\n"
     ]
    }
   ],
   "source": [
    "# get tensor size\n",
    "x = torch.rand(5, 3)\n",
    "print(x.size())  # <- is a tuple\n",
    "size_tuple = x.size()\n"
   ]
  },
  {
   "cell_type": "code",
   "execution_count": 29,
   "metadata": {
    "slideshow": {
     "slide_type": "subslide"
    }
   },
   "outputs": [
    {
     "name": "stdout",
     "output_type": "stream",
     "text": [
      "tensor([[2, 2, 2],\n",
      "        [2, 2, 3]])\n",
      "tensor([[2, 2, 2],\n",
      "        [2, 2, 3]])\n",
      "tensor([[2., 2., 2.],\n",
      "        [2., 2., 3.]])\n",
      "tensor([[2, 2, 2],\n",
      "        [2, 2, 3]])\n"
     ]
    }
   ],
   "source": [
    "# multiple syntaxes for adding\n",
    "x = torch.ones(2, 3, dtype=torch.long)\n",
    "y = torch.randint(high=3, size=(2, 3))\n",
    "print(x + y)  # use `+` operator\n",
    "\n",
    "print(torch.add(x, y))  # use torch function\n",
    "\n",
    "result = torch.empty(2, 3)\n",
    "torch.add(x, y, out=result)  # provide an output tensor <- will return value as well\n",
    "print(result)\n",
    "\n",
    "y.add_(x)  # in-place addition\n",
    "print(y)\n",
    "\n",
    "# any method followed by `_` modifies the tensor in-place\n",
    "# e.g. `copy_`, `t_`\n"
   ]
  },
  {
   "cell_type": "code",
   "execution_count": 30,
   "metadata": {
    "slideshow": {
     "slide_type": "subslide"
    }
   },
   "outputs": [
    {
     "name": "stdout",
     "output_type": "stream",
     "text": [
      "tensor([0.3385, 0.5113, 0.0868, 0.7628, 0.7793, 0.4275, 0.6207, 0.4226, 0.1773,\n",
      "        0.1693, 0.7534, 0.4059, 0.2917, 0.7941, 0.6732, 0.9274])\n",
      "tensor([[[0.3385, 0.5113],\n",
      "         [0.0868, 0.7628],\n",
      "         [0.7793, 0.4275],\n",
      "         [0.6207, 0.4226],\n",
      "         [0.1773, 0.1693],\n",
      "         [0.7534, 0.4059],\n",
      "         [0.2917, 0.7941],\n",
      "         [0.6732, 0.9274]]])\n",
      "-----\n",
      "torch.Size([2, 2, 4])\n",
      "tensor([[[0.3385, 0.5113, 0.0868, 0.7628],\n",
      "         [0.7793, 0.4275, 0.6207, 0.4226]],\n",
      "\n",
      "        [[0.1773, 0.1693, 0.7534, 0.4059],\n",
      "         [0.2917, 0.7941, 0.6732, 0.9274]]])\n"
     ]
    }
   ],
   "source": [
    "# resizing tensors\n",
    "x = torch.rand(4, 4)\n",
    "print(x.view(16))\n",
    "print(x.view(1, 8, 2))\n",
    "print('-----')\n",
    "\n",
    "reshaped = x.view(2, -1, 4)  # `-1` indicates size inferred from other dimensions\n",
    "print(reshaped.size())\n",
    "print(reshaped)\n"
   ]
  },
  {
   "cell_type": "markdown",
   "metadata": {
    "slideshow": {
     "slide_type": "subslide"
    }
   },
   "source": [
    "All tensor operations are described in the [docs](https://pytorch.org/docs/torch).\n"
   ]
  },
  {
   "cell_type": "markdown",
   "metadata": {
    "slideshow": {
     "slide_type": "slide"
    }
   },
   "source": [
    "###  3. PyTorch & NumPy\n"
   ]
  },
  {
   "cell_type": "markdown",
   "metadata": {
    "slideshow": {
     "slide_type": "subslide"
    }
   },
   "source": [
    "When creating numpy array from torch tensor they will share their memory locations (if the tensor is on CPU).\n"
   ]
  },
  {
   "cell_type": "code",
   "execution_count": 31,
   "metadata": {
    "slideshow": {
     "slide_type": "subslide"
    }
   },
   "outputs": [
    {
     "name": "stdout",
     "output_type": "stream",
     "text": [
      "tensor([1., 1., 1., 1., 1.])\n",
      "[1. 1. 1. 1. 1.]\n",
      "tensor([2., 2., 2., 2., 2.])\n",
      "[2. 2. 2. 2. 2.]\n"
     ]
    }
   ],
   "source": [
    "a = torch.ones(5)\n",
    "print(a)\n",
    "\n",
    "b = a.numpy() #  convert tensor to `np.ndarray`\n",
    "print(b)\n",
    "\n",
    "a.add_(1)\n",
    "print(a)\n",
    "print(b)\n"
   ]
  },
  {
   "cell_type": "markdown",
   "metadata": {
    "slideshow": {
     "slide_type": "subslide"
    }
   },
   "source": [
    "Same happens when converting from numpy array to torch tensor.\n"
   ]
  },
  {
   "cell_type": "code",
   "execution_count": 32,
   "metadata": {
    "slideshow": {
     "slide_type": "subslide"
    }
   },
   "outputs": [
    {
     "name": "stdout",
     "output_type": "stream",
     "text": [
      "[2. 2. 2. 2. 2.]\n",
      "tensor([2., 2., 2., 2., 2.], dtype=torch.float64)\n"
     ]
    }
   ],
   "source": [
    "a = np.ones(5)\n",
    "b = torch.from_numpy(a)\n",
    "np.add(a, 1, out=a)\n",
    "print(a)\n",
    "print(b)\n"
   ]
  },
  {
   "cell_type": "markdown",
   "metadata": {
    "slideshow": {
     "slide_type": "subslide"
    }
   },
   "source": [
    "Unless you use `torch.tensor`, which copies the data.\n"
   ]
  },
  {
   "cell_type": "code",
   "execution_count": 33,
   "metadata": {
    "slideshow": {
     "slide_type": "subslide"
    }
   },
   "outputs": [
    {
     "name": "stdout",
     "output_type": "stream",
     "text": [
      "[2. 2. 2. 2. 2.]\n",
      "tensor([1., 1., 1., 1., 1.], dtype=torch.float64)\n"
     ]
    }
   ],
   "source": [
    "a = np.ones(5)\n",
    "b = torch.tensor(a)\n",
    "np.add(a, 1, out=a)\n",
    "print(a)\n",
    "print(b)\n"
   ]
  },
  {
   "cell_type": "markdown",
   "metadata": {
    "slideshow": {
     "slide_type": "subslide"
    }
   },
   "source": [
    "###  4. CUDA\n"
   ]
  },
  {
   "cell_type": "markdown",
   "metadata": {
    "slideshow": {
     "slide_type": "subslide"
    }
   },
   "source": [
    "Tensors can be moved between devices using `.to` method. This part will work only if you use a machine with CUDA GPU.\n"
   ]
  },
  {
   "cell_type": "code",
   "execution_count": 35,
   "metadata": {
    "slideshow": {
     "slide_type": "subslide"
    }
   },
   "outputs": [
    {
     "name": "stdout",
     "output_type": "stream",
     "text": [
      "tensor([[1., 1., 1., 1., 2.],\n",
      "        [2., 1., 3., 1., 1.],\n",
      "        [3., 1., 2., 1., 2.],\n",
      "        [2., 2., 3., 2., 1.],\n",
      "        [3., 2., 2., 2., 3.]], device='cuda:0')\n",
      "tensor([[1., 1., 1., 1., 2.],\n",
      "        [2., 1., 3., 1., 1.],\n",
      "        [3., 1., 2., 1., 2.],\n",
      "        [2., 2., 3., 2., 1.],\n",
      "        [3., 2., 2., 2., 3.]], dtype=torch.float64)\n"
     ]
    }
   ],
   "source": [
    "if torch.cuda.is_available():\n",
    "    gpu = torch.device(\"cuda\")\n",
    "    x = torch.ones(5, 5, device=gpu)\n",
    "    y = torch.randint(3, (5, 5))\n",
    "    x = x.to(gpu)\n",
    "    y = y.to(gpu)\n",
    "    result = x + y\n",
    "    print(result)\n",
    "    print(result.to(\"cpu\", dtype=torch.double))\n",
    "else:\n",
    "    print('No CUDA device available.')\n"
   ]
  },
  {
   "cell_type": "markdown",
   "metadata": {
    "slideshow": {
     "slide_type": "slide"
    }
   },
   "source": [
    "Exercises\n",
    "-----\n"
   ]
  },
  {
   "cell_type": "markdown",
   "metadata": {
    "slideshow": {
     "slide_type": "subslide"
    }
   },
   "source": [
    "1. Create two tensors of shape $\\left(27, 19, 31\\right)$ and $\\left(31, 111\\right)$. Use any of the random tensor creation methods. Make sure their dtype is floating-point.\n"
   ]
  },
  {
   "cell_type": "code",
   "execution_count": 45,
   "metadata": {
    "slideshow": {
     "slide_type": "subslide"
    }
   },
   "outputs": [
    {
     "name": "stdout",
     "output_type": "stream",
     "text": [
      "tensor([[[-0.5211,  0.5016,  1.4059,  ..., -1.4688, -0.4714,  0.6462],\n",
      "         [ 0.5891,  0.3432, -1.2955,  ...,  0.8807, -0.5762,  0.3791],\n",
      "         [-0.0474, -0.6959, -0.6475,  ..., -1.2809, -0.9280,  1.2150],\n",
      "         ...,\n",
      "         [ 0.9075,  0.2371,  0.5077,  ...,  1.4299,  0.8652, -1.2710],\n",
      "         [-0.4003,  0.5827, -2.0458,  ...,  0.1652, -1.0804, -1.9235],\n",
      "         [ 0.2413,  0.1743, -0.4491,  ...,  1.0869,  1.8087, -0.8467]],\n",
      "\n",
      "        [[ 1.6383, -1.2787, -0.8466,  ..., -1.2047, -1.8936, -1.0016],\n",
      "         [-0.9249,  0.1175,  0.6370,  ...,  1.6973, -1.5488, -1.1826],\n",
      "         [ 1.0062, -0.3697,  0.1979,  ...,  1.6525,  0.7016,  0.4198],\n",
      "         ...,\n",
      "         [-0.5146, -2.1110,  0.6454,  ...,  1.1740, -0.0562,  0.3085],\n",
      "         [ 0.2872,  2.0993, -0.2583,  ..., -0.6642, -0.8256, -0.6790],\n",
      "         [ 0.4240,  1.1966,  0.0477,  ...,  0.4980,  1.0071, -0.6121]],\n",
      "\n",
      "        [[ 0.4824, -0.5257, -0.8523,  ...,  0.7688,  0.2490, -0.0434],\n",
      "         [-0.7563, -0.9057, -1.0934,  ...,  0.8681,  0.1400,  0.8577],\n",
      "         [ 1.3263, -0.3238,  0.5871,  ..., -0.5367,  2.1053,  0.2165],\n",
      "         ...,\n",
      "         [-0.7067, -0.7984, -0.5844,  ..., -0.4320, -0.0062,  0.2054],\n",
      "         [-0.0257,  1.4052, -0.4080,  ..., -0.7945, -0.3477,  0.1722],\n",
      "         [-0.5593,  0.0509, -1.0778,  ...,  0.1676,  1.3336, -0.5413]],\n",
      "\n",
      "        ...,\n",
      "\n",
      "        [[-1.2742, -0.0110,  0.0714,  ..., -0.5733, -1.0042,  0.9323],\n",
      "         [-1.1544, -1.3548, -0.7449,  ..., -0.1296,  0.3593, -0.8344],\n",
      "         [ 0.4422, -1.1920,  0.3004,  ..., -1.5985,  1.4725,  0.3891],\n",
      "         ...,\n",
      "         [ 0.3605, -1.5728,  0.7099,  ..., -1.1763,  1.2616,  0.0992],\n",
      "         [ 1.0103, -0.5881,  1.2391,  ...,  0.0748,  0.4406,  1.3123],\n",
      "         [-0.1278,  0.3506,  0.2271,  ...,  0.8259, -0.4068, -0.5738]],\n",
      "\n",
      "        [[-0.2617, -0.3039, -0.0957,  ...,  0.9617, -0.5637, -0.4120],\n",
      "         [-0.9185, -0.3481,  1.4525,  ..., -0.9350, -0.8481,  0.0861],\n",
      "         [-0.3223,  1.0708,  0.4701,  ..., -1.4084, -1.2024,  1.7425],\n",
      "         ...,\n",
      "         [-0.5544,  0.4819,  2.5408,  ...,  0.2989,  0.2057, -0.7059],\n",
      "         [ 0.5640, -1.3620,  0.3608,  ...,  0.8834, -0.3082, -2.1569],\n",
      "         [-0.4665, -1.1865,  0.5592,  ..., -1.2088,  1.7379, -1.0084]],\n",
      "\n",
      "        [[ 1.5245,  0.5888, -0.0954,  ..., -0.1476,  2.0818, -0.4773],\n",
      "         [-1.4828, -0.4434,  0.2466,  ...,  1.7076, -0.4436, -0.9316],\n",
      "         [ 0.4715, -1.9056, -1.7452,  ...,  0.0850, -0.9449, -1.1639],\n",
      "         ...,\n",
      "         [-1.6059, -0.4361, -1.5607,  ...,  0.3384, -0.0359, -0.0963],\n",
      "         [ 0.9093,  0.1064,  0.0149,  ...,  1.2208,  0.1649,  0.8507],\n",
      "         [-0.5555,  1.1843, -0.7332,  ...,  0.0317, -1.1040, -1.3126]]])\n",
      "tensor([[-0.7360,  1.2948,  0.5389,  ..., -0.9877, -0.4740,  0.1022],\n",
      "        [-1.2102,  0.4758,  0.2195,  ...,  0.8211,  1.0984,  1.0030],\n",
      "        [ 0.2910,  0.2591,  0.9141,  ...,  0.7599, -0.3740,  1.6048],\n",
      "        ...,\n",
      "        [ 0.3084, -1.2203,  0.3288,  ...,  1.1696,  0.6949, -0.4683],\n",
      "        [ 0.6196,  0.3975, -0.7932,  ...,  1.0814,  0.4382, -0.7518],\n",
      "        [-1.2120,  0.7833,  0.4116,  ...,  1.3911, -0.1352,  0.4564]])\n",
      "<class 'torch.Tensor'>\n",
      "<class 'torch.Tensor'>\n"
     ]
    }
   ],
   "source": [
    "tensorX = torch.randn_like(torch.rand(27,19,31), dtype=torch.float)\n",
    "tensorY = torch.randn_like(torch.rand(31,111), dtype=torch.float)\n",
    "print(x)\n",
    "print(y)\n",
    "print(type(tensorX))\n",
    "print(type(tensorY))"
   ]
  },
  {
   "cell_type": "markdown",
   "metadata": {
    "slideshow": {
     "slide_type": "subslide"
    }
   },
   "source": [
    "2. Perform matrix multiplication of the tensors (`@`, `torch.matmul` or `tensor.matmul_`). What is the size of the new tensor?"
   ]
  },
  {
   "cell_type": "code",
   "execution_count": 52,
   "metadata": {
    "slideshow": {
     "slide_type": "subslide"
    }
   },
   "outputs": [
    {
     "name": "stdout",
     "output_type": "stream",
     "text": [
      "tensor([[[  7.8226,  -7.0971,   2.1471,  ...,   5.0785,  -2.2803,  -6.8552],\n",
      "         [ -1.9034,  -4.6123,  -0.2734,  ...,  -0.6800,   2.2557,  -5.3794],\n",
      "         [  1.2714,   0.9417,   7.3842,  ...,  11.3143,  -6.6351,  -7.9711],\n",
      "         ...,\n",
      "         [ -5.7391,  -2.3119,   5.3632,  ...,  -0.0421,  -3.4115,   5.2718],\n",
      "         [ -5.3429,   8.0538,   5.0371,  ...,   5.2902,  -6.9418,   3.1659],\n",
      "         [  2.6246,   6.6340,  -1.7441,  ...,   1.6550,   1.5632,   8.4305]],\n",
      "\n",
      "        [[ -1.1502,  -3.4884,  -6.8190,  ..., -12.2715,   6.5180,   1.2694],\n",
      "         [ -0.2346,  -3.1180,  -0.9065,  ...,  -8.3755,   0.6934,  11.9936],\n",
      "         [ -2.5514,   8.3006,   0.6703,  ...,   4.0431,  -8.7031,  -1.0655],\n",
      "         ...,\n",
      "         [ -0.1263,   2.3281,  -1.0237,  ...,   1.0072,  -0.2368,   7.7174],\n",
      "         [ -8.4567,  -7.0858,   5.4032,  ...,   4.5992,  -0.7764,   5.8018],\n",
      "         [ -7.4101,   2.3124,   5.4602,  ...,  -0.6294,   4.1564,   4.6614]],\n",
      "\n",
      "        [[ -2.9305,  -9.5212,   5.5438,  ...,  -1.1279,   5.7484, -12.2919],\n",
      "         [  7.9635,  -1.0918,   1.5855,  ...,   1.9266,   7.3300,   3.2939],\n",
      "         [  0.5715,   0.9743,  -1.7235,  ...,  -1.2350,  -4.8659,   2.3761],\n",
      "         ...,\n",
      "         [ -4.4734,   5.8895,   1.5707,  ...,   2.6117,  -8.3246,  -1.3352],\n",
      "         [ -3.2531,   3.9955,  -2.8737,  ...,  -0.2213,   2.4660,   4.6020],\n",
      "         [ -5.2761,   7.8101,  -1.4348,  ...,   1.6269,   5.1068,  -1.3224]],\n",
      "\n",
      "        ...,\n",
      "\n",
      "        [[  1.8683,  -6.5928,   5.9059,  ...,   4.1100,  -1.1222,   0.9252],\n",
      "         [  1.8477,  -2.0242,   7.6547,  ...,  10.0442,  -1.3030,  -1.1370],\n",
      "         [  9.3813,  -2.5497,  -2.7361,  ...,   1.4924,   2.6862,   1.8249],\n",
      "         ...,\n",
      "         [  0.4083,  -0.3690,   2.5858,  ...,   8.4890,  -3.1066, -14.5534],\n",
      "         [ -2.7288,   0.2697,   2.5993,  ...,   1.4034,  -4.5565,   1.3453],\n",
      "         [  0.2208,  -5.8069,  -3.4746,  ...,  -5.8012,  -2.9640,   3.9846]],\n",
      "\n",
      "        [[  0.3556,   1.8934,   5.7889,  ...,   6.2201,  -3.4386,   6.5116],\n",
      "         [  4.6516,  -8.2275,   2.3817,  ...,   1.7857,  -2.3964,   2.6767],\n",
      "         [ -0.7502,   8.1644,  -0.8276,  ...,   1.6663,   8.2645,   0.3762],\n",
      "         ...,\n",
      "         [ -3.0616,   0.8998,   2.3977,  ...,  -1.2761,  -2.7574,  10.6580],\n",
      "         [ -4.1112,   5.3628,  -1.7842,  ...,   2.0871,  -1.1092,  -5.5981],\n",
      "         [ -1.6068, -11.2918,  -2.4274,  ...,  -9.4572,  -4.9949,   1.3553]],\n",
      "\n",
      "        [[  9.4928, -19.0052,   8.2738,  ...,   0.9289,   1.2381,  -8.1694],\n",
      "         [ -1.1365,   2.9309,  -3.1798,  ...,  -4.0798,  -5.8131,  -3.6078],\n",
      "         [ -3.3985,   6.2434,  -3.5809,  ...,  -3.4039,  -9.5025,  -0.8579],\n",
      "         ...,\n",
      "         [  0.9163,  -8.9106,   5.7579,  ...,  -4.0898,  -4.5018,   7.2632],\n",
      "         [ -5.0059,  -5.9893,   0.1128,  ...,  -7.4458,   0.4186,  -5.2751],\n",
      "         [  6.7023,  -4.1324,  -5.9249,  ..., -10.4115,   0.2595,   9.1590]]])\n",
      "<class 'torch.Tensor'>\n",
      "torch.Size([27, 19, 31])\n",
      "torch.Size([31, 111])\n",
      "torch.Size([27, 19, 111])\n"
     ]
    }
   ],
   "source": [
    "tensorMultResult = torch.matmul(tensorX,tensorY)\n",
    "print(tensorMultResult)\n",
    "print(type(tensorMultResult))\n",
    "print(tensorX.size())\n",
    "print(tensorY.size())\n",
    "print(tensorMultResult.size())"
   ]
  },
  {
   "cell_type": "markdown",
   "metadata": {
    "slideshow": {
     "slide_type": "subslide"
    }
   },
   "source": [
    "3. Perform summing across the last dimension (pass optional argument `dim=-1` to `torch.sum`). What is the size of the new tensor?"
   ]
  },
  {
   "cell_type": "code",
   "execution_count": 54,
   "metadata": {
    "slideshow": {
     "slide_type": "subslide"
    }
   },
   "outputs": [
    {
     "name": "stdout",
     "output_type": "stream",
     "text": [
      "tensor([[  -8.3852,  162.5751,   30.5216,   -8.1050,   20.6285,  -25.2803,\n",
      "           14.8773,  -65.8042,   10.3653,   47.5125,   37.4197,   51.6901,\n",
      "           15.7422,   18.7500,  -18.5757,  -35.0929,  -25.0597,  -11.4783,\n",
      "           33.2534],\n",
      "        [  74.5325,   38.0117,   35.9144, -114.7429,  -25.7250,   25.5807,\n",
      "          -23.3000,  -15.1230,   72.7348,   16.7536,   38.6069,   51.8358,\n",
      "          -30.7232,   72.4842,  -17.1810,  -73.2527,   40.9812,  -42.5609,\n",
      "           25.5210],\n",
      "        [  42.4340,   51.6075,    3.3328,    2.5444,   -8.1346,   -5.9341,\n",
      "           37.8788,   -7.0323,   38.6901,   71.4333,  -41.2967,   21.0989,\n",
      "           32.5095,   13.9905,  -14.0897,  -69.3006,    4.7837,    8.1869,\n",
      "           12.7165],\n",
      "        [ -22.7002,    9.8645,  -94.2144,    1.8394,  -79.0693,  -48.5473,\n",
      "           21.5035,  -52.3408,   -2.3429,   63.5343,  -73.0852,  -62.6064,\n",
      "           59.8210,   41.5489,    3.3236,   63.1898,  -12.9795,   30.7664,\n",
      "           56.4094],\n",
      "        [   1.8379,  107.8172,   21.9059,  -14.4442,  -11.1342,  -42.7368,\n",
      "           19.5975,  -46.8657,   14.2417,  -28.7852,  -76.0848,   59.2809,\n",
      "           24.8509,   25.8690,   57.1191,  -26.7893,  -53.5075,   -4.3368,\n",
      "          -49.5089],\n",
      "        [ -49.0104,   19.6220,   -3.8545,   12.0875,   34.4611,  -41.3791,\n",
      "            6.3592,   -6.2518,  -44.2083,  -11.9244,  -50.0473,  -77.2798,\n",
      "          -10.7576,  -13.6693,   23.3663,  -37.0292,   -4.8399,   49.4715,\n",
      "           37.6115],\n",
      "        [  36.5369,  -70.9601,   31.9686,  -14.1066,  -10.3893,  -72.6105,\n",
      "           56.3170,   48.8795,  -17.8581,   13.3446,   13.1708,  -19.0706,\n",
      "           -8.7372,   38.5410,    7.4546,  -29.0131,  -19.0565,   24.0551,\n",
      "          -72.3069],\n",
      "        [  56.9387,   15.7593,    1.7449,  -28.9208,    0.6014,  -67.5176,\n",
      "           12.9893,   -5.9509,   44.2811,   -0.6735,  -13.2952,    9.4464,\n",
      "           63.8791,   31.1002,  -47.5820,   61.6373,   27.7767,  -35.4587,\n",
      "           65.2269],\n",
      "        [ -24.4924,   14.3588,  -57.9331,  -82.0349,  -23.1759,   48.9381,\n",
      "          -38.1735,    8.5532,  -24.0039,   23.0850,  -91.8992,   43.7993,\n",
      "           33.6203,   74.8860,  -30.4429,   34.0184,   -0.9407,  -14.4765,\n",
      "           47.7480],\n",
      "        [  44.7804,   47.1587,   14.7136,  -33.9427,  -33.2936,  -70.8653,\n",
      "          -31.9514,  -55.5252,    7.2252,   15.1445,   25.3954,   63.7554,\n",
      "           57.8643,   14.0844,   16.9246,  -34.2104,  -40.1510,  -53.8722,\n",
      "           37.3716],\n",
      "        [  50.7874,  -41.2229,    0.6602,   -4.3243,  -49.7737,    9.8439,\n",
      "            3.9312,  101.0675,  -43.2281,   43.7140,  -43.2235,   11.9342,\n",
      "           54.0753,   -3.4949,   40.2556,  -29.0521,   48.3582,   10.2233,\n",
      "           39.4159],\n",
      "        [  94.4903,    6.8940,  -51.2564,   21.5389, -114.3369,  -85.6316,\n",
      "          -17.9227,  -46.5053,   13.9325,  -22.2386, -103.6641,   12.9589,\n",
      "           62.7544,  -57.7004,  -21.9868,   36.3328,   50.3324,    5.7121,\n",
      "           19.2117],\n",
      "        [  83.4622,   -4.7737,  -50.9598,  -38.7792,  120.4355,   26.6036,\n",
      "           20.4831,   22.2609,  -29.9597,  -21.5287,  -35.4558,  -19.5607,\n",
      "           11.0501,    1.9344, -122.6107,   31.6418,  114.2994,  -38.7076,\n",
      "           27.2748],\n",
      "        [  15.6215,   57.5763,  -75.4358,  -26.1845,   -7.9350,  -81.9180,\n",
      "          -18.0800,  -38.7948,  -67.4529,  -22.3561,    1.7018,   83.0992,\n",
      "           34.2503,  -24.3215,  -12.5682,   35.7520,  -68.1504,  -16.6338,\n",
      "          -12.4402],\n",
      "        [  36.3261,    1.3377,  -10.3989,   -0.8211,   21.8100,   24.6578,\n",
      "           94.4261,  -34.5527,   24.9554,   24.2222,  -99.4334,   -3.9296,\n",
      "           28.7103,   15.6224,  -23.8859,    1.6017,  -52.1829,  -75.7054,\n",
      "           31.8050],\n",
      "        [ 117.0951,  -15.4924,  -20.8317,   28.8399,   46.9896,  -45.7008,\n",
      "          -21.8737,    4.5337,  -33.2408,   20.9397,  -47.9760,  128.6569,\n",
      "           15.2197,   28.1974,    5.1062,   61.0889,  -40.8746,   43.5102,\n",
      "            9.8553],\n",
      "        [   2.8208,   -7.6714,  -93.3379,   -9.7769,  -23.3352,  -54.8689,\n",
      "          -21.4873,  -79.6032,   22.6140,  -41.1477,   75.1655,   -4.9206,\n",
      "          -21.6176,  -17.5909,  -61.2454,  -76.5790,  -11.4527,   45.0665,\n",
      "           63.2855],\n",
      "        [-108.7213,  -31.7006,   14.1346,   29.2197,  -68.5146,   51.4645,\n",
      "          -74.4989,  -50.1709,   25.3266,   13.2653,  -25.6250,   10.6543,\n",
      "           11.6167,  -41.4036,   -1.9105,   10.8830,   95.1114,   -4.6821,\n",
      "           67.8525],\n",
      "        [ -15.5052,  -43.5671,   96.8345,   11.1176,   21.0492,   -7.6462,\n",
      "          -22.3882,   70.1544,   40.9842,  -83.7103,   -2.4903,  -27.4078,\n",
      "           52.2737,   -7.4278,   42.9635,    8.3958,  -71.3673,   27.6596,\n",
      "          133.2887],\n",
      "        [ -60.0896,   36.1179,   11.5071,   86.8836,  -25.6871,  -12.8384,\n",
      "            9.4175,   -0.8048,   -1.2741,  -23.4199,   99.0582,   57.8474,\n",
      "           47.3042,   46.7877,   33.3037,  -39.9234,   -3.3203,  -28.0549,\n",
      "            6.3280],\n",
      "        [ -62.0154,   42.8837,   39.1202,   -5.6192,  -79.2900,    3.6339,\n",
      "           32.9949,  -63.1535,   32.0656,  -24.0172,  -22.7217,   61.6730,\n",
      "           47.5053,  -12.3713,   39.9368,  -31.3362,   54.1280,   -7.8341,\n",
      "           30.7217],\n",
      "        [  41.1122,   21.0244,  -13.2859,   -9.9121,  -21.6577,  -78.7517,\n",
      "           43.7953,   23.6171,   -6.3131,  -26.2769,  -36.1189,   44.1729,\n",
      "          -30.7932,    6.6563,  -61.3552,   39.4006,  -37.9495,   35.8033,\n",
      "          -68.5248],\n",
      "        [  61.4518,  -58.7411,   55.1257,   23.7843,  -18.7144,   46.3831,\n",
      "          -16.3924,  -46.7257,   94.3415,   -1.7015,  -37.0751,    4.4805,\n",
      "          -24.1087,   21.1598,  -15.5771,  -58.4694,   22.9562,   47.2313,\n",
      "          -93.1496],\n",
      "        [  39.6319,  -14.0453,   14.9183,   -0.6186,   59.7829,    1.5725,\n",
      "           35.7133,   37.2772,   28.6014,  -24.4062,   48.7497,  -56.9689,\n",
      "          -19.4299,   60.4699,   -6.2304,  -20.0414,   64.5413, -103.5236,\n",
      "           11.4217],\n",
      "        [  -7.0952,    5.7638,   77.9801,   22.4362,   36.8460,  -84.4731,\n",
      "           18.5680,  -24.5154,  -40.5417,   14.3856,  -59.8116,   52.1817,\n",
      "           35.6157,  -35.5525,  -75.3747,  -16.6037, -122.3917,   12.5615,\n",
      "          -75.8801],\n",
      "        [ -15.4108,  -32.8957,   27.7499,   35.9632,  -13.6215,   42.2027,\n",
      "           44.0741,  -14.0103,   60.3318,    7.3165,   68.8164,   85.8610,\n",
      "           44.6889,  -22.6807,  102.2925,   42.9444,  -18.0807,  -22.2754,\n",
      "          -48.3033],\n",
      "        [ -39.5839,  -70.7944,  100.7751,  -48.0378,   13.3612,    1.5710,\n",
      "          -47.0597,    9.0153,   -4.6856,   51.3357,  -36.4013,   18.6750,\n",
      "          -43.7455,  -71.3702,   17.1815,  -24.3104,   -6.6757,   21.2062,\n",
      "            7.5646]])\n",
      "torch.Size([27, 19])\n"
     ]
    }
   ],
   "source": [
    "sumResult = torch.sum(tensorMultResult, dim=-1)\n",
    "print(sumResult)\n",
    "print(sumResult.size())"
   ]
  },
  {
   "cell_type": "markdown",
   "metadata": {
    "slideshow": {
     "slide_type": "subslide"
    }
   },
   "source": [
    "4. Use `torch.mean` to calculate average across the first dimension of the `summed` tensor."
   ]
  },
  {
   "cell_type": "code",
   "execution_count": 59,
   "metadata": {
    "slideshow": {
     "slide_type": "subslide"
    }
   },
   "outputs": [
    {
     "name": "stdout",
     "output_type": "stream",
     "text": [
      "tensor(1.2504)\n",
      "<class 'torch.Tensor'>\n"
     ]
    }
   ],
   "source": [
    "meanResultOfSum = torch.mean(sumResult)\n",
    "print(meanResultOfSum)\n",
    "print(type(meanResultOfSum))"
   ]
  },
  {
   "cell_type": "markdown",
   "metadata": {},
   "source": [
    "    "
   ]
  },
  {
   "cell_type": "code",
   "execution_count": null,
   "metadata": {},
   "outputs": [],
   "source": []
  }
 ],
 "metadata": {
  "celltoolbar": "Slideshow",
  "kernelspec": {
   "display_name": "Python 3",
   "language": "python",
   "name": "python3"
  },
  "language_info": {
   "codemirror_mode": {
    "name": "ipython",
    "version": 3
   },
   "file_extension": ".py",
   "mimetype": "text/x-python",
   "name": "python",
   "nbconvert_exporter": "python",
   "pygments_lexer": "ipython3",
   "version": "3.7.6"
  }
 },
 "nbformat": 4,
 "nbformat_minor": 4
}
