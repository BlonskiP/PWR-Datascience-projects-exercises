{
 "cells": [
  {
   "cell_type": "code",
   "execution_count": 1,
   "metadata": {},
   "outputs": [],
   "source": [
    "%load_ext autoreload\n",
    "%autoreload 2\n",
    "\n",
    "import sys; sys.path.append('.')"
   ]
  },
  {
   "cell_type": "code",
   "execution_count": 2,
   "metadata": {},
   "outputs": [],
   "source": [
    "import itertools\n",
    "\n",
    "import matplotlib.pyplot as plt\n",
    "import networkx as nx\n",
    "import numpy as np\n",
    "import pandas as pd\n",
    "\n",
    "\n",
    "from src.dsep import dataset\n",
    "from src.dsep import utils"
   ]
  },
  {
   "cell_type": "markdown",
   "metadata": {},
   "source": [
    "# Homework (part 2)\n",
    "Implement function for checking whether two random variables are d-separable given some observations. You can use `networkx` for graph related functions (generation of paths between nodes, checking if there is an edge between nodes etc.)."
   ]
  },
  {
   "cell_type": "code",
   "execution_count": 3,
   "metadata": {},
   "outputs": [],
   "source": [
    "def check_NA(G,v1,v2,C):\n",
    "    result = True\n",
    "    if v1 == v2: #sprawdza czy sam so siebie\n",
    "        return 'N/A'\n",
    "    neighbors = G.neighbors(v1) #sprawdza czy do sąsiada\n",
    "    if v2 in neighbors:\n",
    "        return 'N/A'\n",
    "    neighbors = G.neighbors(v2)\n",
    "    if v1 in neighbors:\n",
    "        return 'N/A'\n",
    "    if v1 in C:\n",
    "        return 'N/A'\n",
    "    if v2 in C:\n",
    "        return 'N/A'"
   ]
  },
  {
   "cell_type": "code",
   "execution_count": 4,
   "metadata": {},
   "outputs": [],
   "source": [
    "import networkx as nx\n",
    "max_distance = 7\n",
    "last_rule ='None'\n",
    "def is_d_separable(G, v1, v2, C):  # Implement\n",
    "    \"\"\"Checks if v1 and v2 are d-separable given C.\n",
    "    \n",
    "    If d-separation is not applicable return 'N/A',\n",
    "    otherwise return True/False, whether variables\n",
    "    are d-separable or not.  \n",
    "    \"\"\"\n",
    "    res = check_NA(G,v1,v2,C)\n",
    "    if res == 'N/A':\n",
    "        return res\n",
    "    Undirected_G = nx.Graph(G)\n",
    "    any_path = nx.has_path(Undirected_G,v1,v2)\n",
    "    res = False\n",
    "    if any_path:\n",
    "        paths = nx.all_simple_paths(Undirected_G,v1,v2)\n",
    "        clean_paths = []\n",
    "        for path in paths:\n",
    "            #print('possible path: ',path)\n",
    "            if check_path(path,C,G): #returns true is all triples in path are active\n",
    "                clean_paths.append(path)\n",
    "        #print('active_paths',clean_paths)        \n",
    "        if len(clean_paths)>0:\n",
    "            res = False #There is a independent path\n",
    "        else:\n",
    "            res = True #There is no 'clean path'\n",
    "    else:\n",
    "        return True\n",
    "    return res\n",
    "\n",
    "def check_path(path,C,G):\n",
    "   # A path is active if every triple in path is active (not separable): \n",
    "    triples = []\n",
    "    for i in range(len(path)-2):\n",
    "        triple = [path[i],path[i+1],path[i+2]]\n",
    "        triples.append(triple)\n",
    "    check_results = []\n",
    "    for triple in triples:\n",
    "        check_results.append(check_triple(triple,G,C))# True - active False- not active\n",
    "    \n",
    "    are_all_triples_active = all(check_results)\n",
    "    #print('triple res',check_results,'are all:',are_all_triples_active)\n",
    "    return are_all_triples_active # all have to be active\n",
    "def check_triple(triple,G,C):\n",
    "    is_active=True\n",
    "    Undirected_G = nx.Graph(G)\n",
    "    is_tail_to_tail = is_tail_tail(triple,G,C)\n",
    "    is_head_to_tail = is_head_tail(triple,Undirected_G,C)\n",
    "    is_head_to_head = is_head_head(triple,G,C)\n",
    "    if is_tail_to_tail:\n",
    "        is_active = check_tail_tail_active(triple,G,C)\n",
    "    if is_head_to_tail:\n",
    "        is_active = check_head_tail_active(triple,G,C)\n",
    "    if is_head_to_head:\n",
    "        is_active = check_head_head(triple,G,C)\n",
    "    #print('type of triple',is_tail_to_tail,is_head_to_tail,is_head_to_head,triple,'is active: ',is_active)\n",
    "    return is_active"
   ]
  },
  {
   "cell_type": "code",
   "execution_count": 5,
   "metadata": {},
   "outputs": [],
   "source": [
    "def check_tail_tail_active(triple,G,C):\n",
    "    middle = triple[1]\n",
    "    if middle in C:\n",
    "        return False #not active\n",
    "    return True\n",
    "def check_head_tail_active(triple,G,C):\n",
    "    middle = triple[1]\n",
    "    #print('head_tail_active',middle,C,middle in C)\n",
    "    if middle in C:\n",
    "        return False #not active\n",
    "    return True\n",
    "def check_head_head(triple,G,C):\n",
    "    middle = triple[1]\n",
    "    res = False #default not active\n",
    "    if middle in C:\n",
    "        return True #active\n",
    "    #descendend of middle can be in C to make it active\n",
    "    descendents= nx.descendants(G,middle)\n",
    "    \n",
    "    have_C_descendent = any(node in descendents for node in C)\n",
    "    #print(descendents,triple,have_C_descendent)\n",
    "    res = have_C_descendent\n",
    "    \n",
    "    return res"
   ]
  },
  {
   "cell_type": "code",
   "execution_count": 6,
   "metadata": {},
   "outputs": [],
   "source": [
    "def is_tail_tail(triple,G,C): \n",
    "    A = triple[0]\n",
    "    middle = triple[1]\n",
    "    B = triple[2]\n",
    "    middle_A = G.has_edge(middle,A)\n",
    "    middle_B = G.has_edge(middle,B)\n",
    "    if middle_A and middle_B: #it is a tail_to_tail.\n",
    "        #print('tail to tail')\n",
    "        return True #is tail_to_tail\n",
    "    return False #not tail_to_tail\n",
    "def is_head_tail(triple,G,C):\n",
    "    A = triple[0]\n",
    "    middle = triple[1]\n",
    "    B = triple[2]\n",
    "    A_middle = G.has_edge(A,middle)\n",
    "    middle_B = G.has_edge(middle,B)\n",
    "    #print(A_middle,middle_B,triple)\n",
    "    if A_middle and middle_B:\n",
    "        #print('head to tail')\n",
    "        return True #is head to tail a-mid-b\n",
    "    return False\n",
    "def is_head_head(triple,G,C):\n",
    "    A = triple[0]\n",
    "    middle = triple[1]\n",
    "    B = triple[2]\n",
    "    A_middle = G.has_edge(A,middle)\n",
    "    B_middle = G.has_edge(B,middle)\n",
    "    if A_middle and B_middle:\n",
    "        #print('head to head')\n",
    "        return True #is head to tail a-mid-b\n",
    "    return False\n",
    "    "
   ]
  },
  {
   "attachments": {
    "image.png": {
     "image/png": "[encoded data removed]"
    }
   },
   "cell_type": "markdown",
   "metadata": {},
   "source": [
    "![image.png](attachment:image.png)"
   ]
  },
  {
   "cell_type": "markdown",
   "metadata": {},
   "source": [
    "## Example PGM and observed variable\n",
    "Gray nodes are observed and belong to the conditioning set."
   ]
  },
  {
   "cell_type": "markdown",
   "metadata": {},
   "source": [
    "* Error for (1, 4)\n",
    "\tExpected: False\n",
    "\tGot: True\n",
    "* Error for (2, 4)\n",
    "\tExpected: False\n",
    "\tGot: True\n",
    "* Error for (4, 1)\n",
    "\tExpected: False\n",
    "\tGot: True\n",
    "* Error for (4, 2)\n",
    "\tExpected: False\n",
    "\tGot: True"
   ]
  },
  {
   "cell_type": "code",
   "execution_count": 7,
   "metadata": {},
   "outputs": [
    {
     "data": {
      "text/plain": [
       "False"
      ]
     },
     "execution_count": 7,
     "metadata": {},
     "output_type": "execute_result"
    },
    {
     "data": {
      "image/png": "[encoded data removed]",
      "text/plain": [
       "<Figure size 432x288 with 1 Axes>"
      ]
     },
     "metadata": {},
     "output_type": "display_data"
    }
   ],
   "source": [
    "graph, node_pos = dataset.get_graph('second')\n",
    "#conditioning_set = {7}\n",
    "conditioning_set = {3, 6}\n",
    "v1 = 1\n",
    "v2 = 4\n",
    "dataset.visualize(G=graph, C=conditioning_set, node_pos=node_pos)\n",
    "is_d_separable(graph,v1,v2,conditioning_set)"
   ]
  },
  {
   "cell_type": "markdown",
   "metadata": {},
   "source": []
  },
  {
   "cell_type": "markdown",
   "metadata": {},
   "source": [
    "## Check D-Separability for all variable pairs"
   ]
  },
  {
   "cell_type": "code",
   "execution_count": 8,
   "metadata": {},
   "outputs": [
    {
     "name": "stdout",
     "output_type": "stream",
     "text": [
      "    v1  v2  d_sep\n",
      "0    1   2  False\n",
      "1    1   3    N/A\n",
      "2    1   4  False\n",
      "3    1   5    N/A\n",
      "4    1   6    N/A\n",
      "5    1   7   True\n",
      "6    1   8   True\n",
      "7    2   1  False\n",
      "8    2   3    N/A\n",
      "9    2   4  False\n",
      "10   2   5  False\n",
      "11   2   6    N/A\n",
      "12   2   7   True\n",
      "13   2   8   True\n",
      "14   3   1    N/A\n",
      "15   3   2    N/A\n",
      "16   3   4    N/A\n",
      "17   3   5    N/A\n",
      "18   3   6    N/A\n",
      "19   3   7    N/A\n",
      "20   3   8    N/A\n",
      "21   4   1  False\n",
      "22   4   2  False\n",
      "23   4   3    N/A\n",
      "24   4   5  False\n",
      "25   4   6    N/A\n",
      "26   4   7   True\n",
      "27   4   8   True\n",
      "28   5   1    N/A\n",
      "29   5   2  False\n",
      "30   5   3    N/A\n",
      "31   5   4  False\n",
      "32   5   6    N/A\n",
      "33   5   7   True\n",
      "34   5   8   True\n",
      "35   6   1    N/A\n",
      "36   6   2    N/A\n",
      "37   6   3    N/A\n",
      "38   6   4    N/A\n",
      "39   6   5    N/A\n",
      "40   6   7    N/A\n",
      "41   6   8    N/A\n",
      "42   7   1   True\n",
      "43   7   2   True\n",
      "44   7   3    N/A\n",
      "45   7   4   True\n",
      "46   7   5   True\n",
      "47   7   6    N/A\n",
      "48   7   8   True\n",
      "49   8   1   True\n",
      "50   8   2   True\n",
      "51   8   3    N/A\n",
      "52   8   4   True\n",
      "53   8   5   True\n",
      "54   8   6    N/A\n",
      "55   8   7   True\n"
     ]
    }
   ],
   "source": [
    "df = utils.check_d_separability_for_all_node_pairs(\n",
    "    G=graph,\n",
    "    C=conditioning_set,\n",
    "    d_sep_fn=is_d_separable,\n",
    ")\n",
    "print(df)"
   ]
  },
  {
   "cell_type": "code",
   "execution_count": 9,
   "metadata": {},
   "outputs": [
    {
     "data": {
      "text/html": [
       "<div>\n",
       "<style scoped>\n",
       "    .dataframe tbody tr th:only-of-type {\n",
       "        vertical-align: middle;\n",
       "    }\n",
       "\n",
       "    .dataframe tbody tr th {\n",
       "        vertical-align: top;\n",
       "    }\n",
       "\n",
       "    .dataframe thead th {\n",
       "        text-align: right;\n",
       "    }\n",
       "</style>\n",
       "<table border=\"1\" class=\"dataframe\">\n",
       "  <thead>\n",
       "    <tr style=\"text-align: right;\">\n",
       "      <th></th>\n",
       "      <th>v1</th>\n",
       "      <th>v2</th>\n",
       "      <th>d_sep</th>\n",
       "    </tr>\n",
       "  </thead>\n",
       "  <tbody>\n",
       "    <tr>\n",
       "      <th>5</th>\n",
       "      <td>1</td>\n",
       "      <td>7</td>\n",
       "      <td>True</td>\n",
       "    </tr>\n",
       "    <tr>\n",
       "      <th>6</th>\n",
       "      <td>1</td>\n",
       "      <td>8</td>\n",
       "      <td>True</td>\n",
       "    </tr>\n",
       "    <tr>\n",
       "      <th>12</th>\n",
       "      <td>2</td>\n",
       "      <td>7</td>\n",
       "      <td>True</td>\n",
       "    </tr>\n",
       "    <tr>\n",
       "      <th>13</th>\n",
       "      <td>2</td>\n",
       "      <td>8</td>\n",
       "      <td>True</td>\n",
       "    </tr>\n",
       "    <tr>\n",
       "      <th>26</th>\n",
       "      <td>4</td>\n",
       "      <td>7</td>\n",
       "      <td>True</td>\n",
       "    </tr>\n",
       "    <tr>\n",
       "      <th>27</th>\n",
       "      <td>4</td>\n",
       "      <td>8</td>\n",
       "      <td>True</td>\n",
       "    </tr>\n",
       "    <tr>\n",
       "      <th>33</th>\n",
       "      <td>5</td>\n",
       "      <td>7</td>\n",
       "      <td>True</td>\n",
       "    </tr>\n",
       "    <tr>\n",
       "      <th>34</th>\n",
       "      <td>5</td>\n",
       "      <td>8</td>\n",
       "      <td>True</td>\n",
       "    </tr>\n",
       "    <tr>\n",
       "      <th>42</th>\n",
       "      <td>7</td>\n",
       "      <td>1</td>\n",
       "      <td>True</td>\n",
       "    </tr>\n",
       "    <tr>\n",
       "      <th>43</th>\n",
       "      <td>7</td>\n",
       "      <td>2</td>\n",
       "      <td>True</td>\n",
       "    </tr>\n",
       "    <tr>\n",
       "      <th>45</th>\n",
       "      <td>7</td>\n",
       "      <td>4</td>\n",
       "      <td>True</td>\n",
       "    </tr>\n",
       "    <tr>\n",
       "      <th>46</th>\n",
       "      <td>7</td>\n",
       "      <td>5</td>\n",
       "      <td>True</td>\n",
       "    </tr>\n",
       "    <tr>\n",
       "      <th>48</th>\n",
       "      <td>7</td>\n",
       "      <td>8</td>\n",
       "      <td>True</td>\n",
       "    </tr>\n",
       "    <tr>\n",
       "      <th>49</th>\n",
       "      <td>8</td>\n",
       "      <td>1</td>\n",
       "      <td>True</td>\n",
       "    </tr>\n",
       "    <tr>\n",
       "      <th>50</th>\n",
       "      <td>8</td>\n",
       "      <td>2</td>\n",
       "      <td>True</td>\n",
       "    </tr>\n",
       "    <tr>\n",
       "      <th>52</th>\n",
       "      <td>8</td>\n",
       "      <td>4</td>\n",
       "      <td>True</td>\n",
       "    </tr>\n",
       "    <tr>\n",
       "      <th>53</th>\n",
       "      <td>8</td>\n",
       "      <td>5</td>\n",
       "      <td>True</td>\n",
       "    </tr>\n",
       "    <tr>\n",
       "      <th>55</th>\n",
       "      <td>8</td>\n",
       "      <td>7</td>\n",
       "      <td>True</td>\n",
       "    </tr>\n",
       "  </tbody>\n",
       "</table>\n",
       "</div>"
      ],
      "text/plain": [
       "    v1  v2 d_sep\n",
       "5    1   7  True\n",
       "6    1   8  True\n",
       "12   2   7  True\n",
       "13   2   8  True\n",
       "26   4   7  True\n",
       "27   4   8  True\n",
       "33   5   7  True\n",
       "34   5   8  True\n",
       "42   7   1  True\n",
       "43   7   2  True\n",
       "45   7   4  True\n",
       "46   7   5  True\n",
       "48   7   8  True\n",
       "49   8   1  True\n",
       "50   8   2  True\n",
       "52   8   4  True\n",
       "53   8   5  True\n",
       "55   8   7  True"
      ]
     },
     "execution_count": 9,
     "metadata": {},
     "output_type": "execute_result"
    }
   ],
   "source": [
    "df[df.d_sep == True]\n"
   ]
  },
  {
   "cell_type": "code",
   "execution_count": 10,
   "metadata": {},
   "outputs": [
    {
     "data": {
      "text/html": [
       "<div>\n",
       "<style scoped>\n",
       "    .dataframe tbody tr th:only-of-type {\n",
       "        vertical-align: middle;\n",
       "    }\n",
       "\n",
       "    .dataframe tbody tr th {\n",
       "        vertical-align: top;\n",
       "    }\n",
       "\n",
       "    .dataframe thead th {\n",
       "        text-align: right;\n",
       "    }\n",
       "</style>\n",
       "<table border=\"1\" class=\"dataframe\">\n",
       "  <thead>\n",
       "    <tr style=\"text-align: right;\">\n",
       "      <th></th>\n",
       "      <th>v1</th>\n",
       "      <th>v2</th>\n",
       "      <th>d_sep</th>\n",
       "    </tr>\n",
       "  </thead>\n",
       "  <tbody>\n",
       "    <tr>\n",
       "      <th>1</th>\n",
       "      <td>1</td>\n",
       "      <td>3</td>\n",
       "      <td>N/A</td>\n",
       "    </tr>\n",
       "    <tr>\n",
       "      <th>3</th>\n",
       "      <td>1</td>\n",
       "      <td>5</td>\n",
       "      <td>N/A</td>\n",
       "    </tr>\n",
       "    <tr>\n",
       "      <th>4</th>\n",
       "      <td>1</td>\n",
       "      <td>6</td>\n",
       "      <td>N/A</td>\n",
       "    </tr>\n",
       "    <tr>\n",
       "      <th>8</th>\n",
       "      <td>2</td>\n",
       "      <td>3</td>\n",
       "      <td>N/A</td>\n",
       "    </tr>\n",
       "    <tr>\n",
       "      <th>11</th>\n",
       "      <td>2</td>\n",
       "      <td>6</td>\n",
       "      <td>N/A</td>\n",
       "    </tr>\n",
       "    <tr>\n",
       "      <th>14</th>\n",
       "      <td>3</td>\n",
       "      <td>1</td>\n",
       "      <td>N/A</td>\n",
       "    </tr>\n",
       "    <tr>\n",
       "      <th>15</th>\n",
       "      <td>3</td>\n",
       "      <td>2</td>\n",
       "      <td>N/A</td>\n",
       "    </tr>\n",
       "    <tr>\n",
       "      <th>16</th>\n",
       "      <td>3</td>\n",
       "      <td>4</td>\n",
       "      <td>N/A</td>\n",
       "    </tr>\n",
       "    <tr>\n",
       "      <th>17</th>\n",
       "      <td>3</td>\n",
       "      <td>5</td>\n",
       "      <td>N/A</td>\n",
       "    </tr>\n",
       "    <tr>\n",
       "      <th>18</th>\n",
       "      <td>3</td>\n",
       "      <td>6</td>\n",
       "      <td>N/A</td>\n",
       "    </tr>\n",
       "    <tr>\n",
       "      <th>19</th>\n",
       "      <td>3</td>\n",
       "      <td>7</td>\n",
       "      <td>N/A</td>\n",
       "    </tr>\n",
       "    <tr>\n",
       "      <th>20</th>\n",
       "      <td>3</td>\n",
       "      <td>8</td>\n",
       "      <td>N/A</td>\n",
       "    </tr>\n",
       "    <tr>\n",
       "      <th>23</th>\n",
       "      <td>4</td>\n",
       "      <td>3</td>\n",
       "      <td>N/A</td>\n",
       "    </tr>\n",
       "    <tr>\n",
       "      <th>25</th>\n",
       "      <td>4</td>\n",
       "      <td>6</td>\n",
       "      <td>N/A</td>\n",
       "    </tr>\n",
       "    <tr>\n",
       "      <th>28</th>\n",
       "      <td>5</td>\n",
       "      <td>1</td>\n",
       "      <td>N/A</td>\n",
       "    </tr>\n",
       "    <tr>\n",
       "      <th>30</th>\n",
       "      <td>5</td>\n",
       "      <td>3</td>\n",
       "      <td>N/A</td>\n",
       "    </tr>\n",
       "    <tr>\n",
       "      <th>32</th>\n",
       "      <td>5</td>\n",
       "      <td>6</td>\n",
       "      <td>N/A</td>\n",
       "    </tr>\n",
       "    <tr>\n",
       "      <th>35</th>\n",
       "      <td>6</td>\n",
       "      <td>1</td>\n",
       "      <td>N/A</td>\n",
       "    </tr>\n",
       "    <tr>\n",
       "      <th>36</th>\n",
       "      <td>6</td>\n",
       "      <td>2</td>\n",
       "      <td>N/A</td>\n",
       "    </tr>\n",
       "    <tr>\n",
       "      <th>37</th>\n",
       "      <td>6</td>\n",
       "      <td>3</td>\n",
       "      <td>N/A</td>\n",
       "    </tr>\n",
       "    <tr>\n",
       "      <th>38</th>\n",
       "      <td>6</td>\n",
       "      <td>4</td>\n",
       "      <td>N/A</td>\n",
       "    </tr>\n",
       "    <tr>\n",
       "      <th>39</th>\n",
       "      <td>6</td>\n",
       "      <td>5</td>\n",
       "      <td>N/A</td>\n",
       "    </tr>\n",
       "    <tr>\n",
       "      <th>40</th>\n",
       "      <td>6</td>\n",
       "      <td>7</td>\n",
       "      <td>N/A</td>\n",
       "    </tr>\n",
       "    <tr>\n",
       "      <th>41</th>\n",
       "      <td>6</td>\n",
       "      <td>8</td>\n",
       "      <td>N/A</td>\n",
       "    </tr>\n",
       "    <tr>\n",
       "      <th>44</th>\n",
       "      <td>7</td>\n",
       "      <td>3</td>\n",
       "      <td>N/A</td>\n",
       "    </tr>\n",
       "    <tr>\n",
       "      <th>47</th>\n",
       "      <td>7</td>\n",
       "      <td>6</td>\n",
       "      <td>N/A</td>\n",
       "    </tr>\n",
       "    <tr>\n",
       "      <th>51</th>\n",
       "      <td>8</td>\n",
       "      <td>3</td>\n",
       "      <td>N/A</td>\n",
       "    </tr>\n",
       "    <tr>\n",
       "      <th>54</th>\n",
       "      <td>8</td>\n",
       "      <td>6</td>\n",
       "      <td>N/A</td>\n",
       "    </tr>\n",
       "  </tbody>\n",
       "</table>\n",
       "</div>"
      ],
      "text/plain": [
       "    v1  v2 d_sep\n",
       "1    1   3   N/A\n",
       "3    1   5   N/A\n",
       "4    1   6   N/A\n",
       "8    2   3   N/A\n",
       "11   2   6   N/A\n",
       "14   3   1   N/A\n",
       "15   3   2   N/A\n",
       "16   3   4   N/A\n",
       "17   3   5   N/A\n",
       "18   3   6   N/A\n",
       "19   3   7   N/A\n",
       "20   3   8   N/A\n",
       "23   4   3   N/A\n",
       "25   4   6   N/A\n",
       "28   5   1   N/A\n",
       "30   5   3   N/A\n",
       "32   5   6   N/A\n",
       "35   6   1   N/A\n",
       "36   6   2   N/A\n",
       "37   6   3   N/A\n",
       "38   6   4   N/A\n",
       "39   6   5   N/A\n",
       "40   6   7   N/A\n",
       "41   6   8   N/A\n",
       "44   7   3   N/A\n",
       "47   7   6   N/A\n",
       "51   8   3   N/A\n",
       "54   8   6   N/A"
      ]
     },
     "execution_count": 10,
     "metadata": {},
     "output_type": "execute_result"
    }
   ],
   "source": [
    "df[df.d_sep == 'N/A']"
   ]
  },
  {
   "cell_type": "code",
   "execution_count": 11,
   "metadata": {},
   "outputs": [
    {
     "data": {
      "text/html": [
       "<div>\n",
       "<style scoped>\n",
       "    .dataframe tbody tr th:only-of-type {\n",
       "        vertical-align: middle;\n",
       "    }\n",
       "\n",
       "    .dataframe tbody tr th {\n",
       "        vertical-align: top;\n",
       "    }\n",
       "\n",
       "    .dataframe thead th {\n",
       "        text-align: right;\n",
       "    }\n",
       "</style>\n",
       "<table border=\"1\" class=\"dataframe\">\n",
       "  <thead>\n",
       "    <tr style=\"text-align: right;\">\n",
       "      <th></th>\n",
       "      <th>v1</th>\n",
       "      <th>v2</th>\n",
       "      <th>d_sep</th>\n",
       "    </tr>\n",
       "  </thead>\n",
       "  <tbody>\n",
       "    <tr>\n",
       "      <th>0</th>\n",
       "      <td>1</td>\n",
       "      <td>2</td>\n",
       "      <td>False</td>\n",
       "    </tr>\n",
       "    <tr>\n",
       "      <th>2</th>\n",
       "      <td>1</td>\n",
       "      <td>4</td>\n",
       "      <td>False</td>\n",
       "    </tr>\n",
       "    <tr>\n",
       "      <th>7</th>\n",
       "      <td>2</td>\n",
       "      <td>1</td>\n",
       "      <td>False</td>\n",
       "    </tr>\n",
       "    <tr>\n",
       "      <th>9</th>\n",
       "      <td>2</td>\n",
       "      <td>4</td>\n",
       "      <td>False</td>\n",
       "    </tr>\n",
       "    <tr>\n",
       "      <th>10</th>\n",
       "      <td>2</td>\n",
       "      <td>5</td>\n",
       "      <td>False</td>\n",
       "    </tr>\n",
       "    <tr>\n",
       "      <th>21</th>\n",
       "      <td>4</td>\n",
       "      <td>1</td>\n",
       "      <td>False</td>\n",
       "    </tr>\n",
       "    <tr>\n",
       "      <th>22</th>\n",
       "      <td>4</td>\n",
       "      <td>2</td>\n",
       "      <td>False</td>\n",
       "    </tr>\n",
       "    <tr>\n",
       "      <th>24</th>\n",
       "      <td>4</td>\n",
       "      <td>5</td>\n",
       "      <td>False</td>\n",
       "    </tr>\n",
       "    <tr>\n",
       "      <th>29</th>\n",
       "      <td>5</td>\n",
       "      <td>2</td>\n",
       "      <td>False</td>\n",
       "    </tr>\n",
       "    <tr>\n",
       "      <th>31</th>\n",
       "      <td>5</td>\n",
       "      <td>4</td>\n",
       "      <td>False</td>\n",
       "    </tr>\n",
       "  </tbody>\n",
       "</table>\n",
       "</div>"
      ],
      "text/plain": [
       "    v1  v2  d_sep\n",
       "0    1   2  False\n",
       "2    1   4  False\n",
       "7    2   1  False\n",
       "9    2   4  False\n",
       "10   2   5  False\n",
       "21   4   1  False\n",
       "22   4   2  False\n",
       "24   4   5  False\n",
       "29   5   2  False\n",
       "31   5   4  False"
      ]
     },
     "execution_count": 11,
     "metadata": {},
     "output_type": "execute_result"
    }
   ],
   "source": [
    "df[df.d_sep == False]"
   ]
  },
  {
   "cell_type": "markdown",
   "metadata": {},
   "source": [
    "## Tests for checking validity of implementation"
   ]
  },
  {
   "cell_type": "code",
   "execution_count": 12,
   "metadata": {},
   "outputs": [
    {
     "name": "stdout",
     "output_type": "stream",
     "text": [
      "No errors found! Passed\n"
     ]
    }
   ],
   "source": [
    "utils.check(\n",
    "    graph=dataset.get_graph('first')[0],\n",
    "    conditioning_set={7},\n",
    "    d_sep_fn=is_d_separable,\n",
    "    expected_df_path='data/dsep-first-c7.pkl',\n",
    ")"
   ]
  },
  {
   "cell_type": "code",
   "execution_count": 13,
   "metadata": {
    "scrolled": true
   },
   "outputs": [
    {
     "name": "stdout",
     "output_type": "stream",
     "text": [
      "No errors found! Passed\n"
     ]
    }
   ],
   "source": [
    "graph, node_pos = dataset.get_graph('first')\n",
    "utils.check(\n",
    "    graph=graph,\n",
    "    conditioning_set={3, 7},\n",
    "    d_sep_fn=is_d_separable,\n",
    "    expected_df_path='data/dsep-first-c37.pkl',\n",
    ")"
   ]
  },
  {
   "cell_type": "code",
   "execution_count": 14,
   "metadata": {},
   "outputs": [
    {
     "name": "stdout",
     "output_type": "stream",
     "text": [
      "No errors found! Passed\n"
     ]
    }
   ],
   "source": [
    "utils.check(\n",
    "    graph=dataset.get_graph('second')[0],\n",
    "    conditioning_set={6},\n",
    "    d_sep_fn=is_d_separable,\n",
    "    expected_df_path='data/dsep-second-c6.pkl',\n",
    ")"
   ]
  },
  {
   "cell_type": "code",
   "execution_count": 15,
   "metadata": {},
   "outputs": [
    {
     "name": "stdout",
     "output_type": "stream",
     "text": [
      "No errors found! Passed\n"
     ]
    }
   ],
   "source": [
    "utils.check(\n",
    "    graph=dataset.get_graph('second')[0],\n",
    "    conditioning_set={3, 6},\n",
    "    d_sep_fn=is_d_separable,\n",
    "    expected_df_path='data/dsep-second-c36.pkl',\n",
    ")"
   ]
  },
  {
   "cell_type": "code",
   "execution_count": null,
   "metadata": {},
   "outputs": [],
   "source": []
  },
  {
   "cell_type": "code",
   "execution_count": null,
   "metadata": {},
   "outputs": [],
   "source": []
  },
  {
   "cell_type": "code",
   "execution_count": null,
   "metadata": {},
   "outputs": [],
   "source": []
  },
  {
   "cell_type": "code",
   "execution_count": null,
   "metadata": {},
   "outputs": [],
   "source": []
  },
  {
   "cell_type": "code",
   "execution_count": 16,
   "metadata": {},
   "outputs": [],
   "source": [
    "t = [1,2,3]\n",
    "c = {4,5}\n",
    "t1 = {1,2,3,4}"
   ]
  },
  {
   "cell_type": "code",
   "execution_count": 17,
   "metadata": {},
   "outputs": [
    {
     "data": {
      "text/plain": [
       "False"
      ]
     },
     "execution_count": 17,
     "metadata": {},
     "output_type": "execute_result"
    }
   ],
   "source": [
    "t[1] in c"
   ]
  },
  {
   "cell_type": "code",
   "execution_count": 18,
   "metadata": {},
   "outputs": [
    {
     "data": {
      "text/plain": [
       "True"
      ]
     },
     "execution_count": 18,
     "metadata": {},
     "output_type": "execute_result"
    }
   ],
   "source": [
    "any(node in t1 for node in c)"
   ]
  },
  {
   "cell_type": "code",
   "execution_count": 19,
   "metadata": {},
   "outputs": [
    {
     "data": {
      "text/plain": [
       "False"
      ]
     },
     "execution_count": 19,
     "metadata": {},
     "output_type": "execute_result"
    }
   ],
   "source": [
    "all([False])"
   ]
  },
  {
   "cell_type": "code",
   "execution_count": null,
   "metadata": {},
   "outputs": [],
   "source": []
  }
 ],
 "metadata": {
  "kernelspec": {
   "display_name": "Python 3",
   "language": "python",
   "name": "python3"
  },
  "language_info": {
   "codemirror_mode": {
    "name": "ipython",
    "version": 3
   },
   "file_extension": ".py",
   "mimetype": "text/x-python",
   "name": "python",
   "nbconvert_exporter": "python",
   "pygments_lexer": "ipython3",
   "version": "3.8.2"
  }
 },
 "nbformat": 4,
 "nbformat_minor": 4
}
