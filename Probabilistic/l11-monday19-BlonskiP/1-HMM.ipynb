{
 "cells": [
  {
   "cell_type": "code",
   "execution_count": 1,
   "metadata": {},
   "outputs": [],
   "source": [
    "%load_ext autoreload\n",
    "%autoreload 2\n",
    "\n",
    "import sys; sys.path.append('.')"
   ]
  },
  {
   "cell_type": "code",
   "execution_count": 2,
   "metadata": {},
   "outputs": [],
   "source": [
    "from copy import deepcopy\n",
    "\n",
    "import numpy as np\n",
    "\n",
    "from src.hmm import baum_welch as bw\n",
    "from src.hmm.model import HMM\n",
    "from src.hmm import visualization as vis\n",
    "from src.hmm import viterbi as vit"
   ]
  },
  {
   "cell_type": "markdown",
   "metadata": {},
   "source": [
    "**Resources**:\n",
    "- [Forward+Viterbi] https://www.cis.upenn.edu/~cis262/notes/Example-Viterbi-DNA.pdf\n",
    "- [Full intro to HMM + Forward + Viterbi] https://www.seas.upenn.edu/~cis262/notes/cis262-hmm.pdf\n",
    "- [Intro to HMM + Forward + Viterbi + Forward-Backward] http://www.cs.tut.fi/kurssit/SGN-24006/PDF/L08-HMMs.pdf\n",
    "- [Baum-Welch] https://en.wikipedia.org/wiki/Baum–Welch_algorithm\n",
    "- [Baum-Welch implementation] http://www.adeveloperdiary.com/data-science/machine-learning/derivation-and-implementation-of-baum-welch-algorithm-for-hidden-markov-model/\n",
    "- [Forward and backward implementations] http://www.adeveloperdiary.com/data-science/machine-learning/forward-and-backward-algorithm-in-hidden-markov-model/\n",
    "- [Viterbi implementation] http://www.adeveloperdiary.com/data-science/machine-learning/implement-viterbi-algorithm-in-hidden-markov-model-using-python-and-r/"
   ]
  },
  {
   "cell_type": "markdown",
   "metadata": {},
   "source": [
    "# Tasks\n",
    "1. Implement **Forward** algorithm (function: `forward()` in file `src/hmm/forward_backward.py`)\n",
    "2. Implement scoring function for given sequence of observations (function: `score_observation_sequence()` in file `src/hmm/forward_backward.py`)\n",
    "3. Implement **Viterbi decoding** algorithm (function: `viterbi_decode()` in file `src/hmm/viterbi.py`)\n",
    "4. Implement **Viterbi learning** algorithm (method `estimate_parameters()` in class `ViterbiTrainingAlgorithm` in file `src/hmm/viterbi.py`)\n",
    "5. Implement **Backward** algorithm (function `backward()` in file `src/hmm/forward_backward.py`)\n",
    "6. Implement **Baum-Welch** algorithm (method `estimate_parameters()` in class `BaumWelchAlgorithm` in file `src/hmm/baum_welch.py`)"
   ]
  },
  {
   "cell_type": "code",
   "execution_count": 3,
   "metadata": {},
   "outputs": [],
   "source": [
    "def get_gene_hmm():\n",
    "    _hmm = HMM(\n",
    "        Z=('H', 'L'),\n",
    "        X=('A', 'C', 'G', 'T'),\n",
    "        init_dist={'H': 0.5, 'L': 0.5},\n",
    "        transition_probs={\n",
    "            ('H', 'H'): 0.5, ('H', 'L'): 0.5,\n",
    "            ('L', 'L'): 0.6, ('L', 'H'): 0.4, \n",
    "        },\n",
    "        emission_probs={\n",
    "            ('A', 'H'): 0.2, ('C', 'H'): 0.3, ('G', 'H'): 0.3, ('T', 'H'): 0.2,\n",
    "            ('A', 'L'): 0.3, ('C', 'L'): 0.2, ('G', 'L'): 0.2, ('T', 'L'): 0.3,\n",
    "        }\n",
    "    )\n",
    "\n",
    "    return _hmm\n",
    "\n",
    "# def get_weather_hmm():\n",
    "#     _hmm = HMM(\n",
    "#         Z=('Rainy', 'Sunny'),\n",
    "#         X=('Walk', 'Shop', 'Clean'),\n",
    "#         init_dist={'Rainy': 0.6, 'Sunny': 0.4},\n",
    "#         transition_probs={\n",
    "#             ('Rainy', 'Rainy'): 0.7, ('Rainy', 'Sunny'): 0.3,\n",
    "#             ('Sunny', 'Rainy'): 0.4, ('Sunny', 'Sunny'): 0.6,\n",
    "#         },\n",
    "#         emission_probs={\n",
    "#             ('Walk', 'Rainy'): 0.1, ('Shop', 'Rainy'): 0.4, ('Clean', 'Rainy'): 0.5,\n",
    "#             ('Walk', 'Sunny'): 0.6, ('Shop', 'Sunny'): 0.3, ('Clean', 'Sunny'): 0.1,\n",
    "#         }\n",
    "#     )\n",
    "\n",
    "#     return _hmm"
   ]
  },
  {
   "cell_type": "markdown",
   "metadata": {},
   "source": [
    "# Define HMM\n",
    "A **Hidden Markov Model** can be defined as a quintuple $(X, Z, \\pi, a, b)$, where:\n",
    "- $X$ - set of observations\n",
    "- $Z$ - set of hidden states\n",
    "- $\\pi$ - initial state distribution; $\\pi_i = P(z^1 = z_i)$ ($\\pi_i$ denotes the probability of starting from state $z_i$)\n",
    "- $a$ - transition probability matrix $a_{ij} = P(z^t = z_j | z^{t-1} = z_i)$ ($a_{ij}$ denotes the probability of moving from state $z_i$ to state $z_j$)\n",
    "- $b$ - emission probability matrix $b_{jk} = P(x^t = x_k | z^t = z_j)$ ($b_{jk}$ denotes the probability of observing $x_k$ while being in state $z_j$)\n",
    "\n",
    "The $t$ superscript denotes time step in the seqeuntial data.\n",
    "\n",
    "In the below example we will use following parameters:\n",
    "$$X = \\{A, C, G, T\\}$$\n",
    "\n",
    "$$Z = \\{H, L\\}$$\n",
    "\n",
    "$$\\pi = [0.5, 0.5]$$\n",
    "\n",
    "$$a = \\begin{pmatrix} 0.5 & 0.5 \\\\ 0.4 & 0.6 \\end{pmatrix}$$\n",
    "\n",
    "$$b = \\begin{pmatrix} 0.2 & 0.3 \\\\ 0.3 & 0.2 \\\\ 0.3 & 0.2 \\\\ 0.2 & 0.3\\end{pmatrix}$$\n",
    "\n",
    "![](assets/hmm/gene-hmm.png)\n",
    "*Source: https://www.cis.upenn.edu/~cis262/notes/Example-Viterbi-DNA.pdf*"
   ]
  },
  {
   "cell_type": "code",
   "execution_count": 4,
   "metadata": {},
   "outputs": [
    {
     "data": {
      "text/markdown": [
       "## Basic info for HMM"
      ],
      "text/plain": [
       "<IPython.core.display.Markdown object>"
      ]
     },
     "metadata": {},
     "output_type": "display_data"
    },
    {
     "data": {
      "text/html": [
       "<div>\n",
       "<style scoped>\n",
       "    .dataframe tbody tr th:only-of-type {\n",
       "        vertical-align: middle;\n",
       "    }\n",
       "\n",
       "    .dataframe tbody tr th {\n",
       "        vertical-align: top;\n",
       "    }\n",
       "\n",
       "    .dataframe thead th {\n",
       "        text-align: right;\n",
       "    }\n",
       "</style>\n",
       "<table border=\"1\" class=\"dataframe\">\n",
       "  <thead>\n",
       "    <tr style=\"text-align: right;\">\n",
       "      <th></th>\n",
       "      <th>z_0 = \"H\"</th>\n",
       "      <th>z_0 = \"L\"</th>\n",
       "    </tr>\n",
       "  </thead>\n",
       "  <tbody>\n",
       "    <tr>\n",
       "      <th>P(z_0)</th>\n",
       "      <td>0.5</td>\n",
       "      <td>0.5</td>\n",
       "    </tr>\n",
       "  </tbody>\n",
       "</table>\n",
       "</div>"
      ],
      "text/plain": [
       "       z_0 = \"H\" z_0 = \"L\"\n",
       "P(z_0)       0.5       0.5"
      ]
     },
     "metadata": {},
     "output_type": "display_data"
    },
    {
     "data": {
      "text/html": [
       "<div>\n",
       "<style scoped>\n",
       "    .dataframe tbody tr th:only-of-type {\n",
       "        vertical-align: middle;\n",
       "    }\n",
       "\n",
       "    .dataframe tbody tr th {\n",
       "        vertical-align: top;\n",
       "    }\n",
       "\n",
       "    .dataframe thead th {\n",
       "        text-align: right;\n",
       "    }\n",
       "</style>\n",
       "<table border=\"1\" class=\"dataframe\">\n",
       "  <thead>\n",
       "    <tr style=\"text-align: right;\">\n",
       "      <th></th>\n",
       "      <th>z_t = \"H\"</th>\n",
       "      <th>z_t = \"L\"</th>\n",
       "    </tr>\n",
       "  </thead>\n",
       "  <tbody>\n",
       "    <tr>\n",
       "      <th>z_t_1 = \"H\"</th>\n",
       "      <td>0.5</td>\n",
       "      <td>0.5</td>\n",
       "    </tr>\n",
       "    <tr>\n",
       "      <th>z_t_1 = \"L\"</th>\n",
       "      <td>0.4</td>\n",
       "      <td>0.6</td>\n",
       "    </tr>\n",
       "  </tbody>\n",
       "</table>\n",
       "</div>"
      ],
      "text/plain": [
       "            z_t = \"H\" z_t = \"L\"\n",
       "z_t_1 = \"H\"       0.5       0.5\n",
       "z_t_1 = \"L\"       0.4       0.6"
      ]
     },
     "metadata": {},
     "output_type": "display_data"
    },
    {
     "data": {
      "text/html": [
       "<div>\n",
       "<style scoped>\n",
       "    .dataframe tbody tr th:only-of-type {\n",
       "        vertical-align: middle;\n",
       "    }\n",
       "\n",
       "    .dataframe tbody tr th {\n",
       "        vertical-align: top;\n",
       "    }\n",
       "\n",
       "    .dataframe thead th {\n",
       "        text-align: right;\n",
       "    }\n",
       "</style>\n",
       "<table border=\"1\" class=\"dataframe\">\n",
       "  <thead>\n",
       "    <tr style=\"text-align: right;\">\n",
       "      <th></th>\n",
       "      <th>z_t = \"H\"</th>\n",
       "      <th>z_t = \"L\"</th>\n",
       "    </tr>\n",
       "  </thead>\n",
       "  <tbody>\n",
       "    <tr>\n",
       "      <th>x_t = \"A\"</th>\n",
       "      <td>0.2</td>\n",
       "      <td>0.3</td>\n",
       "    </tr>\n",
       "    <tr>\n",
       "      <th>x_t = \"C\"</th>\n",
       "      <td>0.3</td>\n",
       "      <td>0.2</td>\n",
       "    </tr>\n",
       "    <tr>\n",
       "      <th>x_t = \"G\"</th>\n",
       "      <td>0.3</td>\n",
       "      <td>0.2</td>\n",
       "    </tr>\n",
       "    <tr>\n",
       "      <th>x_t = \"T\"</th>\n",
       "      <td>0.2</td>\n",
       "      <td>0.3</td>\n",
       "    </tr>\n",
       "  </tbody>\n",
       "</table>\n",
       "</div>"
      ],
      "text/plain": [
       "          z_t = \"H\" z_t = \"L\"\n",
       "x_t = \"A\"       0.2       0.3\n",
       "x_t = \"C\"       0.3       0.2\n",
       "x_t = \"G\"       0.3       0.2\n",
       "x_t = \"T\"       0.2       0.3"
      ]
     },
     "metadata": {},
     "output_type": "display_data"
    }
   ],
   "source": [
    "hmm = get_gene_hmm()\n",
    "# hmm = get_weather_hmm()\n",
    "\n",
    "vis.hmm_basic_info(hmm=hmm)"
   ]
  },
  {
   "cell_type": "markdown",
   "metadata": {},
   "source": [
    "# Probability of observing given sequence\n",
    "To calculate the probability of observing a sequence $X$ given model parameters $\\theta$ we use the so-called **Forward** algorithm. We start at the first observed value $x_1$ and compute its probabilities in all possible hidden states $z_1$ (probability of being in this state times the emission probability). For any other observation $x_t$, we do similar computations, but assuming that previously, we could have been in any hidden state $x_{t-1}$. Hence, we need to multiply the prob. of the previous state times the transition of the previous to current state and times the emission of the current observation. We sum such probabilities for all previous states. The matrix of all such probabilites is denoted by $\\alpha$\n",
    "\n",
    "$$\\alpha = \\forall_{z_j \\in Z} \\forall_{t \\in \\{1..T\\}} \\alpha_j(t)$$\n",
    "\n",
    "$$\n",
    " \\alpha_j(t) = \n",
    "  \\begin{cases} \n",
    "   \\pi_j b_{jk} & \\text{if } t = 1 \\\\\n",
    "   b_{jk} \\sum_{z_i \\in Z} \\alpha_i(t - 1) a_{ij} & \\text{if } t > 1\n",
    "  \\end{cases}\n",
    "$$\n",
    "\n",
    "To finally compute the probability of observing the given sequence $X$ we add the results in the last column of the $\\alpha$ matrix:\n",
    "\n",
    "$$\\mathbb{P}(x_1, \\ldots, x_T |\\theta) = \\sum_{z_i \\in Z} \\alpha_i(T)$$\n",
    "\n",
    "![](assets/hmm/forward.png)\n",
    "\n",
    "*Source: https://www.cis.upenn.edu/~cis262/notes/Example-Viterbi-DNA.pdf*"
   ]
  },
  {
   "cell_type": "code",
   "execution_count": 5,
   "metadata": {},
   "outputs": [
    {
     "name": "stdout",
     "output_type": "stream",
     "text": [
      "Log-Probability of observing X: -4.157603901861291 (actual probability: 0.015645000000000003)\n"
     ]
    },
    {
     "data": {
      "text/markdown": [
       "## Forward table"
      ],
      "text/plain": [
       "<IPython.core.display.Markdown object>"
      ]
     },
     "metadata": {},
     "output_type": "display_data"
    },
    {
     "data": {
      "text/html": [
       "<div>\n",
       "<style scoped>\n",
       "    .dataframe tbody tr th:only-of-type {\n",
       "        vertical-align: middle;\n",
       "    }\n",
       "\n",
       "    .dataframe tbody tr th {\n",
       "        vertical-align: top;\n",
       "    }\n",
       "\n",
       "    .dataframe thead th {\n",
       "        text-align: right;\n",
       "    }\n",
       "</style>\n",
       "<table border=\"1\" class=\"dataframe\">\n",
       "  <thead>\n",
       "    <tr style=\"text-align: right;\">\n",
       "      <th></th>\n",
       "      <th>t = 0</th>\n",
       "      <th>t = 1</th>\n",
       "      <th>t = 2</th>\n",
       "      <th>t = 3</th>\n",
       "    </tr>\n",
       "  </thead>\n",
       "  <tbody>\n",
       "    <tr>\n",
       "      <th>z = \"H\"</th>\n",
       "      <td>0.15</td>\n",
       "      <td>0.15</td>\n",
       "      <td>0.0345</td>\n",
       "      <td>0.0056</td>\n",
       "    </tr>\n",
       "    <tr>\n",
       "      <th>z = \"L\"</th>\n",
       "      <td>0.1</td>\n",
       "      <td>0.1</td>\n",
       "      <td>0.027</td>\n",
       "      <td>0.01</td>\n",
       "    </tr>\n",
       "  </tbody>\n",
       "</table>\n",
       "</div>"
      ],
      "text/plain": [
       "        t = 0 t = 1   t = 2   t = 3\n",
       "z = \"H\"  0.15  0.15  0.0345  0.0056\n",
       "z = \"L\"   0.1   0.1   0.027    0.01"
      ]
     },
     "metadata": {},
     "output_type": "display_data"
    }
   ],
   "source": [
    "sample_X = ['G', 'G', 'C', 'A']\n",
    "# sample_X = ['Walk', 'Clean', 'Clean', 'Clean', 'Shop']\n",
    "\n",
    "log_p, alpha = hmm.predict_proba(sample_X, return_scores=True)\n",
    "print(f'Log-Probability of observing X: {log_p} (actual probability: {np.exp(log_p)})')\n",
    "\n",
    "vis.print_table(scores=alpha, T=len(sample_X), Z=hmm.Z, name='Forward')"
   ]
  },
  {
   "cell_type": "markdown",
   "metadata": {},
   "source": [
    "# Most probable hidden state sequence for given observations\n",
    "Another problem is to find the most probable sequence of hidden states $Z_{max}$ for a given sequence of observations $X$. \n",
    "\n",
    "$$Z_{max} = \\max_{z^1, \\ldots, z^T} \\mathbb{P}(z^1,z^2,\\ldots,z^T, x^1,x^2, \\ldots, x^T | \\theta)$$\n",
    "\n",
    "We employ the **Viterbi decoding** algorithm, which uses a similar scheme like in the **Forward** algorithm, but instead of computing the sum over all previous states, it chooses the state that had the higest probability.\n",
    "\n",
    "\n",
    "$$\\omega_i(t) = \\max_{z^1, \\ldots, z^t} \\mathbb{P}(z^1, \\ldots, z^{t-1}, \\mathbf{z^t = z_i}, x^1, \\ldots, x^{t-1}, x^t | \\theta)$$\n",
    "\n",
    "$$\n",
    " \\omega_j(t) = \n",
    "  \\begin{cases} \n",
    "   \\pi_j b_{jk} & \\text{if } t = 1 \\\\\n",
    "   b_{jk} \\max_{z_i \\in Z}  a_{ij} \\omega_i(t - 1) & \\text{if } t > 1\n",
    "  \\end{cases}\n",
    "$$ \n",
    "\n",
    "While computing these values, we should mark which of the previous states had the highest probability. We can then use those to retrieve the most probable path (*backtracking*)\n",
    "\n",
    "![](assets/hmm/viterbi-decoding.png)\n",
    "\n",
    "*Source: https://www.cis.upenn.edu/~cis262/notes/Example-Viterbi-DNA.pdf*"
   ]
  },
  {
   "cell_type": "code",
   "execution_count": 6,
   "metadata": {},
   "outputs": [
    {
     "name": "stdout",
     "output_type": "stream",
     "text": [
      "Most probable sequence of hidden states: ['H', 'H', 'H', 'L']\n"
     ]
    },
    {
     "data": {
      "text/markdown": [
       "## Viterbi table"
      ],
      "text/plain": [
       "<IPython.core.display.Markdown object>"
      ]
     },
     "metadata": {},
     "output_type": "display_data"
    },
    {
     "data": {
      "text/html": [
       "<style  type=\"text/css\" >\n",
       "    #T_01c0ab95_a91b_11ea_8785_3065ecc734e0row0_col0 {\n",
       "            background-color:  yellow;\n",
       "        }    #T_01c0ab95_a91b_11ea_8785_3065ecc734e0row0_col1 {\n",
       "            background-color:  yellow;\n",
       "        }    #T_01c0ab95_a91b_11ea_8785_3065ecc734e0row0_col2 {\n",
       "            background-color:  yellow;\n",
       "        }    #T_01c0ab95_a91b_11ea_8785_3065ecc734e0row1_col3 {\n",
       "            background-color:  yellow;\n",
       "        }</style><table id=\"T_01c0ab95_a91b_11ea_8785_3065ecc734e0\" ><thead>    <tr>        <th class=\"blank level0\" ></th>        <th class=\"col_heading level0 col0\" >t = 0</th>        <th class=\"col_heading level0 col1\" >t = 1</th>        <th class=\"col_heading level0 col2\" >t = 2</th>        <th class=\"col_heading level0 col3\" >t = 3</th>    </tr></thead><tbody>\n",
       "                <tr>\n",
       "                        <th id=\"T_01c0ab95_a91b_11ea_8785_3065ecc734e0level0_row0\" class=\"row_heading level0 row0\" >z = \"H\"</th>\n",
       "                        <td id=\"T_01c0ab95_a91b_11ea_8785_3065ecc734e0row0_col0\" class=\"data row0 col0\" >(0.15, '')</td>\n",
       "                        <td id=\"T_01c0ab95_a91b_11ea_8785_3065ecc734e0row0_col1\" class=\"data row0 col1\" >(0.0225, 'H')</td>\n",
       "                        <td id=\"T_01c0ab95_a91b_11ea_8785_3065ecc734e0row0_col2\" class=\"data row0 col2\" >(0.0034, 'H')</td>\n",
       "                        <td id=\"T_01c0ab95_a91b_11ea_8785_3065ecc734e0row0_col3\" class=\"data row0 col3\" >(0.0003, 'H')</td>\n",
       "            </tr>\n",
       "            <tr>\n",
       "                        <th id=\"T_01c0ab95_a91b_11ea_8785_3065ecc734e0level0_row1\" class=\"row_heading level0 row1\" >z = \"L\"</th>\n",
       "                        <td id=\"T_01c0ab95_a91b_11ea_8785_3065ecc734e0row1_col0\" class=\"data row1 col0\" >(0.1, '')</td>\n",
       "                        <td id=\"T_01c0ab95_a91b_11ea_8785_3065ecc734e0row1_col1\" class=\"data row1 col1\" >(0.015, 'H')</td>\n",
       "                        <td id=\"T_01c0ab95_a91b_11ea_8785_3065ecc734e0row1_col2\" class=\"data row1 col2\" >(0.0022, 'H')</td>\n",
       "                        <td id=\"T_01c0ab95_a91b_11ea_8785_3065ecc734e0row1_col3\" class=\"data row1 col3\" >(0.0005, 'H')</td>\n",
       "            </tr>\n",
       "    </tbody></table>"
      ],
      "text/plain": [
       "<pandas.io.formats.style.Styler at 0x1593ae2d8b0>"
      ]
     },
     "metadata": {},
     "output_type": "display_data"
    }
   ],
   "source": [
    "max_Z, scores = hmm.predict(sample_X, return_scores=True)\n",
    "print('Most probable sequence of hidden states:', max_Z)\n",
    "\n",
    "vis.print_viterbi_table(scores=scores, T=len(sample_X), Z=hmm.Z)"
   ]
  },
  {
   "cell_type": "markdown",
   "metadata": {},
   "source": [
    "# Generate data from HMM"
   ]
  },
  {
   "cell_type": "code",
   "execution_count": 7,
   "metadata": {},
   "outputs": [
    {
     "name": "stdout",
     "output_type": "stream",
     "text": [
      "Generated sequences\n",
      "Z (hidden states): ['L', 'H', 'L', 'L', 'L', 'L', 'L', 'L', 'H', 'L']\n",
      "X (observations): ['T', 'A', 'G', 'G', 'A', 'G', 'C', 'T', 'C', 'G']\n"
     ]
    }
   ],
   "source": [
    "num_observations = 10\n",
    "X_generated, Z_generated = hmm.generate(N=num_observations)\n",
    "\n",
    "print('Generated sequences')\n",
    "print('Z (hidden states):', Z_generated)\n",
    "print('X (observations):', X_generated)"
   ]
  },
  {
   "cell_type": "markdown",
   "metadata": {},
   "source": [
    "# Training of HMM"
   ]
  },
  {
   "cell_type": "code",
   "execution_count": 8,
   "metadata": {},
   "outputs": [],
   "source": [
    "def make_dataset(model, num_seq, seq_length, train_size):\n",
    "    tr_size = int(train_size * num_seq)\n",
    "    te_size = num_seq - tr_size\n",
    "\n",
    "    ds = {\n",
    "        'train': np.array([model.generate(N=seq_length)[0] for _ in range(tr_size)]),\n",
    "        'test': np.array([model.generate(N=seq_length)[0] for _ in range(te_size)]),\n",
    "    }\n",
    "    \n",
    "    return ds"
   ]
  },
  {
   "cell_type": "code",
   "execution_count": 9,
   "metadata": {},
   "outputs": [],
   "source": [
    "def pdist(n):\n",
    "    p = np.random.uniform(size=n)\n",
    "    p /= sum(p)\n",
    "    return p\n",
    "\n",
    "\n",
    "def get_uninitialized_hmm(Z, X):\n",
    "    # Initial distribution    \n",
    "    pi = {z: v for z, v in zip(Z, pdist(len(Z)))}\n",
    "    \n",
    "    # Transition probs\n",
    "    tr = {\n",
    "        (z_t_1, z_t): p\n",
    "        for z_t_1 in Z\n",
    "        for z_t, p in zip(Z, pdist(len(Z)))\n",
    "    }\n",
    "    \n",
    "    # Emission probs\n",
    "    em = {\n",
    "        (x, z_k): p\n",
    "        for z_k in Z\n",
    "        for x, p in zip(X, pdist(len(X)))\n",
    "    }\n",
    "    \n",
    "    _hmm = HMM(Z=Z, X=X, init_dist=pi, transition_probs=tr, emission_probs=em)\n",
    "    return _hmm\n",
    "\n",
    "\n",
    "def get_uninitialized_gene_hmm():\n",
    "    return get_uninitialized_hmm(\n",
    "        Z=('H', 'L'),\n",
    "        X=('A', 'C', 'G', 'T'),\n",
    "    )\n",
    "\n",
    "\n",
    "def get_uninitialized_weather_hmm():\n",
    "    return get_uninitialized_hmm(\n",
    "        Z=('Rainy', 'Sunny'),\n",
    "        X=('Walk', 'Shop', 'Clean'),\n",
    "    )"
   ]
  },
  {
   "cell_type": "code",
   "execution_count": 10,
   "metadata": {},
   "outputs": [
    {
     "name": "stdout",
     "output_type": "stream",
     "text": [
      "Train => (800, 10)\n",
      "Test => (200, 10)\n"
     ]
    }
   ],
   "source": [
    "dataset = make_dataset(model=hmm, num_seq=1_000, seq_length=10, train_size=0.8)\n",
    "\n",
    "print('Train =>', dataset['train'].shape)\n",
    "print('Test =>', dataset['test'].shape)"
   ]
  },
  {
   "cell_type": "markdown",
   "metadata": {},
   "source": [
    "# Viterbi learning\n",
    "This algorithm is an example of using the Maximum Likelihood Estimation to obtain the model's parameters. It is defined as follows:\n",
    "1. Start from random initial parameters $\\theta_0$\n",
    "2. While stopping criterion is not fulfilled:\n",
    "    - initiate starting counts $n_\\pi$, transition counts $n_a$, emission counts $n_b$\n",
    "    - for every observation $x \\in X_{train}$:\n",
    "        - get most probable path $Z_{max}$ for $x$ (using Viterbi decoding algorithm)\n",
    "        - update $n_\\pi$, $n_a$, $n_b$ using $Z_{max}$ and $x$\n",
    "    - compute $\\theta = (\\pi, a, b)$ by normalizing the counts $n_\\pi$, $n_a$, $n_b$\n",
    "    \n",
    "    $$\\pi_i = \\frac{n_{\\pi_i}}{\\sum_{j \\in |Z|} n_{\\pi_j}}$$\n",
    "    \n",
    "    $$a_{ij} = \\frac{n_{a_{ij}}}{\\sum_{j \\in |Z|} n_{a_{ij}}}$$\n",
    "\n",
    "    $$b_{jk} = \\frac{n_{b_{jk}}}{\\sum_{k \\in |X|} n_{b_{jk}}}$$\n",
    "3. Return model with parameters $\\theta$\n",
    "\n",
    "\n",
    "As the stopping critertion we will use 2 conditions (stop if any is not fulfilled):\n",
    "- maximum number of iterations (epochs);  \n",
    "$$i < max\\_epochs$$\n",
    "- change in parameter values if smaller that a threshold; \n",
    "$$(\\theta_{i+1} - \\theta_i)^2 > \\epsilon$$"
   ]
  },
  {
   "cell_type": "code",
   "execution_count": 11,
   "metadata": {},
   "outputs": [
    {
     "data": {
      "text/markdown": [
       "## Basic info for HMM"
      ],
      "text/plain": [
       "<IPython.core.display.Markdown object>"
      ]
     },
     "metadata": {},
     "output_type": "display_data"
    },
    {
     "data": {
      "text/html": [
       "<div>\n",
       "<style scoped>\n",
       "    .dataframe tbody tr th:only-of-type {\n",
       "        vertical-align: middle;\n",
       "    }\n",
       "\n",
       "    .dataframe tbody tr th {\n",
       "        vertical-align: top;\n",
       "    }\n",
       "\n",
       "    .dataframe thead th {\n",
       "        text-align: right;\n",
       "    }\n",
       "</style>\n",
       "<table border=\"1\" class=\"dataframe\">\n",
       "  <thead>\n",
       "    <tr style=\"text-align: right;\">\n",
       "      <th></th>\n",
       "      <th>z_0 = \"H\"</th>\n",
       "      <th>z_0 = \"L\"</th>\n",
       "    </tr>\n",
       "  </thead>\n",
       "  <tbody>\n",
       "    <tr>\n",
       "      <th>P(z_0)</th>\n",
       "      <td>0.240111</td>\n",
       "      <td>0.759889</td>\n",
       "    </tr>\n",
       "  </tbody>\n",
       "</table>\n",
       "</div>"
      ],
      "text/plain": [
       "       z_0 = \"H\" z_0 = \"L\"\n",
       "P(z_0)  0.240111  0.759889"
      ]
     },
     "metadata": {},
     "output_type": "display_data"
    },
    {
     "data": {
      "text/html": [
       "<div>\n",
       "<style scoped>\n",
       "    .dataframe tbody tr th:only-of-type {\n",
       "        vertical-align: middle;\n",
       "    }\n",
       "\n",
       "    .dataframe tbody tr th {\n",
       "        vertical-align: top;\n",
       "    }\n",
       "\n",
       "    .dataframe thead th {\n",
       "        text-align: right;\n",
       "    }\n",
       "</style>\n",
       "<table border=\"1\" class=\"dataframe\">\n",
       "  <thead>\n",
       "    <tr style=\"text-align: right;\">\n",
       "      <th></th>\n",
       "      <th>z_t = \"H\"</th>\n",
       "      <th>z_t = \"L\"</th>\n",
       "    </tr>\n",
       "  </thead>\n",
       "  <tbody>\n",
       "    <tr>\n",
       "      <th>z_t_1 = \"H\"</th>\n",
       "      <td>0.676766</td>\n",
       "      <td>0.323234</td>\n",
       "    </tr>\n",
       "    <tr>\n",
       "      <th>z_t_1 = \"L\"</th>\n",
       "      <td>0.498298</td>\n",
       "      <td>0.501702</td>\n",
       "    </tr>\n",
       "  </tbody>\n",
       "</table>\n",
       "</div>"
      ],
      "text/plain": [
       "            z_t = \"H\" z_t = \"L\"\n",
       "z_t_1 = \"H\"  0.676766  0.323234\n",
       "z_t_1 = \"L\"  0.498298  0.501702"
      ]
     },
     "metadata": {},
     "output_type": "display_data"
    },
    {
     "data": {
      "text/html": [
       "<div>\n",
       "<style scoped>\n",
       "    .dataframe tbody tr th:only-of-type {\n",
       "        vertical-align: middle;\n",
       "    }\n",
       "\n",
       "    .dataframe tbody tr th {\n",
       "        vertical-align: top;\n",
       "    }\n",
       "\n",
       "    .dataframe thead th {\n",
       "        text-align: right;\n",
       "    }\n",
       "</style>\n",
       "<table border=\"1\" class=\"dataframe\">\n",
       "  <thead>\n",
       "    <tr style=\"text-align: right;\">\n",
       "      <th></th>\n",
       "      <th>z_t = \"H\"</th>\n",
       "      <th>z_t = \"L\"</th>\n",
       "    </tr>\n",
       "  </thead>\n",
       "  <tbody>\n",
       "    <tr>\n",
       "      <th>x_t = \"A\"</th>\n",
       "      <td>0.0329925</td>\n",
       "      <td>0.205225</td>\n",
       "    </tr>\n",
       "    <tr>\n",
       "      <th>x_t = \"C\"</th>\n",
       "      <td>0.468218</td>\n",
       "      <td>0.167085</td>\n",
       "    </tr>\n",
       "    <tr>\n",
       "      <th>x_t = \"G\"</th>\n",
       "      <td>0.390324</td>\n",
       "      <td>0.330994</td>\n",
       "    </tr>\n",
       "    <tr>\n",
       "      <th>x_t = \"T\"</th>\n",
       "      <td>0.108466</td>\n",
       "      <td>0.296696</td>\n",
       "    </tr>\n",
       "  </tbody>\n",
       "</table>\n",
       "</div>"
      ],
      "text/plain": [
       "           z_t = \"H\" z_t = \"L\"\n",
       "x_t = \"A\"  0.0329925  0.205225\n",
       "x_t = \"C\"   0.468218  0.167085\n",
       "x_t = \"G\"   0.390324  0.330994\n",
       "x_t = \"T\"   0.108466  0.296696"
      ]
     },
     "metadata": {},
     "output_type": "display_data"
    }
   ],
   "source": [
    "random_hmm = get_uninitialized_gene_hmm()\n",
    "# random_hmm= get_uninitialized_weather_hmm()\n",
    "\n",
    "vis.hmm_basic_info(random_hmm)"
   ]
  },
  {
   "cell_type": "code",
   "execution_count": 12,
   "metadata": {},
   "outputs": [
    {
     "data": {
      "application/vnd.jupyter.widget-view+json": {
       "model_id": "e66d60b94d2343c9aafa6bfab91ca782",
       "version_major": 2,
       "version_minor": 0
      },
      "text/plain": [
       "HBox(children=(FloatProgress(value=0.0, description='Epochs', max=30.0, style=ProgressStyle(description_width=…"
      ]
     },
     "metadata": {},
     "output_type": "display_data"
    },
    {
     "name": "stdout",
     "output_type": "stream",
     "text": [
      "Epoch: 0 => Loss: 0.4032, Log-prob: -12.478296781200571\n",
      "Epoch: 1 => Loss: 0.0, Log-prob: -12.478296781200571\n",
      "\n"
     ]
    },
    {
     "data": {
      "text/markdown": [
       "## Basic info for HMM"
      ],
      "text/plain": [
       "<IPython.core.display.Markdown object>"
      ]
     },
     "metadata": {},
     "output_type": "display_data"
    },
    {
     "data": {
      "text/html": [
       "<div>\n",
       "<style scoped>\n",
       "    .dataframe tbody tr th:only-of-type {\n",
       "        vertical-align: middle;\n",
       "    }\n",
       "\n",
       "    .dataframe tbody tr th {\n",
       "        vertical-align: top;\n",
       "    }\n",
       "\n",
       "    .dataframe thead th {\n",
       "        text-align: right;\n",
       "    }\n",
       "</style>\n",
       "<table border=\"1\" class=\"dataframe\">\n",
       "  <thead>\n",
       "    <tr style=\"text-align: right;\">\n",
       "      <th></th>\n",
       "      <th>z_0 = \"H\"</th>\n",
       "      <th>z_0 = \"L\"</th>\n",
       "    </tr>\n",
       "  </thead>\n",
       "  <tbody>\n",
       "    <tr>\n",
       "      <th>P(z_0)</th>\n",
       "      <td>0.00124844</td>\n",
       "      <td>1</td>\n",
       "    </tr>\n",
       "  </tbody>\n",
       "</table>\n",
       "</div>"
      ],
      "text/plain": [
       "         z_0 = \"H\" z_0 = \"L\"\n",
       "P(z_0)  0.00124844         1"
      ]
     },
     "metadata": {},
     "output_type": "display_data"
    },
    {
     "data": {
      "text/html": [
       "<div>\n",
       "<style scoped>\n",
       "    .dataframe tbody tr th:only-of-type {\n",
       "        vertical-align: middle;\n",
       "    }\n",
       "\n",
       "    .dataframe tbody tr th {\n",
       "        vertical-align: top;\n",
       "    }\n",
       "\n",
       "    .dataframe thead th {\n",
       "        text-align: right;\n",
       "    }\n",
       "</style>\n",
       "<table border=\"1\" class=\"dataframe\">\n",
       "  <thead>\n",
       "    <tr style=\"text-align: right;\">\n",
       "      <th></th>\n",
       "      <th>z_t = \"H\"</th>\n",
       "      <th>z_t = \"L\"</th>\n",
       "    </tr>\n",
       "  </thead>\n",
       "  <tbody>\n",
       "    <tr>\n",
       "      <th>z_t_1 = \"H\"</th>\n",
       "      <td>0.484145</td>\n",
       "      <td>0.515855</td>\n",
       "    </tr>\n",
       "    <tr>\n",
       "      <th>z_t_1 = \"L\"</th>\n",
       "      <td>0.476478</td>\n",
       "      <td>0.523522</td>\n",
       "    </tr>\n",
       "  </tbody>\n",
       "</table>\n",
       "</div>"
      ],
      "text/plain": [
       "            z_t = \"H\" z_t = \"L\"\n",
       "z_t_1 = \"H\"  0.484145  0.515855\n",
       "z_t_1 = \"L\"  0.476478  0.523522"
      ]
     },
     "metadata": {},
     "output_type": "display_data"
    },
    {
     "data": {
      "text/html": [
       "<div>\n",
       "<style scoped>\n",
       "    .dataframe tbody tr th:only-of-type {\n",
       "        vertical-align: middle;\n",
       "    }\n",
       "\n",
       "    .dataframe tbody tr th {\n",
       "        vertical-align: top;\n",
       "    }\n",
       "\n",
       "    .dataframe thead th {\n",
       "        text-align: right;\n",
       "    }\n",
       "</style>\n",
       "<table border=\"1\" class=\"dataframe\">\n",
       "  <thead>\n",
       "    <tr style=\"text-align: right;\">\n",
       "      <th></th>\n",
       "      <th>z_t = \"H\"</th>\n",
       "      <th>z_t = \"L\"</th>\n",
       "    </tr>\n",
       "  </thead>\n",
       "  <tbody>\n",
       "    <tr>\n",
       "      <th>x_t = \"A\"</th>\n",
       "      <td>0.000289352</td>\n",
       "      <td>0.461099</td>\n",
       "    </tr>\n",
       "    <tr>\n",
       "      <th>x_t = \"C\"</th>\n",
       "      <td>0.498553</td>\n",
       "      <td>0.0441758</td>\n",
       "    </tr>\n",
       "    <tr>\n",
       "      <th>x_t = \"G\"</th>\n",
       "      <td>0.501447</td>\n",
       "      <td>0.0432967</td>\n",
       "    </tr>\n",
       "    <tr>\n",
       "      <th>x_t = \"T\"</th>\n",
       "      <td>0.000289352</td>\n",
       "      <td>0.451429</td>\n",
       "    </tr>\n",
       "  </tbody>\n",
       "</table>\n",
       "</div>"
      ],
      "text/plain": [
       "             z_t = \"H\"  z_t = \"L\"\n",
       "x_t = \"A\"  0.000289352   0.461099\n",
       "x_t = \"C\"     0.498553  0.0441758\n",
       "x_t = \"G\"     0.501447  0.0432967\n",
       "x_t = \"T\"  0.000289352   0.451429"
      ]
     },
     "metadata": {},
     "output_type": "display_data"
    },
    {
     "name": "stdout",
     "output_type": "stream",
     "text": [
      "Test log-p: -12.40718045117797\n"
     ]
    },
    {
     "data": {
      "image/png": "[encoded data removed]",
      "text/plain": [
       "<Figure size 1080x288 with 2 Axes>"
      ]
     },
     "metadata": {
      "needs_background": "light"
     },
     "output_type": "display_data"
    }
   ],
   "source": [
    "hmm_viterbi = deepcopy(random_hmm)\n",
    "logs = hmm_viterbi.fit(X=dataset['train'], algorithm='viterbi')\n",
    "vis.hmm_basic_info(hmm_viterbi)\n",
    "vis.training_plots(hmm_viterbi, logs['losses'], logs['probas'], dataset['test'])"
   ]
  },
  {
   "cell_type": "markdown",
   "metadata": {},
   "source": [
    "# Forward-backward (Baum-Welch)\n",
    "Before we explain the Baum-Welch algorithm, we need to introduce the **Backward** algorithm. It can be seen as a symmetrical (in time) version of the **Forward** algorithm. At a given moment $t$, we want to estimate the probability of observing symbols $x^{t+1}, \\ldots, x^T$ while being in state $z^t = z_i$.\n",
    "\n",
    "$$\\beta_i(t) = \\mathbb{P}(x^{t+1}, \\ldots, x^T|z^t = z_i)$$\n",
    "\n",
    "We compute a matrix $\\beta$, where:\n",
    "\n",
    "$$\\beta = \\forall_{z_i \\in Z} \\forall_{t \\in \\{1..T\\}} \\beta_i(t)$$\n",
    "\n",
    "$$\n",
    " \\beta_i(t) =\n",
    "  \\begin{cases}\n",
    "   1 & \\text{if } t = T \\\\\n",
    "   \\sum_{z_j \\in Z} a_{ij} b_{jk_{t+1}} \\beta_j(t + 1)    & \\text{if } t < T\n",
    "  \\end{cases}\n",
    "$$\n",
    "\n",
    "\n",
    "Using both algorithms we can define the **Forward-backward** (aka **Baum-Welch**) algorithm:\n",
    "1. Start from random initial parameters $\\theta_0$\n",
    "2. While stopping criterion is not fulfilled:\n",
    "    - for every observation $x^{(r)} \\in X_{train}$, where $r \\in R$ and $R = |X_{train}|$:\n",
    "        - compute $\\alpha^{(r)}$ and $\\beta^{(r)}$ for observations $x^{(r)}$\n",
    "        - perform expectation step: compute $\\xi^{(r)}$ and $\\gamma^{(r)}$ for current parameters $\\theta$\n",
    "        \n",
    "        $$\\gamma^{(r)}_{i}(t) = \\frac{\\alpha^{(r)}_i(t)\\beta^{(r)}_i(t)}{\\sum_{z_j \\in Z} \\alpha^{(r)}_j(t)\\beta^{(r)}_j(t)}$$\n",
    "        \n",
    "        $$\\xi_{ij}^{(r)}(t) = \\frac{\\alpha_i^{(r)}(t)a_{ij}\\beta_j^{(r)}(t + 1)b_{jk_{t+1}}^{(r)}}{\\sum_{z_u \\in Z} \\sum_{z_v \\in Z} \\alpha_u^{(r)}(t)a_{uv}\\beta_v^{(r)}(t + 1)b_{vk_{t+1}}^{(r)}}  $$\n",
    "        \n",
    "        - perform maximization step: compute new parameters $\\theta$ using $\\xi$ and $\\gamma$\n",
    "        \n",
    "        $$\\pi_i = \\frac{\\sum_{r = 1}^R \\gamma_i^{(r)}(1)}{R}$$\n",
    "        \n",
    "        $$a_{ij} = \\frac{\\sum_{r = 1}^R \\sum_{t = 1}^{T-1} \\xi_{ij}^{(r)}(t)}{\\sum_{r = 1}^R \\sum_{t = 1}^{T-1} \\gamma_i^{(r)}(t)}$$\n",
    "        \n",
    "        $$b_{jk} = \\frac{\\sum_{r = 1}^R \\sum_{t = 1}^T \\gamma_j^{(r)}(t) \\mathbb{1}_{x_{t}^{(r)} = x_k}}{\\sum_{r = 1}^R \\sum_{t = 1}^T \\gamma_j^{(r)}(t)}$$\n",
    "3. Return model with parameters $\\theta$"
   ]
  },
  {
   "cell_type": "code",
   "execution_count": 13,
   "metadata": {},
   "outputs": [
    {
     "data": {
      "application/vnd.jupyter.widget-view+json": {
       "model_id": "536665138cd34242bcb9083c012b379f",
       "version_major": 2,
       "version_minor": 0
      },
      "text/plain": [
       "HBox(children=(FloatProgress(value=0.0, description='Epochs', max=30.0, style=ProgressStyle(description_width=…"
      ]
     },
     "metadata": {},
     "output_type": "display_data"
    },
    {
     "name": "stdout",
     "output_type": "stream",
     "text": [
      "Epoch: 0 => Loss: 0.05633, Log-prob: -12.626315046067102\n",
      "Epoch: 1 => Loss: 0.0287, Log-prob: -12.591520605806483\n",
      "Epoch: 2 => Loss: 0.01409, Log-prob: -12.57106493597141\n",
      "Epoch: 3 => Loss: 0.00721, Log-prob: -12.55812289577413\n",
      "Epoch: 4 => Loss: 0.00392, Log-prob: -12.549365646381112\n",
      "Epoch: 5 => Loss: 0.00226, Log-prob: -12.543113217460128\n",
      "Epoch: 6 => Loss: 0.00137, Log-prob: -12.538458601349207\n",
      "Epoch: 7 => Loss: 0.00086, Log-prob: -12.53487827447001\n",
      "Epoch: 8 => Loss: 0.00056, Log-prob: -12.532051909701323\n",
      "Epoch: 9 => Loss: 0.00038, Log-prob: -12.529773616269498\n",
      "Epoch: 10 => Loss: 0.00026, Log-prob: -12.527905472516096\n",
      "Epoch: 11 => Loss: 0.00019, Log-prob: -12.526351811116442\n",
      "Epoch: 12 => Loss: 0.00013, Log-prob: -12.525044279213818\n",
      "Epoch: 13 => Loss: 0.0001, Log-prob: -12.52393278377479\n",
      "\n"
     ]
    },
    {
     "data": {
      "text/markdown": [
       "## Basic info for HMM"
      ],
      "text/plain": [
       "<IPython.core.display.Markdown object>"
      ]
     },
     "metadata": {},
     "output_type": "display_data"
    },
    {
     "data": {
      "text/html": [
       "<div>\n",
       "<style scoped>\n",
       "    .dataframe tbody tr th:only-of-type {\n",
       "        vertical-align: middle;\n",
       "    }\n",
       "\n",
       "    .dataframe tbody tr th {\n",
       "        vertical-align: top;\n",
       "    }\n",
       "\n",
       "    .dataframe thead th {\n",
       "        text-align: right;\n",
       "    }\n",
       "</style>\n",
       "<table border=\"1\" class=\"dataframe\">\n",
       "  <thead>\n",
       "    <tr style=\"text-align: right;\">\n",
       "      <th></th>\n",
       "      <th>z_0 = \"H\"</th>\n",
       "      <th>z_0 = \"L\"</th>\n",
       "    </tr>\n",
       "  </thead>\n",
       "  <tbody>\n",
       "    <tr>\n",
       "      <th>P(z_0)</th>\n",
       "      <td>0.133583</td>\n",
       "      <td>0.866417</td>\n",
       "    </tr>\n",
       "  </tbody>\n",
       "</table>\n",
       "</div>"
      ],
      "text/plain": [
       "       z_0 = \"H\" z_0 = \"L\"\n",
       "P(z_0)  0.133583  0.866417"
      ]
     },
     "metadata": {},
     "output_type": "display_data"
    },
    {
     "data": {
      "text/html": [
       "<div>\n",
       "<style scoped>\n",
       "    .dataframe tbody tr th:only-of-type {\n",
       "        vertical-align: middle;\n",
       "    }\n",
       "\n",
       "    .dataframe tbody tr th {\n",
       "        vertical-align: top;\n",
       "    }\n",
       "\n",
       "    .dataframe thead th {\n",
       "        text-align: right;\n",
       "    }\n",
       "</style>\n",
       "<table border=\"1\" class=\"dataframe\">\n",
       "  <thead>\n",
       "    <tr style=\"text-align: right;\">\n",
       "      <th></th>\n",
       "      <th>z_t = \"H\"</th>\n",
       "      <th>z_t = \"L\"</th>\n",
       "    </tr>\n",
       "  </thead>\n",
       "  <tbody>\n",
       "    <tr>\n",
       "      <th>z_t_1 = \"H\"</th>\n",
       "      <td>0.199517</td>\n",
       "      <td>0.800483</td>\n",
       "    </tr>\n",
       "    <tr>\n",
       "      <th>z_t_1 = \"L\"</th>\n",
       "      <td>0.114728</td>\n",
       "      <td>0.885272</td>\n",
       "    </tr>\n",
       "  </tbody>\n",
       "</table>\n",
       "</div>"
      ],
      "text/plain": [
       "            z_t = \"H\" z_t = \"L\"\n",
       "z_t_1 = \"H\"  0.199517  0.800483\n",
       "z_t_1 = \"L\"  0.114728  0.885272"
      ]
     },
     "metadata": {},
     "output_type": "display_data"
    },
    {
     "data": {
      "text/html": [
       "<div>\n",
       "<style scoped>\n",
       "    .dataframe tbody tr th:only-of-type {\n",
       "        vertical-align: middle;\n",
       "    }\n",
       "\n",
       "    .dataframe tbody tr th {\n",
       "        vertical-align: top;\n",
       "    }\n",
       "\n",
       "    .dataframe thead th {\n",
       "        text-align: right;\n",
       "    }\n",
       "</style>\n",
       "<table border=\"1\" class=\"dataframe\">\n",
       "  <thead>\n",
       "    <tr style=\"text-align: right;\">\n",
       "      <th></th>\n",
       "      <th>z_t = \"H\"</th>\n",
       "      <th>z_t = \"L\"</th>\n",
       "    </tr>\n",
       "  </thead>\n",
       "  <tbody>\n",
       "    <tr>\n",
       "      <th>x_t = \"A\"</th>\n",
       "      <td>0.0329925</td>\n",
       "      <td>0.205225</td>\n",
       "    </tr>\n",
       "    <tr>\n",
       "      <th>x_t = \"C\"</th>\n",
       "      <td>0.468218</td>\n",
       "      <td>0.167085</td>\n",
       "    </tr>\n",
       "    <tr>\n",
       "      <th>x_t = \"G\"</th>\n",
       "      <td>0.390324</td>\n",
       "      <td>0.330994</td>\n",
       "    </tr>\n",
       "    <tr>\n",
       "      <th>x_t = \"T\"</th>\n",
       "      <td>0.108466</td>\n",
       "      <td>0.296696</td>\n",
       "    </tr>\n",
       "  </tbody>\n",
       "</table>\n",
       "</div>"
      ],
      "text/plain": [
       "           z_t = \"H\" z_t = \"L\"\n",
       "x_t = \"A\"  0.0329925  0.205225\n",
       "x_t = \"C\"   0.468218  0.167085\n",
       "x_t = \"G\"   0.390324  0.330994\n",
       "x_t = \"T\"   0.108466  0.296696"
      ]
     },
     "metadata": {},
     "output_type": "display_data"
    },
    {
     "name": "stdout",
     "output_type": "stream",
     "text": [
      "Test log-p: -12.616761241983944\n"
     ]
    },
    {
     "data": {
      "image/png": "[encoded data removed]",
      "text/plain": [
       "<Figure size 1080x288 with 2 Axes>"
      ]
     },
     "metadata": {
      "needs_background": "light"
     },
     "output_type": "display_data"
    }
   ],
   "source": [
    "hmm_bw = deepcopy(random_hmm)\n",
    "logs = hmm_bw.fit(X=dataset['train'], algorithm='baum-welch')\n",
    "\n",
    "vis.hmm_basic_info(hmm_bw)\n",
    "vis.training_plots(hmm_bw, logs['losses'], logs['probas'], dataset['test'])"
   ]
  },
  {
   "cell_type": "code",
   "execution_count": null,
   "metadata": {},
   "outputs": [],
   "source": []
  }
 ],
 "metadata": {
  "kernelspec": {
   "display_name": "Python 3",
   "language": "python",
   "name": "python3"
  },
  "language_info": {
   "codemirror_mode": {
    "name": "ipython",
    "version": 3
   },
   "file_extension": ".py",
   "mimetype": "text/x-python",
   "name": "python",
   "nbconvert_exporter": "python",
   "pygments_lexer": "ipython3",
   "version": "3.8.2"
  }
 },
 "nbformat": 4,
 "nbformat_minor": 4
}
