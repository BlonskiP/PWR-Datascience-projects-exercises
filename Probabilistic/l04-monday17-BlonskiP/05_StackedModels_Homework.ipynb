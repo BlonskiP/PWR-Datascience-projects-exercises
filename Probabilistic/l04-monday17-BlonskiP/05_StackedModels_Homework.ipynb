{
 "cells": [
  {
   "cell_type": "markdown",
   "metadata": {},
   "source": [
    "After submitting admissions the students were awarded with some amount of money, depending on the `Univeraity Rating` and `Chance of Admit`.\n",
    "\n",
    "$$ \\textrm{Award} = \\textrm{Chance of Admit} * \\textrm{multiplier}_{\\textrm{University Rating}}$$\n",
    "\n",
    "However some information has been lost:\n",
    "- `Chance of Admit` for each student\n",
    "- Multipliers\n",
    "\n",
    "Fortunatelly we have information about the award amounts (`Award`) and students data (`GRE Score`, `TOEFL Score`, `University Rating`, `SOP`, `LOR`, `CGPA`, `Research`, `Chance of Admit`) from admissions.\n",
    "\n",
    "Build a Bayesian model (possibly linear) for predicting `Chance of Admit` and use in a model that predicts `Award` and train them simultanously using `x_train` and `y_train_award`.\n",
    "\n",
    "Evaluate the obtained models on:\n",
    "- `x_test` and `y_test_award` with the stacked model\n",
    "- `x_test` and `y_test_chance` with the \"internal\" model"
   ]
  },
  {
   "cell_type": "code",
   "execution_count": null,
   "metadata": {},
   "outputs": [],
   "source": [
    "%load_ext autoreload\n",
    "%autoreload 2\n",
    "\n",
    "import pickle\n",
    "import pyro\n",
    "from pyro.nn import PyroModule, PyroSample\n",
    "from pyro.infer import SVI, Trace_ELBO, TraceGraph_ELBO\n",
    "import pyro.distributions as dist\n",
    "from torch import nn\n",
    "import torch\n",
    "from torch.distributions import constraints\n",
    "from pyro.optim import SGD, Adam\n",
    "from matplotlib import pyplot as plt"
   ]
  },
  {
   "cell_type": "code",
   "execution_count": null,
   "metadata": {},
   "outputs": [],
   "source": [
    "import sys\n",
    "sys.path.append('./')"
   ]
  },
  {
   "cell_type": "code",
   "execution_count": null,
   "metadata": {},
   "outputs": [],
   "source": [
    "from src.utils import run_svi, SviPredictive, summary\n",
    "from src.visualization import plot_predictions"
   ]
  },
  {
   "cell_type": "code",
   "execution_count": null,
   "metadata": {},
   "outputs": [],
   "source": [
    "with open('./data/stacked-regression.pkl', 'rb') as f:\n",
    "    data = pickle.load(f)\n",
    "x_train = data['x_train']\n",
    "y_train_award = data['y_train_award']\n",
    "y_train_chance = data['y_train_chance']\n",
    "x_test = data['x_test']\n",
    "y_test_award = data['y_test_award']\n",
    "y_test_chance = data['y_test_chance']"
   ]
  },
  {
   "cell_type": "code",
   "execution_count": null,
   "metadata": {},
   "outputs": [],
   "source": [
    "class BayesianLinearRegression(PyroModule):\n",
    "    def __init__(self, n_input):\n",
    "        super().__init__()\n",
    "        self.n_input = n_input\n",
    "        \n",
    "    def model(self, x, y=None):\n",
    "        pass\n",
    "\n",
    "    def forward(self, *args, **kwargs):\n",
    "        return self.model(*args, **kwargs)\n",
    "    \n",
    "    def guide(self, x, y=None):\n",
    "        # Make sure that guide returns a value\n",
    "        pass\n",
    "\n",
    "    \n",
    "class StackedModel(nn.Module):\n",
    "    \n",
    "    def __init__(self, n_input, initial_multipliers, university_rating_column, university_ratings):\n",
    "        super().__init__()\n",
    "        self.logit = nn.Sigmoid()\n",
    "        self.linear_regression = BayesianLinearRegression(n_input)\n",
    "        \n",
    "        self.initial_multipliers = initial_multipliers\n",
    "        self.university_rating_column = university_rating_column\n",
    "        self.university_ratings = university_ratings\n",
    "        \n",
    "    def model(self, x, y=None):\n",
    "        # Use `model` from `self.linear_regression`\n",
    "        pass\n",
    "    \n",
    "    def forward(self, *args, **kwargs):\n",
    "        return self.model(*args, **kwargs)\n",
    "    \n",
    "    def guide(self, x, y=None):\n",
    "        # Use `guide` from `self.linear_regression`\n",
    "        pass"
   ]
  },
  {
   "cell_type": "code",
   "execution_count": null,
   "metadata": {
    "scrolled": false
   },
   "outputs": [],
   "source": [
    "m = StackedModel(\n",
    "    n_input=7,\n",
    "    initial_multipliers={\n",
    "        1: 90,\n",
    "        2: 54,\n",
    "        3: 32,\n",
    "        4: 101,\n",
    "        5: 56,\n",
    "    },\n",
    "    university_rating_column=2,\n",
    "    university_ratings=range(1,6),\n",
    ")\n",
    "\n",
    "elbos, params = run_svi(\n",
    "    m,\n",
    "    m.guide,\n",
    "    x_train,\n",
    "    y_train_award,\n",
    "    verbose=True,\n",
    "    optimizer=Adam({\"lr\": 0.0001}),\n",
    "    num_iters=5_000,\n",
    "    loss=TraceGraph_ELBO()\n",
    ")\n",
    "print(dict(pyro.get_param_store()))\n",
    "plt.plot(elbos)\n",
    "plt.title('ELBO')\n",
    "plt.show()\n",
    "\n",
    "for param in params[0].keys():\n",
    "    y = [d[param].detach().reshape(-1).numpy() for d in params]\n",
    "    plt.plot(y)\n",
    "    plt.title(param)\n",
    "    plt.show()"
   ]
  },
  {
   "cell_type": "markdown",
   "metadata": {},
   "source": [
    "# Model evaluation"
   ]
  },
  {
   "cell_type": "code",
   "execution_count": null,
   "metadata": {},
   "outputs": [],
   "source": [
    "num_samples = 1_000"
   ]
  },
  {
   "cell_type": "markdown",
   "metadata": {},
   "source": [
    "## Chance of Admit Model Evaluation"
   ]
  },
  {
   "cell_type": "code",
   "execution_count": null,
   "metadata": {},
   "outputs": [],
   "source": [
    "chance_predictive = SviPredictive(\n",
    "    m.linear_regression.model,\n",
    "    guide=m.linear_regression.guide,\n",
    "    num_samples=num_samples,\n",
    "    return_sites=('chance_off_admit-obs','_RETURN')\n",
    ")\n",
    "properties = {\n",
    "    'x': 0,\n",
    "    'x_label': \"GRE Score\",\n",
    "    'y_label': \"Chance of Admit\",\n",
    "    'category': 6,\n",
    "    'category_labels': {\n",
    "        0: \"No exp. in research\",\n",
    "        1: \"Exp. in research\",\n",
    "    }\n",
    "}\n",
    "predictors = {\n",
    "    'SVI - Chance of Admit': chance_predictive\n",
    "}\n",
    "data = {\n",
    "    'x': x_test,\n",
    "    'y': torch.log(y_test_chance / (1 - y_test_chance)) # inverse of nn.Sigmoid()\n",
    "}\n",
    "plot_predictions(data, predictors, properties, obs_site_name='chance_off_admit-obs')"
   ]
  },
  {
   "cell_type": "markdown",
   "metadata": {},
   "source": [
    "## Award Model Evaluation"
   ]
  },
  {
   "cell_type": "code",
   "execution_count": null,
   "metadata": {},
   "outputs": [],
   "source": [
    "award_predictive = SviPredictive(\n",
    "    m.model,\n",
    "    guide=m.guide,\n",
    "    num_samples=num_samples,\n",
    "    return_sites=('stacked-obs','_RETURN')\n",
    ")\n",
    "properties = {\n",
    "    'x': 0,\n",
    "    'x_label': \"GRE Score\",\n",
    "    'y_label': \"Award\",\n",
    "    'category': 6,\n",
    "    'category_labels': {\n",
    "        0: \"No exp. in research\",\n",
    "        1: \"Exp. in research\",\n",
    "    }\n",
    "}\n",
    "predictors = {\n",
    "    'SVI - Award': award_predictive\n",
    "}\n",
    "data = {\n",
    "    'x': x_test,\n",
    "    'y': y_test_award\n",
    "}\n",
    "plot_predictions(data, predictors, properties, obs_site_name='stacked-obs')"
   ]
  }
 ],
 "metadata": {
  "kernelspec": {
   "display_name": "Python 3",
   "language": "python",
   "name": "python3"
  },
  "language_info": {
   "codemirror_mode": {
    "name": "ipython",
    "version": 3
   },
   "file_extension": ".py",
   "mimetype": "text/x-python",
   "name": "python",
   "nbconvert_exporter": "python",
   "pygments_lexer": "ipython3",
   "version": "3.8.2"
  }
 },
 "nbformat": 4,
 "nbformat_minor": 4
}
