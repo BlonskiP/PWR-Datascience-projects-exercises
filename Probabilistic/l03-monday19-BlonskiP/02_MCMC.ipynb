{
 "cells": [
  {
   "cell_type": "code",
   "execution_count": 1,
   "metadata": {
    "pycharm": {}
   },
   "outputs": [],
   "source": [
    "import sys\n",
    "sys.path.append('.')\n",
    "\n",
    "%load_ext autoreload\n",
    "%autoreload 2"
   ]
  },
  {
   "cell_type": "code",
   "execution_count": 2,
   "metadata": {},
   "outputs": [],
   "source": [
    "import pyro\n",
    "\n",
    "pyro.set_rng_seed(100)"
   ]
  },
  {
   "cell_type": "code",
   "execution_count": 3,
   "metadata": {
    "pycharm": {}
   },
   "outputs": [
    {
     "name": "stderr",
     "output_type": "stream",
     "text": [
      "\n",
      "Bad key \"text.kerning_factor\" on line 4 in\n",
      "C:\\Users\\Wilk-PC\\Anaconda3\\envs\\lab\\lib\\site-packages\\matplotlib\\mpl-data\\stylelib\\_classic_test_patch.mplstyle.\n",
      "You probably need to get an updated matplotlibrc file from\n",
      "https://github.com/matplotlib/matplotlib/blob/v3.1.3/matplotlibrc.template\n",
      "or from the matplotlib source distribution\n"
     ]
    }
   ],
   "source": [
    "from IPython.display import Code, display\n",
    "import numpy as np\n",
    "\n",
    "from src.mcmc import dataset\n",
    "from src.mcmc import infer\n",
    "from src.mcmc import model\n",
    "from src.mcmc import vis"
   ]
  },
  {
   "cell_type": "markdown",
   "metadata": {
    "pycharm": {}
   },
   "source": [
    "# Dataset generation"
   ]
  },
  {
   "cell_type": "code",
   "execution_count": 4,
   "metadata": {
    "pycharm": {}
   },
   "outputs": [
    {
     "data": {
      "text/html": [
       "<style>.output_html .hll { background-color: #ffffcc }\n",
       ".output_html  { background: #f8f8f8; }\n",
       ".output_html .c { color: #408080; font-style: italic } /* Comment */\n",
       ".output_html .err { border: 1px solid #FF0000 } /* Error */\n",
       ".output_html .k { color: #008000; font-weight: bold } /* Keyword */\n",
       ".output_html .o { color: #666666 } /* Operator */\n",
       ".output_html .ch { color: #408080; font-style: italic } /* Comment.Hashbang */\n",
       ".output_html .cm { color: #408080; font-style: italic } /* Comment.Multiline */\n",
       ".output_html .cp { color: #BC7A00 } /* Comment.Preproc */\n",
       ".output_html .cpf { color: #408080; font-style: italic } /* Comment.PreprocFile */\n",
       ".output_html .c1 { color: #408080; font-style: italic } /* Comment.Single */\n",
       ".output_html .cs { color: #408080; font-style: italic } /* Comment.Special */\n",
       ".output_html .gd { color: #A00000 } /* Generic.Deleted */\n",
       ".output_html .ge { font-style: italic } /* Generic.Emph */\n",
       ".output_html .gr { color: #FF0000 } /* Generic.Error */\n",
       ".output_html .gh { color: #000080; font-weight: bold } /* Generic.Heading */\n",
       ".output_html .gi { color: #00A000 } /* Generic.Inserted */\n",
       ".output_html .go { color: #888888 } /* Generic.Output */\n",
       ".output_html .gp { color: #000080; font-weight: bold } /* Generic.Prompt */\n",
       ".output_html .gs { font-weight: bold } /* Generic.Strong */\n",
       ".output_html .gu { color: #800080; font-weight: bold } /* Generic.Subheading */\n",
       ".output_html .gt { color: #0044DD } /* Generic.Traceback */\n",
       ".output_html .kc { color: #008000; font-weight: bold } /* Keyword.Constant */\n",
       ".output_html .kd { color: #008000; font-weight: bold } /* Keyword.Declaration */\n",
       ".output_html .kn { color: #008000; font-weight: bold } /* Keyword.Namespace */\n",
       ".output_html .kp { color: #008000 } /* Keyword.Pseudo */\n",
       ".output_html .kr { color: #008000; font-weight: bold } /* Keyword.Reserved */\n",
       ".output_html .kt { color: #B00040 } /* Keyword.Type */\n",
       ".output_html .m { color: #666666 } /* Literal.Number */\n",
       ".output_html .s { color: #BA2121 } /* Literal.String */\n",
       ".output_html .na { color: #7D9029 } /* Name.Attribute */\n",
       ".output_html .nb { color: #008000 } /* Name.Builtin */\n",
       ".output_html .nc { color: #0000FF; font-weight: bold } /* Name.Class */\n",
       ".output_html .no { color: #880000 } /* Name.Constant */\n",
       ".output_html .nd { color: #AA22FF } /* Name.Decorator */\n",
       ".output_html .ni { color: #999999; font-weight: bold } /* Name.Entity */\n",
       ".output_html .ne { color: #D2413A; font-weight: bold } /* Name.Exception */\n",
       ".output_html .nf { color: #0000FF } /* Name.Function */\n",
       ".output_html .nl { color: #A0A000 } /* Name.Label */\n",
       ".output_html .nn { color: #0000FF; font-weight: bold } /* Name.Namespace */\n",
       ".output_html .nt { color: #008000; font-weight: bold } /* Name.Tag */\n",
       ".output_html .nv { color: #19177C } /* Name.Variable */\n",
       ".output_html .ow { color: #AA22FF; font-weight: bold } /* Operator.Word */\n",
       ".output_html .w { color: #bbbbbb } /* Text.Whitespace */\n",
       ".output_html .mb { color: #666666 } /* Literal.Number.Bin */\n",
       ".output_html .mf { color: #666666 } /* Literal.Number.Float */\n",
       ".output_html .mh { color: #666666 } /* Literal.Number.Hex */\n",
       ".output_html .mi { color: #666666 } /* Literal.Number.Integer */\n",
       ".output_html .mo { color: #666666 } /* Literal.Number.Oct */\n",
       ".output_html .sa { color: #BA2121 } /* Literal.String.Affix */\n",
       ".output_html .sb { color: #BA2121 } /* Literal.String.Backtick */\n",
       ".output_html .sc { color: #BA2121 } /* Literal.String.Char */\n",
       ".output_html .dl { color: #BA2121 } /* Literal.String.Delimiter */\n",
       ".output_html .sd { color: #BA2121; font-style: italic } /* Literal.String.Doc */\n",
       ".output_html .s2 { color: #BA2121 } /* Literal.String.Double */\n",
       ".output_html .se { color: #BB6622; font-weight: bold } /* Literal.String.Escape */\n",
       ".output_html .sh { color: #BA2121 } /* Literal.String.Heredoc */\n",
       ".output_html .si { color: #BB6688; font-weight: bold } /* Literal.String.Interpol */\n",
       ".output_html .sx { color: #008000 } /* Literal.String.Other */\n",
       ".output_html .sr { color: #BB6688 } /* Literal.String.Regex */\n",
       ".output_html .s1 { color: #BA2121 } /* Literal.String.Single */\n",
       ".output_html .ss { color: #19177C } /* Literal.String.Symbol */\n",
       ".output_html .bp { color: #008000 } /* Name.Builtin.Pseudo */\n",
       ".output_html .fm { color: #0000FF } /* Name.Function.Magic */\n",
       ".output_html .vc { color: #19177C } /* Name.Variable.Class */\n",
       ".output_html .vg { color: #19177C } /* Name.Variable.Global */\n",
       ".output_html .vi { color: #19177C } /* Name.Variable.Instance */\n",
       ".output_html .vm { color: #19177C } /* Name.Variable.Magic */\n",
       ".output_html .il { color: #666666 } /* Literal.Number.Integer.Long */</style><div class=\"highlight\"><pre><span></span><span class=\"sd\">&quot;&quot;&quot;Function for dataset generation.&quot;&quot;&quot;</span>\n",
       "<span class=\"kn\">import</span> <span class=\"nn\">numpy</span> <span class=\"k\">as</span> <span class=\"nn\">np</span>\n",
       "<span class=\"kn\">from</span> <span class=\"nn\">sklearn</span> <span class=\"kn\">import</span> <span class=\"n\">model_selection</span> <span class=\"k\">as</span> <span class=\"n\">sk_ms</span>\n",
       "<span class=\"kn\">import</span> <span class=\"nn\">torch</span>\n",
       "\n",
       "\n",
       "<span class=\"k\">def</span> <span class=\"nf\">generate_dataset</span><span class=\"p\">(</span><span class=\"n\">num_total</span><span class=\"p\">,</span> <span class=\"n\">train_size</span><span class=\"p\">):</span>\n",
       "    <span class=\"sd\">&quot;&quot;&quot;Generates dataset with `num_total` samples and given train size.&quot;&quot;&quot;</span>\n",
       "    <span class=\"c1\"># Data generator parameters</span>\n",
       "    <span class=\"n\">means</span> <span class=\"o\">=</span> <span class=\"p\">{</span><span class=\"mi\">0</span><span class=\"p\">:</span> <span class=\"mf\">0.99</span><span class=\"p\">,</span> <span class=\"mi\">1</span><span class=\"p\">:</span> <span class=\"mf\">0.75</span><span class=\"p\">}</span>\n",
       "    <span class=\"n\">stds</span> <span class=\"o\">=</span> <span class=\"p\">{</span><span class=\"mi\">0</span><span class=\"p\">:</span> <span class=\"mi\">10</span><span class=\"p\">,</span> <span class=\"mi\">1</span><span class=\"p\">:</span> <span class=\"mi\">5</span><span class=\"p\">}</span>\n",
       "\n",
       "    <span class=\"c1\"># Dataset</span>\n",
       "    <span class=\"n\">ds</span> <span class=\"o\">=</span> <span class=\"p\">{</span><span class=\"s1\">&#39;train&#39;</span><span class=\"p\">:</span> <span class=\"p\">{},</span> <span class=\"s1\">&#39;test&#39;</span><span class=\"p\">:</span> <span class=\"p\">{}}</span>\n",
       "\n",
       "    <span class=\"n\">speed_limits</span> <span class=\"o\">=</span> <span class=\"n\">np</span><span class=\"o\">.</span><span class=\"n\">random</span><span class=\"o\">.</span><span class=\"n\">uniform</span><span class=\"p\">(</span><span class=\"n\">low</span><span class=\"o\">=</span><span class=\"mi\">30</span><span class=\"p\">,</span> <span class=\"n\">high</span><span class=\"o\">=</span><span class=\"mi\">240</span><span class=\"p\">,</span> <span class=\"n\">size</span><span class=\"o\">=</span><span class=\"p\">(</span><span class=\"n\">num_total</span><span class=\"p\">,))</span>\n",
       "\n",
       "    <span class=\"k\">for</span> <span class=\"n\">is_cold</span> <span class=\"ow\">in</span> <span class=\"p\">[</span><span class=\"mi\">0</span><span class=\"p\">,</span> <span class=\"mi\">1</span><span class=\"p\">]:</span>\n",
       "        <span class=\"n\">measurements</span> <span class=\"o\">=</span> <span class=\"p\">[</span>\n",
       "            <span class=\"n\">torch</span><span class=\"o\">.</span><span class=\"n\">distributions</span><span class=\"o\">.</span><span class=\"n\">Normal</span><span class=\"p\">(</span>\n",
       "                <span class=\"n\">means</span><span class=\"p\">[</span><span class=\"n\">is_cold</span><span class=\"p\">]</span> <span class=\"o\">*</span> <span class=\"n\">sl</span><span class=\"p\">,</span>\n",
       "                <span class=\"n\">stds</span><span class=\"p\">[</span><span class=\"n\">is_cold</span><span class=\"p\">]</span>\n",
       "            <span class=\"p\">)</span><span class=\"o\">.</span><span class=\"n\">sample</span><span class=\"p\">()</span><span class=\"o\">.</span><span class=\"n\">item</span><span class=\"p\">()</span>\n",
       "            <span class=\"k\">for</span> <span class=\"n\">sl</span> <span class=\"ow\">in</span> <span class=\"n\">speed_limits</span>\n",
       "        <span class=\"p\">]</span>\n",
       "\n",
       "        <span class=\"n\">xtr</span><span class=\"p\">,</span> <span class=\"n\">xte</span><span class=\"p\">,</span> <span class=\"n\">ytr</span><span class=\"p\">,</span> <span class=\"n\">yte</span> <span class=\"o\">=</span> <span class=\"n\">sk_ms</span><span class=\"o\">.</span><span class=\"n\">train_test_split</span><span class=\"p\">(</span>\n",
       "            <span class=\"n\">speed_limits</span><span class=\"o\">.</span><span class=\"n\">tolist</span><span class=\"p\">(),</span> <span class=\"n\">measurements</span><span class=\"p\">,</span>\n",
       "            <span class=\"n\">train_size</span><span class=\"o\">=</span><span class=\"n\">train_size</span><span class=\"p\">,</span>\n",
       "        <span class=\"p\">)</span>\n",
       "\n",
       "        <span class=\"n\">ds</span><span class=\"p\">[</span><span class=\"s1\">&#39;train&#39;</span><span class=\"p\">][</span><span class=\"n\">is_cold</span><span class=\"p\">]</span> <span class=\"o\">=</span> <span class=\"p\">{</span>\n",
       "            <span class=\"s1\">&#39;speed_limit&#39;</span><span class=\"p\">:</span> <span class=\"n\">torch</span><span class=\"o\">.</span><span class=\"n\">tensor</span><span class=\"p\">(</span><span class=\"n\">xtr</span><span class=\"p\">),</span>\n",
       "            <span class=\"s1\">&#39;measurement&#39;</span><span class=\"p\">:</span> <span class=\"n\">torch</span><span class=\"o\">.</span><span class=\"n\">tensor</span><span class=\"p\">(</span><span class=\"n\">ytr</span><span class=\"p\">),</span>\n",
       "        <span class=\"p\">}</span>\n",
       "        <span class=\"n\">ds</span><span class=\"p\">[</span><span class=\"s1\">&#39;test&#39;</span><span class=\"p\">][</span><span class=\"n\">is_cold</span><span class=\"p\">]</span> <span class=\"o\">=</span> <span class=\"p\">{</span>\n",
       "            <span class=\"s1\">&#39;speed_limit&#39;</span><span class=\"p\">:</span> <span class=\"n\">torch</span><span class=\"o\">.</span><span class=\"n\">tensor</span><span class=\"p\">(</span><span class=\"n\">xte</span><span class=\"p\">),</span>\n",
       "            <span class=\"s1\">&#39;measurement&#39;</span><span class=\"p\">:</span> <span class=\"n\">torch</span><span class=\"o\">.</span><span class=\"n\">tensor</span><span class=\"p\">(</span><span class=\"n\">yte</span><span class=\"p\">),</span>\n",
       "        <span class=\"p\">}</span>\n",
       "\n",
       "    <span class=\"k\">return</span> <span class=\"n\">ds</span>\n",
       "</pre></div>\n"
      ],
      "text/latex": [
       "\\begin{Verbatim}[commandchars=\\\\\\{\\}]\n",
       "\\PY{l+s+sd}{\\PYZdq{}\\PYZdq{}\\PYZdq{}Function for dataset generation.\\PYZdq{}\\PYZdq{}\\PYZdq{}}\n",
       "\\PY{k+kn}{import} \\PY{n+nn}{numpy} \\PY{k}{as} \\PY{n+nn}{np}\n",
       "\\PY{k+kn}{from} \\PY{n+nn}{sklearn} \\PY{k+kn}{import} \\PY{n}{model\\PYZus{}selection} \\PY{k}{as} \\PY{n}{sk\\PYZus{}ms}\n",
       "\\PY{k+kn}{import} \\PY{n+nn}{torch}\n",
       "\n",
       "\n",
       "\\PY{k}{def} \\PY{n+nf}{generate\\PYZus{}dataset}\\PY{p}{(}\\PY{n}{num\\PYZus{}total}\\PY{p}{,} \\PY{n}{train\\PYZus{}size}\\PY{p}{)}\\PY{p}{:}\n",
       "    \\PY{l+s+sd}{\\PYZdq{}\\PYZdq{}\\PYZdq{}Generates dataset with `num\\PYZus{}total` samples and given train size.\\PYZdq{}\\PYZdq{}\\PYZdq{}}\n",
       "    \\PY{c+c1}{\\PYZsh{} Data generator parameters}\n",
       "    \\PY{n}{means} \\PY{o}{=} \\PY{p}{\\PYZob{}}\\PY{l+m+mi}{0}\\PY{p}{:} \\PY{l+m+mf}{0.99}\\PY{p}{,} \\PY{l+m+mi}{1}\\PY{p}{:} \\PY{l+m+mf}{0.75}\\PY{p}{\\PYZcb{}}\n",
       "    \\PY{n}{stds} \\PY{o}{=} \\PY{p}{\\PYZob{}}\\PY{l+m+mi}{0}\\PY{p}{:} \\PY{l+m+mi}{10}\\PY{p}{,} \\PY{l+m+mi}{1}\\PY{p}{:} \\PY{l+m+mi}{5}\\PY{p}{\\PYZcb{}}\n",
       "\n",
       "    \\PY{c+c1}{\\PYZsh{} Dataset}\n",
       "    \\PY{n}{ds} \\PY{o}{=} \\PY{p}{\\PYZob{}}\\PY{l+s+s1}{\\PYZsq{}}\\PY{l+s+s1}{train}\\PY{l+s+s1}{\\PYZsq{}}\\PY{p}{:} \\PY{p}{\\PYZob{}}\\PY{p}{\\PYZcb{}}\\PY{p}{,} \\PY{l+s+s1}{\\PYZsq{}}\\PY{l+s+s1}{test}\\PY{l+s+s1}{\\PYZsq{}}\\PY{p}{:} \\PY{p}{\\PYZob{}}\\PY{p}{\\PYZcb{}}\\PY{p}{\\PYZcb{}}\n",
       "\n",
       "    \\PY{n}{speed\\PYZus{}limits} \\PY{o}{=} \\PY{n}{np}\\PY{o}{.}\\PY{n}{random}\\PY{o}{.}\\PY{n}{uniform}\\PY{p}{(}\\PY{n}{low}\\PY{o}{=}\\PY{l+m+mi}{30}\\PY{p}{,} \\PY{n}{high}\\PY{o}{=}\\PY{l+m+mi}{240}\\PY{p}{,} \\PY{n}{size}\\PY{o}{=}\\PY{p}{(}\\PY{n}{num\\PYZus{}total}\\PY{p}{,}\\PY{p}{)}\\PY{p}{)}\n",
       "\n",
       "    \\PY{k}{for} \\PY{n}{is\\PYZus{}cold} \\PY{o+ow}{in} \\PY{p}{[}\\PY{l+m+mi}{0}\\PY{p}{,} \\PY{l+m+mi}{1}\\PY{p}{]}\\PY{p}{:}\n",
       "        \\PY{n}{measurements} \\PY{o}{=} \\PY{p}{[}\n",
       "            \\PY{n}{torch}\\PY{o}{.}\\PY{n}{distributions}\\PY{o}{.}\\PY{n}{Normal}\\PY{p}{(}\n",
       "                \\PY{n}{means}\\PY{p}{[}\\PY{n}{is\\PYZus{}cold}\\PY{p}{]} \\PY{o}{*} \\PY{n}{sl}\\PY{p}{,}\n",
       "                \\PY{n}{stds}\\PY{p}{[}\\PY{n}{is\\PYZus{}cold}\\PY{p}{]}\n",
       "            \\PY{p}{)}\\PY{o}{.}\\PY{n}{sample}\\PY{p}{(}\\PY{p}{)}\\PY{o}{.}\\PY{n}{item}\\PY{p}{(}\\PY{p}{)}\n",
       "            \\PY{k}{for} \\PY{n}{sl} \\PY{o+ow}{in} \\PY{n}{speed\\PYZus{}limits}\n",
       "        \\PY{p}{]}\n",
       "\n",
       "        \\PY{n}{xtr}\\PY{p}{,} \\PY{n}{xte}\\PY{p}{,} \\PY{n}{ytr}\\PY{p}{,} \\PY{n}{yte} \\PY{o}{=} \\PY{n}{sk\\PYZus{}ms}\\PY{o}{.}\\PY{n}{train\\PYZus{}test\\PYZus{}split}\\PY{p}{(}\n",
       "            \\PY{n}{speed\\PYZus{}limits}\\PY{o}{.}\\PY{n}{tolist}\\PY{p}{(}\\PY{p}{)}\\PY{p}{,} \\PY{n}{measurements}\\PY{p}{,}\n",
       "            \\PY{n}{train\\PYZus{}size}\\PY{o}{=}\\PY{n}{train\\PYZus{}size}\\PY{p}{,}\n",
       "        \\PY{p}{)}\n",
       "\n",
       "        \\PY{n}{ds}\\PY{p}{[}\\PY{l+s+s1}{\\PYZsq{}}\\PY{l+s+s1}{train}\\PY{l+s+s1}{\\PYZsq{}}\\PY{p}{]}\\PY{p}{[}\\PY{n}{is\\PYZus{}cold}\\PY{p}{]} \\PY{o}{=} \\PY{p}{\\PYZob{}}\n",
       "            \\PY{l+s+s1}{\\PYZsq{}}\\PY{l+s+s1}{speed\\PYZus{}limit}\\PY{l+s+s1}{\\PYZsq{}}\\PY{p}{:} \\PY{n}{torch}\\PY{o}{.}\\PY{n}{tensor}\\PY{p}{(}\\PY{n}{xtr}\\PY{p}{)}\\PY{p}{,}\n",
       "            \\PY{l+s+s1}{\\PYZsq{}}\\PY{l+s+s1}{measurement}\\PY{l+s+s1}{\\PYZsq{}}\\PY{p}{:} \\PY{n}{torch}\\PY{o}{.}\\PY{n}{tensor}\\PY{p}{(}\\PY{n}{ytr}\\PY{p}{)}\\PY{p}{,}\n",
       "        \\PY{p}{\\PYZcb{}}\n",
       "        \\PY{n}{ds}\\PY{p}{[}\\PY{l+s+s1}{\\PYZsq{}}\\PY{l+s+s1}{test}\\PY{l+s+s1}{\\PYZsq{}}\\PY{p}{]}\\PY{p}{[}\\PY{n}{is\\PYZus{}cold}\\PY{p}{]} \\PY{o}{=} \\PY{p}{\\PYZob{}}\n",
       "            \\PY{l+s+s1}{\\PYZsq{}}\\PY{l+s+s1}{speed\\PYZus{}limit}\\PY{l+s+s1}{\\PYZsq{}}\\PY{p}{:} \\PY{n}{torch}\\PY{o}{.}\\PY{n}{tensor}\\PY{p}{(}\\PY{n}{xte}\\PY{p}{)}\\PY{p}{,}\n",
       "            \\PY{l+s+s1}{\\PYZsq{}}\\PY{l+s+s1}{measurement}\\PY{l+s+s1}{\\PYZsq{}}\\PY{p}{:} \\PY{n}{torch}\\PY{o}{.}\\PY{n}{tensor}\\PY{p}{(}\\PY{n}{yte}\\PY{p}{)}\\PY{p}{,}\n",
       "        \\PY{p}{\\PYZcb{}}\n",
       "\n",
       "    \\PY{k}{return} \\PY{n}{ds}\n",
       "\\end{Verbatim}\n"
      ],
      "text/plain": [
       "\"\"\"Function for dataset generation.\"\"\"\n",
       "import numpy as np\n",
       "from sklearn import model_selection as sk_ms\n",
       "import torch\n",
       "\n",
       "\n",
       "def generate_dataset(num_total, train_size):\n",
       "    \"\"\"Generates dataset with `num_total` samples and given train size.\"\"\"\n",
       "    # Data generator parameters\n",
       "    means = {0: 0.99, 1: 0.75}\n",
       "    stds = {0: 10, 1: 5}\n",
       "\n",
       "    # Dataset\n",
       "    ds = {'train': {}, 'test': {}}\n",
       "\n",
       "    speed_limits = np.random.uniform(low=30, high=240, size=(num_total,))\n",
       "\n",
       "    for is_cold in [0, 1]:\n",
       "        measurements = [\n",
       "            torch.distributions.Normal(\n",
       "                means[is_cold] * sl,\n",
       "                stds[is_cold]\n",
       "            ).sample().item()\n",
       "            for sl in speed_limits\n",
       "        ]\n",
       "\n",
       "        xtr, xte, ytr, yte = sk_ms.train_test_split(\n",
       "            speed_limits.tolist(), measurements,\n",
       "            train_size=train_size,\n",
       "        )\n",
       "\n",
       "        ds['train'][is_cold] = {\n",
       "            'speed_limit': torch.tensor(xtr),\n",
       "            'measurement': torch.tensor(ytr),\n",
       "        }\n",
       "        ds['test'][is_cold] = {\n",
       "            'speed_limit': torch.tensor(xte),\n",
       "            'measurement': torch.tensor(yte),\n",
       "        }\n",
       "\n",
       "    return ds"
      ]
     },
     "metadata": {},
     "output_type": "display_data"
    }
   ],
   "source": [
    "display(Code('src/mcmc/dataset.py'))"
   ]
  },
  {
   "cell_type": "markdown",
   "metadata": {
    "pycharm": {}
   },
   "source": [
    "# Model"
   ]
  },
  {
   "cell_type": "code",
   "execution_count": 5,
   "metadata": {
    "pycharm": {}
   },
   "outputs": [
    {
     "data": {
      "text/html": [
       "<style>.output_html .hll { background-color: #ffffcc }\n",
       ".output_html  { background: #f8f8f8; }\n",
       ".output_html .c { color: #408080; font-style: italic } /* Comment */\n",
       ".output_html .err { border: 1px solid #FF0000 } /* Error */\n",
       ".output_html .k { color: #008000; font-weight: bold } /* Keyword */\n",
       ".output_html .o { color: #666666 } /* Operator */\n",
       ".output_html .ch { color: #408080; font-style: italic } /* Comment.Hashbang */\n",
       ".output_html .cm { color: #408080; font-style: italic } /* Comment.Multiline */\n",
       ".output_html .cp { color: #BC7A00 } /* Comment.Preproc */\n",
       ".output_html .cpf { color: #408080; font-style: italic } /* Comment.PreprocFile */\n",
       ".output_html .c1 { color: #408080; font-style: italic } /* Comment.Single */\n",
       ".output_html .cs { color: #408080; font-style: italic } /* Comment.Special */\n",
       ".output_html .gd { color: #A00000 } /* Generic.Deleted */\n",
       ".output_html .ge { font-style: italic } /* Generic.Emph */\n",
       ".output_html .gr { color: #FF0000 } /* Generic.Error */\n",
       ".output_html .gh { color: #000080; font-weight: bold } /* Generic.Heading */\n",
       ".output_html .gi { color: #00A000 } /* Generic.Inserted */\n",
       ".output_html .go { color: #888888 } /* Generic.Output */\n",
       ".output_html .gp { color: #000080; font-weight: bold } /* Generic.Prompt */\n",
       ".output_html .gs { font-weight: bold } /* Generic.Strong */\n",
       ".output_html .gu { color: #800080; font-weight: bold } /* Generic.Subheading */\n",
       ".output_html .gt { color: #0044DD } /* Generic.Traceback */\n",
       ".output_html .kc { color: #008000; font-weight: bold } /* Keyword.Constant */\n",
       ".output_html .kd { color: #008000; font-weight: bold } /* Keyword.Declaration */\n",
       ".output_html .kn { color: #008000; font-weight: bold } /* Keyword.Namespace */\n",
       ".output_html .kp { color: #008000 } /* Keyword.Pseudo */\n",
       ".output_html .kr { color: #008000; font-weight: bold } /* Keyword.Reserved */\n",
       ".output_html .kt { color: #B00040 } /* Keyword.Type */\n",
       ".output_html .m { color: #666666 } /* Literal.Number */\n",
       ".output_html .s { color: #BA2121 } /* Literal.String */\n",
       ".output_html .na { color: #7D9029 } /* Name.Attribute */\n",
       ".output_html .nb { color: #008000 } /* Name.Builtin */\n",
       ".output_html .nc { color: #0000FF; font-weight: bold } /* Name.Class */\n",
       ".output_html .no { color: #880000 } /* Name.Constant */\n",
       ".output_html .nd { color: #AA22FF } /* Name.Decorator */\n",
       ".output_html .ni { color: #999999; font-weight: bold } /* Name.Entity */\n",
       ".output_html .ne { color: #D2413A; font-weight: bold } /* Name.Exception */\n",
       ".output_html .nf { color: #0000FF } /* Name.Function */\n",
       ".output_html .nl { color: #A0A000 } /* Name.Label */\n",
       ".output_html .nn { color: #0000FF; font-weight: bold } /* Name.Namespace */\n",
       ".output_html .nt { color: #008000; font-weight: bold } /* Name.Tag */\n",
       ".output_html .nv { color: #19177C } /* Name.Variable */\n",
       ".output_html .ow { color: #AA22FF; font-weight: bold } /* Operator.Word */\n",
       ".output_html .w { color: #bbbbbb } /* Text.Whitespace */\n",
       ".output_html .mb { color: #666666 } /* Literal.Number.Bin */\n",
       ".output_html .mf { color: #666666 } /* Literal.Number.Float */\n",
       ".output_html .mh { color: #666666 } /* Literal.Number.Hex */\n",
       ".output_html .mi { color: #666666 } /* Literal.Number.Integer */\n",
       ".output_html .mo { color: #666666 } /* Literal.Number.Oct */\n",
       ".output_html .sa { color: #BA2121 } /* Literal.String.Affix */\n",
       ".output_html .sb { color: #BA2121 } /* Literal.String.Backtick */\n",
       ".output_html .sc { color: #BA2121 } /* Literal.String.Char */\n",
       ".output_html .dl { color: #BA2121 } /* Literal.String.Delimiter */\n",
       ".output_html .sd { color: #BA2121; font-style: italic } /* Literal.String.Doc */\n",
       ".output_html .s2 { color: #BA2121 } /* Literal.String.Double */\n",
       ".output_html .se { color: #BB6622; font-weight: bold } /* Literal.String.Escape */\n",
       ".output_html .sh { color: #BA2121 } /* Literal.String.Heredoc */\n",
       ".output_html .si { color: #BB6688; font-weight: bold } /* Literal.String.Interpol */\n",
       ".output_html .sx { color: #008000 } /* Literal.String.Other */\n",
       ".output_html .sr { color: #BB6688 } /* Literal.String.Regex */\n",
       ".output_html .s1 { color: #BA2121 } /* Literal.String.Single */\n",
       ".output_html .ss { color: #19177C } /* Literal.String.Symbol */\n",
       ".output_html .bp { color: #008000 } /* Name.Builtin.Pseudo */\n",
       ".output_html .fm { color: #0000FF } /* Name.Function.Magic */\n",
       ".output_html .vc { color: #19177C } /* Name.Variable.Class */\n",
       ".output_html .vg { color: #19177C } /* Name.Variable.Global */\n",
       ".output_html .vi { color: #19177C } /* Name.Variable.Instance */\n",
       ".output_html .vm { color: #19177C } /* Name.Variable.Magic */\n",
       ".output_html .il { color: #666666 } /* Literal.Number.Integer.Long */</style><div class=\"highlight\"><pre><span></span><span class=\"sd\">&quot;&quot;&quot;Implementation of speedometer model.&quot;&quot;&quot;</span>\n",
       "<span class=\"kn\">import</span> <span class=\"nn\">torch</span>\n",
       "<span class=\"kn\">import</span> <span class=\"nn\">pyro</span>\n",
       "<span class=\"kn\">import</span> <span class=\"nn\">pyro.distributions</span> <span class=\"k\">as</span> <span class=\"nn\">dist</span>\n",
       "\n",
       "\n",
       "<span class=\"k\">def</span> <span class=\"nf\">speedometer_model</span><span class=\"p\">(</span><span class=\"n\">speed_limit</span><span class=\"p\">,</span> <span class=\"n\">is_cold</span><span class=\"p\">,</span> <span class=\"n\">measurement</span><span class=\"o\">=</span><span class=\"kc\">None</span><span class=\"p\">):</span>\n",
       "    <span class=\"sd\">&quot;&quot;&quot;Model for measuring vehicle speed given `speed_limit` and `is_cold`.&quot;&quot;&quot;</span>\n",
       "    <span class=\"c1\">#     c_means = {0: torch.tensor(0.99), 1: torch.tensor(0.75)}</span>\n",
       "    <span class=\"c1\">#     measurement_stds = {0: torch.tensor(10.), 1: torch.tensor(5.)}</span>\n",
       "    <span class=\"n\">c_means</span> <span class=\"o\">=</span> <span class=\"p\">{</span><span class=\"mi\">0</span><span class=\"p\">:</span> <span class=\"n\">torch</span><span class=\"o\">.</span><span class=\"n\">tensor</span><span class=\"p\">(</span><span class=\"mf\">0.2</span><span class=\"p\">),</span> <span class=\"mi\">1</span><span class=\"p\">:</span> <span class=\"n\">torch</span><span class=\"o\">.</span><span class=\"n\">tensor</span><span class=\"p\">(</span><span class=\"mf\">0.1</span><span class=\"p\">)}</span>\n",
       "    <span class=\"n\">measurement_stds</span> <span class=\"o\">=</span> <span class=\"p\">{</span><span class=\"mi\">0</span><span class=\"p\">:</span> <span class=\"n\">torch</span><span class=\"o\">.</span><span class=\"n\">tensor</span><span class=\"p\">(</span><span class=\"mf\">1.</span><span class=\"p\">),</span> <span class=\"mi\">1</span><span class=\"p\">:</span> <span class=\"n\">torch</span><span class=\"o\">.</span><span class=\"n\">tensor</span><span class=\"p\">(</span><span class=\"mf\">2.</span><span class=\"p\">)}</span>\n",
       "\n",
       "    <span class=\"n\">c</span> <span class=\"o\">=</span> <span class=\"n\">pyro</span><span class=\"o\">.</span><span class=\"n\">sample</span><span class=\"p\">(</span><span class=\"s1\">&#39;c&#39;</span><span class=\"p\">,</span> <span class=\"n\">dist</span><span class=\"o\">.</span><span class=\"n\">Normal</span><span class=\"p\">(</span><span class=\"n\">c_means</span><span class=\"p\">[</span><span class=\"n\">is_cold</span><span class=\"p\">],</span> <span class=\"mf\">0.01</span><span class=\"p\">))</span>\n",
       "    <span class=\"n\">std</span> <span class=\"o\">=</span> <span class=\"n\">pyro</span><span class=\"o\">.</span><span class=\"n\">sample</span><span class=\"p\">(</span><span class=\"s1\">&#39;std&#39;</span><span class=\"p\">,</span> <span class=\"n\">dist</span><span class=\"o\">.</span><span class=\"n\">Normal</span><span class=\"p\">(</span><span class=\"n\">measurement_stds</span><span class=\"p\">[</span><span class=\"n\">is_cold</span><span class=\"p\">],</span> <span class=\"mf\">2.</span><span class=\"p\">))</span>\n",
       "\n",
       "    <span class=\"k\">with</span> <span class=\"n\">pyro</span><span class=\"o\">.</span><span class=\"n\">plate</span><span class=\"p\">(</span><span class=\"s2\">&quot;data&quot;</span><span class=\"p\">,</span> <span class=\"nb\">len</span><span class=\"p\">(</span><span class=\"n\">speed_limit</span><span class=\"p\">)):</span>\n",
       "        <span class=\"k\">return</span> <span class=\"n\">pyro</span><span class=\"o\">.</span><span class=\"n\">sample</span><span class=\"p\">(</span>\n",
       "            <span class=\"s2\">&quot;measurement&quot;</span><span class=\"p\">,</span>\n",
       "            <span class=\"n\">dist</span><span class=\"o\">.</span><span class=\"n\">Normal</span><span class=\"p\">(</span><span class=\"n\">c</span> <span class=\"o\">*</span> <span class=\"n\">speed_limit</span><span class=\"p\">,</span> <span class=\"n\">std</span><span class=\"p\">),</span>\n",
       "            <span class=\"n\">obs</span><span class=\"o\">=</span><span class=\"n\">measurement</span><span class=\"p\">,</span>\n",
       "        <span class=\"p\">)</span>\n",
       "</pre></div>\n"
      ],
      "text/latex": [
       "\\begin{Verbatim}[commandchars=\\\\\\{\\}]\n",
       "\\PY{l+s+sd}{\\PYZdq{}\\PYZdq{}\\PYZdq{}Implementation of speedometer model.\\PYZdq{}\\PYZdq{}\\PYZdq{}}\n",
       "\\PY{k+kn}{import} \\PY{n+nn}{torch}\n",
       "\\PY{k+kn}{import} \\PY{n+nn}{pyro}\n",
       "\\PY{k+kn}{import} \\PY{n+nn}{pyro}\\PY{n+nn}{.}\\PY{n+nn}{distributions} \\PY{k}{as} \\PY{n+nn}{dist}\n",
       "\n",
       "\n",
       "\\PY{k}{def} \\PY{n+nf}{speedometer\\PYZus{}model}\\PY{p}{(}\\PY{n}{speed\\PYZus{}limit}\\PY{p}{,} \\PY{n}{is\\PYZus{}cold}\\PY{p}{,} \\PY{n}{measurement}\\PY{o}{=}\\PY{k+kc}{None}\\PY{p}{)}\\PY{p}{:}\n",
       "    \\PY{l+s+sd}{\\PYZdq{}\\PYZdq{}\\PYZdq{}Model for measuring vehicle speed given `speed\\PYZus{}limit` and `is\\PYZus{}cold`.\\PYZdq{}\\PYZdq{}\\PYZdq{}}\n",
       "    \\PY{c+c1}{\\PYZsh{}     c\\PYZus{}means = \\PYZob{}0: torch.tensor(0.99), 1: torch.tensor(0.75)\\PYZcb{}}\n",
       "    \\PY{c+c1}{\\PYZsh{}     measurement\\PYZus{}stds = \\PYZob{}0: torch.tensor(10.), 1: torch.tensor(5.)\\PYZcb{}}\n",
       "    \\PY{n}{c\\PYZus{}means} \\PY{o}{=} \\PY{p}{\\PYZob{}}\\PY{l+m+mi}{0}\\PY{p}{:} \\PY{n}{torch}\\PY{o}{.}\\PY{n}{tensor}\\PY{p}{(}\\PY{l+m+mf}{0.2}\\PY{p}{)}\\PY{p}{,} \\PY{l+m+mi}{1}\\PY{p}{:} \\PY{n}{torch}\\PY{o}{.}\\PY{n}{tensor}\\PY{p}{(}\\PY{l+m+mf}{0.1}\\PY{p}{)}\\PY{p}{\\PYZcb{}}\n",
       "    \\PY{n}{measurement\\PYZus{}stds} \\PY{o}{=} \\PY{p}{\\PYZob{}}\\PY{l+m+mi}{0}\\PY{p}{:} \\PY{n}{torch}\\PY{o}{.}\\PY{n}{tensor}\\PY{p}{(}\\PY{l+m+mf}{1.}\\PY{p}{)}\\PY{p}{,} \\PY{l+m+mi}{1}\\PY{p}{:} \\PY{n}{torch}\\PY{o}{.}\\PY{n}{tensor}\\PY{p}{(}\\PY{l+m+mf}{2.}\\PY{p}{)}\\PY{p}{\\PYZcb{}}\n",
       "\n",
       "    \\PY{n}{c} \\PY{o}{=} \\PY{n}{pyro}\\PY{o}{.}\\PY{n}{sample}\\PY{p}{(}\\PY{l+s+s1}{\\PYZsq{}}\\PY{l+s+s1}{c}\\PY{l+s+s1}{\\PYZsq{}}\\PY{p}{,} \\PY{n}{dist}\\PY{o}{.}\\PY{n}{Normal}\\PY{p}{(}\\PY{n}{c\\PYZus{}means}\\PY{p}{[}\\PY{n}{is\\PYZus{}cold}\\PY{p}{]}\\PY{p}{,} \\PY{l+m+mf}{0.01}\\PY{p}{)}\\PY{p}{)}\n",
       "    \\PY{n}{std} \\PY{o}{=} \\PY{n}{pyro}\\PY{o}{.}\\PY{n}{sample}\\PY{p}{(}\\PY{l+s+s1}{\\PYZsq{}}\\PY{l+s+s1}{std}\\PY{l+s+s1}{\\PYZsq{}}\\PY{p}{,} \\PY{n}{dist}\\PY{o}{.}\\PY{n}{Normal}\\PY{p}{(}\\PY{n}{measurement\\PYZus{}stds}\\PY{p}{[}\\PY{n}{is\\PYZus{}cold}\\PY{p}{]}\\PY{p}{,} \\PY{l+m+mf}{2.}\\PY{p}{)}\\PY{p}{)}\n",
       "\n",
       "    \\PY{k}{with} \\PY{n}{pyro}\\PY{o}{.}\\PY{n}{plate}\\PY{p}{(}\\PY{l+s+s2}{\\PYZdq{}}\\PY{l+s+s2}{data}\\PY{l+s+s2}{\\PYZdq{}}\\PY{p}{,} \\PY{n+nb}{len}\\PY{p}{(}\\PY{n}{speed\\PYZus{}limit}\\PY{p}{)}\\PY{p}{)}\\PY{p}{:}\n",
       "        \\PY{k}{return} \\PY{n}{pyro}\\PY{o}{.}\\PY{n}{sample}\\PY{p}{(}\n",
       "            \\PY{l+s+s2}{\\PYZdq{}}\\PY{l+s+s2}{measurement}\\PY{l+s+s2}{\\PYZdq{}}\\PY{p}{,}\n",
       "            \\PY{n}{dist}\\PY{o}{.}\\PY{n}{Normal}\\PY{p}{(}\\PY{n}{c} \\PY{o}{*} \\PY{n}{speed\\PYZus{}limit}\\PY{p}{,} \\PY{n}{std}\\PY{p}{)}\\PY{p}{,}\n",
       "            \\PY{n}{obs}\\PY{o}{=}\\PY{n}{measurement}\\PY{p}{,}\n",
       "        \\PY{p}{)}\n",
       "\\end{Verbatim}\n"
      ],
      "text/plain": [
       "\"\"\"Implementation of speedometer model.\"\"\"\n",
       "import torch\n",
       "import pyro\n",
       "import pyro.distributions as dist\n",
       "\n",
       "\n",
       "def speedometer_model(speed_limit, is_cold, measurement=None):\n",
       "    \"\"\"Model for measuring vehicle speed given `speed_limit` and `is_cold`.\"\"\"\n",
       "    #     c_means = {0: torch.tensor(0.99), 1: torch.tensor(0.75)}\n",
       "    #     measurement_stds = {0: torch.tensor(10.), 1: torch.tensor(5.)}\n",
       "    c_means = {0: torch.tensor(0.2), 1: torch.tensor(0.1)}\n",
       "    measurement_stds = {0: torch.tensor(1.), 1: torch.tensor(2.)}\n",
       "\n",
       "    c = pyro.sample('c', dist.Normal(c_means[is_cold], 0.01))\n",
       "    std = pyro.sample('std', dist.Normal(measurement_stds[is_cold], 2.))\n",
       "\n",
       "    with pyro.plate(\"data\", len(speed_limit)):\n",
       "        return pyro.sample(\n",
       "            \"measurement\",\n",
       "            dist.Normal(c * speed_limit, std),\n",
       "            obs=measurement,\n",
       "        )"
      ]
     },
     "metadata": {},
     "output_type": "display_data"
    }
   ],
   "source": [
    "display(Code('src/mcmc/model.py'))"
   ]
  },
  {
   "cell_type": "markdown",
   "metadata": {
    "pycharm": {}
   },
   "source": [
    "# MCMC\n",
    "## Infer functions"
   ]
  },
  {
   "cell_type": "code",
   "execution_count": 6,
   "metadata": {
    "pycharm": {},
    "scrolled": false
   },
   "outputs": [
    {
     "data": {
      "text/html": [
       "<style>.output_html .hll { background-color: #ffffcc }\n",
       ".output_html  { background: #f8f8f8; }\n",
       ".output_html .c { color: #408080; font-style: italic } /* Comment */\n",
       ".output_html .err { border: 1px solid #FF0000 } /* Error */\n",
       ".output_html .k { color: #008000; font-weight: bold } /* Keyword */\n",
       ".output_html .o { color: #666666 } /* Operator */\n",
       ".output_html .ch { color: #408080; font-style: italic } /* Comment.Hashbang */\n",
       ".output_html .cm { color: #408080; font-style: italic } /* Comment.Multiline */\n",
       ".output_html .cp { color: #BC7A00 } /* Comment.Preproc */\n",
       ".output_html .cpf { color: #408080; font-style: italic } /* Comment.PreprocFile */\n",
       ".output_html .c1 { color: #408080; font-style: italic } /* Comment.Single */\n",
       ".output_html .cs { color: #408080; font-style: italic } /* Comment.Special */\n",
       ".output_html .gd { color: #A00000 } /* Generic.Deleted */\n",
       ".output_html .ge { font-style: italic } /* Generic.Emph */\n",
       ".output_html .gr { color: #FF0000 } /* Generic.Error */\n",
       ".output_html .gh { color: #000080; font-weight: bold } /* Generic.Heading */\n",
       ".output_html .gi { color: #00A000 } /* Generic.Inserted */\n",
       ".output_html .go { color: #888888 } /* Generic.Output */\n",
       ".output_html .gp { color: #000080; font-weight: bold } /* Generic.Prompt */\n",
       ".output_html .gs { font-weight: bold } /* Generic.Strong */\n",
       ".output_html .gu { color: #800080; font-weight: bold } /* Generic.Subheading */\n",
       ".output_html .gt { color: #0044DD } /* Generic.Traceback */\n",
       ".output_html .kc { color: #008000; font-weight: bold } /* Keyword.Constant */\n",
       ".output_html .kd { color: #008000; font-weight: bold } /* Keyword.Declaration */\n",
       ".output_html .kn { color: #008000; font-weight: bold } /* Keyword.Namespace */\n",
       ".output_html .kp { color: #008000 } /* Keyword.Pseudo */\n",
       ".output_html .kr { color: #008000; font-weight: bold } /* Keyword.Reserved */\n",
       ".output_html .kt { color: #B00040 } /* Keyword.Type */\n",
       ".output_html .m { color: #666666 } /* Literal.Number */\n",
       ".output_html .s { color: #BA2121 } /* Literal.String */\n",
       ".output_html .na { color: #7D9029 } /* Name.Attribute */\n",
       ".output_html .nb { color: #008000 } /* Name.Builtin */\n",
       ".output_html .nc { color: #0000FF; font-weight: bold } /* Name.Class */\n",
       ".output_html .no { color: #880000 } /* Name.Constant */\n",
       ".output_html .nd { color: #AA22FF } /* Name.Decorator */\n",
       ".output_html .ni { color: #999999; font-weight: bold } /* Name.Entity */\n",
       ".output_html .ne { color: #D2413A; font-weight: bold } /* Name.Exception */\n",
       ".output_html .nf { color: #0000FF } /* Name.Function */\n",
       ".output_html .nl { color: #A0A000 } /* Name.Label */\n",
       ".output_html .nn { color: #0000FF; font-weight: bold } /* Name.Namespace */\n",
       ".output_html .nt { color: #008000; font-weight: bold } /* Name.Tag */\n",
       ".output_html .nv { color: #19177C } /* Name.Variable */\n",
       ".output_html .ow { color: #AA22FF; font-weight: bold } /* Operator.Word */\n",
       ".output_html .w { color: #bbbbbb } /* Text.Whitespace */\n",
       ".output_html .mb { color: #666666 } /* Literal.Number.Bin */\n",
       ".output_html .mf { color: #666666 } /* Literal.Number.Float */\n",
       ".output_html .mh { color: #666666 } /* Literal.Number.Hex */\n",
       ".output_html .mi { color: #666666 } /* Literal.Number.Integer */\n",
       ".output_html .mo { color: #666666 } /* Literal.Number.Oct */\n",
       ".output_html .sa { color: #BA2121 } /* Literal.String.Affix */\n",
       ".output_html .sb { color: #BA2121 } /* Literal.String.Backtick */\n",
       ".output_html .sc { color: #BA2121 } /* Literal.String.Char */\n",
       ".output_html .dl { color: #BA2121 } /* Literal.String.Delimiter */\n",
       ".output_html .sd { color: #BA2121; font-style: italic } /* Literal.String.Doc */\n",
       ".output_html .s2 { color: #BA2121 } /* Literal.String.Double */\n",
       ".output_html .se { color: #BB6622; font-weight: bold } /* Literal.String.Escape */\n",
       ".output_html .sh { color: #BA2121 } /* Literal.String.Heredoc */\n",
       ".output_html .si { color: #BB6688; font-weight: bold } /* Literal.String.Interpol */\n",
       ".output_html .sx { color: #008000 } /* Literal.String.Other */\n",
       ".output_html .sr { color: #BB6688 } /* Literal.String.Regex */\n",
       ".output_html .s1 { color: #BA2121 } /* Literal.String.Single */\n",
       ".output_html .ss { color: #19177C } /* Literal.String.Symbol */\n",
       ".output_html .bp { color: #008000 } /* Name.Builtin.Pseudo */\n",
       ".output_html .fm { color: #0000FF } /* Name.Function.Magic */\n",
       ".output_html .vc { color: #19177C } /* Name.Variable.Class */\n",
       ".output_html .vg { color: #19177C } /* Name.Variable.Global */\n",
       ".output_html .vi { color: #19177C } /* Name.Variable.Instance */\n",
       ".output_html .vm { color: #19177C } /* Name.Variable.Magic */\n",
       ".output_html .il { color: #666666 } /* Literal.Number.Integer.Long */</style><div class=\"highlight\"><pre><span></span><span class=\"sd\">&quot;&quot;&quot;Utility functions for MCMC.&quot;&quot;&quot;</span>\n",
       "<span class=\"kn\">import</span> <span class=\"nn\">pyro</span>\n",
       "\n",
       "\n",
       "<span class=\"k\">def</span> <span class=\"nf\">run_mcmc</span><span class=\"p\">(</span><span class=\"n\">kernel</span><span class=\"p\">,</span> <span class=\"n\">model_args</span><span class=\"p\">,</span> <span class=\"n\">num_samples</span><span class=\"p\">,</span> <span class=\"n\">warmup_steps</span><span class=\"p\">):</span>\n",
       "    <span class=\"sd\">&quot;&quot;&quot;Executes MCMC using given `kernel` and `data`.&quot;&quot;&quot;</span>\n",
       "    <span class=\"n\">pyro</span><span class=\"o\">.</span><span class=\"n\">clear_param_store</span><span class=\"p\">()</span>\n",
       "\n",
       "    <span class=\"n\">mcmc_posterior</span> <span class=\"o\">=</span> <span class=\"n\">pyro</span><span class=\"o\">.</span><span class=\"n\">infer</span><span class=\"o\">.</span><span class=\"n\">MCMC</span><span class=\"p\">(</span>\n",
       "        <span class=\"n\">kernel</span><span class=\"o\">=</span><span class=\"n\">kernel</span><span class=\"p\">,</span>\n",
       "        <span class=\"n\">num_samples</span><span class=\"o\">=</span><span class=\"n\">num_samples</span><span class=\"p\">,</span>\n",
       "        <span class=\"n\">warmup_steps</span><span class=\"o\">=</span><span class=\"n\">warmup_steps</span><span class=\"p\">,</span>\n",
       "    <span class=\"p\">)</span>\n",
       "\n",
       "    <span class=\"n\">mcmc_posterior</span><span class=\"o\">.</span><span class=\"n\">run</span><span class=\"p\">(</span><span class=\"o\">*</span><span class=\"n\">model_args</span><span class=\"p\">)</span>\n",
       "    <span class=\"k\">return</span> <span class=\"n\">mcmc_posterior</span>\n",
       "\n",
       "\n",
       "<span class=\"k\">def</span> <span class=\"nf\">sample_mcmc</span><span class=\"p\">(</span><span class=\"n\">mcmc_posterior</span><span class=\"p\">):</span>\n",
       "    <span class=\"sd\">&quot;&quot;&quot;Extracts samples from MCMC posterior.&quot;&quot;&quot;</span>\n",
       "    <span class=\"k\">return</span> <span class=\"p\">{</span>\n",
       "        <span class=\"n\">k</span><span class=\"p\">:</span> <span class=\"n\">v</span><span class=\"o\">.</span><span class=\"n\">detach</span><span class=\"p\">()</span><span class=\"o\">.</span><span class=\"n\">cpu</span><span class=\"p\">()</span>\n",
       "        <span class=\"k\">for</span> <span class=\"n\">k</span><span class=\"p\">,</span> <span class=\"n\">v</span> <span class=\"ow\">in</span> <span class=\"n\">mcmc_posterior</span><span class=\"o\">.</span><span class=\"n\">get_samples</span><span class=\"p\">()</span><span class=\"o\">.</span><span class=\"n\">items</span><span class=\"p\">()</span>\n",
       "    <span class=\"p\">}</span>\n",
       "</pre></div>\n"
      ],
      "text/latex": [
       "\\begin{Verbatim}[commandchars=\\\\\\{\\}]\n",
       "\\PY{l+s+sd}{\\PYZdq{}\\PYZdq{}\\PYZdq{}Utility functions for MCMC.\\PYZdq{}\\PYZdq{}\\PYZdq{}}\n",
       "\\PY{k+kn}{import} \\PY{n+nn}{pyro}\n",
       "\n",
       "\n",
       "\\PY{k}{def} \\PY{n+nf}{run\\PYZus{}mcmc}\\PY{p}{(}\\PY{n}{kernel}\\PY{p}{,} \\PY{n}{model\\PYZus{}args}\\PY{p}{,} \\PY{n}{num\\PYZus{}samples}\\PY{p}{,} \\PY{n}{warmup\\PYZus{}steps}\\PY{p}{)}\\PY{p}{:}\n",
       "    \\PY{l+s+sd}{\\PYZdq{}\\PYZdq{}\\PYZdq{}Executes MCMC using given `kernel` and `data`.\\PYZdq{}\\PYZdq{}\\PYZdq{}}\n",
       "    \\PY{n}{pyro}\\PY{o}{.}\\PY{n}{clear\\PYZus{}param\\PYZus{}store}\\PY{p}{(}\\PY{p}{)}\n",
       "\n",
       "    \\PY{n}{mcmc\\PYZus{}posterior} \\PY{o}{=} \\PY{n}{pyro}\\PY{o}{.}\\PY{n}{infer}\\PY{o}{.}\\PY{n}{MCMC}\\PY{p}{(}\n",
       "        \\PY{n}{kernel}\\PY{o}{=}\\PY{n}{kernel}\\PY{p}{,}\n",
       "        \\PY{n}{num\\PYZus{}samples}\\PY{o}{=}\\PY{n}{num\\PYZus{}samples}\\PY{p}{,}\n",
       "        \\PY{n}{warmup\\PYZus{}steps}\\PY{o}{=}\\PY{n}{warmup\\PYZus{}steps}\\PY{p}{,}\n",
       "    \\PY{p}{)}\n",
       "\n",
       "    \\PY{n}{mcmc\\PYZus{}posterior}\\PY{o}{.}\\PY{n}{run}\\PY{p}{(}\\PY{o}{*}\\PY{n}{model\\PYZus{}args}\\PY{p}{)}\n",
       "    \\PY{k}{return} \\PY{n}{mcmc\\PYZus{}posterior}\n",
       "\n",
       "\n",
       "\\PY{k}{def} \\PY{n+nf}{sample\\PYZus{}mcmc}\\PY{p}{(}\\PY{n}{mcmc\\PYZus{}posterior}\\PY{p}{)}\\PY{p}{:}\n",
       "    \\PY{l+s+sd}{\\PYZdq{}\\PYZdq{}\\PYZdq{}Extracts samples from MCMC posterior.\\PYZdq{}\\PYZdq{}\\PYZdq{}}\n",
       "    \\PY{k}{return} \\PY{p}{\\PYZob{}}\n",
       "        \\PY{n}{k}\\PY{p}{:} \\PY{n}{v}\\PY{o}{.}\\PY{n}{detach}\\PY{p}{(}\\PY{p}{)}\\PY{o}{.}\\PY{n}{cpu}\\PY{p}{(}\\PY{p}{)}\n",
       "        \\PY{k}{for} \\PY{n}{k}\\PY{p}{,} \\PY{n}{v} \\PY{o+ow}{in} \\PY{n}{mcmc\\PYZus{}posterior}\\PY{o}{.}\\PY{n}{get\\PYZus{}samples}\\PY{p}{(}\\PY{p}{)}\\PY{o}{.}\\PY{n}{items}\\PY{p}{(}\\PY{p}{)}\n",
       "    \\PY{p}{\\PYZcb{}}\n",
       "\\end{Verbatim}\n"
      ],
      "text/plain": [
       "\"\"\"Utility functions for MCMC.\"\"\"\n",
       "import pyro\n",
       "\n",
       "\n",
       "def run_mcmc(kernel, model_args, num_samples, warmup_steps):\n",
       "    \"\"\"Executes MCMC using given `kernel` and `data`.\"\"\"\n",
       "    pyro.clear_param_store()\n",
       "\n",
       "    mcmc_posterior = pyro.infer.MCMC(\n",
       "        kernel=kernel,\n",
       "        num_samples=num_samples,\n",
       "        warmup_steps=warmup_steps,\n",
       "    )\n",
       "\n",
       "    mcmc_posterior.run(*model_args)\n",
       "    return mcmc_posterior\n",
       "\n",
       "\n",
       "def sample_mcmc(mcmc_posterior):\n",
       "    \"\"\"Extracts samples from MCMC posterior.\"\"\"\n",
       "    return {\n",
       "        k: v.detach().cpu()\n",
       "        for k, v in mcmc_posterior.get_samples().items()\n",
       "    }"
      ]
     },
     "metadata": {},
     "output_type": "display_data"
    }
   ],
   "source": [
    "display(Code('src/mcmc/infer.py'))"
   ]
  },
  {
   "cell_type": "markdown",
   "metadata": {
    "pycharm": {}
   },
   "source": [
    "## Generate data"
   ]
  },
  {
   "cell_type": "code",
   "execution_count": 12,
   "metadata": {
    "pycharm": {}
   },
   "outputs": [],
   "source": [
    "ds = dataset.generate_dataset(2_000, train_size=0.6)"
   ]
  },
  {
   "cell_type": "markdown",
   "metadata": {
    "pycharm": {}
   },
   "source": [
    "## Estimate model parameters "
   ]
  },
  {
   "cell_type": "code",
   "execution_count": 13,
   "metadata": {},
   "outputs": [],
   "source": [
    "posteriors = {}"
   ]
  },
  {
   "cell_type": "markdown",
   "metadata": {},
   "source": [
    "### HMC (Hamiltoniam Monte Carlo)\n",
    "[HMC in pyro](http://docs.pyro.ai/en/stable/mcmc.html#hmc)"
   ]
  },
  {
   "cell_type": "code",
   "execution_count": 14,
   "metadata": {
    "pycharm": {}
   },
   "outputs": [],
   "source": [
    "from pyro.infer import HMC"
   ]
  },
  {
   "cell_type": "code",
   "execution_count": 15,
   "metadata": {
    "pycharm": {}
   },
   "outputs": [
    {
     "name": "stderr",
     "output_type": "stream",
     "text": [
      "Sample: 100%|███████████████████████████████████████| 1200/1200 [00:31, 38.61it/s, step size=1.00e-04, acc. prob=1.000]\n",
      "Sample: 100%|███████████████████████████████████████| 1200/1200 [00:31, 38.65it/s, step size=1.00e-04, acc. prob=1.000]\n"
     ]
    },
    {
     "name": "stdout",
     "output_type": "stream",
     "text": [
      "\n",
      "                mean       std    median      5.0%     95.0%     n_eff     r_hat\n",
      "         c      0.95      0.00      0.95      0.95      0.95      6.26      1.33\n",
      "       std     11.15      0.00     11.15     11.15     11.15      3.36      2.02\n",
      "\n",
      "Number of divergences: 0\n",
      "\n",
      "                mean       std    median      5.0%     95.0%     n_eff     r_hat\n",
      "         c      0.74      0.01      0.75      0.74      0.75     22.83      1.05\n",
      "       std      4.35      0.00      4.35      4.35      4.36      7.28      1.08\n",
      "\n",
      "Number of divergences: 0\n"
     ]
    }
   ],
   "source": [
    "hmc_kernel = lambda: HMC(\n",
    "    model=model.speedometer_model,\n",
    "    num_steps=20,\n",
    "    step_size=1e-4,\n",
    "    adapt_step_size=False,\n",
    ")\n",
    "\n",
    "posteriors['HMC'] = {\n",
    "    ic: infer.run_mcmc(\n",
    "        kernel=hmc_kernel(),\n",
    "        model_args=(ds['train'][ic]['speed_limit'], ic, ds['train'][ic]['measurement']),\n",
    "        num_samples=1_000,\n",
    "        warmup_steps=200,\n",
    "    )\n",
    "    for ic in (0, 1)\n",
    "}\n",
    "\n",
    "posteriors['HMC'][0].summary()\n",
    "posteriors['HMC'][1].summary()"
   ]
  },
  {
   "cell_type": "markdown",
   "metadata": {
    "pycharm": {}
   },
   "source": [
    "### NUTS (No-U-Turn Sampler)\n",
    "[NUTS in pyro](http://docs.pyro.ai/en/stable/mcmc.html#nuts)"
   ]
  },
  {
   "cell_type": "code",
   "execution_count": 16,
   "metadata": {
    "pycharm": {}
   },
   "outputs": [],
   "source": [
    "from pyro.infer import NUTS"
   ]
  },
  {
   "cell_type": "code",
   "execution_count": 17,
   "metadata": {
    "pycharm": {}
   },
   "outputs": [
    {
     "name": "stderr",
     "output_type": "stream",
     "text": [
      "Sample: 100%|███████████████████████████████████████| 1500/1500 [00:15, 97.11it/s, step size=3.43e-01, acc. prob=0.933]\n",
      "Sample: 100%|███████████████████████████████████████| 1500/1500 [00:20, 71.82it/s, step size=1.85e-01, acc. prob=0.944]"
     ]
    },
    {
     "name": "stdout",
     "output_type": "stream",
     "text": [
      "\n",
      "                mean       std    median      5.0%     95.0%     n_eff     r_hat\n",
      "         c      0.95      0.00      0.95      0.95      0.96    593.85      1.00\n",
      "       std     11.04      0.28     11.01     10.59     11.48    353.10      1.01\n",
      "\n",
      "Number of divergences: 0\n",
      "\n",
      "                mean       std    median      5.0%     95.0%     n_eff     r_hat\n",
      "         c      0.74      0.00      0.74      0.74      0.75    722.25      1.00\n",
      "       std      5.16      0.11      5.16      4.98      5.34    199.37      1.01\n",
      "\n",
      "Number of divergences: 0\n"
     ]
    },
    {
     "name": "stderr",
     "output_type": "stream",
     "text": [
      "\n"
     ]
    }
   ],
   "source": [
    "nuts_kernel = lambda: NUTS(model.speedometer_model)\n",
    "\n",
    "posteriors['NUTS'] = {\n",
    "    ic: infer.run_mcmc(\n",
    "        kernel=nuts_kernel(),\n",
    "        model_args=(ds['train'][ic]['speed_limit'], ic, ds['train'][ic]['measurement']),\n",
    "        num_samples=1_000,\n",
    "        warmup_steps=500,\n",
    "    )\n",
    "    for ic in (0, 1)\n",
    "}\n",
    "\n",
    "posteriors['NUTS'][0].summary()\n",
    "posteriors['NUTS'][1].summary()"
   ]
  },
  {
   "cell_type": "markdown",
   "metadata": {
    "pycharm": {}
   },
   "source": [
    "## Make predictors"
   ]
  },
  {
   "cell_type": "code",
   "execution_count": 20,
   "metadata": {
    "pycharm": {}
   },
   "outputs": [],
   "source": [
    "from pyro.infer import Predictive"
   ]
  },
  {
   "cell_type": "code",
   "execution_count": 21,
   "metadata": {
    "pycharm": {},
    "scrolled": true
   },
   "outputs": [
    {
     "data": {
      "text/plain": [
       "{'HMC': {0: Predictive(), 1: Predictive()},\n",
       " 'NUTS': {0: Predictive(), 1: Predictive()}}"
      ]
     },
     "execution_count": 21,
     "metadata": {},
     "output_type": "execute_result"
    }
   ],
   "source": [
    "mcmc_predictive = {\n",
    "    name: {\n",
    "        ic: Predictive(\n",
    "            lambda sl: model.speedometer_model(sl, ic),\n",
    "            posterior_samples=infer.sample_mcmc(posteriors[name][ic]),\n",
    "            return_sites=('measurement',)\n",
    "        )\n",
    "        for ic in (0, 1)\n",
    "    }\n",
    "    for name in ('HMC', 'NUTS')\n",
    "}\n",
    "\n",
    "mcmc_predictive"
   ]
  },
  {
   "cell_type": "markdown",
   "metadata": {
    "pycharm": {}
   },
   "source": [
    "## Plot predictions and real samples"
   ]
  },
  {
   "cell_type": "code",
   "execution_count": 22,
   "metadata": {
    "pycharm": {}
   },
   "outputs": [
    {
     "data": {
      "image/png": "[encoded data removed]",
      "text/plain": [
       "<Figure size 1080x720 with 4 Axes>"
      ]
     },
     "metadata": {
      "needs_background": "light"
     },
     "output_type": "display_data"
    }
   ],
   "source": [
    "vis.plot_predictions(ds['test'], mcmc_predictive)"
   ]
  },
  {
   "cell_type": "code",
   "execution_count": null,
   "metadata": {},
   "outputs": [],
   "source": []
  }
 ],
 "metadata": {
  "kernelspec": {
   "display_name": "Python 3",
   "language": "python",
   "name": "python3"
  },
  "language_info": {
   "codemirror_mode": {
    "name": "ipython",
    "version": 3
   },
   "file_extension": ".py",
   "mimetype": "text/x-python",
   "name": "python",
   "nbconvert_exporter": "python",
   "pygments_lexer": "ipython3",
   "version": "3.7.6"
  }
 },
 "nbformat": 4,
 "nbformat_minor": 2
}
