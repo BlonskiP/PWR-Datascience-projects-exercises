{
 "cells": [
  {
   "cell_type": "markdown",
   "metadata": {},
   "source": [
    "## Dictionaries"
   ]
  },
  {
   "cell_type": "code",
   "execution_count": 9,
   "metadata": {},
   "outputs": [
    {
     "data": {
      "text/plain": [
       "30"
      ]
     },
     "execution_count": 9,
     "metadata": {},
     "output_type": "execute_result"
    }
   ],
   "source": [
    " #Using Key 'hell sun' in { } dictionary\n",
    "{'rain' : 20 , 'shit' : 15, 'hell sun' : 30}['hell sun']"
   ]
  },
  {
   "cell_type": "code",
   "execution_count": 10,
   "metadata": {},
   "outputs": [
    {
     "name": "stdout",
     "output_type": "stream",
     "text": [
      "13.0\n"
     ]
    }
   ],
   "source": [
    "# use key with allocated dict (as variable)\n",
    "cloudy = 'cloudy' # KEY TO dictionary.\n",
    "temperature_dic = {'cloudy': 13.0, 'sunny': 18.0} # Dictionary has { } brackets.\n",
    "temperature = temperature_dic[cloudy] #Using key in dictionary like in array\n",
    "print(temperature)\n"
   ]
  },
  {
   "cell_type": "code",
   "execution_count": 13,
   "metadata": {},
   "outputs": [
    {
     "name": "stdout",
     "output_type": "stream",
     "text": [
      "666\n"
     ]
    }
   ],
   "source": [
    "def dic_func(key):\n",
    "    return {'example' : 666 , 'is' : 444, \"kinda'a fun\" : 0}[key]\n",
    "print(dic_func('example'))\n",
    "# below doesn't work \n",
    "# dic_func['example'] does n\n",
    "#def dic_func(key):\n",
    "#    return {'example' : 666 , 'is' : 444, \"kinda'a fun\" : 0}\n",
    "# print(dic_func['example'])"
   ]
  },
  {
   "cell_type": "code",
   "execution_count": null,
   "metadata": {},
   "outputs": [],
   "source": []
  }
 ],
 "metadata": {
  "kernelspec": {
   "display_name": "Python 3",
   "language": "python",
   "name": "python3"
  },
  "language_info": {
   "codemirror_mode": {
    "name": "ipython",
    "version": 3
   },
   "file_extension": ".py",
   "mimetype": "text/x-python",
   "name": "python",
   "nbconvert_exporter": "python",
   "pygments_lexer": "ipython3",
   "version": "3.7.6"
  }
 },
 "nbformat": 4,
 "nbformat_minor": 4
}
