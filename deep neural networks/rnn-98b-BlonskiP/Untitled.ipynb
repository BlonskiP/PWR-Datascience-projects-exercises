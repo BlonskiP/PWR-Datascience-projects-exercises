{
 "cells": [
  {
   "cell_type": "code",
   "execution_count": 3,
   "metadata": {},
   "outputs": [],
   "source": [
    "import tensorflow.keras.datasets as K_datasets"
   ]
  },
  {
   "cell_type": "code",
   "execution_count": 24,
   "metadata": {},
   "outputs": [],
   "source": [
    "(x_train, y_train), (x_test, y_test) = K_datasets.reuters.load_data(num_words = 10, #\"only the num_words most frequent words are kept. \"\n",
    "                                        test_split=0.2) #Default"
   ]
  },
  {
   "cell_type": "code",
   "execution_count": 25,
   "metadata": {},
   "outputs": [
    {
     "data": {
      "text/plain": [
       "array([list([1, 2, 2, 8, 2, 2, 2, 5, 2, 2, 2, 5, 2, 2, 2, 2, 2, 2, 2, 7, 2, 5, 2, 2, 6, 2, 2, 2, 2, 2, 2, 2, 2, 2, 7, 2, 4, 2, 8, 2, 2, 2, 2, 6, 2, 6, 2, 2, 2, 2, 2, 2, 2, 7, 2, 9, 2, 2, 2, 6, 2, 6, 2, 2, 2, 2, 2, 2, 2, 2, 2, 8, 2, 2, 2, 2, 2, 2, 2, 2, 2, 2, 6, 2, 2, 2, 2]),\n",
       "       list([1, 2, 2, 2, 2, 2, 2, 2, 9, 2, 2, 2, 2, 5, 2, 2, 2, 2, 2, 2, 2, 7, 2, 2, 2, 2, 2, 2, 2, 2, 8, 7, 2, 2, 2, 2, 2, 2, 2, 5, 4, 2, 2, 2, 2, 2, 7, 2, 2, 2, 2, 2, 2, 2, 2, 2]),\n",
       "       list([1, 2, 2, 2, 2, 2, 2, 2, 2, 2, 2, 2, 2, 2, 2, 2, 2, 2, 2, 2, 2, 2, 2, 2, 2, 2, 2, 2, 2, 2, 2, 2, 2, 2, 2, 2, 2, 2, 2, 2, 2, 2, 2, 2, 2, 2, 2, 2, 2, 2, 2, 2, 2, 2, 2, 2, 2, 2, 2, 2, 2, 2, 2, 2, 2, 2, 2, 2, 2, 2, 2, 2, 2, 4, 2, 2, 2, 2, 2, 2, 2, 2, 2, 2, 2, 2, 2, 2, 2, 2, 2, 2, 2, 2, 2, 4, 2, 2, 2, 2, 5, 2, 5, 2, 7, 2, 2, 5, 2, 2, 2, 9, 2, 2, 5, 2, 2, 2, 2, 2, 5, 2, 7, 2, 2, 2, 5, 2, 2, 2, 9, 2, 2, 5, 2, 2, 2, 2, 2]),\n",
       "       ...,\n",
       "       list([1, 2, 2, 2, 2, 8, 2, 2, 2, 2, 2, 2, 2, 2, 2, 2, 9, 2, 2, 9, 2, 2, 2, 2, 2, 2, 2, 2, 2, 2, 4, 2, 8, 4, 2, 2, 2, 2, 9, 2, 2, 2, 2, 9, 2, 2, 2, 2, 2, 2, 2, 2, 2, 6, 2, 2, 7, 4, 2, 2, 5, 2, 2, 2, 4, 2, 8, 2, 2, 2, 6, 2, 7, 2, 2, 2, 2]),\n",
       "       list([1, 2, 2, 2, 2, 2, 2, 2, 2, 2, 2, 2, 2, 2, 2, 2, 2, 2, 2, 2, 2, 2, 2, 2, 2, 2, 2, 2, 2, 2, 2, 2, 2, 2, 2, 2, 5, 2, 2, 2, 2, 2, 2, 9, 2, 2, 2, 2, 5, 2, 2, 2, 2, 2, 2, 2, 2, 2, 2, 2, 2, 2, 2, 2, 2, 5, 2, 2, 2, 2, 2, 4, 2, 5, 2, 2, 2, 2, 2, 2, 2, 2, 2, 2, 2, 2, 2, 9, 2, 2, 2, 2, 5, 2, 2, 2, 2, 2, 2, 2, 7, 2, 2, 2, 2, 6, 2, 2, 2, 2, 2, 2, 5, 4, 2, 2, 2, 2, 2]),\n",
       "       list([1, 2, 2, 2, 2, 2, 2, 2, 4, 2, 2, 7, 4, 2, 2, 2, 2, 2, 2, 9, 2, 2, 8, 7, 2, 2, 2, 2, 4, 2, 8, 2, 2, 2, 2, 2, 7, 2, 2, 6, 2, 2, 2, 2, 2, 2, 6, 2, 4, 2, 2, 7, 2, 2, 2, 2, 2, 2, 2, 9, 2, 2, 2, 2, 2, 4, 2, 2, 2, 2, 2, 2, 8, 4, 2, 8, 4, 2, 2, 2, 2, 2, 2, 2, 2, 2, 9, 2, 2, 2, 2, 2, 9, 4, 2, 2, 2, 2, 2, 2, 7, 4, 2, 2, 2])],\n",
       "      dtype=object)"
      ]
     },
     "execution_count": 25,
     "metadata": {},
     "output_type": "execute_result"
    }
   ],
   "source": [
    "x_train"
   ]
  },
  {
   "cell_type": "code",
   "execution_count": null,
   "metadata": {},
   "outputs": [],
   "source": []
  }
 ],
 "metadata": {
  "kernelspec": {
   "display_name": "Python 3",
   "language": "python",
   "name": "python3"
  },
  "language_info": {
   "codemirror_mode": {
    "name": "ipython",
    "version": 3
   },
   "file_extension": ".py",
   "mimetype": "text/x-python",
   "name": "python",
   "nbconvert_exporter": "python",
   "pygments_lexer": "ipython3",
   "version": "3.8.3"
  }
 },
 "nbformat": 4,
 "nbformat_minor": 4
}
