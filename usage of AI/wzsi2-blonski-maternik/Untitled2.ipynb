{
 "cells": [
  {
   "cell_type": "code",
   "execution_count": 9,
   "metadata": {},
   "outputs": [
    {
     "name": "stdout",
     "output_type": "stream",
     "text": [
      "The autoreload extension is already loaded. To reload it, use:\n",
      "  %reload_ext autoreload\n"
     ]
    }
   ],
   "source": [
    "import sys\n",
    "sys.path.append('.')\n",
    "%load_ext autoreload\n",
    "%autoreload 2\n",
    "from IPython.display import Code, display"
   ]
  },
  {
   "cell_type": "code",
   "execution_count": 10,
   "metadata": {},
   "outputs": [],
   "source": [
    "from src.Chess_q_learning.player_loader import Player_loader as loader\n",
    "import src.Chess_q_learning.EpsilonGreedyStrategy as epsilonStr\n",
    "from src.Chess_q_learning.ChessEnv import ChessEnv"
   ]
  },
  {
   "cell_type": "code",
   "execution_count": 11,
   "metadata": {},
   "outputs": [],
   "source": [
    "env = ChessEnv()"
   ]
  },
  {
   "cell_type": "code",
   "execution_count": 12,
   "metadata": {},
   "outputs": [],
   "source": [
    "PATH = 'C:\\Studia\\WZSI\\wzsi2-blonski-maternik\\src\\Chess_q_learning\\chessLearned10000.2'"
   ]
  },
  {
   "cell_type": "code",
   "execution_count": 13,
   "metadata": {},
   "outputs": [],
   "source": [
    "load = loader()\n",
    "agent = load.load_NN(PATH,env)"
   ]
  },
  {
   "cell_type": "code",
   "execution_count": 14,
   "metadata": {},
   "outputs": [
    {
     "data": {
      "text/plain": [
       "<src.Chess_q_learning.ChessAgent.ChessAgent at 0x17039d6a040>"
      ]
     },
     "execution_count": 14,
     "metadata": {},
     "output_type": "execute_result"
    }
   ],
   "source": [
    "agent"
   ]
  },
  {
   "cell_type": "code",
   "execution_count": 15,
   "metadata": {},
   "outputs": [],
   "source": [
    "def random_player(board):\n",
    "    legal_moves = list(board.legal_moves)\n",
    "    move = random.choice(legal_moves)\n",
    "    return (move, '')"
   ]
  },
  {
   "cell_type": "code",
   "execution_count": 16,
   "metadata": {},
   "outputs": [],
   "source": [
    "def agent_player(board):\n",
    "    legal_moves = list(board.legal_moves)\n",
    "    action = agent.select_action(state)\n",
    "    move = legal_moves[action]\n",
    "    return (move, '')\n",
    "    "
   ]
  },
  {
   "cell_type": "code",
   "execution_count": 17,
   "metadata": {},
   "outputs": [],
   "source": [
    "import time\n",
    "def play(board, max_steps=100,player1=random_player, player2=random_player, interactive=False, summary=True, display=display, clear=True):\n",
    "    start_time= time.perf_counter()\n",
    "    players = [player1, player2]\n",
    "    range_fun = [trange,range][display==no_display] #use trange when in jupyter display mode\n",
    "    statuses = []\n",
    "    display(board)\n",
    "    for turn in range_fun(max_steps):\n",
    "        if board.is_game_over():\n",
    "            display(\"Wyjście po ruchu {}\".format(turn))\n",
    "            break\n",
    "        for idx in range(len(players)):\n",
    "            if board.is_game_over():\n",
    "                break\n",
    "            player = players[idx]\n",
    "            (move, status) = player(board)\n",
    "            board.push(move)\n",
    "            if (len(status) > 0):\n",
    "                statuses.append(status)\n",
    "            if interactive == True:\n",
    "                if clear==True:\n",
    "                    clear_output()\n",
    "                display(\"Turn {}, Player {}: {}\".format(turn, idx, move))\n",
    "            if interactive == True:\n",
    "                display(board)\n",
    "                time.sleep(0.1)\n",
    "                if clear == True:\n",
    "                    print('\\n'.join(statuses))\n",
    "    display(\"Gra zakończona: {}\".format(board.is_game_over()))\n",
    "    if board.is_checkmate():\n",
    "        winner = {chess.WHITE: 'Czarne', chess.BLACK: 'Białe'}[board.turn] #przegrany ten, którego następna tura\n",
    "        display(\"Zwycięzca: {}\".format(winner))\n",
    "    else:\n",
    "        display(\"Brak zwycięzcy.\")\n",
    "    display(board)\n",
    "    end_time = time.perf_counter()-start_time\n",
    "    if not board.is_checkmate():\n",
    "        display(\"Stalemate: {}\".format(board.is_stalemate()))\n",
    "        display(\"Insufficient_material: {}\".format(board.is_insufficient_material()))\n",
    "        display(\"Seventyfive_moves rule: {}\".format(board.is_seventyfive_moves()))\n",
    "        display(\"Fivefold_repetition: {}\".format(board.is_fivefold_repetition()))\n",
    "        display(\"Variant end condition: {}\".format(board.is_variant_end()))\n",
    "    if board.is_checkmate():\n",
    "        \n",
    "        display('time of game {}'.format(end_time))\n",
    "        result = {chess.WHITE: [0, 1], chess.BLACK: [1, 0]}[board.turn] #przegrany ten, którego następna tura\n",
    "    else:\n",
    "        display('time of game {}'.format(end_time))\n",
    "        result = [0, 0]\n",
    "    result_dict = {'white_wins' : result[1]\n",
    "                   , 'black_wins' : result[0]\n",
    "                   , 'plays' : 1\n",
    "                   , 'time' : end_time\n",
    "                  }\n",
    "    return result_dict\n",
    "    "
   ]
  },
  {
   "cell_type": "code",
   "execution_count": null,
   "metadata": {},
   "outputs": [],
   "source": [
    "pla"
   ]
  }
 ],
 "metadata": {
  "kernelspec": {
   "display_name": "Python 3",
   "language": "python",
   "name": "python3"
  },
  "language_info": {
   "codemirror_mode": {
    "name": "ipython",
    "version": 3
   },
   "file_extension": ".py",
   "mimetype": "text/x-python",
   "name": "python",
   "nbconvert_exporter": "python",
   "pygments_lexer": "ipython3",
   "version": "3.8.2"
  }
 },
 "nbformat": 4,
 "nbformat_minor": 4
}
