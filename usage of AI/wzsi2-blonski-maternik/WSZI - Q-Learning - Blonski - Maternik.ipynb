{
 "cells": [
  {
   "cell_type": "code",
   "execution_count": 54,
   "metadata": {},
   "outputs": [
    {
     "name": "stdout",
     "output_type": "stream",
     "text": [
      "The autoreload extension is already loaded. To reload it, use:\n",
      "  %reload_ext autoreload\n"
     ]
    }
   ],
   "source": [
    "import sys\n",
    "sys.path.append('.')\n",
    "%load_ext autoreload\n",
    "%autoreload 2\n",
    "from IPython.display import Code, display"
   ]
  },
  {
   "cell_type": "code",
   "execution_count": 55,
   "metadata": {},
   "outputs": [
    {
     "data": {
      "text/html": [
       "<style>.output_html .hll { background-color: #ffffcc }\n",
       ".output_html  { background: #f8f8f8; }\n",
       ".output_html .c { color: #408080; font-style: italic } /* Comment */\n",
       ".output_html .err { border: 1px solid #FF0000 } /* Error */\n",
       ".output_html .k { color: #008000; font-weight: bold } /* Keyword */\n",
       ".output_html .o { color: #666666 } /* Operator */\n",
       ".output_html .ch { color: #408080; font-style: italic } /* Comment.Hashbang */\n",
       ".output_html .cm { color: #408080; font-style: italic } /* Comment.Multiline */\n",
       ".output_html .cp { color: #BC7A00 } /* Comment.Preproc */\n",
       ".output_html .cpf { color: #408080; font-style: italic } /* Comment.PreprocFile */\n",
       ".output_html .c1 { color: #408080; font-style: italic } /* Comment.Single */\n",
       ".output_html .cs { color: #408080; font-style: italic } /* Comment.Special */\n",
       ".output_html .gd { color: #A00000 } /* Generic.Deleted */\n",
       ".output_html .ge { font-style: italic } /* Generic.Emph */\n",
       ".output_html .gr { color: #FF0000 } /* Generic.Error */\n",
       ".output_html .gh { color: #000080; font-weight: bold } /* Generic.Heading */\n",
       ".output_html .gi { color: #00A000 } /* Generic.Inserted */\n",
       ".output_html .go { color: #888888 } /* Generic.Output */\n",
       ".output_html .gp { color: #000080; font-weight: bold } /* Generic.Prompt */\n",
       ".output_html .gs { font-weight: bold } /* Generic.Strong */\n",
       ".output_html .gu { color: #800080; font-weight: bold } /* Generic.Subheading */\n",
       ".output_html .gt { color: #0044DD } /* Generic.Traceback */\n",
       ".output_html .kc { color: #008000; font-weight: bold } /* Keyword.Constant */\n",
       ".output_html .kd { color: #008000; font-weight: bold } /* Keyword.Declaration */\n",
       ".output_html .kn { color: #008000; font-weight: bold } /* Keyword.Namespace */\n",
       ".output_html .kp { color: #008000 } /* Keyword.Pseudo */\n",
       ".output_html .kr { color: #008000; font-weight: bold } /* Keyword.Reserved */\n",
       ".output_html .kt { color: #B00040 } /* Keyword.Type */\n",
       ".output_html .m { color: #666666 } /* Literal.Number */\n",
       ".output_html .s { color: #BA2121 } /* Literal.String */\n",
       ".output_html .na { color: #7D9029 } /* Name.Attribute */\n",
       ".output_html .nb { color: #008000 } /* Name.Builtin */\n",
       ".output_html .nc { color: #0000FF; font-weight: bold } /* Name.Class */\n",
       ".output_html .no { color: #880000 } /* Name.Constant */\n",
       ".output_html .nd { color: #AA22FF } /* Name.Decorator */\n",
       ".output_html .ni { color: #999999; font-weight: bold } /* Name.Entity */\n",
       ".output_html .ne { color: #D2413A; font-weight: bold } /* Name.Exception */\n",
       ".output_html .nf { color: #0000FF } /* Name.Function */\n",
       ".output_html .nl { color: #A0A000 } /* Name.Label */\n",
       ".output_html .nn { color: #0000FF; font-weight: bold } /* Name.Namespace */\n",
       ".output_html .nt { color: #008000; font-weight: bold } /* Name.Tag */\n",
       ".output_html .nv { color: #19177C } /* Name.Variable */\n",
       ".output_html .ow { color: #AA22FF; font-weight: bold } /* Operator.Word */\n",
       ".output_html .w { color: #bbbbbb } /* Text.Whitespace */\n",
       ".output_html .mb { color: #666666 } /* Literal.Number.Bin */\n",
       ".output_html .mf { color: #666666 } /* Literal.Number.Float */\n",
       ".output_html .mh { color: #666666 } /* Literal.Number.Hex */\n",
       ".output_html .mi { color: #666666 } /* Literal.Number.Integer */\n",
       ".output_html .mo { color: #666666 } /* Literal.Number.Oct */\n",
       ".output_html .sa { color: #BA2121 } /* Literal.String.Affix */\n",
       ".output_html .sb { color: #BA2121 } /* Literal.String.Backtick */\n",
       ".output_html .sc { color: #BA2121 } /* Literal.String.Char */\n",
       ".output_html .dl { color: #BA2121 } /* Literal.String.Delimiter */\n",
       ".output_html .sd { color: #BA2121; font-style: italic } /* Literal.String.Doc */\n",
       ".output_html .s2 { color: #BA2121 } /* Literal.String.Double */\n",
       ".output_html .se { color: #BB6622; font-weight: bold } /* Literal.String.Escape */\n",
       ".output_html .sh { color: #BA2121 } /* Literal.String.Heredoc */\n",
       ".output_html .si { color: #BB6688; font-weight: bold } /* Literal.String.Interpol */\n",
       ".output_html .sx { color: #008000 } /* Literal.String.Other */\n",
       ".output_html .sr { color: #BB6688 } /* Literal.String.Regex */\n",
       ".output_html .s1 { color: #BA2121 } /* Literal.String.Single */\n",
       ".output_html .ss { color: #19177C } /* Literal.String.Symbol */\n",
       ".output_html .bp { color: #008000 } /* Name.Builtin.Pseudo */\n",
       ".output_html .fm { color: #0000FF } /* Name.Function.Magic */\n",
       ".output_html .vc { color: #19177C } /* Name.Variable.Class */\n",
       ".output_html .vg { color: #19177C } /* Name.Variable.Global */\n",
       ".output_html .vi { color: #19177C } /* Name.Variable.Instance */\n",
       ".output_html .vm { color: #19177C } /* Name.Variable.Magic */\n",
       ".output_html .il { color: #666666 } /* Literal.Number.Integer.Long */</style><div class=\"highlight\"><pre><span></span><span class=\"kn\">from</span> <span class=\"nn\">src.solution_search</span> <span class=\"kn\">import</span> <span class=\"n\">decide</span>\n",
       "\n",
       "<span class=\"s1\">&#39;Train_agent - trains q-learn agent on specific board. Returns trained agent&#39;</span>\n",
       "\n",
       "\n",
       "<span class=\"k\">class</span> <span class=\"nc\">Board</span><span class=\"p\">(</span><span class=\"nb\">object</span><span class=\"p\">):</span>\n",
       "    <span class=\"k\">def</span> <span class=\"fm\">__init__</span><span class=\"p\">(</span><span class=\"bp\">self</span><span class=\"p\">,</span> <span class=\"n\">board</span><span class=\"p\">):</span>\n",
       "        <span class=\"bp\">self</span><span class=\"o\">.</span><span class=\"n\">prime_board</span> <span class=\"o\">=</span> <span class=\"nb\">list</span><span class=\"o\">.</span><span class=\"n\">copy</span><span class=\"p\">(</span><span class=\"n\">board</span><span class=\"p\">)</span>\n",
       "        <span class=\"bp\">self</span><span class=\"o\">.</span><span class=\"n\">episode_board</span> <span class=\"o\">=</span> <span class=\"nb\">list</span><span class=\"o\">.</span><span class=\"n\">copy</span><span class=\"p\">(</span><span class=\"n\">board</span><span class=\"p\">)</span>\n",
       "        <span class=\"bp\">self</span><span class=\"o\">.</span><span class=\"n\">piles_num</span> <span class=\"o\">=</span> <span class=\"nb\">len</span><span class=\"p\">(</span><span class=\"n\">board</span><span class=\"p\">)</span>\n",
       "        <span class=\"bp\">self</span><span class=\"o\">.</span><span class=\"n\">episode_counter</span> <span class=\"o\">=</span> <span class=\"mi\">0</span>\n",
       "\n",
       "\n",
       "    <span class=\"k\">def</span> <span class=\"nf\">check_win</span><span class=\"p\">(</span><span class=\"bp\">self</span><span class=\"p\">):</span>\n",
       "        <span class=\"n\">res</span> <span class=\"o\">=</span> <span class=\"kc\">False</span>\n",
       "        <span class=\"k\">if</span> <span class=\"nb\">sum</span><span class=\"p\">(</span><span class=\"bp\">self</span><span class=\"o\">.</span><span class=\"n\">episode_board</span><span class=\"p\">)</span> <span class=\"o\">==</span> <span class=\"mi\">0</span><span class=\"p\">:</span>\n",
       "            <span class=\"n\">res</span> <span class=\"o\">=</span> <span class=\"kc\">False</span>\n",
       "        <span class=\"k\">elif</span> <span class=\"nb\">sum</span><span class=\"p\">(</span><span class=\"bp\">self</span><span class=\"o\">.</span><span class=\"n\">episode_board</span><span class=\"p\">)</span> <span class=\"o\">==</span> <span class=\"mi\">1</span><span class=\"p\">:</span>\n",
       "            <span class=\"n\">res</span> <span class=\"o\">=</span> <span class=\"kc\">True</span>\n",
       "        <span class=\"k\">return</span> <span class=\"n\">res</span>\n",
       "\n",
       "    <span class=\"k\">def</span> <span class=\"nf\">is_end</span><span class=\"p\">(</span><span class=\"bp\">self</span><span class=\"p\">):</span>\n",
       "        <span class=\"n\">res</span> <span class=\"o\">=</span> <span class=\"kc\">False</span>\n",
       "        <span class=\"k\">if</span> <span class=\"nb\">sum</span><span class=\"p\">(</span><span class=\"bp\">self</span><span class=\"o\">.</span><span class=\"n\">episode_board</span><span class=\"p\">)</span> <span class=\"o\">&lt;=</span> <span class=\"mi\">1</span><span class=\"p\">:</span>\n",
       "            <span class=\"n\">res</span> <span class=\"o\">=</span> <span class=\"kc\">True</span>\n",
       "        <span class=\"k\">return</span> <span class=\"n\">res</span>\n",
       "\n",
       "    <span class=\"k\">def</span> <span class=\"nf\">make_move</span><span class=\"p\">(</span><span class=\"bp\">self</span><span class=\"p\">,</span><span class=\"n\">move</span><span class=\"p\">):</span>\n",
       "        <span class=\"bp\">self</span><span class=\"o\">.</span><span class=\"n\">update</span><span class=\"p\">(</span><span class=\"n\">move</span><span class=\"p\">[</span><span class=\"mi\">1</span><span class=\"p\">],</span><span class=\"n\">move</span><span class=\"p\">[</span><span class=\"mi\">0</span><span class=\"p\">])</span>\n",
       "        <span class=\"n\">reward</span> <span class=\"o\">=</span> <span class=\"mi\">0</span>\n",
       "        <span class=\"n\">win</span> <span class=\"o\">=</span> <span class=\"bp\">self</span><span class=\"o\">.</span><span class=\"n\">check_win</span><span class=\"p\">()</span>\n",
       "        <span class=\"k\">if</span> <span class=\"n\">win</span><span class=\"p\">:</span>\n",
       "            <span class=\"n\">reward</span> <span class=\"o\">=</span> <span class=\"mi\">1</span>\n",
       "        <span class=\"k\">return</span> <span class=\"n\">win</span><span class=\"p\">,</span> <span class=\"n\">reward</span>\n",
       "\n",
       "    <span class=\"k\">def</span> <span class=\"nf\">update</span><span class=\"p\">(</span><span class=\"bp\">self</span><span class=\"p\">,</span> <span class=\"n\">piles</span><span class=\"p\">,</span> <span class=\"n\">num</span><span class=\"p\">):</span>\n",
       "        <span class=\"bp\">self</span><span class=\"o\">.</span><span class=\"n\">episode_board</span><span class=\"p\">[</span><span class=\"n\">piles</span><span class=\"p\">]</span> <span class=\"o\">-=</span> <span class=\"n\">num</span>\n",
       "\n",
       "    <span class=\"k\">def</span> <span class=\"nf\">computerUpdate</span><span class=\"p\">(</span><span class=\"bp\">self</span><span class=\"p\">):</span>\n",
       "        <span class=\"bp\">self</span><span class=\"o\">.</span><span class=\"n\">episode_board</span> <span class=\"o\">=</span> <span class=\"n\">decide</span><span class=\"p\">(</span><span class=\"bp\">self</span><span class=\"o\">.</span><span class=\"n\">episode_board</span><span class=\"p\">,</span> <span class=\"o\">-</span><span class=\"nb\">float</span><span class=\"p\">(</span><span class=\"s1\">&#39;inf&#39;</span><span class=\"p\">),</span> <span class=\"nb\">float</span><span class=\"p\">(</span><span class=\"s1\">&#39;inf&#39;</span><span class=\"p\">),</span> <span class=\"kc\">True</span><span class=\"p\">)[</span><span class=\"mi\">1</span><span class=\"p\">][</span><span class=\"mi\">1</span><span class=\"p\">]</span>\n",
       "        <span class=\"k\">return</span> <span class=\"bp\">self</span><span class=\"o\">.</span><span class=\"n\">check_win</span><span class=\"p\">()</span>\n",
       "\n",
       "    <span class=\"c1\"># codes states as string</span>\n",
       "    <span class=\"k\">def</span> <span class=\"nf\">actual_state</span><span class=\"p\">(</span><span class=\"bp\">self</span><span class=\"p\">):</span>\n",
       "        <span class=\"k\">return</span> <span class=\"bp\">self</span><span class=\"o\">.</span><span class=\"n\">episode_board</span><span class=\"p\">,</span> <span class=\"nb\">str</span><span class=\"p\">(</span><span class=\"bp\">self</span><span class=\"o\">.</span><span class=\"n\">episode_board</span><span class=\"p\">)</span>  <span class=\"c1\"># example &#39;[1 , 2]&#39;</span>\n",
       "\n",
       "    <span class=\"k\">def</span> <span class=\"nf\">next_possible_states</span><span class=\"p\">(</span><span class=\"bp\">self</span><span class=\"p\">):</span>\n",
       "        <span class=\"n\">res</span> <span class=\"o\">=</span> <span class=\"p\">[]</span>\n",
       "        <span class=\"k\">for</span> <span class=\"n\">piles</span> <span class=\"ow\">in</span> <span class=\"nb\">range</span><span class=\"p\">(</span><span class=\"bp\">self</span><span class=\"o\">.</span><span class=\"n\">piles_num</span><span class=\"p\">):</span>\n",
       "            <span class=\"k\">for</span> <span class=\"n\">move</span> <span class=\"ow\">in</span> <span class=\"nb\">range</span><span class=\"p\">(</span><span class=\"mi\">1</span><span class=\"p\">,</span> <span class=\"bp\">self</span><span class=\"o\">.</span><span class=\"n\">episode_board</span><span class=\"p\">[</span><span class=\"n\">piles</span><span class=\"p\">]</span> <span class=\"o\">+</span> <span class=\"mi\">1</span><span class=\"p\">):</span>\n",
       "                <span class=\"n\">temp</span> <span class=\"o\">=</span> <span class=\"nb\">list</span><span class=\"p\">(</span><span class=\"bp\">self</span><span class=\"o\">.</span><span class=\"n\">episode_board</span><span class=\"p\">[:])</span>\n",
       "                <span class=\"n\">temp</span><span class=\"p\">[</span><span class=\"n\">piles</span><span class=\"p\">]</span> <span class=\"o\">-=</span> <span class=\"n\">move</span>\n",
       "                <span class=\"n\">res</span><span class=\"o\">.</span><span class=\"n\">append</span><span class=\"p\">(</span><span class=\"n\">temp</span><span class=\"p\">)</span>\n",
       "        <span class=\"k\">return</span> <span class=\"n\">res</span>\n",
       "\n",
       "    <span class=\"k\">def</span> <span class=\"nf\">next_possible_moves</span><span class=\"p\">(</span><span class=\"bp\">self</span><span class=\"p\">,</span> <span class=\"n\">state</span> <span class=\"p\">):</span>\n",
       "        <span class=\"n\">res</span> <span class=\"o\">=</span> <span class=\"p\">[]</span>\n",
       "        <span class=\"n\">piles_count</span> <span class=\"o\">=</span> <span class=\"nb\">len</span><span class=\"p\">(</span><span class=\"n\">state</span><span class=\"p\">)</span>\n",
       "        <span class=\"k\">for</span> <span class=\"n\">piles</span> <span class=\"ow\">in</span> <span class=\"nb\">range</span><span class=\"p\">(</span><span class=\"n\">piles_count</span><span class=\"p\">):</span>\n",
       "            <span class=\"c1\">#print(&quot;piles test&quot;)</span>\n",
       "            <span class=\"k\">for</span> <span class=\"n\">move</span> <span class=\"ow\">in</span> <span class=\"nb\">range</span><span class=\"p\">(</span><span class=\"mi\">1</span><span class=\"p\">,</span> <span class=\"nb\">min</span><span class=\"p\">(</span><span class=\"mi\">3</span><span class=\"p\">,</span> <span class=\"n\">state</span><span class=\"p\">[</span><span class=\"n\">piles</span><span class=\"p\">])</span> <span class=\"o\">+</span> <span class=\"mi\">1</span><span class=\"p\">):</span>\n",
       "             <span class=\"c1\">#   print(&quot;moves test&quot;)</span>\n",
       "                <span class=\"n\">temp</span> <span class=\"o\">=</span> <span class=\"nb\">list</span><span class=\"p\">(</span><span class=\"n\">state</span><span class=\"p\">[:])</span>\n",
       "                <span class=\"n\">temp</span><span class=\"p\">[</span><span class=\"n\">piles</span><span class=\"p\">]</span> <span class=\"o\">-=</span> <span class=\"n\">move</span>\n",
       "                <span class=\"n\">res</span><span class=\"o\">.</span><span class=\"n\">append</span><span class=\"p\">([</span><span class=\"n\">move</span><span class=\"p\">,</span><span class=\"n\">piles</span><span class=\"p\">])</span>\n",
       "        <span class=\"k\">return</span> <span class=\"n\">res</span>\n",
       "\n",
       "    <span class=\"k\">def</span> <span class=\"nf\">start_game</span><span class=\"p\">(</span><span class=\"bp\">self</span><span class=\"p\">):</span>\n",
       "        <span class=\"bp\">self</span><span class=\"o\">.</span><span class=\"n\">episode_board</span><span class=\"o\">=</span><span class=\"nb\">list</span><span class=\"o\">.</span><span class=\"n\">copy</span><span class=\"p\">(</span><span class=\"bp\">self</span><span class=\"o\">.</span><span class=\"n\">prime_board</span><span class=\"p\">)</span>\n",
       "        <span class=\"bp\">self</span><span class=\"o\">.</span><span class=\"n\">episode_counter</span><span class=\"o\">+=</span><span class=\"mi\">1</span>\n",
       "        <span class=\"c1\">##print(&quot;Episode &quot;, self.episode_board)</span>\n",
       "\n",
       "    <span class=\"k\">def</span> <span class=\"nf\">end_game</span><span class=\"p\">(</span><span class=\"bp\">self</span><span class=\"p\">):</span>\n",
       "        <span class=\"c1\">#print(&quot;Episode &quot;,self.episode_board,&quot; ended&quot;)</span>\n",
       "        <span class=\"k\">pass</span>\n",
       "    <span class=\"k\">def</span> <span class=\"nf\">enemy_move</span><span class=\"p\">(</span><span class=\"bp\">self</span><span class=\"p\">):</span>\n",
       "        <span class=\"k\">return</span> <span class=\"bp\">self</span><span class=\"o\">.</span><span class=\"n\">computerUpdate</span><span class=\"p\">()</span>\n",
       "</pre></div>\n"
      ],
      "text/latex": [
       "\\begin{Verbatim}[commandchars=\\\\\\{\\}]\n",
       "\\PY{k+kn}{from} \\PY{n+nn}{src}\\PY{n+nn}{.}\\PY{n+nn}{solution\\PYZus{}search} \\PY{k+kn}{import} \\PY{n}{decide}\n",
       "\n",
       "\\PY{l+s+s1}{\\PYZsq{}}\\PY{l+s+s1}{Train\\PYZus{}agent \\PYZhy{} trains q\\PYZhy{}learn agent on specific board. Returns trained agent}\\PY{l+s+s1}{\\PYZsq{}}\n",
       "\n",
       "\n",
       "\\PY{k}{class} \\PY{n+nc}{Board}\\PY{p}{(}\\PY{n+nb}{object}\\PY{p}{)}\\PY{p}{:}\n",
       "    \\PY{k}{def} \\PY{n+nf+fm}{\\PYZus{}\\PYZus{}init\\PYZus{}\\PYZus{}}\\PY{p}{(}\\PY{n+nb+bp}{self}\\PY{p}{,} \\PY{n}{board}\\PY{p}{)}\\PY{p}{:}\n",
       "        \\PY{n+nb+bp}{self}\\PY{o}{.}\\PY{n}{prime\\PYZus{}board} \\PY{o}{=} \\PY{n+nb}{list}\\PY{o}{.}\\PY{n}{copy}\\PY{p}{(}\\PY{n}{board}\\PY{p}{)}\n",
       "        \\PY{n+nb+bp}{self}\\PY{o}{.}\\PY{n}{episode\\PYZus{}board} \\PY{o}{=} \\PY{n+nb}{list}\\PY{o}{.}\\PY{n}{copy}\\PY{p}{(}\\PY{n}{board}\\PY{p}{)}\n",
       "        \\PY{n+nb+bp}{self}\\PY{o}{.}\\PY{n}{piles\\PYZus{}num} \\PY{o}{=} \\PY{n+nb}{len}\\PY{p}{(}\\PY{n}{board}\\PY{p}{)}\n",
       "        \\PY{n+nb+bp}{self}\\PY{o}{.}\\PY{n}{episode\\PYZus{}counter} \\PY{o}{=} \\PY{l+m+mi}{0}\n",
       "\n",
       "\n",
       "    \\PY{k}{def} \\PY{n+nf}{check\\PYZus{}win}\\PY{p}{(}\\PY{n+nb+bp}{self}\\PY{p}{)}\\PY{p}{:}\n",
       "        \\PY{n}{res} \\PY{o}{=} \\PY{k+kc}{False}\n",
       "        \\PY{k}{if} \\PY{n+nb}{sum}\\PY{p}{(}\\PY{n+nb+bp}{self}\\PY{o}{.}\\PY{n}{episode\\PYZus{}board}\\PY{p}{)} \\PY{o}{==} \\PY{l+m+mi}{0}\\PY{p}{:}\n",
       "            \\PY{n}{res} \\PY{o}{=} \\PY{k+kc}{False}\n",
       "        \\PY{k}{elif} \\PY{n+nb}{sum}\\PY{p}{(}\\PY{n+nb+bp}{self}\\PY{o}{.}\\PY{n}{episode\\PYZus{}board}\\PY{p}{)} \\PY{o}{==} \\PY{l+m+mi}{1}\\PY{p}{:}\n",
       "            \\PY{n}{res} \\PY{o}{=} \\PY{k+kc}{True}\n",
       "        \\PY{k}{return} \\PY{n}{res}\n",
       "\n",
       "    \\PY{k}{def} \\PY{n+nf}{is\\PYZus{}end}\\PY{p}{(}\\PY{n+nb+bp}{self}\\PY{p}{)}\\PY{p}{:}\n",
       "        \\PY{n}{res} \\PY{o}{=} \\PY{k+kc}{False}\n",
       "        \\PY{k}{if} \\PY{n+nb}{sum}\\PY{p}{(}\\PY{n+nb+bp}{self}\\PY{o}{.}\\PY{n}{episode\\PYZus{}board}\\PY{p}{)} \\PY{o}{\\PYZlt{}}\\PY{o}{=} \\PY{l+m+mi}{1}\\PY{p}{:}\n",
       "            \\PY{n}{res} \\PY{o}{=} \\PY{k+kc}{True}\n",
       "        \\PY{k}{return} \\PY{n}{res}\n",
       "\n",
       "    \\PY{k}{def} \\PY{n+nf}{make\\PYZus{}move}\\PY{p}{(}\\PY{n+nb+bp}{self}\\PY{p}{,}\\PY{n}{move}\\PY{p}{)}\\PY{p}{:}\n",
       "        \\PY{n+nb+bp}{self}\\PY{o}{.}\\PY{n}{update}\\PY{p}{(}\\PY{n}{move}\\PY{p}{[}\\PY{l+m+mi}{1}\\PY{p}{]}\\PY{p}{,}\\PY{n}{move}\\PY{p}{[}\\PY{l+m+mi}{0}\\PY{p}{]}\\PY{p}{)}\n",
       "        \\PY{n}{reward} \\PY{o}{=} \\PY{l+m+mi}{0}\n",
       "        \\PY{n}{win} \\PY{o}{=} \\PY{n+nb+bp}{self}\\PY{o}{.}\\PY{n}{check\\PYZus{}win}\\PY{p}{(}\\PY{p}{)}\n",
       "        \\PY{k}{if} \\PY{n}{win}\\PY{p}{:}\n",
       "            \\PY{n}{reward} \\PY{o}{=} \\PY{l+m+mi}{1}\n",
       "        \\PY{k}{return} \\PY{n}{win}\\PY{p}{,} \\PY{n}{reward}\n",
       "\n",
       "    \\PY{k}{def} \\PY{n+nf}{update}\\PY{p}{(}\\PY{n+nb+bp}{self}\\PY{p}{,} \\PY{n}{piles}\\PY{p}{,} \\PY{n}{num}\\PY{p}{)}\\PY{p}{:}\n",
       "        \\PY{n+nb+bp}{self}\\PY{o}{.}\\PY{n}{episode\\PYZus{}board}\\PY{p}{[}\\PY{n}{piles}\\PY{p}{]} \\PY{o}{\\PYZhy{}}\\PY{o}{=} \\PY{n}{num}\n",
       "\n",
       "    \\PY{k}{def} \\PY{n+nf}{computerUpdate}\\PY{p}{(}\\PY{n+nb+bp}{self}\\PY{p}{)}\\PY{p}{:}\n",
       "        \\PY{n+nb+bp}{self}\\PY{o}{.}\\PY{n}{episode\\PYZus{}board} \\PY{o}{=} \\PY{n}{decide}\\PY{p}{(}\\PY{n+nb+bp}{self}\\PY{o}{.}\\PY{n}{episode\\PYZus{}board}\\PY{p}{,} \\PY{o}{\\PYZhy{}}\\PY{n+nb}{float}\\PY{p}{(}\\PY{l+s+s1}{\\PYZsq{}}\\PY{l+s+s1}{inf}\\PY{l+s+s1}{\\PYZsq{}}\\PY{p}{)}\\PY{p}{,} \\PY{n+nb}{float}\\PY{p}{(}\\PY{l+s+s1}{\\PYZsq{}}\\PY{l+s+s1}{inf}\\PY{l+s+s1}{\\PYZsq{}}\\PY{p}{)}\\PY{p}{,} \\PY{k+kc}{True}\\PY{p}{)}\\PY{p}{[}\\PY{l+m+mi}{1}\\PY{p}{]}\\PY{p}{[}\\PY{l+m+mi}{1}\\PY{p}{]}\n",
       "        \\PY{k}{return} \\PY{n+nb+bp}{self}\\PY{o}{.}\\PY{n}{check\\PYZus{}win}\\PY{p}{(}\\PY{p}{)}\n",
       "\n",
       "    \\PY{c+c1}{\\PYZsh{} codes states as string}\n",
       "    \\PY{k}{def} \\PY{n+nf}{actual\\PYZus{}state}\\PY{p}{(}\\PY{n+nb+bp}{self}\\PY{p}{)}\\PY{p}{:}\n",
       "        \\PY{k}{return} \\PY{n+nb+bp}{self}\\PY{o}{.}\\PY{n}{episode\\PYZus{}board}\\PY{p}{,} \\PY{n+nb}{str}\\PY{p}{(}\\PY{n+nb+bp}{self}\\PY{o}{.}\\PY{n}{episode\\PYZus{}board}\\PY{p}{)}  \\PY{c+c1}{\\PYZsh{} example \\PYZsq{}[1 , 2]\\PYZsq{}}\n",
       "\n",
       "    \\PY{k}{def} \\PY{n+nf}{next\\PYZus{}possible\\PYZus{}states}\\PY{p}{(}\\PY{n+nb+bp}{self}\\PY{p}{)}\\PY{p}{:}\n",
       "        \\PY{n}{res} \\PY{o}{=} \\PY{p}{[}\\PY{p}{]}\n",
       "        \\PY{k}{for} \\PY{n}{piles} \\PY{o+ow}{in} \\PY{n+nb}{range}\\PY{p}{(}\\PY{n+nb+bp}{self}\\PY{o}{.}\\PY{n}{piles\\PYZus{}num}\\PY{p}{)}\\PY{p}{:}\n",
       "            \\PY{k}{for} \\PY{n}{move} \\PY{o+ow}{in} \\PY{n+nb}{range}\\PY{p}{(}\\PY{l+m+mi}{1}\\PY{p}{,} \\PY{n+nb+bp}{self}\\PY{o}{.}\\PY{n}{episode\\PYZus{}board}\\PY{p}{[}\\PY{n}{piles}\\PY{p}{]} \\PY{o}{+} \\PY{l+m+mi}{1}\\PY{p}{)}\\PY{p}{:}\n",
       "                \\PY{n}{temp} \\PY{o}{=} \\PY{n+nb}{list}\\PY{p}{(}\\PY{n+nb+bp}{self}\\PY{o}{.}\\PY{n}{episode\\PYZus{}board}\\PY{p}{[}\\PY{p}{:}\\PY{p}{]}\\PY{p}{)}\n",
       "                \\PY{n}{temp}\\PY{p}{[}\\PY{n}{piles}\\PY{p}{]} \\PY{o}{\\PYZhy{}}\\PY{o}{=} \\PY{n}{move}\n",
       "                \\PY{n}{res}\\PY{o}{.}\\PY{n}{append}\\PY{p}{(}\\PY{n}{temp}\\PY{p}{)}\n",
       "        \\PY{k}{return} \\PY{n}{res}\n",
       "\n",
       "    \\PY{k}{def} \\PY{n+nf}{next\\PYZus{}possible\\PYZus{}moves}\\PY{p}{(}\\PY{n+nb+bp}{self}\\PY{p}{,} \\PY{n}{state} \\PY{p}{)}\\PY{p}{:}\n",
       "        \\PY{n}{res} \\PY{o}{=} \\PY{p}{[}\\PY{p}{]}\n",
       "        \\PY{n}{piles\\PYZus{}count} \\PY{o}{=} \\PY{n+nb}{len}\\PY{p}{(}\\PY{n}{state}\\PY{p}{)}\n",
       "        \\PY{k}{for} \\PY{n}{piles} \\PY{o+ow}{in} \\PY{n+nb}{range}\\PY{p}{(}\\PY{n}{piles\\PYZus{}count}\\PY{p}{)}\\PY{p}{:}\n",
       "            \\PY{c+c1}{\\PYZsh{}print(\\PYZdq{}piles test\\PYZdq{})}\n",
       "            \\PY{k}{for} \\PY{n}{move} \\PY{o+ow}{in} \\PY{n+nb}{range}\\PY{p}{(}\\PY{l+m+mi}{1}\\PY{p}{,} \\PY{n+nb}{min}\\PY{p}{(}\\PY{l+m+mi}{3}\\PY{p}{,} \\PY{n}{state}\\PY{p}{[}\\PY{n}{piles}\\PY{p}{]}\\PY{p}{)} \\PY{o}{+} \\PY{l+m+mi}{1}\\PY{p}{)}\\PY{p}{:}\n",
       "             \\PY{c+c1}{\\PYZsh{}   print(\\PYZdq{}moves test\\PYZdq{})}\n",
       "                \\PY{n}{temp} \\PY{o}{=} \\PY{n+nb}{list}\\PY{p}{(}\\PY{n}{state}\\PY{p}{[}\\PY{p}{:}\\PY{p}{]}\\PY{p}{)}\n",
       "                \\PY{n}{temp}\\PY{p}{[}\\PY{n}{piles}\\PY{p}{]} \\PY{o}{\\PYZhy{}}\\PY{o}{=} \\PY{n}{move}\n",
       "                \\PY{n}{res}\\PY{o}{.}\\PY{n}{append}\\PY{p}{(}\\PY{p}{[}\\PY{n}{move}\\PY{p}{,}\\PY{n}{piles}\\PY{p}{]}\\PY{p}{)}\n",
       "        \\PY{k}{return} \\PY{n}{res}\n",
       "\n",
       "    \\PY{k}{def} \\PY{n+nf}{start\\PYZus{}game}\\PY{p}{(}\\PY{n+nb+bp}{self}\\PY{p}{)}\\PY{p}{:}\n",
       "        \\PY{n+nb+bp}{self}\\PY{o}{.}\\PY{n}{episode\\PYZus{}board}\\PY{o}{=}\\PY{n+nb}{list}\\PY{o}{.}\\PY{n}{copy}\\PY{p}{(}\\PY{n+nb+bp}{self}\\PY{o}{.}\\PY{n}{prime\\PYZus{}board}\\PY{p}{)}\n",
       "        \\PY{n+nb+bp}{self}\\PY{o}{.}\\PY{n}{episode\\PYZus{}counter}\\PY{o}{+}\\PY{o}{=}\\PY{l+m+mi}{1}\n",
       "        \\PY{c+c1}{\\PYZsh{}\\PYZsh{}print(\\PYZdq{}Episode \\PYZdq{}, self.episode\\PYZus{}board)}\n",
       "\n",
       "    \\PY{k}{def} \\PY{n+nf}{end\\PYZus{}game}\\PY{p}{(}\\PY{n+nb+bp}{self}\\PY{p}{)}\\PY{p}{:}\n",
       "        \\PY{c+c1}{\\PYZsh{}print(\\PYZdq{}Episode \\PYZdq{},self.episode\\PYZus{}board,\\PYZdq{} ended\\PYZdq{})}\n",
       "        \\PY{k}{pass}\n",
       "    \\PY{k}{def} \\PY{n+nf}{enemy\\PYZus{}move}\\PY{p}{(}\\PY{n+nb+bp}{self}\\PY{p}{)}\\PY{p}{:}\n",
       "        \\PY{k}{return} \\PY{n+nb+bp}{self}\\PY{o}{.}\\PY{n}{computerUpdate}\\PY{p}{(}\\PY{p}{)}\n",
       "\\end{Verbatim}\n"
      ],
      "text/plain": [
       "from src.solution_search import decide\n",
       "\n",
       "'Train_agent - trains q-learn agent on specific board. Returns trained agent'\n",
       "\n",
       "\n",
       "class Board(object):\n",
       "    def __init__(self, board):\n",
       "        self.prime_board = list.copy(board)\n",
       "        self.episode_board = list.copy(board)\n",
       "        self.piles_num = len(board)\n",
       "        self.episode_counter = 0\n",
       "\n",
       "\n",
       "    def check_win(self):\n",
       "        res = False\n",
       "        if sum(self.episode_board) == 0:\n",
       "            res = False\n",
       "        elif sum(self.episode_board) == 1:\n",
       "            res = True\n",
       "        return res\n",
       "\n",
       "    def is_end(self):\n",
       "        res = False\n",
       "        if sum(self.episode_board) <= 1:\n",
       "            res = True\n",
       "        return res\n",
       "\n",
       "    def make_move(self,move):\n",
       "        self.update(move[1],move[0])\n",
       "        reward = 0\n",
       "        win = self.check_win()\n",
       "        if win:\n",
       "            reward = 1\n",
       "        return win, reward\n",
       "\n",
       "    def update(self, piles, num):\n",
       "        self.episode_board[piles] -= num\n",
       "\n",
       "    def computerUpdate(self):\n",
       "        self.episode_board = decide(self.episode_board, -float('inf'), float('inf'), True)[1][1]\n",
       "        return self.check_win()\n",
       "\n",
       "    # codes states as string\n",
       "    def actual_state(self):\n",
       "        return self.episode_board, str(self.episode_board)  # example '[1 , 2]'\n",
       "\n",
       "    def next_possible_states(self):\n",
       "        res = []\n",
       "        for piles in range(self.piles_num):\n",
       "            for move in range(1, self.episode_board[piles] + 1):\n",
       "                temp = list(self.episode_board[:])\n",
       "                temp[piles] -= move\n",
       "                res.append(temp)\n",
       "        return res\n",
       "\n",
       "    def next_possible_moves(self, state ):\n",
       "        res = []\n",
       "        piles_count = len(state)\n",
       "        for piles in range(piles_count):\n",
       "            #print(\"piles test\")\n",
       "            for move in range(1, min(3, state[piles]) + 1):\n",
       "             #   print(\"moves test\")\n",
       "                temp = list(state[:])\n",
       "                temp[piles] -= move\n",
       "                res.append([move,piles])\n",
       "        return res\n",
       "\n",
       "    def start_game(self):\n",
       "        self.episode_board=list.copy(self.prime_board)\n",
       "        self.episode_counter+=1\n",
       "        ##print(\"Episode \", self.episode_board)\n",
       "\n",
       "    def end_game(self):\n",
       "        #print(\"Episode \",self.episode_board,\" ended\")\n",
       "        pass\n",
       "    def enemy_move(self):\n",
       "        return self.computerUpdate()\n",
       "\n"
      ]
     },
     "metadata": {},
     "output_type": "display_data"
    }
   ],
   "source": [
    "display(Code(filename='src/Q_learn_run.py'))\n"
   ]
  },
  {
   "cell_type": "code",
   "execution_count": 56,
   "metadata": {},
   "outputs": [
    {
     "data": {
      "text/html": [
       "<style>.output_html .hll { background-color: #ffffcc }\n",
       ".output_html  { background: #f8f8f8; }\n",
       ".output_html .c { color: #408080; font-style: italic } /* Comment */\n",
       ".output_html .err { border: 1px solid #FF0000 } /* Error */\n",
       ".output_html .k { color: #008000; font-weight: bold } /* Keyword */\n",
       ".output_html .o { color: #666666 } /* Operator */\n",
       ".output_html .ch { color: #408080; font-style: italic } /* Comment.Hashbang */\n",
       ".output_html .cm { color: #408080; font-style: italic } /* Comment.Multiline */\n",
       ".output_html .cp { color: #BC7A00 } /* Comment.Preproc */\n",
       ".output_html .cpf { color: #408080; font-style: italic } /* Comment.PreprocFile */\n",
       ".output_html .c1 { color: #408080; font-style: italic } /* Comment.Single */\n",
       ".output_html .cs { color: #408080; font-style: italic } /* Comment.Special */\n",
       ".output_html .gd { color: #A00000 } /* Generic.Deleted */\n",
       ".output_html .ge { font-style: italic } /* Generic.Emph */\n",
       ".output_html .gr { color: #FF0000 } /* Generic.Error */\n",
       ".output_html .gh { color: #000080; font-weight: bold } /* Generic.Heading */\n",
       ".output_html .gi { color: #00A000 } /* Generic.Inserted */\n",
       ".output_html .go { color: #888888 } /* Generic.Output */\n",
       ".output_html .gp { color: #000080; font-weight: bold } /* Generic.Prompt */\n",
       ".output_html .gs { font-weight: bold } /* Generic.Strong */\n",
       ".output_html .gu { color: #800080; font-weight: bold } /* Generic.Subheading */\n",
       ".output_html .gt { color: #0044DD } /* Generic.Traceback */\n",
       ".output_html .kc { color: #008000; font-weight: bold } /* Keyword.Constant */\n",
       ".output_html .kd { color: #008000; font-weight: bold } /* Keyword.Declaration */\n",
       ".output_html .kn { color: #008000; font-weight: bold } /* Keyword.Namespace */\n",
       ".output_html .kp { color: #008000 } /* Keyword.Pseudo */\n",
       ".output_html .kr { color: #008000; font-weight: bold } /* Keyword.Reserved */\n",
       ".output_html .kt { color: #B00040 } /* Keyword.Type */\n",
       ".output_html .m { color: #666666 } /* Literal.Number */\n",
       ".output_html .s { color: #BA2121 } /* Literal.String */\n",
       ".output_html .na { color: #7D9029 } /* Name.Attribute */\n",
       ".output_html .nb { color: #008000 } /* Name.Builtin */\n",
       ".output_html .nc { color: #0000FF; font-weight: bold } /* Name.Class */\n",
       ".output_html .no { color: #880000 } /* Name.Constant */\n",
       ".output_html .nd { color: #AA22FF } /* Name.Decorator */\n",
       ".output_html .ni { color: #999999; font-weight: bold } /* Name.Entity */\n",
       ".output_html .ne { color: #D2413A; font-weight: bold } /* Name.Exception */\n",
       ".output_html .nf { color: #0000FF } /* Name.Function */\n",
       ".output_html .nl { color: #A0A000 } /* Name.Label */\n",
       ".output_html .nn { color: #0000FF; font-weight: bold } /* Name.Namespace */\n",
       ".output_html .nt { color: #008000; font-weight: bold } /* Name.Tag */\n",
       ".output_html .nv { color: #19177C } /* Name.Variable */\n",
       ".output_html .ow { color: #AA22FF; font-weight: bold } /* Operator.Word */\n",
       ".output_html .w { color: #bbbbbb } /* Text.Whitespace */\n",
       ".output_html .mb { color: #666666 } /* Literal.Number.Bin */\n",
       ".output_html .mf { color: #666666 } /* Literal.Number.Float */\n",
       ".output_html .mh { color: #666666 } /* Literal.Number.Hex */\n",
       ".output_html .mi { color: #666666 } /* Literal.Number.Integer */\n",
       ".output_html .mo { color: #666666 } /* Literal.Number.Oct */\n",
       ".output_html .sa { color: #BA2121 } /* Literal.String.Affix */\n",
       ".output_html .sb { color: #BA2121 } /* Literal.String.Backtick */\n",
       ".output_html .sc { color: #BA2121 } /* Literal.String.Char */\n",
       ".output_html .dl { color: #BA2121 } /* Literal.String.Delimiter */\n",
       ".output_html .sd { color: #BA2121; font-style: italic } /* Literal.String.Doc */\n",
       ".output_html .s2 { color: #BA2121 } /* Literal.String.Double */\n",
       ".output_html .se { color: #BB6622; font-weight: bold } /* Literal.String.Escape */\n",
       ".output_html .sh { color: #BA2121 } /* Literal.String.Heredoc */\n",
       ".output_html .si { color: #BB6688; font-weight: bold } /* Literal.String.Interpol */\n",
       ".output_html .sx { color: #008000 } /* Literal.String.Other */\n",
       ".output_html .sr { color: #BB6688 } /* Literal.String.Regex */\n",
       ".output_html .s1 { color: #BA2121 } /* Literal.String.Single */\n",
       ".output_html .ss { color: #19177C } /* Literal.String.Symbol */\n",
       ".output_html .bp { color: #008000 } /* Name.Builtin.Pseudo */\n",
       ".output_html .fm { color: #0000FF } /* Name.Function.Magic */\n",
       ".output_html .vc { color: #19177C } /* Name.Variable.Class */\n",
       ".output_html .vg { color: #19177C } /* Name.Variable.Global */\n",
       ".output_html .vi { color: #19177C } /* Name.Variable.Instance */\n",
       ".output_html .vm { color: #19177C } /* Name.Variable.Magic */\n",
       ".output_html .il { color: #666666 } /* Literal.Number.Integer.Long */</style><div class=\"highlight\"><pre><span></span><span class=\"kn\">import</span> <span class=\"nn\">numpy</span> <span class=\"k\">as</span> <span class=\"nn\">np</span>\n",
       "<span class=\"kn\">import</span> <span class=\"nn\">random</span>\n",
       "<span class=\"kn\">import</span> <span class=\"nn\">ast</span>\n",
       "<span class=\"kn\">from</span> <span class=\"nn\">tqdm.notebook</span> <span class=\"kn\">import</span> <span class=\"n\">trange</span>\n",
       "<span class=\"kn\">from</span> <span class=\"nn\">src.Q_learn_run</span> <span class=\"kn\">import</span> <span class=\"n\">Board</span>\n",
       "\n",
       "<span class=\"k\">class</span> <span class=\"nc\">Q_learning_player</span><span class=\"p\">:</span>\n",
       "    <span class=\"k\">def</span> <span class=\"fm\">__init__</span><span class=\"p\">(</span><span class=\"bp\">self</span><span class=\"p\">,</span> <span class=\"n\">Board</span><span class=\"p\">):</span>\n",
       "        <span class=\"bp\">self</span><span class=\"o\">.</span><span class=\"n\">board</span> <span class=\"o\">=</span> <span class=\"n\">Board</span>\n",
       "\n",
       "        <span class=\"c1\"># learning params</span>\n",
       "        <span class=\"bp\">self</span><span class=\"o\">.</span><span class=\"n\">learning_rate</span> <span class=\"o\">=</span> <span class=\"mf\">0.7</span>\n",
       "        <span class=\"bp\">self</span><span class=\"o\">.</span><span class=\"n\">discount_rate</span> <span class=\"o\">=</span> <span class=\"mf\">0.99</span>\n",
       "        <span class=\"c1\"># exploration params</span>\n",
       "        <span class=\"bp\">self</span><span class=\"o\">.</span><span class=\"n\">min_exploration_rate</span> <span class=\"o\">=</span> <span class=\"mf\">0.01</span>\n",
       "        <span class=\"bp\">self</span><span class=\"o\">.</span><span class=\"n\">max_exploration_rate</span> <span class=\"o\">=</span> <span class=\"mi\">1</span>\n",
       "        <span class=\"bp\">self</span><span class=\"o\">.</span><span class=\"n\">exploration_rate</span> <span class=\"o\">=</span> <span class=\"bp\">self</span><span class=\"o\">.</span><span class=\"n\">max_exploration_rate</span>\n",
       "        <span class=\"bp\">self</span><span class=\"o\">.</span><span class=\"n\">exploration_decay</span> <span class=\"o\">=</span> <span class=\"mf\">0.001</span>\n",
       "        <span class=\"bp\">self</span><span class=\"o\">.</span><span class=\"n\">episodes_tought</span> <span class=\"o\">=</span> <span class=\"mi\">0</span>\n",
       "        <span class=\"c1\"># For metrics and plots</span>\n",
       "        <span class=\"bp\">self</span><span class=\"o\">.</span><span class=\"n\">history</span> <span class=\"o\">=</span> <span class=\"p\">{</span>\n",
       "            <span class=\"s2\">&quot;rewards&quot;</span><span class=\"p\">:</span> <span class=\"p\">[],</span>\n",
       "            <span class=\"s2\">&quot;cum_rewards&quot;</span><span class=\"p\">:</span> <span class=\"p\">[],</span><span class=\"c1\"># updatable array of reward history per episode</span>\n",
       "            <span class=\"s2\">&quot;exploration_decay&quot;</span><span class=\"p\">:[]</span>\n",
       "        <span class=\"p\">}</span>\n",
       "        <span class=\"c1\">#Q table - On the begining of the NIM game all posibilites</span>\n",
       "        <span class=\"bp\">self</span><span class=\"o\">.</span><span class=\"n\">Q_table</span> <span class=\"o\">=</span>  <span class=\"nb\">dict</span><span class=\"p\">()</span>\n",
       "        <span class=\"n\">possible_states</span> <span class=\"o\">=</span> <span class=\"bp\">self</span><span class=\"o\">.</span><span class=\"n\">board</span><span class=\"o\">.</span><span class=\"n\">next_possible_states</span><span class=\"p\">()</span>\n",
       "        <span class=\"n\">possible_states</span><span class=\"o\">.</span><span class=\"n\">append</span><span class=\"p\">(</span><span class=\"bp\">self</span><span class=\"o\">.</span><span class=\"n\">board</span><span class=\"o\">.</span><span class=\"n\">actual_state</span><span class=\"p\">()[</span><span class=\"mi\">0</span><span class=\"p\">])</span>\n",
       "        <span class=\"k\">for</span> <span class=\"n\">state</span> <span class=\"ow\">in</span> <span class=\"n\">possible_states</span><span class=\"p\">:</span> <span class=\"c1\">#for each starting state make Q value = 0</span>\n",
       "            <span class=\"n\">moves</span> <span class=\"o\">=</span> <span class=\"bp\">self</span><span class=\"o\">.</span><span class=\"n\">board</span><span class=\"o\">.</span><span class=\"n\">next_possible_moves</span><span class=\"p\">(</span><span class=\"n\">state</span><span class=\"p\">)</span>\n",
       "            <span class=\"bp\">self</span><span class=\"o\">.</span><span class=\"n\">Q_table</span><span class=\"p\">[</span><span class=\"nb\">str</span><span class=\"p\">(</span><span class=\"n\">state</span><span class=\"p\">)]</span> <span class=\"o\">=</span> <span class=\"p\">{</span><span class=\"nb\">str</span><span class=\"p\">(</span><span class=\"n\">move</span><span class=\"p\">):</span> <span class=\"mi\">0</span> <span class=\"k\">for</span> <span class=\"n\">move</span> <span class=\"ow\">in</span> <span class=\"n\">moves</span><span class=\"p\">}</span>\n",
       "        <span class=\"nb\">print</span><span class=\"p\">(</span><span class=\"s2\">&quot;Q table:&quot;</span><span class=\"p\">,</span><span class=\"bp\">self</span><span class=\"o\">.</span><span class=\"n\">Q_table</span><span class=\"p\">)</span>\n",
       "        <span class=\"c1\">#print(&quot;Q learning player initialized. use .train(num,steps)&quot;)</span>\n",
       "\n",
       "    <span class=\"k\">def</span> <span class=\"nf\">train</span><span class=\"p\">(</span><span class=\"bp\">self</span><span class=\"p\">,</span> <span class=\"n\">num_episodes</span><span class=\"p\">,</span> <span class=\"n\">max_steps</span><span class=\"p\">):</span>\n",
       "        <span class=\"n\">cum_reward</span> <span class=\"o\">=</span> <span class=\"mi\">0</span>\n",
       "        <span class=\"c1\"># train loop</span>\n",
       "        <span class=\"k\">for</span> <span class=\"n\">episode</span> <span class=\"ow\">in</span> <span class=\"n\">trange</span><span class=\"p\">(</span><span class=\"n\">num_episodes</span><span class=\"p\">):</span>\n",
       "            <span class=\"bp\">self</span><span class=\"o\">.</span><span class=\"n\">episodes_tought</span> <span class=\"o\">+=</span> <span class=\"mi\">1</span>\n",
       "            <span class=\"n\">is_done</span> <span class=\"o\">=</span> <span class=\"kc\">False</span>\n",
       "            <span class=\"n\">reward_gain</span> <span class=\"o\">=</span> <span class=\"mi\">0</span>\n",
       "            <span class=\"n\">enemy_won</span> <span class=\"o\">=</span> <span class=\"kc\">False</span>\n",
       "            <span class=\"bp\">self</span><span class=\"o\">.</span><span class=\"n\">board</span><span class=\"o\">.</span><span class=\"n\">start_game</span><span class=\"p\">()</span>\n",
       "            <span class=\"k\">for</span> <span class=\"n\">step</span> <span class=\"ow\">in</span> <span class=\"nb\">range</span><span class=\"p\">(</span><span class=\"n\">max_steps</span><span class=\"p\">):</span>\n",
       "\n",
       "                <span class=\"n\">actual_state</span><span class=\"p\">,</span> <span class=\"n\">actual_state_key</span> <span class=\"o\">=</span> <span class=\"bp\">self</span><span class=\"o\">.</span><span class=\"n\">board</span><span class=\"o\">.</span><span class=\"n\">actual_state</span><span class=\"p\">()</span>\n",
       "                <span class=\"n\">moves</span> <span class=\"o\">=</span> <span class=\"bp\">self</span><span class=\"o\">.</span><span class=\"n\">board</span><span class=\"o\">.</span><span class=\"n\">next_possible_moves</span><span class=\"p\">(</span><span class=\"n\">actual_state</span><span class=\"p\">)</span>\n",
       "                <span class=\"n\">check_action_type</span> <span class=\"o\">=</span> <span class=\"n\">random</span><span class=\"o\">.</span><span class=\"n\">uniform</span><span class=\"p\">(</span><span class=\"mi\">0</span><span class=\"p\">,</span> <span class=\"mi\">1</span><span class=\"p\">)</span>\n",
       "                <span class=\"k\">if</span> <span class=\"n\">check_action_type</span> <span class=\"o\">&gt;</span> <span class=\"bp\">self</span><span class=\"o\">.</span><span class=\"n\">exploration_rate</span><span class=\"p\">:</span>\n",
       "                    <span class=\"n\">actions_for_state</span> <span class=\"o\">=</span> <span class=\"bp\">self</span><span class=\"o\">.</span><span class=\"n\">Q_table</span><span class=\"p\">[</span><span class=\"n\">actual_state_key</span><span class=\"p\">]</span>\n",
       "                    <span class=\"n\">action_key</span> <span class=\"o\">=</span> <span class=\"nb\">max</span><span class=\"p\">(</span><span class=\"n\">actions_for_state</span><span class=\"p\">)</span> <span class=\"c1\"># get best action you know for this state</span>\n",
       "                    <span class=\"n\">action</span> <span class=\"o\">=</span>  <span class=\"n\">ast</span><span class=\"o\">.</span><span class=\"n\">literal_eval</span><span class=\"p\">(</span><span class=\"n\">action_key</span><span class=\"p\">)</span>\n",
       "                <span class=\"k\">else</span><span class=\"p\">:</span>\n",
       "                    <span class=\"k\">if</span> <span class=\"nb\">len</span><span class=\"p\">(</span><span class=\"n\">moves</span><span class=\"p\">)</span> <span class=\"o\">&lt;=</span><span class=\"mi\">0</span><span class=\"p\">:</span>\n",
       "                        <span class=\"k\">break</span><span class=\"p\">;</span>\n",
       "                    <span class=\"n\">action</span> <span class=\"o\">=</span> <span class=\"n\">random</span><span class=\"o\">.</span><span class=\"n\">choice</span><span class=\"p\">(</span><span class=\"n\">moves</span><span class=\"p\">)</span> <span class=\"c1\"># get random action for that state</span>\n",
       "\n",
       "                <span class=\"c1\"># GET REWARD STATE ECT FROM GAME</span>\n",
       "                <span class=\"c1\"># self.upadte_Q_table(self.state,new_state,action,reward)</span>\n",
       "                <span class=\"c1\">#</span>\n",
       "                <span class=\"n\">is_won</span><span class=\"p\">,</span> <span class=\"n\">reward</span> <span class=\"o\">=</span> <span class=\"bp\">self</span><span class=\"o\">.</span><span class=\"n\">board</span><span class=\"o\">.</span><span class=\"n\">make_move</span><span class=\"p\">(</span><span class=\"n\">action</span><span class=\"p\">)</span>\n",
       "                <span class=\"n\">reward</span> <span class=\"o\">+=</span> <span class=\"o\">-</span><span class=\"mi\">1</span> <span class=\"o\">/</span> <span class=\"n\">max_steps</span>\n",
       "                <span class=\"n\">is_end</span> <span class=\"o\">=</span> <span class=\"bp\">self</span><span class=\"o\">.</span><span class=\"n\">board</span><span class=\"o\">.</span><span class=\"n\">is_end</span><span class=\"p\">()</span>\n",
       "                <span class=\"n\">new_State</span><span class=\"p\">,</span> <span class=\"n\">new_State_key</span> <span class=\"o\">=</span> <span class=\"bp\">self</span><span class=\"o\">.</span><span class=\"n\">board</span><span class=\"o\">.</span><span class=\"n\">actual_state</span><span class=\"p\">()</span>\n",
       "                <span class=\"k\">if</span> <span class=\"n\">is_end</span> <span class=\"o\">==</span> <span class=\"kc\">False</span><span class=\"p\">:</span>\n",
       "                    <span class=\"n\">enemy_won</span> <span class=\"o\">=</span> <span class=\"bp\">self</span><span class=\"o\">.</span><span class=\"n\">board</span><span class=\"o\">.</span><span class=\"n\">enemy_move</span><span class=\"p\">()</span>\n",
       "                <span class=\"k\">if</span> <span class=\"n\">enemy_won</span><span class=\"p\">:</span>\n",
       "                    <span class=\"n\">reward</span> <span class=\"o\">=</span> <span class=\"o\">-</span><span class=\"mi\">3</span>\n",
       "                <span class=\"n\">is_end</span> <span class=\"o\">=</span> <span class=\"bp\">self</span><span class=\"o\">.</span><span class=\"n\">board</span><span class=\"o\">.</span><span class=\"n\">is_end</span><span class=\"p\">()</span>\n",
       "                <span class=\"k\">if</span> <span class=\"n\">is_end</span> <span class=\"o\">==</span> <span class=\"kc\">True</span><span class=\"p\">:</span>\n",
       "                    <span class=\"n\">is_won</span> <span class=\"o\">=</span> <span class=\"bp\">self</span><span class=\"o\">.</span><span class=\"n\">board</span><span class=\"o\">.</span><span class=\"n\">check_win</span><span class=\"p\">()</span> <span class=\"c1\">#check if enemy lose</span>\n",
       "                    <span class=\"k\">if</span> <span class=\"n\">is_won</span><span class=\"p\">:</span>\n",
       "                        <span class=\"n\">reward</span> <span class=\"o\">=</span> <span class=\"mi\">1</span>\n",
       "\n",
       "                <span class=\"bp\">self</span><span class=\"o\">.</span><span class=\"n\">update_keys_Q_table</span><span class=\"p\">()</span> <span class=\"c1\"># add new states and moves to Q-table</span>\n",
       "                <span class=\"bp\">self</span><span class=\"o\">.</span><span class=\"n\">update_Q_table</span><span class=\"p\">(</span><span class=\"n\">actual_state_key</span><span class=\"p\">,</span><span class=\"nb\">str</span><span class=\"p\">(</span><span class=\"n\">action</span><span class=\"p\">),</span><span class=\"n\">reward</span><span class=\"p\">,</span><span class=\"n\">new_State</span><span class=\"p\">,</span><span class=\"n\">new_State_key</span><span class=\"p\">)</span>\n",
       "                <span class=\"n\">reward_gain</span> <span class=\"o\">+=</span> <span class=\"n\">reward</span>\n",
       "                <span class=\"k\">if</span> <span class=\"n\">is_end</span> <span class=\"o\">==</span> <span class=\"kc\">True</span><span class=\"p\">:</span>  <span class=\"c1\"># break episode loop is game is finished</span>\n",
       "                    <span class=\"k\">break</span><span class=\"p\">;</span>\n",
       "\n",
       "            <span class=\"c1\">#loop end</span>\n",
       "\n",
       "            <span class=\"c1\"># EPISODE IS FINISHED</span>\n",
       "            <span class=\"bp\">self</span><span class=\"o\">.</span><span class=\"n\">update_exploration_rate</span><span class=\"p\">(</span><span class=\"bp\">self</span><span class=\"o\">.</span><span class=\"n\">episodes_tought</span><span class=\"p\">)</span>\n",
       "            <span class=\"bp\">self</span><span class=\"o\">.</span><span class=\"n\">history</span><span class=\"p\">[</span><span class=\"s1\">&#39;rewards&#39;</span><span class=\"p\">]</span><span class=\"o\">.</span><span class=\"n\">append</span><span class=\"p\">(</span><span class=\"n\">reward_gain</span><span class=\"p\">)</span>\n",
       "            <span class=\"n\">cum_reward</span><span class=\"o\">+=</span><span class=\"n\">reward_gain</span>\n",
       "            <span class=\"bp\">self</span><span class=\"o\">.</span><span class=\"n\">history</span><span class=\"p\">[</span><span class=\"s1\">&#39;cum_rewards&#39;</span><span class=\"p\">]</span><span class=\"o\">.</span><span class=\"n\">append</span><span class=\"p\">(</span><span class=\"n\">cum_reward</span><span class=\"p\">)</span>\n",
       "            <span class=\"bp\">self</span><span class=\"o\">.</span><span class=\"n\">board</span><span class=\"o\">.</span><span class=\"n\">end_game</span><span class=\"p\">()</span>\n",
       "        <span class=\"k\">return</span> <span class=\"bp\">self</span><span class=\"o\">.</span><span class=\"n\">history</span>\n",
       "\n",
       "    <span class=\"k\">def</span> <span class=\"nf\">update_Q_table</span><span class=\"p\">(</span><span class=\"bp\">self</span><span class=\"p\">,</span> <span class=\"n\">state</span><span class=\"p\">,</span> <span class=\"n\">action</span><span class=\"p\">,</span> <span class=\"n\">reward</span><span class=\"p\">,</span><span class=\"n\">new_State</span><span class=\"p\">,</span><span class=\"n\">new_State_key</span><span class=\"p\">):</span>\n",
       "\n",
       "        <span class=\"c1\">#count Q value</span>\n",
       "        <span class=\"c1\">#print(state)</span>\n",
       "        <span class=\"n\">max_value</span> <span class=\"o\">=</span> <span class=\"nb\">max</span><span class=\"p\">(</span><span class=\"bp\">self</span><span class=\"o\">.</span><span class=\"n\">Q_table</span><span class=\"p\">[</span><span class=\"n\">new_State_key</span><span class=\"p\">]</span><span class=\"o\">.</span><span class=\"n\">values</span><span class=\"p\">())</span>\n",
       "        <span class=\"n\">q_table_value</span> <span class=\"o\">=</span> <span class=\"bp\">self</span><span class=\"o\">.</span><span class=\"n\">Q_table</span><span class=\"p\">[</span><span class=\"n\">state</span><span class=\"p\">][</span><span class=\"n\">action</span><span class=\"p\">]</span>\n",
       "        <span class=\"n\">new_Q_value</span> <span class=\"o\">=</span> <span class=\"n\">q_table_value</span> <span class=\"o\">*</span> <span class=\"p\">(</span><span class=\"mi\">1</span> <span class=\"o\">-</span> <span class=\"bp\">self</span><span class=\"o\">.</span><span class=\"n\">learning_rate</span><span class=\"p\">)</span> <span class=\"o\">+</span> \\\n",
       "                                      <span class=\"bp\">self</span><span class=\"o\">.</span><span class=\"n\">learning_rate</span> <span class=\"o\">*</span> <span class=\"p\">(</span>\n",
       "                                              <span class=\"n\">reward</span> <span class=\"o\">+</span> <span class=\"bp\">self</span><span class=\"o\">.</span><span class=\"n\">discount_rate</span> <span class=\"o\">*</span> <span class=\"n\">max_value</span><span class=\"p\">)</span>\n",
       "        <span class=\"c1\">#update table</span>\n",
       "        <span class=\"bp\">self</span><span class=\"o\">.</span><span class=\"n\">Q_table</span><span class=\"p\">[</span><span class=\"n\">state</span><span class=\"p\">][</span><span class=\"n\">action</span><span class=\"p\">]</span> <span class=\"o\">=</span> <span class=\"n\">new_Q_value</span>\n",
       "        <span class=\"c1\">#update State</span>\n",
       "        <span class=\"bp\">self</span><span class=\"o\">.</span><span class=\"n\">state</span> <span class=\"o\">=</span> <span class=\"n\">new_State</span>\n",
       "\n",
       "    <span class=\"k\">def</span> <span class=\"nf\">update_exploration_rate</span><span class=\"p\">(</span><span class=\"bp\">self</span><span class=\"p\">,</span> <span class=\"n\">episode_number</span><span class=\"p\">):</span>\n",
       "        <span class=\"bp\">self</span><span class=\"o\">.</span><span class=\"n\">history</span><span class=\"p\">[</span><span class=\"s1\">&#39;exploration_decay&#39;</span><span class=\"p\">]</span><span class=\"o\">.</span><span class=\"n\">append</span><span class=\"p\">(</span><span class=\"bp\">self</span><span class=\"o\">.</span><span class=\"n\">exploration_rate</span><span class=\"p\">)</span>\n",
       "        <span class=\"bp\">self</span><span class=\"o\">.</span><span class=\"n\">exploration_rate</span> <span class=\"o\">=</span> <span class=\"bp\">self</span><span class=\"o\">.</span><span class=\"n\">min_exploration_rate</span> <span class=\"o\">+</span> <span class=\"p\">(</span>\n",
       "                <span class=\"bp\">self</span><span class=\"o\">.</span><span class=\"n\">max_exploration_rate</span> <span class=\"o\">-</span> <span class=\"bp\">self</span><span class=\"o\">.</span><span class=\"n\">min_exploration_rate</span><span class=\"p\">)</span> <span class=\"o\">*</span> <span class=\"n\">np</span><span class=\"o\">.</span><span class=\"n\">exp</span><span class=\"p\">(</span>\n",
       "            <span class=\"o\">-</span><span class=\"bp\">self</span><span class=\"o\">.</span><span class=\"n\">exploration_decay</span> <span class=\"o\">*</span> <span class=\"n\">episode_number</span><span class=\"p\">)</span>\n",
       "\n",
       "    <span class=\"k\">def</span> <span class=\"nf\">update_keys_Q_table</span><span class=\"p\">(</span><span class=\"bp\">self</span><span class=\"p\">):</span>\n",
       "        <span class=\"n\">possible_states</span> <span class=\"o\">=</span> <span class=\"bp\">self</span><span class=\"o\">.</span><span class=\"n\">board</span><span class=\"o\">.</span><span class=\"n\">next_possible_states</span><span class=\"p\">()</span>\n",
       "        <span class=\"n\">possible_states</span><span class=\"o\">.</span><span class=\"n\">append</span><span class=\"p\">(</span><span class=\"bp\">self</span><span class=\"o\">.</span><span class=\"n\">board</span><span class=\"o\">.</span><span class=\"n\">actual_state</span><span class=\"p\">()[</span><span class=\"mi\">0</span><span class=\"p\">])</span>\n",
       "        <span class=\"k\">for</span> <span class=\"n\">state</span> <span class=\"ow\">in</span> <span class=\"n\">possible_states</span><span class=\"p\">:</span> <span class=\"c1\">#for each new state / move make Q value = 0</span>\n",
       "            <span class=\"n\">moves</span> <span class=\"o\">=</span> <span class=\"bp\">self</span><span class=\"o\">.</span><span class=\"n\">board</span><span class=\"o\">.</span><span class=\"n\">next_possible_moves</span><span class=\"p\">(</span><span class=\"n\">state</span><span class=\"p\">)</span>\n",
       "            <span class=\"k\">if</span> <span class=\"nb\">str</span><span class=\"p\">(</span><span class=\"n\">state</span><span class=\"p\">)</span> <span class=\"ow\">not</span> <span class=\"ow\">in</span> <span class=\"bp\">self</span><span class=\"o\">.</span><span class=\"n\">Q_table</span><span class=\"p\">:</span> <span class=\"c1\">#init new state</span>\n",
       "                <span class=\"bp\">self</span><span class=\"o\">.</span><span class=\"n\">Q_table</span><span class=\"p\">[</span><span class=\"nb\">str</span><span class=\"p\">(</span><span class=\"n\">state</span><span class=\"p\">)]</span> <span class=\"o\">=</span> <span class=\"p\">{</span><span class=\"nb\">str</span><span class=\"p\">(</span><span class=\"n\">move</span><span class=\"p\">):</span> <span class=\"mi\">0</span> <span class=\"k\">for</span> <span class=\"n\">move</span> <span class=\"ow\">in</span> <span class=\"n\">moves</span><span class=\"p\">}</span>\n",
       "            <span class=\"k\">else</span><span class=\"p\">:</span>\n",
       "                <span class=\"n\">dic_moves_keys</span> <span class=\"o\">=</span> <span class=\"p\">[</span><span class=\"nb\">str</span><span class=\"p\">(</span><span class=\"n\">move</span><span class=\"p\">)</span> <span class=\"k\">for</span> <span class=\"n\">move</span> <span class=\"ow\">in</span> <span class=\"n\">moves</span><span class=\"p\">]</span>\n",
       "                <span class=\"n\">state_dic</span> <span class=\"o\">=</span> <span class=\"bp\">self</span><span class=\"o\">.</span><span class=\"n\">Q_table</span><span class=\"p\">[</span><span class=\"nb\">str</span><span class=\"p\">(</span><span class=\"n\">state</span><span class=\"p\">)]</span>\n",
       "                <span class=\"k\">for</span> <span class=\"n\">key</span> <span class=\"ow\">in</span> <span class=\"n\">dic_moves_keys</span><span class=\"p\">:</span>\n",
       "                    <span class=\"k\">if</span> <span class=\"n\">key</span> <span class=\"ow\">not</span> <span class=\"ow\">in</span> <span class=\"n\">state_dic</span><span class=\"p\">:</span>\n",
       "                        <span class=\"n\">state_dic</span><span class=\"p\">[</span><span class=\"n\">key</span><span class=\"p\">]</span> <span class=\"o\">=</span> <span class=\"mi\">0</span>\n",
       "</pre></div>\n"
      ],
      "text/latex": [
       "\\begin{Verbatim}[commandchars=\\\\\\{\\}]\n",
       "\\PY{k+kn}{import} \\PY{n+nn}{numpy} \\PY{k}{as} \\PY{n+nn}{np}\n",
       "\\PY{k+kn}{import} \\PY{n+nn}{random}\n",
       "\\PY{k+kn}{import} \\PY{n+nn}{ast}\n",
       "\\PY{k+kn}{from} \\PY{n+nn}{tqdm}\\PY{n+nn}{.}\\PY{n+nn}{notebook} \\PY{k+kn}{import} \\PY{n}{trange}\n",
       "\\PY{k+kn}{from} \\PY{n+nn}{src}\\PY{n+nn}{.}\\PY{n+nn}{Q\\PYZus{}learn\\PYZus{}run} \\PY{k+kn}{import} \\PY{n}{Board}\n",
       "\n",
       "\\PY{k}{class} \\PY{n+nc}{Q\\PYZus{}learning\\PYZus{}player}\\PY{p}{:}\n",
       "    \\PY{k}{def} \\PY{n+nf+fm}{\\PYZus{}\\PYZus{}init\\PYZus{}\\PYZus{}}\\PY{p}{(}\\PY{n+nb+bp}{self}\\PY{p}{,} \\PY{n}{Board}\\PY{p}{)}\\PY{p}{:}\n",
       "        \\PY{n+nb+bp}{self}\\PY{o}{.}\\PY{n}{board} \\PY{o}{=} \\PY{n}{Board}\n",
       "\n",
       "        \\PY{c+c1}{\\PYZsh{} learning params}\n",
       "        \\PY{n+nb+bp}{self}\\PY{o}{.}\\PY{n}{learning\\PYZus{}rate} \\PY{o}{=} \\PY{l+m+mf}{0.7}\n",
       "        \\PY{n+nb+bp}{self}\\PY{o}{.}\\PY{n}{discount\\PYZus{}rate} \\PY{o}{=} \\PY{l+m+mf}{0.99}\n",
       "        \\PY{c+c1}{\\PYZsh{} exploration params}\n",
       "        \\PY{n+nb+bp}{self}\\PY{o}{.}\\PY{n}{min\\PYZus{}exploration\\PYZus{}rate} \\PY{o}{=} \\PY{l+m+mf}{0.01}\n",
       "        \\PY{n+nb+bp}{self}\\PY{o}{.}\\PY{n}{max\\PYZus{}exploration\\PYZus{}rate} \\PY{o}{=} \\PY{l+m+mi}{1}\n",
       "        \\PY{n+nb+bp}{self}\\PY{o}{.}\\PY{n}{exploration\\PYZus{}rate} \\PY{o}{=} \\PY{n+nb+bp}{self}\\PY{o}{.}\\PY{n}{max\\PYZus{}exploration\\PYZus{}rate}\n",
       "        \\PY{n+nb+bp}{self}\\PY{o}{.}\\PY{n}{exploration\\PYZus{}decay} \\PY{o}{=} \\PY{l+m+mf}{0.001}\n",
       "        \\PY{n+nb+bp}{self}\\PY{o}{.}\\PY{n}{episodes\\PYZus{}tought} \\PY{o}{=} \\PY{l+m+mi}{0}\n",
       "        \\PY{c+c1}{\\PYZsh{} For metrics and plots}\n",
       "        \\PY{n+nb+bp}{self}\\PY{o}{.}\\PY{n}{history} \\PY{o}{=} \\PY{p}{\\PYZob{}}\n",
       "            \\PY{l+s+s2}{\\PYZdq{}}\\PY{l+s+s2}{rewards}\\PY{l+s+s2}{\\PYZdq{}}\\PY{p}{:} \\PY{p}{[}\\PY{p}{]}\\PY{p}{,}\n",
       "            \\PY{l+s+s2}{\\PYZdq{}}\\PY{l+s+s2}{cum\\PYZus{}rewards}\\PY{l+s+s2}{\\PYZdq{}}\\PY{p}{:} \\PY{p}{[}\\PY{p}{]}\\PY{p}{,}\\PY{c+c1}{\\PYZsh{} updatable array of reward history per episode}\n",
       "            \\PY{l+s+s2}{\\PYZdq{}}\\PY{l+s+s2}{exploration\\PYZus{}decay}\\PY{l+s+s2}{\\PYZdq{}}\\PY{p}{:}\\PY{p}{[}\\PY{p}{]}\n",
       "        \\PY{p}{\\PYZcb{}}\n",
       "        \\PY{c+c1}{\\PYZsh{}Q table \\PYZhy{} On the begining of the NIM game all posibilites}\n",
       "        \\PY{n+nb+bp}{self}\\PY{o}{.}\\PY{n}{Q\\PYZus{}table} \\PY{o}{=}  \\PY{n+nb}{dict}\\PY{p}{(}\\PY{p}{)}\n",
       "        \\PY{n}{possible\\PYZus{}states} \\PY{o}{=} \\PY{n+nb+bp}{self}\\PY{o}{.}\\PY{n}{board}\\PY{o}{.}\\PY{n}{next\\PYZus{}possible\\PYZus{}states}\\PY{p}{(}\\PY{p}{)}\n",
       "        \\PY{n}{possible\\PYZus{}states}\\PY{o}{.}\\PY{n}{append}\\PY{p}{(}\\PY{n+nb+bp}{self}\\PY{o}{.}\\PY{n}{board}\\PY{o}{.}\\PY{n}{actual\\PYZus{}state}\\PY{p}{(}\\PY{p}{)}\\PY{p}{[}\\PY{l+m+mi}{0}\\PY{p}{]}\\PY{p}{)}\n",
       "        \\PY{k}{for} \\PY{n}{state} \\PY{o+ow}{in} \\PY{n}{possible\\PYZus{}states}\\PY{p}{:} \\PY{c+c1}{\\PYZsh{}for each starting state make Q value = 0}\n",
       "            \\PY{n}{moves} \\PY{o}{=} \\PY{n+nb+bp}{self}\\PY{o}{.}\\PY{n}{board}\\PY{o}{.}\\PY{n}{next\\PYZus{}possible\\PYZus{}moves}\\PY{p}{(}\\PY{n}{state}\\PY{p}{)}\n",
       "            \\PY{n+nb+bp}{self}\\PY{o}{.}\\PY{n}{Q\\PYZus{}table}\\PY{p}{[}\\PY{n+nb}{str}\\PY{p}{(}\\PY{n}{state}\\PY{p}{)}\\PY{p}{]} \\PY{o}{=} \\PY{p}{\\PYZob{}}\\PY{n+nb}{str}\\PY{p}{(}\\PY{n}{move}\\PY{p}{)}\\PY{p}{:} \\PY{l+m+mi}{0} \\PY{k}{for} \\PY{n}{move} \\PY{o+ow}{in} \\PY{n}{moves}\\PY{p}{\\PYZcb{}}\n",
       "        \\PY{n+nb}{print}\\PY{p}{(}\\PY{l+s+s2}{\\PYZdq{}}\\PY{l+s+s2}{Q table:}\\PY{l+s+s2}{\\PYZdq{}}\\PY{p}{,}\\PY{n+nb+bp}{self}\\PY{o}{.}\\PY{n}{Q\\PYZus{}table}\\PY{p}{)}\n",
       "        \\PY{c+c1}{\\PYZsh{}print(\\PYZdq{}Q learning player initialized. use .train(num,steps)\\PYZdq{})}\n",
       "\n",
       "    \\PY{k}{def} \\PY{n+nf}{train}\\PY{p}{(}\\PY{n+nb+bp}{self}\\PY{p}{,} \\PY{n}{num\\PYZus{}episodes}\\PY{p}{,} \\PY{n}{max\\PYZus{}steps}\\PY{p}{)}\\PY{p}{:}\n",
       "        \\PY{n}{cum\\PYZus{}reward} \\PY{o}{=} \\PY{l+m+mi}{0}\n",
       "        \\PY{c+c1}{\\PYZsh{} train loop}\n",
       "        \\PY{k}{for} \\PY{n}{episode} \\PY{o+ow}{in} \\PY{n}{trange}\\PY{p}{(}\\PY{n}{num\\PYZus{}episodes}\\PY{p}{)}\\PY{p}{:}\n",
       "            \\PY{n+nb+bp}{self}\\PY{o}{.}\\PY{n}{episodes\\PYZus{}tought} \\PY{o}{+}\\PY{o}{=} \\PY{l+m+mi}{1}\n",
       "            \\PY{n}{is\\PYZus{}done} \\PY{o}{=} \\PY{k+kc}{False}\n",
       "            \\PY{n}{reward\\PYZus{}gain} \\PY{o}{=} \\PY{l+m+mi}{0}\n",
       "            \\PY{n}{enemy\\PYZus{}won} \\PY{o}{=} \\PY{k+kc}{False}\n",
       "            \\PY{n+nb+bp}{self}\\PY{o}{.}\\PY{n}{board}\\PY{o}{.}\\PY{n}{start\\PYZus{}game}\\PY{p}{(}\\PY{p}{)}\n",
       "            \\PY{k}{for} \\PY{n}{step} \\PY{o+ow}{in} \\PY{n+nb}{range}\\PY{p}{(}\\PY{n}{max\\PYZus{}steps}\\PY{p}{)}\\PY{p}{:}\n",
       "\n",
       "                \\PY{n}{actual\\PYZus{}state}\\PY{p}{,} \\PY{n}{actual\\PYZus{}state\\PYZus{}key} \\PY{o}{=} \\PY{n+nb+bp}{self}\\PY{o}{.}\\PY{n}{board}\\PY{o}{.}\\PY{n}{actual\\PYZus{}state}\\PY{p}{(}\\PY{p}{)}\n",
       "                \\PY{n}{moves} \\PY{o}{=} \\PY{n+nb+bp}{self}\\PY{o}{.}\\PY{n}{board}\\PY{o}{.}\\PY{n}{next\\PYZus{}possible\\PYZus{}moves}\\PY{p}{(}\\PY{n}{actual\\PYZus{}state}\\PY{p}{)}\n",
       "                \\PY{n}{check\\PYZus{}action\\PYZus{}type} \\PY{o}{=} \\PY{n}{random}\\PY{o}{.}\\PY{n}{uniform}\\PY{p}{(}\\PY{l+m+mi}{0}\\PY{p}{,} \\PY{l+m+mi}{1}\\PY{p}{)}\n",
       "                \\PY{k}{if} \\PY{n}{check\\PYZus{}action\\PYZus{}type} \\PY{o}{\\PYZgt{}} \\PY{n+nb+bp}{self}\\PY{o}{.}\\PY{n}{exploration\\PYZus{}rate}\\PY{p}{:}\n",
       "                    \\PY{n}{actions\\PYZus{}for\\PYZus{}state} \\PY{o}{=} \\PY{n+nb+bp}{self}\\PY{o}{.}\\PY{n}{Q\\PYZus{}table}\\PY{p}{[}\\PY{n}{actual\\PYZus{}state\\PYZus{}key}\\PY{p}{]}\n",
       "                    \\PY{n}{action\\PYZus{}key} \\PY{o}{=} \\PY{n+nb}{max}\\PY{p}{(}\\PY{n}{actions\\PYZus{}for\\PYZus{}state}\\PY{p}{)} \\PY{c+c1}{\\PYZsh{} get best action you know for this state}\n",
       "                    \\PY{n}{action} \\PY{o}{=}  \\PY{n}{ast}\\PY{o}{.}\\PY{n}{literal\\PYZus{}eval}\\PY{p}{(}\\PY{n}{action\\PYZus{}key}\\PY{p}{)}\n",
       "                \\PY{k}{else}\\PY{p}{:}\n",
       "                    \\PY{k}{if} \\PY{n+nb}{len}\\PY{p}{(}\\PY{n}{moves}\\PY{p}{)} \\PY{o}{\\PYZlt{}}\\PY{o}{=}\\PY{l+m+mi}{0}\\PY{p}{:}\n",
       "                        \\PY{k}{break}\\PY{p}{;}\n",
       "                    \\PY{n}{action} \\PY{o}{=} \\PY{n}{random}\\PY{o}{.}\\PY{n}{choice}\\PY{p}{(}\\PY{n}{moves}\\PY{p}{)} \\PY{c+c1}{\\PYZsh{} get random action for that state}\n",
       "\n",
       "                \\PY{c+c1}{\\PYZsh{} GET REWARD STATE ECT FROM GAME}\n",
       "                \\PY{c+c1}{\\PYZsh{} self.upadte\\PYZus{}Q\\PYZus{}table(self.state,new\\PYZus{}state,action,reward)}\n",
       "                \\PY{c+c1}{\\PYZsh{}}\n",
       "                \\PY{n}{is\\PYZus{}won}\\PY{p}{,} \\PY{n}{reward} \\PY{o}{=} \\PY{n+nb+bp}{self}\\PY{o}{.}\\PY{n}{board}\\PY{o}{.}\\PY{n}{make\\PYZus{}move}\\PY{p}{(}\\PY{n}{action}\\PY{p}{)}\n",
       "                \\PY{n}{reward} \\PY{o}{+}\\PY{o}{=} \\PY{o}{\\PYZhy{}}\\PY{l+m+mi}{1} \\PY{o}{/} \\PY{n}{max\\PYZus{}steps}\n",
       "                \\PY{n}{is\\PYZus{}end} \\PY{o}{=} \\PY{n+nb+bp}{self}\\PY{o}{.}\\PY{n}{board}\\PY{o}{.}\\PY{n}{is\\PYZus{}end}\\PY{p}{(}\\PY{p}{)}\n",
       "                \\PY{n}{new\\PYZus{}State}\\PY{p}{,} \\PY{n}{new\\PYZus{}State\\PYZus{}key} \\PY{o}{=} \\PY{n+nb+bp}{self}\\PY{o}{.}\\PY{n}{board}\\PY{o}{.}\\PY{n}{actual\\PYZus{}state}\\PY{p}{(}\\PY{p}{)}\n",
       "                \\PY{k}{if} \\PY{n}{is\\PYZus{}end} \\PY{o}{==} \\PY{k+kc}{False}\\PY{p}{:}\n",
       "                    \\PY{n}{enemy\\PYZus{}won} \\PY{o}{=} \\PY{n+nb+bp}{self}\\PY{o}{.}\\PY{n}{board}\\PY{o}{.}\\PY{n}{enemy\\PYZus{}move}\\PY{p}{(}\\PY{p}{)}\n",
       "                \\PY{k}{if} \\PY{n}{enemy\\PYZus{}won}\\PY{p}{:}\n",
       "                    \\PY{n}{reward} \\PY{o}{=} \\PY{o}{\\PYZhy{}}\\PY{l+m+mi}{3}\n",
       "                \\PY{n}{is\\PYZus{}end} \\PY{o}{=} \\PY{n+nb+bp}{self}\\PY{o}{.}\\PY{n}{board}\\PY{o}{.}\\PY{n}{is\\PYZus{}end}\\PY{p}{(}\\PY{p}{)}\n",
       "                \\PY{k}{if} \\PY{n}{is\\PYZus{}end} \\PY{o}{==} \\PY{k+kc}{True}\\PY{p}{:}\n",
       "                    \\PY{n}{is\\PYZus{}won} \\PY{o}{=} \\PY{n+nb+bp}{self}\\PY{o}{.}\\PY{n}{board}\\PY{o}{.}\\PY{n}{check\\PYZus{}win}\\PY{p}{(}\\PY{p}{)} \\PY{c+c1}{\\PYZsh{}check if enemy lose}\n",
       "                    \\PY{k}{if} \\PY{n}{is\\PYZus{}won}\\PY{p}{:}\n",
       "                        \\PY{n}{reward} \\PY{o}{=} \\PY{l+m+mi}{1}\n",
       "\n",
       "                \\PY{n+nb+bp}{self}\\PY{o}{.}\\PY{n}{update\\PYZus{}keys\\PYZus{}Q\\PYZus{}table}\\PY{p}{(}\\PY{p}{)} \\PY{c+c1}{\\PYZsh{} add new states and moves to Q\\PYZhy{}table}\n",
       "                \\PY{n+nb+bp}{self}\\PY{o}{.}\\PY{n}{update\\PYZus{}Q\\PYZus{}table}\\PY{p}{(}\\PY{n}{actual\\PYZus{}state\\PYZus{}key}\\PY{p}{,}\\PY{n+nb}{str}\\PY{p}{(}\\PY{n}{action}\\PY{p}{)}\\PY{p}{,}\\PY{n}{reward}\\PY{p}{,}\\PY{n}{new\\PYZus{}State}\\PY{p}{,}\\PY{n}{new\\PYZus{}State\\PYZus{}key}\\PY{p}{)}\n",
       "                \\PY{n}{reward\\PYZus{}gain} \\PY{o}{+}\\PY{o}{=} \\PY{n}{reward}\n",
       "                \\PY{k}{if} \\PY{n}{is\\PYZus{}end} \\PY{o}{==} \\PY{k+kc}{True}\\PY{p}{:}  \\PY{c+c1}{\\PYZsh{} break episode loop is game is finished}\n",
       "                    \\PY{k}{break}\\PY{p}{;}\n",
       "\n",
       "            \\PY{c+c1}{\\PYZsh{}loop end}\n",
       "\n",
       "            \\PY{c+c1}{\\PYZsh{} EPISODE IS FINISHED}\n",
       "            \\PY{n+nb+bp}{self}\\PY{o}{.}\\PY{n}{update\\PYZus{}exploration\\PYZus{}rate}\\PY{p}{(}\\PY{n+nb+bp}{self}\\PY{o}{.}\\PY{n}{episodes\\PYZus{}tought}\\PY{p}{)}\n",
       "            \\PY{n+nb+bp}{self}\\PY{o}{.}\\PY{n}{history}\\PY{p}{[}\\PY{l+s+s1}{\\PYZsq{}}\\PY{l+s+s1}{rewards}\\PY{l+s+s1}{\\PYZsq{}}\\PY{p}{]}\\PY{o}{.}\\PY{n}{append}\\PY{p}{(}\\PY{n}{reward\\PYZus{}gain}\\PY{p}{)}\n",
       "            \\PY{n}{cum\\PYZus{}reward}\\PY{o}{+}\\PY{o}{=}\\PY{n}{reward\\PYZus{}gain}\n",
       "            \\PY{n+nb+bp}{self}\\PY{o}{.}\\PY{n}{history}\\PY{p}{[}\\PY{l+s+s1}{\\PYZsq{}}\\PY{l+s+s1}{cum\\PYZus{}rewards}\\PY{l+s+s1}{\\PYZsq{}}\\PY{p}{]}\\PY{o}{.}\\PY{n}{append}\\PY{p}{(}\\PY{n}{cum\\PYZus{}reward}\\PY{p}{)}\n",
       "            \\PY{n+nb+bp}{self}\\PY{o}{.}\\PY{n}{board}\\PY{o}{.}\\PY{n}{end\\PYZus{}game}\\PY{p}{(}\\PY{p}{)}\n",
       "        \\PY{k}{return} \\PY{n+nb+bp}{self}\\PY{o}{.}\\PY{n}{history}\n",
       "\n",
       "    \\PY{k}{def} \\PY{n+nf}{update\\PYZus{}Q\\PYZus{}table}\\PY{p}{(}\\PY{n+nb+bp}{self}\\PY{p}{,} \\PY{n}{state}\\PY{p}{,} \\PY{n}{action}\\PY{p}{,} \\PY{n}{reward}\\PY{p}{,}\\PY{n}{new\\PYZus{}State}\\PY{p}{,}\\PY{n}{new\\PYZus{}State\\PYZus{}key}\\PY{p}{)}\\PY{p}{:}\n",
       "\n",
       "        \\PY{c+c1}{\\PYZsh{}count Q value}\n",
       "        \\PY{c+c1}{\\PYZsh{}print(state)}\n",
       "        \\PY{n}{max\\PYZus{}value} \\PY{o}{=} \\PY{n+nb}{max}\\PY{p}{(}\\PY{n+nb+bp}{self}\\PY{o}{.}\\PY{n}{Q\\PYZus{}table}\\PY{p}{[}\\PY{n}{new\\PYZus{}State\\PYZus{}key}\\PY{p}{]}\\PY{o}{.}\\PY{n}{values}\\PY{p}{(}\\PY{p}{)}\\PY{p}{)}\n",
       "        \\PY{n}{q\\PYZus{}table\\PYZus{}value} \\PY{o}{=} \\PY{n+nb+bp}{self}\\PY{o}{.}\\PY{n}{Q\\PYZus{}table}\\PY{p}{[}\\PY{n}{state}\\PY{p}{]}\\PY{p}{[}\\PY{n}{action}\\PY{p}{]}\n",
       "        \\PY{n}{new\\PYZus{}Q\\PYZus{}value} \\PY{o}{=} \\PY{n}{q\\PYZus{}table\\PYZus{}value} \\PY{o}{*} \\PY{p}{(}\\PY{l+m+mi}{1} \\PY{o}{\\PYZhy{}} \\PY{n+nb+bp}{self}\\PY{o}{.}\\PY{n}{learning\\PYZus{}rate}\\PY{p}{)} \\PY{o}{+} \\PYZbs{}\n",
       "                                      \\PY{n+nb+bp}{self}\\PY{o}{.}\\PY{n}{learning\\PYZus{}rate} \\PY{o}{*} \\PY{p}{(}\n",
       "                                              \\PY{n}{reward} \\PY{o}{+} \\PY{n+nb+bp}{self}\\PY{o}{.}\\PY{n}{discount\\PYZus{}rate} \\PY{o}{*} \\PY{n}{max\\PYZus{}value}\\PY{p}{)}\n",
       "        \\PY{c+c1}{\\PYZsh{}update table}\n",
       "        \\PY{n+nb+bp}{self}\\PY{o}{.}\\PY{n}{Q\\PYZus{}table}\\PY{p}{[}\\PY{n}{state}\\PY{p}{]}\\PY{p}{[}\\PY{n}{action}\\PY{p}{]} \\PY{o}{=} \\PY{n}{new\\PYZus{}Q\\PYZus{}value}\n",
       "        \\PY{c+c1}{\\PYZsh{}update State}\n",
       "        \\PY{n+nb+bp}{self}\\PY{o}{.}\\PY{n}{state} \\PY{o}{=} \\PY{n}{new\\PYZus{}State}\n",
       "\n",
       "    \\PY{k}{def} \\PY{n+nf}{update\\PYZus{}exploration\\PYZus{}rate}\\PY{p}{(}\\PY{n+nb+bp}{self}\\PY{p}{,} \\PY{n}{episode\\PYZus{}number}\\PY{p}{)}\\PY{p}{:}\n",
       "        \\PY{n+nb+bp}{self}\\PY{o}{.}\\PY{n}{history}\\PY{p}{[}\\PY{l+s+s1}{\\PYZsq{}}\\PY{l+s+s1}{exploration\\PYZus{}decay}\\PY{l+s+s1}{\\PYZsq{}}\\PY{p}{]}\\PY{o}{.}\\PY{n}{append}\\PY{p}{(}\\PY{n+nb+bp}{self}\\PY{o}{.}\\PY{n}{exploration\\PYZus{}rate}\\PY{p}{)}\n",
       "        \\PY{n+nb+bp}{self}\\PY{o}{.}\\PY{n}{exploration\\PYZus{}rate} \\PY{o}{=} \\PY{n+nb+bp}{self}\\PY{o}{.}\\PY{n}{min\\PYZus{}exploration\\PYZus{}rate} \\PY{o}{+} \\PY{p}{(}\n",
       "                \\PY{n+nb+bp}{self}\\PY{o}{.}\\PY{n}{max\\PYZus{}exploration\\PYZus{}rate} \\PY{o}{\\PYZhy{}} \\PY{n+nb+bp}{self}\\PY{o}{.}\\PY{n}{min\\PYZus{}exploration\\PYZus{}rate}\\PY{p}{)} \\PY{o}{*} \\PY{n}{np}\\PY{o}{.}\\PY{n}{exp}\\PY{p}{(}\n",
       "            \\PY{o}{\\PYZhy{}}\\PY{n+nb+bp}{self}\\PY{o}{.}\\PY{n}{exploration\\PYZus{}decay} \\PY{o}{*} \\PY{n}{episode\\PYZus{}number}\\PY{p}{)}\n",
       "\n",
       "    \\PY{k}{def} \\PY{n+nf}{update\\PYZus{}keys\\PYZus{}Q\\PYZus{}table}\\PY{p}{(}\\PY{n+nb+bp}{self}\\PY{p}{)}\\PY{p}{:}\n",
       "        \\PY{n}{possible\\PYZus{}states} \\PY{o}{=} \\PY{n+nb+bp}{self}\\PY{o}{.}\\PY{n}{board}\\PY{o}{.}\\PY{n}{next\\PYZus{}possible\\PYZus{}states}\\PY{p}{(}\\PY{p}{)}\n",
       "        \\PY{n}{possible\\PYZus{}states}\\PY{o}{.}\\PY{n}{append}\\PY{p}{(}\\PY{n+nb+bp}{self}\\PY{o}{.}\\PY{n}{board}\\PY{o}{.}\\PY{n}{actual\\PYZus{}state}\\PY{p}{(}\\PY{p}{)}\\PY{p}{[}\\PY{l+m+mi}{0}\\PY{p}{]}\\PY{p}{)}\n",
       "        \\PY{k}{for} \\PY{n}{state} \\PY{o+ow}{in} \\PY{n}{possible\\PYZus{}states}\\PY{p}{:} \\PY{c+c1}{\\PYZsh{}for each new state / move make Q value = 0}\n",
       "            \\PY{n}{moves} \\PY{o}{=} \\PY{n+nb+bp}{self}\\PY{o}{.}\\PY{n}{board}\\PY{o}{.}\\PY{n}{next\\PYZus{}possible\\PYZus{}moves}\\PY{p}{(}\\PY{n}{state}\\PY{p}{)}\n",
       "            \\PY{k}{if} \\PY{n+nb}{str}\\PY{p}{(}\\PY{n}{state}\\PY{p}{)} \\PY{o+ow}{not} \\PY{o+ow}{in} \\PY{n+nb+bp}{self}\\PY{o}{.}\\PY{n}{Q\\PYZus{}table}\\PY{p}{:} \\PY{c+c1}{\\PYZsh{}init new state}\n",
       "                \\PY{n+nb+bp}{self}\\PY{o}{.}\\PY{n}{Q\\PYZus{}table}\\PY{p}{[}\\PY{n+nb}{str}\\PY{p}{(}\\PY{n}{state}\\PY{p}{)}\\PY{p}{]} \\PY{o}{=} \\PY{p}{\\PYZob{}}\\PY{n+nb}{str}\\PY{p}{(}\\PY{n}{move}\\PY{p}{)}\\PY{p}{:} \\PY{l+m+mi}{0} \\PY{k}{for} \\PY{n}{move} \\PY{o+ow}{in} \\PY{n}{moves}\\PY{p}{\\PYZcb{}}\n",
       "            \\PY{k}{else}\\PY{p}{:}\n",
       "                \\PY{n}{dic\\PYZus{}moves\\PYZus{}keys} \\PY{o}{=} \\PY{p}{[}\\PY{n+nb}{str}\\PY{p}{(}\\PY{n}{move}\\PY{p}{)} \\PY{k}{for} \\PY{n}{move} \\PY{o+ow}{in} \\PY{n}{moves}\\PY{p}{]}\n",
       "                \\PY{n}{state\\PYZus{}dic} \\PY{o}{=} \\PY{n+nb+bp}{self}\\PY{o}{.}\\PY{n}{Q\\PYZus{}table}\\PY{p}{[}\\PY{n+nb}{str}\\PY{p}{(}\\PY{n}{state}\\PY{p}{)}\\PY{p}{]}\n",
       "                \\PY{k}{for} \\PY{n}{key} \\PY{o+ow}{in} \\PY{n}{dic\\PYZus{}moves\\PYZus{}keys}\\PY{p}{:}\n",
       "                    \\PY{k}{if} \\PY{n}{key} \\PY{o+ow}{not} \\PY{o+ow}{in} \\PY{n}{state\\PYZus{}dic}\\PY{p}{:}\n",
       "                        \\PY{n}{state\\PYZus{}dic}\\PY{p}{[}\\PY{n}{key}\\PY{p}{]} \\PY{o}{=} \\PY{l+m+mi}{0}\n",
       "\\end{Verbatim}\n"
      ],
      "text/plain": [
       "import numpy as np\n",
       "import random\n",
       "import ast\n",
       "from tqdm.notebook import trange\n",
       "from src.Q_learn_run import Board\n",
       "\n",
       "class Q_learning_player:\n",
       "    def __init__(self, Board):\n",
       "        self.board = Board\n",
       "\n",
       "        # learning params\n",
       "        self.learning_rate = 0.7\n",
       "        self.discount_rate = 0.99\n",
       "        # exploration params\n",
       "        self.min_exploration_rate = 0.01\n",
       "        self.max_exploration_rate = 1\n",
       "        self.exploration_rate = self.max_exploration_rate\n",
       "        self.exploration_decay = 0.001\n",
       "        self.episodes_tought = 0\n",
       "        # For metrics and plots\n",
       "        self.history = {\n",
       "            \"rewards\": [],\n",
       "            \"cum_rewards\": [],# updatable array of reward history per episode\n",
       "            \"exploration_decay\":[]\n",
       "        }\n",
       "        #Q table - On the begining of the NIM game all posibilites\n",
       "        self.Q_table =  dict()\n",
       "        possible_states = self.board.next_possible_states()\n",
       "        possible_states.append(self.board.actual_state()[0])\n",
       "        for state in possible_states: #for each starting state make Q value = 0\n",
       "            moves = self.board.next_possible_moves(state)\n",
       "            self.Q_table[str(state)] = {str(move): 0 for move in moves}\n",
       "        print(\"Q table:\",self.Q_table)\n",
       "        #print(\"Q learning player initialized. use .train(num,steps)\")\n",
       "\n",
       "    def train(self, num_episodes, max_steps):\n",
       "        cum_reward = 0\n",
       "        # train loop\n",
       "        for episode in trange(num_episodes):\n",
       "            self.episodes_tought += 1\n",
       "            is_done = False\n",
       "            reward_gain = 0\n",
       "            enemy_won = False\n",
       "            self.board.start_game()\n",
       "            for step in range(max_steps):\n",
       "\n",
       "                actual_state, actual_state_key = self.board.actual_state()\n",
       "                moves = self.board.next_possible_moves(actual_state)\n",
       "                check_action_type = random.uniform(0, 1)\n",
       "                if check_action_type > self.exploration_rate:\n",
       "                    actions_for_state = self.Q_table[actual_state_key]\n",
       "                    action_key = max(actions_for_state) # get best action you know for this state\n",
       "                    action =  ast.literal_eval(action_key)\n",
       "                else:\n",
       "                    if len(moves) <=0:\n",
       "                        break;\n",
       "                    action = random.choice(moves) # get random action for that state\n",
       "\n",
       "                # GET REWARD STATE ECT FROM GAME\n",
       "                # self.upadte_Q_table(self.state,new_state,action,reward)\n",
       "                #\n",
       "                is_won, reward = self.board.make_move(action)\n",
       "                reward += -1 / max_steps\n",
       "                is_end = self.board.is_end()\n",
       "                new_State, new_State_key = self.board.actual_state()\n",
       "                if is_end == False:\n",
       "                    enemy_won = self.board.enemy_move()\n",
       "                if enemy_won:\n",
       "                    reward = -3\n",
       "                is_end = self.board.is_end()\n",
       "                if is_end == True:\n",
       "                    is_won = self.board.check_win() #check if enemy lose\n",
       "                    if is_won:\n",
       "                        reward = 1\n",
       "\n",
       "                self.update_keys_Q_table() # add new states and moves to Q-table\n",
       "                self.update_Q_table(actual_state_key,str(action),reward,new_State,new_State_key)\n",
       "                reward_gain += reward\n",
       "                if is_end == True:  # break episode loop is game is finished\n",
       "                    break;\n",
       "\n",
       "            #loop end\n",
       "\n",
       "            # EPISODE IS FINISHED\n",
       "            self.update_exploration_rate(self.episodes_tought)\n",
       "            self.history['rewards'].append(reward_gain)\n",
       "            cum_reward+=reward_gain\n",
       "            self.history['cum_rewards'].append(cum_reward)\n",
       "            self.board.end_game()\n",
       "        return self.history\n",
       "\n",
       "    def update_Q_table(self, state, action, reward,new_State,new_State_key):\n",
       "\n",
       "        #count Q value\n",
       "        #print(state)\n",
       "        max_value = max(self.Q_table[new_State_key].values())\n",
       "        q_table_value = self.Q_table[state][action]\n",
       "        new_Q_value = q_table_value * (1 - self.learning_rate) + \\\n",
       "                                      self.learning_rate * (\n",
       "                                              reward + self.discount_rate * max_value)\n",
       "        #update table\n",
       "        self.Q_table[state][action] = new_Q_value\n",
       "        #update State\n",
       "        self.state = new_State\n",
       "\n",
       "    def update_exploration_rate(self, episode_number):\n",
       "        self.history['exploration_decay'].append(self.exploration_rate)\n",
       "        self.exploration_rate = self.min_exploration_rate + (\n",
       "                self.max_exploration_rate - self.min_exploration_rate) * np.exp(\n",
       "            -self.exploration_decay * episode_number)\n",
       "\n",
       "    def update_keys_Q_table(self):\n",
       "        possible_states = self.board.next_possible_states()\n",
       "        possible_states.append(self.board.actual_state()[0])\n",
       "        for state in possible_states: #for each new state / move make Q value = 0\n",
       "            moves = self.board.next_possible_moves(state)\n",
       "            if str(state) not in self.Q_table: #init new state\n",
       "                self.Q_table[str(state)] = {str(move): 0 for move in moves}\n",
       "            else:\n",
       "                dic_moves_keys = [str(move) for move in moves]\n",
       "                state_dic = self.Q_table[str(state)]\n",
       "                for key in dic_moves_keys:\n",
       "                    if key not in state_dic:\n",
       "                        state_dic[key] = 0\n",
       "\n"
      ]
     },
     "metadata": {},
     "output_type": "display_data"
    }
   ],
   "source": [
    "display(Code(filename='src/nim_q_learn.py'))"
   ]
  },
  {
   "cell_type": "code",
   "execution_count": 63,
   "metadata": {},
   "outputs": [
    {
     "name": "stdout",
     "output_type": "stream",
     "text": [
      "Q table: {'[9, 10]': {'[1, 0]': 0, '[2, 0]': 0, '[3, 0]': 0, '[1, 1]': 0, '[2, 1]': 0, '[3, 1]': 0}, '[8, 10]': {'[1, 0]': 0, '[2, 0]': 0, '[3, 0]': 0, '[1, 1]': 0, '[2, 1]': 0, '[3, 1]': 0}, '[7, 10]': {'[1, 0]': 0, '[2, 0]': 0, '[3, 0]': 0, '[1, 1]': 0, '[2, 1]': 0, '[3, 1]': 0}, '[6, 10]': {'[1, 0]': 0, '[2, 0]': 0, '[3, 0]': 0, '[1, 1]': 0, '[2, 1]': 0, '[3, 1]': 0}, '[5, 10]': {'[1, 0]': 0, '[2, 0]': 0, '[3, 0]': 0, '[1, 1]': 0, '[2, 1]': 0, '[3, 1]': 0}, '[4, 10]': {'[1, 0]': 0, '[2, 0]': 0, '[3, 0]': 0, '[1, 1]': 0, '[2, 1]': 0, '[3, 1]': 0}, '[3, 10]': {'[1, 0]': 0, '[2, 0]': 0, '[3, 0]': 0, '[1, 1]': 0, '[2, 1]': 0, '[3, 1]': 0}, '[2, 10]': {'[1, 0]': 0, '[2, 0]': 0, '[1, 1]': 0, '[2, 1]': 0, '[3, 1]': 0}, '[1, 10]': {'[1, 0]': 0, '[1, 1]': 0, '[2, 1]': 0, '[3, 1]': 0}, '[0, 10]': {'[1, 1]': 0, '[2, 1]': 0, '[3, 1]': 0}, '[10, 9]': {'[1, 0]': 0, '[2, 0]': 0, '[3, 0]': 0, '[1, 1]': 0, '[2, 1]': 0, '[3, 1]': 0}, '[10, 8]': {'[1, 0]': 0, '[2, 0]': 0, '[3, 0]': 0, '[1, 1]': 0, '[2, 1]': 0, '[3, 1]': 0}, '[10, 7]': {'[1, 0]': 0, '[2, 0]': 0, '[3, 0]': 0, '[1, 1]': 0, '[2, 1]': 0, '[3, 1]': 0}, '[10, 6]': {'[1, 0]': 0, '[2, 0]': 0, '[3, 0]': 0, '[1, 1]': 0, '[2, 1]': 0, '[3, 1]': 0}, '[10, 5]': {'[1, 0]': 0, '[2, 0]': 0, '[3, 0]': 0, '[1, 1]': 0, '[2, 1]': 0, '[3, 1]': 0}, '[10, 4]': {'[1, 0]': 0, '[2, 0]': 0, '[3, 0]': 0, '[1, 1]': 0, '[2, 1]': 0, '[3, 1]': 0}, '[10, 3]': {'[1, 0]': 0, '[2, 0]': 0, '[3, 0]': 0, '[1, 1]': 0, '[2, 1]': 0, '[3, 1]': 0}, '[10, 2]': {'[1, 0]': 0, '[2, 0]': 0, '[3, 0]': 0, '[1, 1]': 0, '[2, 1]': 0}, '[10, 1]': {'[1, 0]': 0, '[2, 0]': 0, '[3, 0]': 0, '[1, 1]': 0}, '[10, 0]': {'[1, 0]': 0, '[2, 0]': 0, '[3, 0]': 0}, '[10, 10]': {'[1, 0]': 0, '[2, 0]': 0, '[3, 0]': 0, '[1, 1]': 0, '[2, 1]': 0, '[3, 1]': 0}}\n"
     ]
    },
    {
     "data": {
      "application/vnd.jupyter.widget-view+json": {
       "model_id": "bfabbae566f7440f94c39691877bb00b",
       "version_major": 2,
       "version_minor": 0
      },
      "text/plain": [
       "HBox(children=(FloatProgress(value=0.0, max=1.0), HTML(value='')))"
      ]
     },
     "metadata": {},
     "output_type": "display_data"
    },
    {
     "name": "stdout",
     "output_type": "stream",
     "text": [
      "\n"
     ]
    },
    {
     "data": {
      "application/vnd.jupyter.widget-view+json": {
       "model_id": "c767a6dc3be647448672f2619fe3b88e",
       "version_major": 2,
       "version_minor": 0
      },
      "text/plain": [
       "HBox(children=(FloatProgress(value=0.0, max=11.0), HTML(value='')))"
      ]
     },
     "metadata": {},
     "output_type": "display_data"
    },
    {
     "name": "stdout",
     "output_type": "stream",
     "text": [
      "\n"
     ]
    },
    {
     "data": {
      "application/vnd.jupyter.widget-view+json": {
       "model_id": "3fc0054e3d6d4123a86807c6d206828f",
       "version_major": 2,
       "version_minor": 0
      },
      "text/plain": [
       "HBox(children=(FloatProgress(value=0.0, max=21.0), HTML(value='')))"
      ]
     },
     "metadata": {},
     "output_type": "display_data"
    },
    {
     "name": "stdout",
     "output_type": "stream",
     "text": [
      "\n"
     ]
    },
    {
     "data": {
      "application/vnd.jupyter.widget-view+json": {
       "model_id": "3065cb9a2c5c424fa07b1bac6f8d3857",
       "version_major": 2,
       "version_minor": 0
      },
      "text/plain": [
       "HBox(children=(FloatProgress(value=0.0, max=31.0), HTML(value='')))"
      ]
     },
     "metadata": {},
     "output_type": "display_data"
    },
    {
     "name": "stdout",
     "output_type": "stream",
     "text": [
      "\n"
     ]
    },
    {
     "data": {
      "application/vnd.jupyter.widget-view+json": {
       "model_id": "060afcf94be2482a940fb9d07b9ea19d",
       "version_major": 2,
       "version_minor": 0
      },
      "text/plain": [
       "HBox(children=(FloatProgress(value=0.0, max=41.0), HTML(value='')))"
      ]
     },
     "metadata": {},
     "output_type": "display_data"
    },
    {
     "name": "stdout",
     "output_type": "stream",
     "text": [
      "\n"
     ]
    },
    {
     "data": {
      "application/vnd.jupyter.widget-view+json": {
       "model_id": "2e1ed78d98654ac29b91f442d2217a43",
       "version_major": 2,
       "version_minor": 0
      },
      "text/plain": [
       "HBox(children=(FloatProgress(value=0.0, max=51.0), HTML(value='')))"
      ]
     },
     "metadata": {},
     "output_type": "display_data"
    },
    {
     "name": "stdout",
     "output_type": "stream",
     "text": [
      "\n"
     ]
    },
    {
     "data": {
      "application/vnd.jupyter.widget-view+json": {
       "model_id": "bb6774ca133b43f9ad823fa109eda5df",
       "version_major": 2,
       "version_minor": 0
      },
      "text/plain": [
       "HBox(children=(FloatProgress(value=0.0, max=61.0), HTML(value='')))"
      ]
     },
     "metadata": {},
     "output_type": "display_data"
    },
    {
     "name": "stdout",
     "output_type": "stream",
     "text": [
      "\n"
     ]
    },
    {
     "data": {
      "application/vnd.jupyter.widget-view+json": {
       "model_id": "70e50d4781ec472a9fe6a47f38400834",
       "version_major": 2,
       "version_minor": 0
      },
      "text/plain": [
       "HBox(children=(FloatProgress(value=0.0, max=71.0), HTML(value='')))"
      ]
     },
     "metadata": {},
     "output_type": "display_data"
    },
    {
     "name": "stdout",
     "output_type": "stream",
     "text": [
      "\n"
     ]
    },
    {
     "data": {
      "application/vnd.jupyter.widget-view+json": {
       "model_id": "8f45db03d52d48e1a27a14c91de70327",
       "version_major": 2,
       "version_minor": 0
      },
      "text/plain": [
       "HBox(children=(FloatProgress(value=0.0, max=81.0), HTML(value='')))"
      ]
     },
     "metadata": {},
     "output_type": "display_data"
    },
    {
     "name": "stdout",
     "output_type": "stream",
     "text": [
      "\n"
     ]
    },
    {
     "data": {
      "application/vnd.jupyter.widget-view+json": {
       "model_id": "4f3288b34fa14364a4f6fb58ed2de086",
       "version_major": 2,
       "version_minor": 0
      },
      "text/plain": [
       "HBox(children=(FloatProgress(value=0.0, max=91.0), HTML(value='')))"
      ]
     },
     "metadata": {},
     "output_type": "display_data"
    },
    {
     "name": "stdout",
     "output_type": "stream",
     "text": [
      "\n"
     ]
    },
    {
     "data": {
      "image/png": "[encoded data removed]",
      "text/plain": [
       "<Figure size 432x288 with 1 Axes>"
      ]
     },
     "metadata": {
      "needs_background": "light"
     },
     "output_type": "display_data"
    },
    {
     "data": {
      "image/png": "[encoded data removed]",
      "text/plain": [
       "<Figure size 432x288 with 1 Axes>"
      ]
     },
     "metadata": {
      "needs_background": "light"
     },
     "output_type": "display_data"
    },
    {
     "data": {
      "image/png": "[encoded data removed]",
      "text/plain": [
       "<Figure size 432x288 with 1 Axes>"
      ]
     },
     "metadata": {
      "needs_background": "light"
     },
     "output_type": "display_data"
    }
   ],
   "source": [
    "import src.Q_learn_run as board\n",
    "import matplotlib.pyplot as plt\n",
    "\n",
    "from src.nim_q_learn import Q_learning_player\n",
    "env = board.Board([10, 10])\n",
    "Q_learing = Q_learning_player(env)\n",
    "for i in range(1,100,10):\n",
    "      Q_learing.train(i, 100)\n",
    "plt.plot(Q_learing.history['rewards'])\n",
    "plt.show()\n",
    "plt.plot(Q_learing.history['cum_rewards'])\n",
    "plt.show()\n",
    "plt.plot(Q_learing.history['exploration_decay'])\n",
    "plt.show()"
   ]
  },
  {
   "cell_type": "code",
   "execution_count": null,
   "metadata": {},
   "outputs": [],
   "source": []
  },
  {
   "cell_type": "code",
   "execution_count": 68,
   "metadata": {},
   "outputs": [
    {
     "data": {
      "application/vnd.jupyter.widget-view+json": {
       "model_id": "6071ee4ed865459f939cbaa7d5ba290b",
       "version_major": 2,
       "version_minor": 0
      },
      "text/plain": [
       "HBox(children=(FloatProgress(value=0.0), HTML(value='')))"
      ]
     },
     "metadata": {},
     "output_type": "display_data"
    },
    {
     "name": "stdout",
     "output_type": "stream",
     "text": [
      "\n"
     ]
    },
    {
     "data": {
      "image/png": "[encoded data removed]",
      "text/plain": [
       "<Figure size 432x288 with 1 Axes>"
      ]
     },
     "metadata": {
      "needs_background": "light"
     },
     "output_type": "display_data"
    },
    {
     "data": {
      "image/png": "[encoded data removed]",
      "text/plain": [
       "<Figure size 432x288 with 1 Axes>"
      ]
     },
     "metadata": {
      "needs_background": "light"
     },
     "output_type": "display_data"
    },
    {
     "data": {
      "image/png": "[encoded data removed]",
      "text/plain": [
       "<Figure size 432x288 with 1 Axes>"
      ]
     },
     "metadata": {
      "needs_background": "light"
     },
     "output_type": "display_data"
    }
   ],
   "source": [
    "Q_learing.exploration_rate = Q_learing.min_exploration_rate\n",
    "Q_learing.history['rewards'] = []\n",
    "Q_learing.history['cum_rewards'] = []\n",
    "Q_learing.history['exploration_decay'] = []\n",
    "history = Q_learing.train(100, 100)\n",
    "\n",
    "    \n",
    "plt.plot(Q_learing.history['rewards'])\n",
    "plt.show()\n",
    "plt.plot(Q_learing.history['cum_rewards'])\n",
    "plt.show()\n",
    "plt.plot(Q_learing.history['exploration_decay'])\n",
    "plt.show()"
   ]
  },
  {
   "cell_type": "code",
   "execution_count": null,
   "metadata": {},
   "outputs": [],
   "source": [
    "table = Q_learing.Q_table\n",
    "def pretty(d, indent=0):\n",
    "   for key, value in d.items():\n",
    "      print('\\t' * indent + str(key))\n",
    "      if isinstance(value, dict):\n",
    "         pretty(value, indent+1)\n",
    "      else:\n",
    "         if(value!=0):\n",
    "             print('Reward HERE\\t' * (indent+1) + str(value))\n"
   ]
  },
  {
   "cell_type": "code",
   "execution_count": null,
   "metadata": {},
   "outputs": [],
   "source": [
    "pretty(table)"
   ]
  },
  {
   "cell_type": "code",
   "execution_count": null,
   "metadata": {},
   "outputs": [],
   "source": []
  },
  {
   "cell_type": "code",
   "execution_count": null,
   "metadata": {},
   "outputs": [],
   "source": []
  },
  {
   "cell_type": "code",
   "execution_count": null,
   "metadata": {},
   "outputs": [],
   "source": [
    "\n"
   ]
  },
  {
   "cell_type": "code",
   "execution_count": null,
   "metadata": {},
   "outputs": [],
   "source": []
  }
 ],
 "metadata": {
  "kernelspec": {
   "display_name": "Python 3",
   "language": "python",
   "name": "python3"
  },
  "language_info": {
   "codemirror_mode": {
    "name": "ipython",
    "version": 3
   },
   "file_extension": ".py",
   "mimetype": "text/x-python",
   "name": "python",
   "nbconvert_exporter": "python",
   "pygments_lexer": "ipython3",
   "version": "3.8.2"
  }
 },
 "nbformat": 4,
 "nbformat_minor": 4
}
