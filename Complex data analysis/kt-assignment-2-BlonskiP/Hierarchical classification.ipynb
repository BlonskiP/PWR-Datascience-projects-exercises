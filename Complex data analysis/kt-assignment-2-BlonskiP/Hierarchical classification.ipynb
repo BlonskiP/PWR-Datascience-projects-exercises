{
 "cells": [
  {
   "cell_type": "markdown",
   "metadata": {},
   "source": [
    "# Flat"
   ]
  },
  {
   "cell_type": "markdown",
   "metadata": {},
   "source": [
    "* Interesują nas tylko liście\n",
    "* Proste rozwiązanie (simplicity)\n",
    "* Strata informacji wynikających z hierarchi danych (relacji child-parent wierzchołków)\n",
    "* Nadaje się jako baseline\n",
    "![flat](images/flat.png)"
   ]
  },
  {
   "cell_type": "markdown",
   "metadata": {},
   "source": [
    "# LCN \n",
    "* Tworzymy binarny klasyfikator dla każdego typu wierzchołka. Np dla Kotów, Psów, Mopsów (dzieci Psa), Dachowców (dzieci Kota). Nie licząc korzenia (np Zwierząt czyli rodzic Kotów/Psów itp)\n",
    "* Mogą powstać nieścisłości jak Kot-Mops (czyli błędna klasyfikacja że na poziome rodzica jest kotem, ale liściem jest mopsem (którego rodzicem w rzeczywistości jest pies)\n",
    "* Dużo klasyfikatorów\n",
    "* Nie potrzeba dużej ilości pracy nad zrobienie odpowiedniego systemu przepływu przez klasyfikatory\n",
    "![flat](images/node.png)"
   ]
  },
  {
   "cell_type": "markdown",
   "metadata": {},
   "source": [
    "# LCPL\n",
    "* Dla każdego poziomu tworzony jest osobny klasyfikator. (np. Dla {Koty,Psy,Konie}, {Dachowce,Kanapowce,Mopsy,Husky,Mustangi,Jednorożce})\n",
    "* Dalej problem z nieścisłością typu Kot-Mops\n",
    "* Dość intuicyjny i potrafi generalizować\n",
    "* rozbudowane modele :(\n",
    "* Problem z Error propagation (w jaki sposób błąd na jednym poziomie na wpływać na poziom nizej? )\n",
    "![flat](images/level.png)"
   ]
  },
  {
   "cell_type": "markdown",
   "metadata": {},
   "source": [
    "# LCPN - Local classfier per parent node\n",
    "* multilabel dla każdego wierzchołka rodzica\n",
    "* Aby uniknąć nieścisłości można zrobić aby za sklasyfikowaniu wierzchołka labelką rodzica, następnie był klasyfikowany podpowiednim klasyfikatorem który bierze pod uwagę tylko dzieci tego rodzica np: {Parent: Kot, Children: \"Dachowiec, Kanapowiec\"} to nie może nam wyjść nie ścisłość typu Kot-Mops bo Mops nie jest w dzieciach rodzica \"Kot\"\n",
    "* Ale wymaga to ręcznego przygotowania takiego systemu klasyfiaktorów (takiej kaskady troszke)\n",
    "![flat](images/parent.png)"
   ]
  },
  {
   "cell_type": "markdown",
   "metadata": {},
   "source": [
    "# Big-Bang (global classifier)\n",
    "* Jeden klasyfikator aby wszystkimi rządzić i w ciemności związać.\n",
    "* Relatatywnie duży stopień skomplikowania.\n",
    "* Wszystkie klasy za jednym przejściem\n",
    "* często ręcznie dobierany do danych\n",
    "* wady/zalety zależą od ręcznie dobranego modelu\n",
    "* szybsza inferencja\n",
    "![flat](images/global.png)"
   ]
  },
  {
   "cell_type": "markdown",
   "metadata": {},
   "source": [
    "# Źródła:\n",
    "https://towardsdatascience.com/https-medium-com-noa-weiss-the-hitchhikers-guide-to-hierarchical-classification-f8428ea1e076\n",
    "https://towardsdatascience.com/hierarchical-classification-with-local-classifiers-down-the-rabbit-hole-21cdf3bd2382\n",
    "https://towardsdatascience.com/hierarchical-classification-by-local-classifiers-your-must-know-tweaks-tricks-f7297702f8fc\n",
    "https://towardsdatascience.com/hierarchical-performance-metrics-and-where-to-find-them-7090aaa07183\n"
   ]
  },
  {
   "cell_type": "markdown",
   "metadata": {},
   "source": [
    "# Zbiór danych - Imclef07a - \n",
    "I. Dimitrovski, D. Kocev, S. Loskovska, S. Dzeroski. Hierchical annotation of medical images. Proceedings of the 11th International Multiconference - Information Society IS 2008, pp. 174-181, 2008\n",
    "[https://sites.google.com/site/hrsvmproject/datasets-hier]"
   ]
  },
  {
   "cell_type": "code",
   "execution_count": 2,
   "metadata": {
    "scrolled": true
   },
   "outputs": [
    {
     "name": "stdout",
     "output_type": "stream",
     "text": [
      "The autoreload extension is already loaded. To reload it, use:\n",
      "  %reload_ext autoreload\n"
     ]
    }
   ],
   "source": [
    "%load_ext autoreload\n",
    "%autoreload 2\n",
    "from src.data_loader import Data\n",
    "from src.visualize import visualize_hierarchy\n",
    "from src.experiment_runner import run_flat, run_LCPN, run_LCN, run_BigBang, run_LCPL\n",
    "from sklearn.ensemble import RandomForestClassifier\n",
    "from tqdm import tqdm\n",
    "import sys; sys.path.append('../')\n",
    "from pathlib import Path\n",
    "import pandas as pd\n",
    "DATA_PATH = Path(f\"./data/imclef07a\")\n",
    "#NAME = \"imclef07a\"\n",
    "from sklearn_hierarchical_classification.classifier import HierarchicalClassifier\n",
    "dataset = Data(DATA_PATH)"
   ]
  },
  {
   "cell_type": "code",
   "execution_count": 3,
   "metadata": {
    "scrolled": true
   },
   "outputs": [
    {
     "data": {
      "text/html": [
       "<div>\n",
       "<style scoped>\n",
       "    .dataframe tbody tr th:only-of-type {\n",
       "        vertical-align: middle;\n",
       "    }\n",
       "\n",
       "    .dataframe tbody tr th {\n",
       "        vertical-align: top;\n",
       "    }\n",
       "\n",
       "    .dataframe thead th {\n",
       "        text-align: right;\n",
       "    }\n",
       "</style>\n",
       "<table border=\"1\" class=\"dataframe\">\n",
       "  <thead>\n",
       "    <tr style=\"text-align: right;\">\n",
       "      <th></th>\n",
       "      <th>labels</th>\n",
       "      <th>1</th>\n",
       "      <th>2</th>\n",
       "      <th>3</th>\n",
       "      <th>4</th>\n",
       "      <th>5</th>\n",
       "      <th>6</th>\n",
       "      <th>7</th>\n",
       "      <th>8</th>\n",
       "      <th>9</th>\n",
       "      <th>...</th>\n",
       "      <th>71</th>\n",
       "      <th>72</th>\n",
       "      <th>73</th>\n",
       "      <th>74</th>\n",
       "      <th>75</th>\n",
       "      <th>76</th>\n",
       "      <th>77</th>\n",
       "      <th>78</th>\n",
       "      <th>79</th>\n",
       "      <th>80</th>\n",
       "    </tr>\n",
       "  </thead>\n",
       "  <tbody>\n",
       "    <tr>\n",
       "      <th>0</th>\n",
       "      <td>(2, 3, 21)</td>\n",
       "      <td>0.601321</td>\n",
       "      <td>-0.282028</td>\n",
       "      <td>0.253823</td>\n",
       "      <td>-0.163729</td>\n",
       "      <td>-0.007874</td>\n",
       "      <td>0.010721</td>\n",
       "      <td>-0.021936</td>\n",
       "      <td>-0.131422</td>\n",
       "      <td>-0.488617</td>\n",
       "      <td>...</td>\n",
       "      <td>0.228252</td>\n",
       "      <td>0.211184</td>\n",
       "      <td>0.522663</td>\n",
       "      <td>0.276693</td>\n",
       "      <td>0.708575</td>\n",
       "      <td>0.175502</td>\n",
       "      <td>0.007736</td>\n",
       "      <td>0.440046</td>\n",
       "      <td>-0.407414</td>\n",
       "      <td>0.166299</td>\n",
       "    </tr>\n",
       "    <tr>\n",
       "      <th>1</th>\n",
       "      <td>(2, 3, 21)</td>\n",
       "      <td>0.029893</td>\n",
       "      <td>0.003686</td>\n",
       "      <td>0.396680</td>\n",
       "      <td>0.121985</td>\n",
       "      <td>-0.007874</td>\n",
       "      <td>-0.132136</td>\n",
       "      <td>0.406635</td>\n",
       "      <td>0.011435</td>\n",
       "      <td>0.082812</td>\n",
       "      <td>...</td>\n",
       "      <td>0.228252</td>\n",
       "      <td>0.354041</td>\n",
       "      <td>0.379806</td>\n",
       "      <td>0.276693</td>\n",
       "      <td>0.422860</td>\n",
       "      <td>0.318359</td>\n",
       "      <td>-0.135121</td>\n",
       "      <td>0.154331</td>\n",
       "      <td>0.592586</td>\n",
       "      <td>0.166299</td>\n",
       "    </tr>\n",
       "    <tr>\n",
       "      <th>2</th>\n",
       "      <td>(2, 3, 21)</td>\n",
       "      <td>-0.255821</td>\n",
       "      <td>0.003686</td>\n",
       "      <td>0.539537</td>\n",
       "      <td>0.407700</td>\n",
       "      <td>-0.007874</td>\n",
       "      <td>0.010721</td>\n",
       "      <td>0.120921</td>\n",
       "      <td>0.011435</td>\n",
       "      <td>0.082812</td>\n",
       "      <td>...</td>\n",
       "      <td>0.228252</td>\n",
       "      <td>0.211184</td>\n",
       "      <td>0.236949</td>\n",
       "      <td>0.419550</td>\n",
       "      <td>0.422860</td>\n",
       "      <td>0.175502</td>\n",
       "      <td>0.007736</td>\n",
       "      <td>0.582903</td>\n",
       "      <td>0.306872</td>\n",
       "      <td>0.023442</td>\n",
       "    </tr>\n",
       "    <tr>\n",
       "      <th>3</th>\n",
       "      <td>(2, 3, 21)</td>\n",
       "      <td>-0.398679</td>\n",
       "      <td>-0.282028</td>\n",
       "      <td>0.110965</td>\n",
       "      <td>-0.163729</td>\n",
       "      <td>0.158792</td>\n",
       "      <td>-0.132136</td>\n",
       "      <td>-0.021936</td>\n",
       "      <td>-0.131422</td>\n",
       "      <td>0.225669</td>\n",
       "      <td>...</td>\n",
       "      <td>-0.200319</td>\n",
       "      <td>0.211184</td>\n",
       "      <td>0.236949</td>\n",
       "      <td>-0.294735</td>\n",
       "      <td>-0.148568</td>\n",
       "      <td>-0.395927</td>\n",
       "      <td>0.007736</td>\n",
       "      <td>0.725760</td>\n",
       "      <td>-0.121700</td>\n",
       "      <td>0.023442</td>\n",
       "    </tr>\n",
       "    <tr>\n",
       "      <th>4</th>\n",
       "      <td>(2, 3, 21)</td>\n",
       "      <td>0.172750</td>\n",
       "      <td>-0.139171</td>\n",
       "      <td>0.253823</td>\n",
       "      <td>0.121985</td>\n",
       "      <td>-0.007874</td>\n",
       "      <td>-0.417850</td>\n",
       "      <td>0.120921</td>\n",
       "      <td>-0.559993</td>\n",
       "      <td>-0.345759</td>\n",
       "      <td>...</td>\n",
       "      <td>0.085395</td>\n",
       "      <td>-0.074531</td>\n",
       "      <td>0.379806</td>\n",
       "      <td>0.419550</td>\n",
       "      <td>-0.005711</td>\n",
       "      <td>-0.538784</td>\n",
       "      <td>-0.135121</td>\n",
       "      <td>0.011474</td>\n",
       "      <td>-0.264557</td>\n",
       "      <td>-0.119415</td>\n",
       "    </tr>\n",
       "    <tr>\n",
       "      <th>...</th>\n",
       "      <td>...</td>\n",
       "      <td>...</td>\n",
       "      <td>...</td>\n",
       "      <td>...</td>\n",
       "      <td>...</td>\n",
       "      <td>...</td>\n",
       "      <td>...</td>\n",
       "      <td>...</td>\n",
       "      <td>...</td>\n",
       "      <td>...</td>\n",
       "      <td>...</td>\n",
       "      <td>...</td>\n",
       "      <td>...</td>\n",
       "      <td>...</td>\n",
       "      <td>...</td>\n",
       "      <td>...</td>\n",
       "      <td>...</td>\n",
       "      <td>...</td>\n",
       "      <td>...</td>\n",
       "      <td>...</td>\n",
       "      <td>...</td>\n",
       "    </tr>\n",
       "    <tr>\n",
       "      <th>11001</th>\n",
       "      <td>(17, 47, 48)</td>\n",
       "      <td>0.315607</td>\n",
       "      <td>-0.282028</td>\n",
       "      <td>-0.317606</td>\n",
       "      <td>0.407700</td>\n",
       "      <td>-0.174541</td>\n",
       "      <td>-0.417850</td>\n",
       "      <td>-0.307650</td>\n",
       "      <td>-0.559993</td>\n",
       "      <td>0.511383</td>\n",
       "      <td>...</td>\n",
       "      <td>-0.343176</td>\n",
       "      <td>-0.074531</td>\n",
       "      <td>0.522663</td>\n",
       "      <td>-0.437592</td>\n",
       "      <td>-0.005711</td>\n",
       "      <td>-0.538784</td>\n",
       "      <td>-0.135121</td>\n",
       "      <td>-0.274240</td>\n",
       "      <td>-0.407414</td>\n",
       "      <td>-0.119415</td>\n",
       "    </tr>\n",
       "    <tr>\n",
       "      <th>11002</th>\n",
       "      <td>(17, 47, 48)</td>\n",
       "      <td>0.315607</td>\n",
       "      <td>-0.282028</td>\n",
       "      <td>-0.460463</td>\n",
       "      <td>0.693414</td>\n",
       "      <td>-0.007874</td>\n",
       "      <td>-0.417850</td>\n",
       "      <td>-0.307650</td>\n",
       "      <td>-0.559993</td>\n",
       "      <td>-0.202902</td>\n",
       "      <td>...</td>\n",
       "      <td>-0.343176</td>\n",
       "      <td>-0.217388</td>\n",
       "      <td>-0.334480</td>\n",
       "      <td>-0.437592</td>\n",
       "      <td>-0.148568</td>\n",
       "      <td>-0.538784</td>\n",
       "      <td>-0.135121</td>\n",
       "      <td>-0.274240</td>\n",
       "      <td>-0.407414</td>\n",
       "      <td>-0.119415</td>\n",
       "    </tr>\n",
       "    <tr>\n",
       "      <th>11003</th>\n",
       "      <td>(17, 47, 48)</td>\n",
       "      <td>0.029893</td>\n",
       "      <td>-0.282028</td>\n",
       "      <td>-0.460463</td>\n",
       "      <td>-0.163729</td>\n",
       "      <td>-0.174541</td>\n",
       "      <td>-0.417850</td>\n",
       "      <td>-0.307650</td>\n",
       "      <td>-0.559993</td>\n",
       "      <td>-0.488617</td>\n",
       "      <td>...</td>\n",
       "      <td>-0.343176</td>\n",
       "      <td>-0.217388</td>\n",
       "      <td>-0.334480</td>\n",
       "      <td>-0.437592</td>\n",
       "      <td>-0.148568</td>\n",
       "      <td>-0.538784</td>\n",
       "      <td>-0.135121</td>\n",
       "      <td>-0.274240</td>\n",
       "      <td>-0.407414</td>\n",
       "      <td>-0.119415</td>\n",
       "    </tr>\n",
       "    <tr>\n",
       "      <th>11004</th>\n",
       "      <td>(17, 47, 48)</td>\n",
       "      <td>0.172750</td>\n",
       "      <td>-0.139171</td>\n",
       "      <td>0.539537</td>\n",
       "      <td>0.121985</td>\n",
       "      <td>0.158792</td>\n",
       "      <td>-0.132136</td>\n",
       "      <td>-0.307650</td>\n",
       "      <td>-0.559993</td>\n",
       "      <td>-0.488617</td>\n",
       "      <td>...</td>\n",
       "      <td>-0.343176</td>\n",
       "      <td>-0.217388</td>\n",
       "      <td>-0.334480</td>\n",
       "      <td>-0.437592</td>\n",
       "      <td>-0.148568</td>\n",
       "      <td>-0.538784</td>\n",
       "      <td>-0.135121</td>\n",
       "      <td>-0.274240</td>\n",
       "      <td>-0.407414</td>\n",
       "      <td>-0.119415</td>\n",
       "    </tr>\n",
       "    <tr>\n",
       "      <th>11005</th>\n",
       "      <td>(17, 47, 48)</td>\n",
       "      <td>0.029893</td>\n",
       "      <td>-0.282028</td>\n",
       "      <td>-0.460463</td>\n",
       "      <td>-0.306586</td>\n",
       "      <td>-0.174541</td>\n",
       "      <td>-0.417850</td>\n",
       "      <td>-0.307650</td>\n",
       "      <td>-0.559993</td>\n",
       "      <td>-0.488617</td>\n",
       "      <td>...</td>\n",
       "      <td>-0.343176</td>\n",
       "      <td>-0.217388</td>\n",
       "      <td>-0.334480</td>\n",
       "      <td>-0.437592</td>\n",
       "      <td>-0.148568</td>\n",
       "      <td>-0.538784</td>\n",
       "      <td>-0.135121</td>\n",
       "      <td>-0.274240</td>\n",
       "      <td>-0.407414</td>\n",
       "      <td>-0.119415</td>\n",
       "    </tr>\n",
       "  </tbody>\n",
       "</table>\n",
       "<p>11006 rows × 81 columns</p>\n",
       "</div>"
      ],
      "text/plain": [
       "             labels         1         2         3         4         5  \\\n",
       "0        (2, 3, 21)  0.601321 -0.282028  0.253823 -0.163729 -0.007874   \n",
       "1        (2, 3, 21)  0.029893  0.003686  0.396680  0.121985 -0.007874   \n",
       "2        (2, 3, 21) -0.255821  0.003686  0.539537  0.407700 -0.007874   \n",
       "3        (2, 3, 21) -0.398679 -0.282028  0.110965 -0.163729  0.158792   \n",
       "4        (2, 3, 21)  0.172750 -0.139171  0.253823  0.121985 -0.007874   \n",
       "...             ...       ...       ...       ...       ...       ...   \n",
       "11001  (17, 47, 48)  0.315607 -0.282028 -0.317606  0.407700 -0.174541   \n",
       "11002  (17, 47, 48)  0.315607 -0.282028 -0.460463  0.693414 -0.007874   \n",
       "11003  (17, 47, 48)  0.029893 -0.282028 -0.460463 -0.163729 -0.174541   \n",
       "11004  (17, 47, 48)  0.172750 -0.139171  0.539537  0.121985  0.158792   \n",
       "11005  (17, 47, 48)  0.029893 -0.282028 -0.460463 -0.306586 -0.174541   \n",
       "\n",
       "              6         7         8         9  ...        71        72  \\\n",
       "0      0.010721 -0.021936 -0.131422 -0.488617  ...  0.228252  0.211184   \n",
       "1     -0.132136  0.406635  0.011435  0.082812  ...  0.228252  0.354041   \n",
       "2      0.010721  0.120921  0.011435  0.082812  ...  0.228252  0.211184   \n",
       "3     -0.132136 -0.021936 -0.131422  0.225669  ... -0.200319  0.211184   \n",
       "4     -0.417850  0.120921 -0.559993 -0.345759  ...  0.085395 -0.074531   \n",
       "...         ...       ...       ...       ...  ...       ...       ...   \n",
       "11001 -0.417850 -0.307650 -0.559993  0.511383  ... -0.343176 -0.074531   \n",
       "11002 -0.417850 -0.307650 -0.559993 -0.202902  ... -0.343176 -0.217388   \n",
       "11003 -0.417850 -0.307650 -0.559993 -0.488617  ... -0.343176 -0.217388   \n",
       "11004 -0.132136 -0.307650 -0.559993 -0.488617  ... -0.343176 -0.217388   \n",
       "11005 -0.417850 -0.307650 -0.559993 -0.488617  ... -0.343176 -0.217388   \n",
       "\n",
       "             73        74        75        76        77        78        79  \\\n",
       "0      0.522663  0.276693  0.708575  0.175502  0.007736  0.440046 -0.407414   \n",
       "1      0.379806  0.276693  0.422860  0.318359 -0.135121  0.154331  0.592586   \n",
       "2      0.236949  0.419550  0.422860  0.175502  0.007736  0.582903  0.306872   \n",
       "3      0.236949 -0.294735 -0.148568 -0.395927  0.007736  0.725760 -0.121700   \n",
       "4      0.379806  0.419550 -0.005711 -0.538784 -0.135121  0.011474 -0.264557   \n",
       "...         ...       ...       ...       ...       ...       ...       ...   \n",
       "11001  0.522663 -0.437592 -0.005711 -0.538784 -0.135121 -0.274240 -0.407414   \n",
       "11002 -0.334480 -0.437592 -0.148568 -0.538784 -0.135121 -0.274240 -0.407414   \n",
       "11003 -0.334480 -0.437592 -0.148568 -0.538784 -0.135121 -0.274240 -0.407414   \n",
       "11004 -0.334480 -0.437592 -0.148568 -0.538784 -0.135121 -0.274240 -0.407414   \n",
       "11005 -0.334480 -0.437592 -0.148568 -0.538784 -0.135121 -0.274240 -0.407414   \n",
       "\n",
       "             80  \n",
       "0      0.166299  \n",
       "1      0.166299  \n",
       "2      0.023442  \n",
       "3      0.023442  \n",
       "4     -0.119415  \n",
       "...         ...  \n",
       "11001 -0.119415  \n",
       "11002 -0.119415  \n",
       "11003 -0.119415  \n",
       "11004 -0.119415  \n",
       "11005 -0.119415  \n",
       "\n",
       "[11006 rows x 81 columns]"
      ]
     },
     "execution_count": 3,
     "metadata": {},
     "output_type": "execute_result"
    }
   ],
   "source": [
    "dataset.records"
   ]
  },
  {
   "cell_type": "markdown",
   "metadata": {},
   "source": [
    "# Flat - klasyfikujemy tylko liście zwykłymi modelami"
   ]
  },
  {
   "cell_type": "code",
   "execution_count": 4,
   "metadata": {
    "scrolled": true
   },
   "outputs": [
    {
     "name": "stderr",
     "output_type": "stream",
     "text": [
      "  0%|                                                                                                                                                                                       | 0/3 [00:00<?, ?it/s]C:\\Users\\Wilk-PC\\anaconda3\\lib\\site-packages\\sklearn\\neural_network\\_multilayer_perceptron.py:582: ConvergenceWarning: Stochastic Optimizer: Maximum iterations (100) reached and the optimization hasn't converged yet.\n",
      "  warnings.warn(\n",
      "100%|███████████████████████████████████████████████████████████████████████████████████████████████████████████████████████████████████████████████████████████████████████████████| 3/3 [00:24<00:00,  8.07s/it]\n"
     ]
    }
   ],
   "source": [
    "results_flat = pd.DataFrame()\n",
    "for clf in tqdm([\"NN\",\"KNN\",\"RANDOM_FOREST\"]):\n",
    "    results_flat=results_flat.append(run_flat(clf,Data(DATA_PATH)),ignore_index=True)"
   ]
  },
  {
   "cell_type": "code",
   "execution_count": 6,
   "metadata": {
    "scrolled": true
   },
   "outputs": [
    {
     "data": {
      "text/html": [
       "<div>\n",
       "<style scoped>\n",
       "    .dataframe tbody tr th:only-of-type {\n",
       "        vertical-align: middle;\n",
       "    }\n",
       "\n",
       "    .dataframe tbody tr th {\n",
       "        vertical-align: top;\n",
       "    }\n",
       "\n",
       "    .dataframe thead th {\n",
       "        text-align: right;\n",
       "    }\n",
       "</style>\n",
       "<table border=\"1\" class=\"dataframe\">\n",
       "  <thead>\n",
       "    <tr style=\"text-align: right;\">\n",
       "      <th></th>\n",
       "      <th>h_fscore</th>\n",
       "    </tr>\n",
       "    <tr>\n",
       "      <th>clf</th>\n",
       "      <th></th>\n",
       "    </tr>\n",
       "  </thead>\n",
       "  <tbody>\n",
       "    <tr>\n",
       "      <th>KNN</th>\n",
       "      <td>0.902958</td>\n",
       "    </tr>\n",
       "    <tr>\n",
       "      <th>NN</th>\n",
       "      <td>0.907686</td>\n",
       "    </tr>\n",
       "    <tr>\n",
       "      <th>RANDOM_FOREST</th>\n",
       "      <td>0.882694</td>\n",
       "    </tr>\n",
       "  </tbody>\n",
       "</table>\n",
       "</div>"
      ],
      "text/plain": [
       "               h_fscore\n",
       "clf                    \n",
       "KNN            0.902958\n",
       "NN             0.907686\n",
       "RANDOM_FOREST  0.882694"
      ]
     },
     "execution_count": 6,
     "metadata": {},
     "output_type": "execute_result"
    }
   ],
   "source": [
    "results_flat.groupby('clf').mean()"
   ]
  },
  {
   "cell_type": "markdown",
   "metadata": {},
   "source": [
    "# Hierarchiczna"
   ]
  },
  {
   "cell_type": "markdown",
   "metadata": {},
   "source": [
    "## LCN"
   ]
  },
  {
   "cell_type": "code",
   "execution_count": 10,
   "metadata": {
    "scrolled": true
   },
   "outputs": [
    {
     "name": "stderr",
     "output_type": "stream",
     "text": [
      "100%|██████████████████████████████████████████████████████████████████████████████████████████████████████████████████████████████████████████████████████████████████████████████| 2/2 [04:40<00:00, 140.16s/it]\n"
     ]
    }
   ],
   "source": [
    "results_lcn = pd.DataFrame()\n",
    "for clf in tqdm([\"KNN\",\"RANDOM_FOREST\"]):\n",
    "    results_lcn=results_lcn.append(run_LCN(clf,Data(DATA_PATH)),ignore_index=True)"
   ]
  },
  {
   "cell_type": "code",
   "execution_count": 11,
   "metadata": {
    "scrolled": true
   },
   "outputs": [
    {
     "data": {
      "text/html": [
       "<div>\n",
       "<style scoped>\n",
       "    .dataframe tbody tr th:only-of-type {\n",
       "        vertical-align: middle;\n",
       "    }\n",
       "\n",
       "    .dataframe tbody tr th {\n",
       "        vertical-align: top;\n",
       "    }\n",
       "\n",
       "    .dataframe thead th {\n",
       "        text-align: right;\n",
       "    }\n",
       "</style>\n",
       "<table border=\"1\" class=\"dataframe\">\n",
       "  <thead>\n",
       "    <tr style=\"text-align: right;\">\n",
       "      <th></th>\n",
       "      <th>h_fscore</th>\n",
       "    </tr>\n",
       "    <tr>\n",
       "      <th>clf</th>\n",
       "      <th></th>\n",
       "    </tr>\n",
       "  </thead>\n",
       "  <tbody>\n",
       "    <tr>\n",
       "      <th>KNN</th>\n",
       "      <td>0.870512</td>\n",
       "    </tr>\n",
       "    <tr>\n",
       "      <th>RANDOM_FOREST</th>\n",
       "      <td>0.761675</td>\n",
       "    </tr>\n",
       "  </tbody>\n",
       "</table>\n",
       "</div>"
      ],
      "text/plain": [
       "               h_fscore\n",
       "clf                    \n",
       "KNN            0.870512\n",
       "RANDOM_FOREST  0.761675"
      ]
     },
     "execution_count": 11,
     "metadata": {},
     "output_type": "execute_result"
    }
   ],
   "source": [
    "results_lcn.groupby('clf').mean()"
   ]
  },
  {
   "cell_type": "markdown",
   "metadata": {},
   "source": [
    "# LCPL"
   ]
  },
  {
   "cell_type": "code",
   "execution_count": 12,
   "metadata": {
    "scrolled": false
   },
   "outputs": [
    {
     "name": "stderr",
     "output_type": "stream",
     "text": [
      "100%|███████████████████████████████████████████████████████████████████████████████████████████████████████████████████████████████████████████████████████████████████████████████| 2/2 [00:14<00:00,  7.43s/it]\n"
     ]
    }
   ],
   "source": [
    "results_lcpl = pd.DataFrame()\n",
    "for clf in tqdm([\"KNN\",\"RANDOM_FOREST\"]):\n",
    "    results_lcpl=results_lcpl.append(run_LCPL(clf,Data(DATA_PATH)),ignore_index=True)"
   ]
  },
  {
   "cell_type": "code",
   "execution_count": 13,
   "metadata": {},
   "outputs": [
    {
     "data": {
      "text/html": [
       "<div>\n",
       "<style scoped>\n",
       "    .dataframe tbody tr th:only-of-type {\n",
       "        vertical-align: middle;\n",
       "    }\n",
       "\n",
       "    .dataframe tbody tr th {\n",
       "        vertical-align: top;\n",
       "    }\n",
       "\n",
       "    .dataframe thead th {\n",
       "        text-align: right;\n",
       "    }\n",
       "</style>\n",
       "<table border=\"1\" class=\"dataframe\">\n",
       "  <thead>\n",
       "    <tr style=\"text-align: right;\">\n",
       "      <th></th>\n",
       "      <th>h_fscore</th>\n",
       "    </tr>\n",
       "    <tr>\n",
       "      <th>clf</th>\n",
       "      <th></th>\n",
       "    </tr>\n",
       "  </thead>\n",
       "  <tbody>\n",
       "    <tr>\n",
       "      <th>KNN</th>\n",
       "      <td>0.853037</td>\n",
       "    </tr>\n",
       "    <tr>\n",
       "      <th>RANDOM_FOREST</th>\n",
       "      <td>0.808084</td>\n",
       "    </tr>\n",
       "  </tbody>\n",
       "</table>\n",
       "</div>"
      ],
      "text/plain": [
       "               h_fscore\n",
       "clf                    \n",
       "KNN            0.853037\n",
       "RANDOM_FOREST  0.808084"
      ]
     },
     "execution_count": 13,
     "metadata": {},
     "output_type": "execute_result"
    }
   ],
   "source": [
    "results_lcpl.groupby('clf').mean()"
   ]
  },
  {
   "cell_type": "markdown",
   "metadata": {},
   "source": [
    "# LCPN"
   ]
  },
  {
   "cell_type": "code",
   "execution_count": 14,
   "metadata": {
    "scrolled": true
   },
   "outputs": [
    {
     "name": "stderr",
     "output_type": "stream",
     "text": [
      "100%|███████████████████████████████████████████████████████████████████████████████████████████████████████████████████████████████████████████████████████████████████████████████| 2/2 [00:53<00:00, 26.94s/it]\n"
     ]
    }
   ],
   "source": [
    "results_lcpn = pd.DataFrame()\n",
    "for clf in tqdm([\"KNN\",\"RANDOM_FOREST\"]):\n",
    "    results_lcpn=results_lcpn.append(run_LCPN(clf,Data(DATA_PATH)),ignore_index=True)"
   ]
  },
  {
   "cell_type": "code",
   "execution_count": 15,
   "metadata": {
    "scrolled": true
   },
   "outputs": [
    {
     "data": {
      "text/html": [
       "<div>\n",
       "<style scoped>\n",
       "    .dataframe tbody tr th:only-of-type {\n",
       "        vertical-align: middle;\n",
       "    }\n",
       "\n",
       "    .dataframe tbody tr th {\n",
       "        vertical-align: top;\n",
       "    }\n",
       "\n",
       "    .dataframe thead th {\n",
       "        text-align: right;\n",
       "    }\n",
       "</style>\n",
       "<table border=\"1\" class=\"dataframe\">\n",
       "  <thead>\n",
       "    <tr style=\"text-align: right;\">\n",
       "      <th></th>\n",
       "      <th>h_fscore</th>\n",
       "    </tr>\n",
       "    <tr>\n",
       "      <th>clf</th>\n",
       "      <th></th>\n",
       "    </tr>\n",
       "  </thead>\n",
       "  <tbody>\n",
       "    <tr>\n",
       "      <th>KNN</th>\n",
       "      <td>0.912106</td>\n",
       "    </tr>\n",
       "    <tr>\n",
       "      <th>RANDOM_FOREST</th>\n",
       "      <td>0.883185</td>\n",
       "    </tr>\n",
       "  </tbody>\n",
       "</table>\n",
       "</div>"
      ],
      "text/plain": [
       "               h_fscore\n",
       "clf                    \n",
       "KNN            0.912106\n",
       "RANDOM_FOREST  0.883185"
      ]
     },
     "execution_count": 15,
     "metadata": {},
     "output_type": "execute_result"
    }
   ],
   "source": [
    "results_lcpn.groupby('clf').mean()"
   ]
  },
  {
   "cell_type": "markdown",
   "metadata": {},
   "source": [
    "# Big_Bang "
   ]
  },
  {
   "cell_type": "code",
   "execution_count": 16,
   "metadata": {
    "scrolled": false
   },
   "outputs": [
    {
     "name": "stderr",
     "output_type": "stream",
     "text": [
      "100%|███████████████████████████████████████████████████████████████████████████████████████████████████████████████████████████████████████████████████████████████████████████████| 2/2 [00:48<00:00, 24.04s/it]\n"
     ]
    }
   ],
   "source": [
    "results_bang = pd.DataFrame()\n",
    "for clf in tqdm([\"KNN\",\"RANDOM_FOREST\"]):\n",
    "    results_bang=results_bang.append(run_BigBang(clf,Data(DATA_PATH)),ignore_index=True)"
   ]
  },
  {
   "cell_type": "code",
   "execution_count": 17,
   "metadata": {
    "scrolled": true
   },
   "outputs": [
    {
     "data": {
      "text/html": [
       "<div>\n",
       "<style scoped>\n",
       "    .dataframe tbody tr th:only-of-type {\n",
       "        vertical-align: middle;\n",
       "    }\n",
       "\n",
       "    .dataframe tbody tr th {\n",
       "        vertical-align: top;\n",
       "    }\n",
       "\n",
       "    .dataframe thead th {\n",
       "        text-align: right;\n",
       "    }\n",
       "</style>\n",
       "<table border=\"1\" class=\"dataframe\">\n",
       "  <thead>\n",
       "    <tr style=\"text-align: right;\">\n",
       "      <th></th>\n",
       "      <th>h_fscore</th>\n",
       "    </tr>\n",
       "    <tr>\n",
       "      <th>clf</th>\n",
       "      <th></th>\n",
       "    </tr>\n",
       "  </thead>\n",
       "  <tbody>\n",
       "    <tr>\n",
       "      <th>KNN</th>\n",
       "      <td>0.857632</td>\n",
       "    </tr>\n",
       "    <tr>\n",
       "      <th>RANDOM_FOREST</th>\n",
       "      <td>0.735282</td>\n",
       "    </tr>\n",
       "  </tbody>\n",
       "</table>\n",
       "</div>"
      ],
      "text/plain": [
       "               h_fscore\n",
       "clf                    \n",
       "KNN            0.857632\n",
       "RANDOM_FOREST  0.735282"
      ]
     },
     "execution_count": 17,
     "metadata": {},
     "output_type": "execute_result"
    }
   ],
   "source": [
    "results_bang.groupby('clf').mean()"
   ]
  },
  {
   "cell_type": "code",
   "execution_count": 18,
   "metadata": {},
   "outputs": [],
   "source": [
    "final_res = pd.concat([results_bang, results_lcpn,results_lcpl,results_lcn,results_flat], axis=0)"
   ]
  },
  {
   "cell_type": "code",
   "execution_count": 21,
   "metadata": {},
   "outputs": [
    {
     "data": {
      "text/html": [
       "<div>\n",
       "<style scoped>\n",
       "    .dataframe tbody tr th:only-of-type {\n",
       "        vertical-align: middle;\n",
       "    }\n",
       "\n",
       "    .dataframe tbody tr th {\n",
       "        vertical-align: top;\n",
       "    }\n",
       "\n",
       "    .dataframe thead th {\n",
       "        text-align: right;\n",
       "    }\n",
       "</style>\n",
       "<table border=\"1\" class=\"dataframe\">\n",
       "  <thead>\n",
       "    <tr style=\"text-align: right;\">\n",
       "      <th></th>\n",
       "      <th>h_fscore</th>\n",
       "      <th>clf</th>\n",
       "      <th>cls_type</th>\n",
       "    </tr>\n",
       "  </thead>\n",
       "  <tbody>\n",
       "    <tr>\n",
       "      <th>0</th>\n",
       "      <td>0.912106</td>\n",
       "      <td>KNN</td>\n",
       "      <td>LCPN</td>\n",
       "    </tr>\n",
       "    <tr>\n",
       "      <th>0</th>\n",
       "      <td>0.907686</td>\n",
       "      <td>NN</td>\n",
       "      <td>FLAT</td>\n",
       "    </tr>\n",
       "    <tr>\n",
       "      <th>1</th>\n",
       "      <td>0.902958</td>\n",
       "      <td>KNN</td>\n",
       "      <td>FLAT</td>\n",
       "    </tr>\n",
       "    <tr>\n",
       "      <th>1</th>\n",
       "      <td>0.883185</td>\n",
       "      <td>RANDOM_FOREST</td>\n",
       "      <td>LCPN</td>\n",
       "    </tr>\n",
       "    <tr>\n",
       "      <th>2</th>\n",
       "      <td>0.882694</td>\n",
       "      <td>RANDOM_FOREST</td>\n",
       "      <td>FLAT</td>\n",
       "    </tr>\n",
       "    <tr>\n",
       "      <th>0</th>\n",
       "      <td>0.870512</td>\n",
       "      <td>KNN</td>\n",
       "      <td>LCN</td>\n",
       "    </tr>\n",
       "    <tr>\n",
       "      <th>0</th>\n",
       "      <td>0.857632</td>\n",
       "      <td>KNN</td>\n",
       "      <td>BIGBANG</td>\n",
       "    </tr>\n",
       "    <tr>\n",
       "      <th>0</th>\n",
       "      <td>0.853037</td>\n",
       "      <td>KNN</td>\n",
       "      <td>LCPL</td>\n",
       "    </tr>\n",
       "    <tr>\n",
       "      <th>1</th>\n",
       "      <td>0.808084</td>\n",
       "      <td>RANDOM_FOREST</td>\n",
       "      <td>LCPL</td>\n",
       "    </tr>\n",
       "    <tr>\n",
       "      <th>1</th>\n",
       "      <td>0.761675</td>\n",
       "      <td>RANDOM_FOREST</td>\n",
       "      <td>LCN</td>\n",
       "    </tr>\n",
       "    <tr>\n",
       "      <th>1</th>\n",
       "      <td>0.735282</td>\n",
       "      <td>RANDOM_FOREST</td>\n",
       "      <td>BIGBANG</td>\n",
       "    </tr>\n",
       "  </tbody>\n",
       "</table>\n",
       "</div>"
      ],
      "text/plain": [
       "   h_fscore            clf cls_type\n",
       "0  0.912106            KNN     LCPN\n",
       "0  0.907686             NN     FLAT\n",
       "1  0.902958            KNN     FLAT\n",
       "1  0.883185  RANDOM_FOREST     LCPN\n",
       "2  0.882694  RANDOM_FOREST     FLAT\n",
       "0  0.870512            KNN      LCN\n",
       "0  0.857632            KNN  BIGBANG\n",
       "0  0.853037            KNN     LCPL\n",
       "1  0.808084  RANDOM_FOREST     LCPL\n",
       "1  0.761675  RANDOM_FOREST      LCN\n",
       "1  0.735282  RANDOM_FOREST  BIGBANG"
      ]
     },
     "execution_count": 21,
     "metadata": {},
     "output_type": "execute_result"
    }
   ],
   "source": [
    "final_res.sort_values([\"h_fscore\"],ascending=False)"
   ]
  },
  {
   "cell_type": "code",
   "execution_count": 20,
   "metadata": {},
   "outputs": [],
   "source": [
    "final_res.to_csv(\"res.csv\")"
   ]
  },
  {
   "cell_type": "code",
   "execution_count": null,
   "metadata": {},
   "outputs": [],
   "source": []
  }
 ],
 "metadata": {
  "kernelspec": {
   "display_name": "Python 3",
   "language": "python",
   "name": "python3"
  },
  "language_info": {
   "codemirror_mode": {
    "name": "ipython",
    "version": 3
   },
   "file_extension": ".py",
   "mimetype": "text/x-python",
   "name": "python",
   "nbconvert_exporter": "python",
   "pygments_lexer": "ipython3",
   "version": "3.8.3"
  }
 },
 "nbformat": 4,
 "nbformat_minor": 4
}
