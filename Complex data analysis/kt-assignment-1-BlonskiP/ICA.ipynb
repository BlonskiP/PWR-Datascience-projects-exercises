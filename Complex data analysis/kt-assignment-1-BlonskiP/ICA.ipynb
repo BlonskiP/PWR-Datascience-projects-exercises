{
 "cells": [
  {
   "cell_type": "code",
   "execution_count": 189,
   "id": "clinical-birmingham",
   "metadata": {},
   "outputs": [
    {
     "name": "stdout",
     "output_type": "stream",
     "text": [
      "The autoreload extension is already loaded. To reload it, use:\n",
      "  %reload_ext autoreload\n",
      "The nb_black extension is already loaded. To reload it, use:\n",
      "  %reload_ext nb_black\n"
     ]
    },
    {
     "data": {
      "application/javascript": [
       "\n",
       "            setTimeout(function() {\n",
       "                var nbb_cell_id = 189;\n",
       "                var nbb_unformatted_code = \"%load_ext autoreload\\n%load_ext nb_black\\n%autoreload 2\\nimport warnings\\n\\nwarnings.filterwarnings(\\\"ignore\\\")\\nimport sys\\nimport os\\n\\nfrom src.dataset_loader import *\\nfrom src.utils import *\\nfrom src.ICA import *\\nfrom sklearn.naive_bayes import GaussianNB\\nfrom sklearn.ensemble import AdaBoostClassifier\\nfrom sklearn.metrics import classification_report\\nfrom sklearn.ensemble import RandomForestClassifier\\nfrom sklearn.neighbors import KNeighborsClassifier\\nfrom sklearn.tree import DecisionTreeClassifier\\nfrom sklearn import svm\\nimport itertools as it\\nfrom tqdm import tqdm\\n\\nseed = 42\\nsys.path.append(\\\"../../\\\")\";\n",
       "                var nbb_formatted_code = \"%load_ext autoreload\\n%load_ext nb_black\\n%autoreload 2\\nimport warnings\\n\\nwarnings.filterwarnings(\\\"ignore\\\")\\nimport sys\\nimport os\\n\\nfrom src.dataset_loader import *\\nfrom src.utils import *\\nfrom src.ICA import *\\nfrom sklearn.naive_bayes import GaussianNB\\nfrom sklearn.ensemble import AdaBoostClassifier\\nfrom sklearn.metrics import classification_report\\nfrom sklearn.ensemble import RandomForestClassifier\\nfrom sklearn.neighbors import KNeighborsClassifier\\nfrom sklearn.tree import DecisionTreeClassifier\\nfrom sklearn import svm\\nimport itertools as it\\nfrom tqdm import tqdm\\n\\nseed = 42\\nsys.path.append(\\\"../../\\\")\";\n",
       "                var nbb_cells = Jupyter.notebook.get_cells();\n",
       "                for (var i = 0; i < nbb_cells.length; ++i) {\n",
       "                    if (nbb_cells[i].input_prompt_number == nbb_cell_id) {\n",
       "                        if (nbb_cells[i].get_text() == nbb_unformatted_code) {\n",
       "                             nbb_cells[i].set_text(nbb_formatted_code);\n",
       "                        }\n",
       "                        break;\n",
       "                    }\n",
       "                }\n",
       "            }, 500);\n",
       "            "
      ],
      "text/plain": [
       "<IPython.core.display.Javascript object>"
      ]
     },
     "metadata": {},
     "output_type": "display_data"
    }
   ],
   "source": [
    "%load_ext autoreload\n",
    "%load_ext nb_black\n",
    "%autoreload 2\n",
    "import warnings\n",
    "\n",
    "warnings.filterwarnings(\"ignore\")\n",
    "import sys\n",
    "import os\n",
    "\n",
    "from src.dataset_loader import *\n",
    "from src.utils import *\n",
    "from src.ICA import *\n",
    "from sklearn.naive_bayes import GaussianNB\n",
    "from sklearn.ensemble import AdaBoostClassifier\n",
    "from sklearn.metrics import classification_report\n",
    "from sklearn.ensemble import RandomForestClassifier\n",
    "from sklearn.neighbors import KNeighborsClassifier\n",
    "from sklearn.tree import DecisionTreeClassifier\n",
    "from sklearn import svm\n",
    "import itertools as it\n",
    "from tqdm import tqdm\n",
    "\n",
    "seed = 42\n",
    "sys.path.append(\"../../\")"
   ]
  },
  {
   "cell_type": "code",
   "execution_count": 190,
   "id": "handled-bracket",
   "metadata": {},
   "outputs": [
    {
     "data": {
      "application/javascript": [
       "\n",
       "            setTimeout(function() {\n",
       "                var nbb_cell_id = 190;\n",
       "                var nbb_unformatted_code = \"data, G = create_dataset()\\nmodel = AdaBoostClassifier()\\ncls = IDA_classfier(G, 0.4, \\\"betweenness\\\")\\nx = cls.fit(model, stop_iterations=100)\";\n",
       "                var nbb_formatted_code = \"data, G = create_dataset()\\nmodel = AdaBoostClassifier()\\ncls = IDA_classfier(G, 0.4, \\\"betweenness\\\")\\nx = cls.fit(model, stop_iterations=100)\";\n",
       "                var nbb_cells = Jupyter.notebook.get_cells();\n",
       "                for (var i = 0; i < nbb_cells.length; ++i) {\n",
       "                    if (nbb_cells[i].input_prompt_number == nbb_cell_id) {\n",
       "                        if (nbb_cells[i].get_text() == nbb_unformatted_code) {\n",
       "                             nbb_cells[i].set_text(nbb_formatted_code);\n",
       "                        }\n",
       "                        break;\n",
       "                    }\n",
       "                }\n",
       "            }, 500);\n",
       "            "
      ],
      "text/plain": [
       "<IPython.core.display.Javascript object>"
      ]
     },
     "metadata": {},
     "output_type": "display_data"
    }
   ],
   "source": [
    "data, G = create_dataset()\n",
    "model = AdaBoostClassifier()\n",
    "cls = IDA_classfier(G, 0.4, \"betweenness\")\n",
    "x = cls.fit(model, stop_iterations=100)"
   ]
  },
  {
   "cell_type": "code",
   "execution_count": 191,
   "id": "wooden-maryland",
   "metadata": {},
   "outputs": [
    {
     "data": {
      "application/javascript": [
       "\n",
       "            setTimeout(function() {\n",
       "                var nbb_cell_id = 191;\n",
       "                var nbb_unformatted_code = \"experiment_params = {\\n    \\\"cls model\\\": [\\n        GaussianNB.__name__,\\n        RandomForestClassifier.__name__,\\n        KNeighborsClassifier.__name__,\\n        AdaBoostClassifier.__name__,\\n        DecisionTreeClassifier.__name__,\\n        \\n    ],\\n    \\\"uncover_rate\\\": [0.2, 0.4, 0.6],\\n    \\\"utility\\\": [\\\"betweenness\\\", \\\"degree\\\", \\\"closeness\\\"],\\n}\";\n",
       "                var nbb_formatted_code = \"experiment_params = {\\n    \\\"cls model\\\": [\\n        GaussianNB.__name__,\\n        RandomForestClassifier.__name__,\\n        KNeighborsClassifier.__name__,\\n        AdaBoostClassifier.__name__,\\n        DecisionTreeClassifier.__name__,\\n    ],\\n    \\\"uncover_rate\\\": [0.2, 0.4, 0.6],\\n    \\\"utility\\\": [\\\"betweenness\\\", \\\"degree\\\", \\\"closeness\\\"],\\n}\";\n",
       "                var nbb_cells = Jupyter.notebook.get_cells();\n",
       "                for (var i = 0; i < nbb_cells.length; ++i) {\n",
       "                    if (nbb_cells[i].input_prompt_number == nbb_cell_id) {\n",
       "                        if (nbb_cells[i].get_text() == nbb_unformatted_code) {\n",
       "                             nbb_cells[i].set_text(nbb_formatted_code);\n",
       "                        }\n",
       "                        break;\n",
       "                    }\n",
       "                }\n",
       "            }, 500);\n",
       "            "
      ],
      "text/plain": [
       "<IPython.core.display.Javascript object>"
      ]
     },
     "metadata": {},
     "output_type": "display_data"
    }
   ],
   "source": [
    "experiment_params = {\n",
    "    \"cls model\": [\n",
    "        GaussianNB.__name__,\n",
    "        RandomForestClassifier.__name__,\n",
    "        KNeighborsClassifier.__name__,\n",
    "        AdaBoostClassifier.__name__,\n",
    "        DecisionTreeClassifier.__name__,\n",
    "    ],\n",
    "    \"uncover_rate\": [0.2, 0.4, 0.6],\n",
    "    \"utility\": [\"betweenness\", \"degree\", \"closeness\"],\n",
    "}"
   ]
  },
  {
   "cell_type": "code",
   "execution_count": 198,
   "id": "mighty-junior",
   "metadata": {},
   "outputs": [
    {
     "data": {
      "application/javascript": [
       "\n",
       "            setTimeout(function() {\n",
       "                var nbb_cell_id = 198;\n",
       "                var nbb_unformatted_code = \"def get_model(model_name):\\n    if model_name is GaussianNB.__name__:\\n        model = GaussianNB()\\n    elif model_name is DecisionTreeClassifier.__name__:\\n        model = DecisionTreeClassifier()    \\n    elif model_name is RandomForestClassifier.__name__:\\n        model = RandomForestClassifier()\\n    elif model_name is KNeighborsClassifier.__name__:\\n        model = KNeighborsClassifier()\\n    elif model_name is AdaBoostClassifier.__name__:\\n        model = AdaBoostClassifier(DecisionTreeClassifier(max_depth=4))\\n    \\n    return model\";\n",
       "                var nbb_formatted_code = \"def get_model(model_name):\\n    if model_name is GaussianNB.__name__:\\n        model = GaussianNB()\\n    elif model_name is DecisionTreeClassifier.__name__:\\n        model = DecisionTreeClassifier()\\n    elif model_name is RandomForestClassifier.__name__:\\n        model = RandomForestClassifier()\\n    elif model_name is KNeighborsClassifier.__name__:\\n        model = KNeighborsClassifier()\\n    elif model_name is AdaBoostClassifier.__name__:\\n        model = AdaBoostClassifier(DecisionTreeClassifier(max_depth=4))\\n\\n    return model\";\n",
       "                var nbb_cells = Jupyter.notebook.get_cells();\n",
       "                for (var i = 0; i < nbb_cells.length; ++i) {\n",
       "                    if (nbb_cells[i].input_prompt_number == nbb_cell_id) {\n",
       "                        if (nbb_cells[i].get_text() == nbb_unformatted_code) {\n",
       "                             nbb_cells[i].set_text(nbb_formatted_code);\n",
       "                        }\n",
       "                        break;\n",
       "                    }\n",
       "                }\n",
       "            }, 500);\n",
       "            "
      ],
      "text/plain": [
       "<IPython.core.display.Javascript object>"
      ]
     },
     "metadata": {},
     "output_type": "display_data"
    }
   ],
   "source": [
    "def get_model(model_name):\n",
    "    if model_name is GaussianNB.__name__:\n",
    "        model = GaussianNB()\n",
    "    elif model_name is DecisionTreeClassifier.__name__:\n",
    "        model = DecisionTreeClassifier()\n",
    "    elif model_name is RandomForestClassifier.__name__:\n",
    "        model = RandomForestClassifier()\n",
    "    elif model_name is KNeighborsClassifier.__name__:\n",
    "        model = KNeighborsClassifier()\n",
    "    elif model_name is AdaBoostClassifier.__name__:\n",
    "        model = AdaBoostClassifier(DecisionTreeClassifier(max_depth=4))\n",
    "\n",
    "    return model"
   ]
  },
  {
   "cell_type": "code",
   "execution_count": 199,
   "id": "connected-scott",
   "metadata": {},
   "outputs": [
    {
     "data": {
      "application/javascript": [
       "\n",
       "            setTimeout(function() {\n",
       "                var nbb_cell_id = 199;\n",
       "                var nbb_unformatted_code = \"def experiment(model_name, uncover_rate, utility):\\n    model = get_model(model_name)\\n    data, G = create_dataset()\\n    cls = IDA_classfier(G, uncover_rate, utility)\\n    x = cls.fit(model, stop_iterations=100)\\n    train = cls._bootstrapped_data[1]\\n    test = cls._bootstrapped_data[2]\\n    y_train = cls._bootstrapped_data[3]\\n    y_test = cls._bootstrapped_data[4]\\n    raports = raport_fast(cls, train.index, test.index, y_train, y_test)\\n    return raports\";\n",
       "                var nbb_formatted_code = \"def experiment(model_name, uncover_rate, utility):\\n    model = get_model(model_name)\\n    data, G = create_dataset()\\n    cls = IDA_classfier(G, uncover_rate, utility)\\n    x = cls.fit(model, stop_iterations=100)\\n    train = cls._bootstrapped_data[1]\\n    test = cls._bootstrapped_data[2]\\n    y_train = cls._bootstrapped_data[3]\\n    y_test = cls._bootstrapped_data[4]\\n    raports = raport_fast(cls, train.index, test.index, y_train, y_test)\\n    return raports\";\n",
       "                var nbb_cells = Jupyter.notebook.get_cells();\n",
       "                for (var i = 0; i < nbb_cells.length; ++i) {\n",
       "                    if (nbb_cells[i].input_prompt_number == nbb_cell_id) {\n",
       "                        if (nbb_cells[i].get_text() == nbb_unformatted_code) {\n",
       "                             nbb_cells[i].set_text(nbb_formatted_code);\n",
       "                        }\n",
       "                        break;\n",
       "                    }\n",
       "                }\n",
       "            }, 500);\n",
       "            "
      ],
      "text/plain": [
       "<IPython.core.display.Javascript object>"
      ]
     },
     "metadata": {},
     "output_type": "display_data"
    }
   ],
   "source": [
    "def experiment(model_name, uncover_rate, utility):\n",
    "    model = get_model(model_name)\n",
    "    data, G = create_dataset()\n",
    "    cls = IDA_classfier(G, uncover_rate, utility)\n",
    "    x = cls.fit(model, stop_iterations=100)\n",
    "    train = cls._bootstrapped_data[1]\n",
    "    test = cls._bootstrapped_data[2]\n",
    "    y_train = cls._bootstrapped_data[3]\n",
    "    y_test = cls._bootstrapped_data[4]\n",
    "    raports = raport_fast(cls, train.index, test.index, y_train, y_test)\n",
    "    return raports"
   ]
  },
  {
   "cell_type": "code",
   "execution_count": 200,
   "id": "senior-rubber",
   "metadata": {},
   "outputs": [
    {
     "data": {
      "application/javascript": [
       "\n",
       "            setTimeout(function() {\n",
       "                var nbb_cell_id = 200;\n",
       "                var nbb_unformatted_code = \"raport = experiment(AdaBoostClassifier.__name__, 0.1, \\\"closeness\\\")\";\n",
       "                var nbb_formatted_code = \"raport = experiment(AdaBoostClassifier.__name__, 0.1, \\\"closeness\\\")\";\n",
       "                var nbb_cells = Jupyter.notebook.get_cells();\n",
       "                for (var i = 0; i < nbb_cells.length; ++i) {\n",
       "                    if (nbb_cells[i].input_prompt_number == nbb_cell_id) {\n",
       "                        if (nbb_cells[i].get_text() == nbb_unformatted_code) {\n",
       "                             nbb_cells[i].set_text(nbb_formatted_code);\n",
       "                        }\n",
       "                        break;\n",
       "                    }\n",
       "                }\n",
       "            }, 500);\n",
       "            "
      ],
      "text/plain": [
       "<IPython.core.display.Javascript object>"
      ]
     },
     "metadata": {},
     "output_type": "display_data"
    }
   ],
   "source": [
    "raport = experiment(AdaBoostClassifier.__name__, 0.1, \"closeness\")"
   ]
  },
  {
   "cell_type": "code",
   "execution_count": 201,
   "id": "generic-scroll",
   "metadata": {},
   "outputs": [
    {
     "data": {
      "application/javascript": [
       "\n",
       "            setTimeout(function() {\n",
       "                var nbb_cell_id = 201;\n",
       "                var nbb_unformatted_code = \"def run_experiments():\\n    allNames = sorted(experiment_params)\\n    combinations = it.product(*(experiment_params[Name] for Name in allNames))\\n    test_results = pd.DataFrame()\\n    for comb in tqdm(list(combinations)):\\n        model_name = comb[0]\\n        uncover_rate = comb[1]\\n        utility = comb[2]\\n        raport_train, raport_test = experiment(model_name, uncover_rate, utility)\\n        # print(raport_test)\\n        test_results = test_results.append(\\n            {\\n                \\\"cls\\\": model_name,\\n                \\\"uncover_rate\\\": uncover_rate,\\n                \\\"utility\\\": utility,\\n                \\\"accuracy\\\": raport_test[\\\"accuracy\\\"],\\n                \\\"fscore macro\\\": raport_test[\\\"macro avg\\\"][\\\"f1-score\\\"],\\n                \\\"fscore weighted avg\\\": raport_test[\\\"weighted avg\\\"][\\\"f1-score\\\"],\\n            },\\n            ignore_index=True,\\n        )\\n    test_results.to_csv(\\\"results.csv\\\", index=False)\";\n",
       "                var nbb_formatted_code = \"def run_experiments():\\n    allNames = sorted(experiment_params)\\n    combinations = it.product(*(experiment_params[Name] for Name in allNames))\\n    test_results = pd.DataFrame()\\n    for comb in tqdm(list(combinations)):\\n        model_name = comb[0]\\n        uncover_rate = comb[1]\\n        utility = comb[2]\\n        raport_train, raport_test = experiment(model_name, uncover_rate, utility)\\n        # print(raport_test)\\n        test_results = test_results.append(\\n            {\\n                \\\"cls\\\": model_name,\\n                \\\"uncover_rate\\\": uncover_rate,\\n                \\\"utility\\\": utility,\\n                \\\"accuracy\\\": raport_test[\\\"accuracy\\\"],\\n                \\\"fscore macro\\\": raport_test[\\\"macro avg\\\"][\\\"f1-score\\\"],\\n                \\\"fscore weighted avg\\\": raport_test[\\\"weighted avg\\\"][\\\"f1-score\\\"],\\n            },\\n            ignore_index=True,\\n        )\\n    test_results.to_csv(\\\"results.csv\\\", index=False)\";\n",
       "                var nbb_cells = Jupyter.notebook.get_cells();\n",
       "                for (var i = 0; i < nbb_cells.length; ++i) {\n",
       "                    if (nbb_cells[i].input_prompt_number == nbb_cell_id) {\n",
       "                        if (nbb_cells[i].get_text() == nbb_unformatted_code) {\n",
       "                             nbb_cells[i].set_text(nbb_formatted_code);\n",
       "                        }\n",
       "                        break;\n",
       "                    }\n",
       "                }\n",
       "            }, 500);\n",
       "            "
      ],
      "text/plain": [
       "<IPython.core.display.Javascript object>"
      ]
     },
     "metadata": {},
     "output_type": "display_data"
    }
   ],
   "source": [
    "def run_experiments():\n",
    "    allNames = sorted(experiment_params)\n",
    "    combinations = it.product(*(experiment_params[Name] for Name in allNames))\n",
    "    test_results = pd.DataFrame()\n",
    "    for comb in tqdm(list(combinations)):\n",
    "        model_name = comb[0]\n",
    "        uncover_rate = comb[1]\n",
    "        utility = comb[2]\n",
    "        raport_train, raport_test = experiment(model_name, uncover_rate, utility)\n",
    "        # print(raport_test)\n",
    "        test_results = test_results.append(\n",
    "            {\n",
    "                \"cls\": model_name,\n",
    "                \"uncover_rate\": uncover_rate,\n",
    "                \"utility\": utility,\n",
    "                \"accuracy\": raport_test[\"accuracy\"],\n",
    "                \"fscore macro\": raport_test[\"macro avg\"][\"f1-score\"],\n",
    "                \"fscore weighted avg\": raport_test[\"weighted avg\"][\"f1-score\"],\n",
    "            },\n",
    "            ignore_index=True,\n",
    "        )\n",
    "    test_results.to_csv(\"results.csv\", index=False)"
   ]
  },
  {
   "cell_type": "code",
   "execution_count": 202,
   "id": "upset-defendant",
   "metadata": {},
   "outputs": [
    {
     "name": "stderr",
     "output_type": "stream",
     "text": [
      "100%|████████████████████████████████████████████████████████████████████████████████████████████████████████████████████████████████████████████████████████████████████████████████████████████████████████████████████████████████████████████████████████████████████████████████████████| 45/45 [01:15<00:00,  1.67s/it]\n"
     ]
    },
    {
     "data": {
      "application/javascript": [
       "\n",
       "            setTimeout(function() {\n",
       "                var nbb_cell_id = 202;\n",
       "                var nbb_unformatted_code = \"run_experiments()\";\n",
       "                var nbb_formatted_code = \"run_experiments()\";\n",
       "                var nbb_cells = Jupyter.notebook.get_cells();\n",
       "                for (var i = 0; i < nbb_cells.length; ++i) {\n",
       "                    if (nbb_cells[i].input_prompt_number == nbb_cell_id) {\n",
       "                        if (nbb_cells[i].get_text() == nbb_unformatted_code) {\n",
       "                             nbb_cells[i].set_text(nbb_formatted_code);\n",
       "                        }\n",
       "                        break;\n",
       "                    }\n",
       "                }\n",
       "            }, 500);\n",
       "            "
      ],
      "text/plain": [
       "<IPython.core.display.Javascript object>"
      ]
     },
     "metadata": {},
     "output_type": "display_data"
    }
   ],
   "source": [
    "run_experiments()"
   ]
  },
  {
   "cell_type": "code",
   "execution_count": null,
   "id": "floral-treaty",
   "metadata": {},
   "outputs": [],
   "source": []
  }
 ],
 "metadata": {
  "kernelspec": {
   "display_name": "Python 3",
   "language": "python",
   "name": "python3"
  },
  "language_info": {
   "codemirror_mode": {
    "name": "ipython",
    "version": 3
   },
   "file_extension": ".py",
   "mimetype": "text/x-python",
   "name": "python",
   "nbconvert_exporter": "python",
   "pygments_lexer": "ipython3",
   "version": "3.9.2"
  }
 },
 "nbformat": 4,
 "nbformat_minor": 5
}
