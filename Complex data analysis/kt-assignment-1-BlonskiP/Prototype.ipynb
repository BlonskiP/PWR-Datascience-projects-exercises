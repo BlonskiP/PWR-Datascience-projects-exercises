{
 "cells": [
  {
   "cell_type": "code",
   "execution_count": 41,
   "id": "rocky-oriental",
   "metadata": {},
   "outputs": [
    {
     "name": "stdout",
     "output_type": "stream",
     "text": [
      "The autoreload extension is already loaded. To reload it, use:\n",
      "  %reload_ext autoreload\n",
      "The nb_black extension is already loaded. To reload it, use:\n",
      "  %reload_ext nb_black\n"
     ]
    },
    {
     "data": {
      "application/javascript": [
       "\n",
       "            setTimeout(function() {\n",
       "                var nbb_cell_id = 41;\n",
       "                var nbb_unformatted_code = \"%load_ext autoreload\\n%load_ext nb_black\\n%autoreload 2\\nimport warnings\\n\\nwarnings.filterwarnings(\\\"ignore\\\")\\nimport sys\\nimport os\\n\\nfrom src.dataset_loader import *\\nfrom src.utils import *\\nfrom src.ICA import *\\nfrom sklearn.naive_bayes import GaussianNB\\nfrom sklearn.ensemble import AdaBoostClassifier\\nfrom sklearn.metrics import classification_report\\nfrom sklearn.ensemble import RandomForestClassifier\\nfrom sklearn.neighbors import KNeighborsClassifier\\nfrom sklearn import svm\\nseed = 42\\nsys.path.append(\\\"../../\\\")\";\n",
       "                var nbb_formatted_code = \"%load_ext autoreload\\n%load_ext nb_black\\n%autoreload 2\\nimport warnings\\n\\nwarnings.filterwarnings(\\\"ignore\\\")\\nimport sys\\nimport os\\n\\nfrom src.dataset_loader import *\\nfrom src.utils import *\\nfrom src.ICA import *\\nfrom sklearn.naive_bayes import GaussianNB\\nfrom sklearn.ensemble import AdaBoostClassifier\\nfrom sklearn.metrics import classification_report\\nfrom sklearn.ensemble import RandomForestClassifier\\nfrom sklearn.neighbors import KNeighborsClassifier\\nfrom sklearn import svm\\n\\nseed = 42\\nsys.path.append(\\\"../../\\\")\";\n",
       "                var nbb_cells = Jupyter.notebook.get_cells();\n",
       "                for (var i = 0; i < nbb_cells.length; ++i) {\n",
       "                    if (nbb_cells[i].input_prompt_number == nbb_cell_id) {\n",
       "                        if (nbb_cells[i].get_text() == nbb_unformatted_code) {\n",
       "                             nbb_cells[i].set_text(nbb_formatted_code);\n",
       "                        }\n",
       "                        break;\n",
       "                    }\n",
       "                }\n",
       "            }, 500);\n",
       "            "
      ],
      "text/plain": [
       "<IPython.core.display.Javascript object>"
      ]
     },
     "metadata": {},
     "output_type": "display_data"
    }
   ],
   "source": [
    "%load_ext autoreload\n",
    "%load_ext nb_black\n",
    "%autoreload 2\n",
    "import warnings\n",
    "\n",
    "warnings.filterwarnings(\"ignore\")\n",
    "import sys\n",
    "import os\n",
    "\n",
    "from src.dataset_loader import *\n",
    "from src.utils import *\n",
    "from src.ICA import *\n",
    "from sklearn.naive_bayes import GaussianNB\n",
    "from sklearn.ensemble import AdaBoostClassifier\n",
    "from sklearn.metrics import classification_report\n",
    "from sklearn.ensemble import RandomForestClassifier\n",
    "from sklearn.neighbors import KNeighborsClassifier\n",
    "from sklearn import svm\n",
    "\n",
    "seed = 42\n",
    "sys.path.append(\"../../\")"
   ]
  },
  {
   "cell_type": "code",
   "execution_count": 4,
   "id": "accepting-survival",
   "metadata": {},
   "outputs": [
    {
     "data": {
      "application/javascript": [
       "\n",
       "            setTimeout(function() {\n",
       "                var nbb_cell_id = 4;\n",
       "                var nbb_unformatted_code = \"data, G = create_dataset()\";\n",
       "                var nbb_formatted_code = \"data, G = create_dataset()\";\n",
       "                var nbb_cells = Jupyter.notebook.get_cells();\n",
       "                for (var i = 0; i < nbb_cells.length; ++i) {\n",
       "                    if (nbb_cells[i].input_prompt_number == nbb_cell_id) {\n",
       "                        if (nbb_cells[i].get_text() == nbb_unformatted_code) {\n",
       "                             nbb_cells[i].set_text(nbb_formatted_code);\n",
       "                        }\n",
       "                        break;\n",
       "                    }\n",
       "                }\n",
       "            }, 500);\n",
       "            "
      ],
      "text/plain": [
       "<IPython.core.display.Javascript object>"
      ]
     },
     "metadata": {},
     "output_type": "display_data"
    }
   ],
   "source": [
    "data, G = create_dataset()"
   ]
  },
  {
   "cell_type": "code",
   "execution_count": 35,
   "id": "challenging-gasoline",
   "metadata": {},
   "outputs": [
    {
     "data": {
      "application/javascript": [
       "\n",
       "            setTimeout(function() {\n",
       "                var nbb_cell_id = 35;\n",
       "                var nbb_unformatted_code = \"data = bootstrap(G, 0.4, \\\"betweenness\\\")\";\n",
       "                var nbb_formatted_code = \"data = bootstrap(G, 0.4, \\\"betweenness\\\")\";\n",
       "                var nbb_cells = Jupyter.notebook.get_cells();\n",
       "                for (var i = 0; i < nbb_cells.length; ++i) {\n",
       "                    if (nbb_cells[i].input_prompt_number == nbb_cell_id) {\n",
       "                        if (nbb_cells[i].get_text() == nbb_unformatted_code) {\n",
       "                             nbb_cells[i].set_text(nbb_formatted_code);\n",
       "                        }\n",
       "                        break;\n",
       "                    }\n",
       "                }\n",
       "            }, 500);\n",
       "            "
      ],
      "text/plain": [
       "<IPython.core.display.Javascript object>"
      ]
     },
     "metadata": {},
     "output_type": "display_data"
    }
   ],
   "source": [
    "data = bootstrap(G, 0.4, \"betweenness\")"
   ]
  },
  {
   "cell_type": "code",
   "execution_count": 39,
   "id": "soviet-houston",
   "metadata": {},
   "outputs": [
    {
     "data": {
      "application/javascript": [
       "\n",
       "            setTimeout(function() {\n",
       "                var nbb_cell_id = 39;\n",
       "                var nbb_unformatted_code = \"g, train, test, y_train, y_test = data\";\n",
       "                var nbb_formatted_code = \"g, train, test, y_train, y_test = data\";\n",
       "                var nbb_cells = Jupyter.notebook.get_cells();\n",
       "                for (var i = 0; i < nbb_cells.length; ++i) {\n",
       "                    if (nbb_cells[i].input_prompt_number == nbb_cell_id) {\n",
       "                        if (nbb_cells[i].get_text() == nbb_unformatted_code) {\n",
       "                             nbb_cells[i].set_text(nbb_formatted_code);\n",
       "                        }\n",
       "                        break;\n",
       "                    }\n",
       "                }\n",
       "            }, 500);\n",
       "            "
      ],
      "text/plain": [
       "<IPython.core.display.Javascript object>"
      ]
     },
     "metadata": {},
     "output_type": "display_data"
    }
   ],
   "source": [
    "g, train, test, y_train, y_test = data"
   ]
  },
  {
   "cell_type": "code",
   "execution_count": 40,
   "id": "funny-american",
   "metadata": {},
   "outputs": [
    {
     "name": "stdout",
     "output_type": "stream",
     "text": [
      "***TRAIN SET RAPORT***\n",
      "              precision    recall  f1-score   support\n",
      "\n",
      "    employee       0.76      1.00      0.86        50\n",
      "     manager       0.00      0.00      0.00         5\n",
      "    director       0.00      0.00      0.00        11\n",
      "\n",
      "    accuracy                           0.76        66\n",
      "   macro avg       0.25      0.33      0.29        66\n",
      "weighted avg       0.57      0.76      0.65        66\n",
      "\n"
     ]
    },
    {
     "data": {
      "image/png": "[encoded data removed]",
      "text/plain": [
       "<Figure size 432x288 with 2 Axes>"
      ]
     },
     "metadata": {
      "needs_background": "light"
     },
     "output_type": "display_data"
    },
    {
     "name": "stdout",
     "output_type": "stream",
     "text": [
      "***TEST SET RAPORT***\n",
      "              precision    recall  f1-score   support\n",
      "\n",
      "    employee       0.96      1.00      0.98        97\n",
      "     manager       0.00      0.00      0.00         3\n",
      "    director       0.00      0.00      0.00         1\n",
      "\n",
      "    accuracy                           0.96       101\n",
      "   macro avg       0.32      0.33      0.33       101\n",
      "weighted avg       0.92      0.96      0.94       101\n",
      "\n"
     ]
    },
    {
     "data": {
      "image/png": "[encoded data removed]",
      "text/plain": [
       "<Figure size 432x288 with 2 Axes>"
      ]
     },
     "metadata": {
      "needs_background": "light"
     },
     "output_type": "display_data"
    },
    {
     "data": {
      "application/javascript": [
       "\n",
       "            setTimeout(function() {\n",
       "                var nbb_cell_id = 40;\n",
       "                var nbb_unformatted_code = \"model = GaussianNB()\\nmodel.fit(train, y_train)\\nraport(model, train, test, y_train, y_test, True)\";\n",
       "                var nbb_formatted_code = \"model = GaussianNB()\\nmodel.fit(train, y_train)\\nraport(model, train, test, y_train, y_test, True)\";\n",
       "                var nbb_cells = Jupyter.notebook.get_cells();\n",
       "                for (var i = 0; i < nbb_cells.length; ++i) {\n",
       "                    if (nbb_cells[i].input_prompt_number == nbb_cell_id) {\n",
       "                        if (nbb_cells[i].get_text() == nbb_unformatted_code) {\n",
       "                             nbb_cells[i].set_text(nbb_formatted_code);\n",
       "                        }\n",
       "                        break;\n",
       "                    }\n",
       "                }\n",
       "            }, 500);\n",
       "            "
      ],
      "text/plain": [
       "<IPython.core.display.Javascript object>"
      ]
     },
     "metadata": {},
     "output_type": "display_data"
    }
   ],
   "source": [
    "model = GaussianNB()\n",
    "model.fit(train, y_train)\n",
    "raport(model, train, test, y_train, y_test, True)"
   ]
  },
  {
   "cell_type": "code",
   "execution_count": 42,
   "id": "dutch-opposition",
   "metadata": {},
   "outputs": [
    {
     "name": "stdout",
     "output_type": "stream",
     "text": [
      "***TRAIN SET RAPORT***\n",
      "              precision    recall  f1-score   support\n",
      "\n",
      "    employee       0.76      1.00      0.86        50\n",
      "     manager       0.00      0.00      0.00         5\n",
      "    director       0.00      0.00      0.00        11\n",
      "\n",
      "    accuracy                           0.76        66\n",
      "   macro avg       0.25      0.33      0.29        66\n",
      "weighted avg       0.57      0.76      0.65        66\n",
      "\n"
     ]
    },
    {
     "data": {
      "image/png": "[encoded data removed]",
      "text/plain": [
       "<Figure size 432x288 with 2 Axes>"
      ]
     },
     "metadata": {
      "needs_background": "light"
     },
     "output_type": "display_data"
    },
    {
     "name": "stdout",
     "output_type": "stream",
     "text": [
      "***TEST SET RAPORT***\n",
      "              precision    recall  f1-score   support\n",
      "\n",
      "    employee       0.96      1.00      0.98        97\n",
      "     manager       0.00      0.00      0.00         3\n",
      "    director       0.00      0.00      0.00         1\n",
      "\n",
      "    accuracy                           0.96       101\n",
      "   macro avg       0.32      0.33      0.33       101\n",
      "weighted avg       0.92      0.96      0.94       101\n",
      "\n"
     ]
    },
    {
     "data": {
      "image/png": "[encoded data removed]",
      "text/plain": [
       "<Figure size 432x288 with 2 Axes>"
      ]
     },
     "metadata": {
      "needs_background": "light"
     },
     "output_type": "display_data"
    },
    {
     "data": {
      "application/javascript": [
       "\n",
       "            setTimeout(function() {\n",
       "                var nbb_cell_id = 42;\n",
       "                var nbb_unformatted_code = \"model = KNeighborsClassifier(n_neighbors=3)\\nmodel.fit(train, y_train)\\nraport(model, train, test, y_train, y_test, True)\";\n",
       "                var nbb_formatted_code = \"model = KNeighborsClassifier(n_neighbors=3)\\nmodel.fit(train, y_train)\\nraport(model, train, test, y_train, y_test, True)\";\n",
       "                var nbb_cells = Jupyter.notebook.get_cells();\n",
       "                for (var i = 0; i < nbb_cells.length; ++i) {\n",
       "                    if (nbb_cells[i].input_prompt_number == nbb_cell_id) {\n",
       "                        if (nbb_cells[i].get_text() == nbb_unformatted_code) {\n",
       "                             nbb_cells[i].set_text(nbb_formatted_code);\n",
       "                        }\n",
       "                        break;\n",
       "                    }\n",
       "                }\n",
       "            }, 500);\n",
       "            "
      ],
      "text/plain": [
       "<IPython.core.display.Javascript object>"
      ]
     },
     "metadata": {},
     "output_type": "display_data"
    }
   ],
   "source": [
    "model = KNeighborsClassifier(n_neighbors=3)\n",
    "model.fit(train, y_train)\n",
    "raport(model, train, test, y_train, y_test, True)"
   ]
  },
  {
   "cell_type": "code",
   "execution_count": 43,
   "id": "grand-surfing",
   "metadata": {},
   "outputs": [
    {
     "name": "stdout",
     "output_type": "stream",
     "text": [
      "***TRAIN SET RAPORT***\n",
      "              precision    recall  f1-score   support\n",
      "\n",
      "    employee       0.76      1.00      0.86        50\n",
      "     manager       0.00      0.00      0.00         5\n",
      "    director       0.00      0.00      0.00        11\n",
      "\n",
      "    accuracy                           0.76        66\n",
      "   macro avg       0.25      0.33      0.29        66\n",
      "weighted avg       0.57      0.76      0.65        66\n",
      "\n"
     ]
    },
    {
     "data": {
      "image/png": "[encoded data removed]",
      "text/plain": [
       "<Figure size 432x288 with 2 Axes>"
      ]
     },
     "metadata": {
      "needs_background": "light"
     },
     "output_type": "display_data"
    },
    {
     "name": "stdout",
     "output_type": "stream",
     "text": [
      "***TEST SET RAPORT***\n",
      "              precision    recall  f1-score   support\n",
      "\n",
      "    employee       0.96      1.00      0.98        97\n",
      "     manager       0.00      0.00      0.00         3\n",
      "    director       0.00      0.00      0.00         1\n",
      "\n",
      "    accuracy                           0.96       101\n",
      "   macro avg       0.32      0.33      0.33       101\n",
      "weighted avg       0.92      0.96      0.94       101\n",
      "\n"
     ]
    },
    {
     "data": {
      "image/png": "[encoded data removed]",
      "text/plain": [
       "<Figure size 432x288 with 2 Axes>"
      ]
     },
     "metadata": {
      "needs_background": "light"
     },
     "output_type": "display_data"
    },
    {
     "data": {
      "application/javascript": [
       "\n",
       "            setTimeout(function() {\n",
       "                var nbb_cell_id = 43;\n",
       "                var nbb_unformatted_code = \"model = svm.SVC(random_state=seed)\\nmodel.fit(train, y_train)\\nraport(model, train, test, y_train, y_test, True)\";\n",
       "                var nbb_formatted_code = \"model = svm.SVC(random_state=seed)\\nmodel.fit(train, y_train)\\nraport(model, train, test, y_train, y_test, True)\";\n",
       "                var nbb_cells = Jupyter.notebook.get_cells();\n",
       "                for (var i = 0; i < nbb_cells.length; ++i) {\n",
       "                    if (nbb_cells[i].input_prompt_number == nbb_cell_id) {\n",
       "                        if (nbb_cells[i].get_text() == nbb_unformatted_code) {\n",
       "                             nbb_cells[i].set_text(nbb_formatted_code);\n",
       "                        }\n",
       "                        break;\n",
       "                    }\n",
       "                }\n",
       "            }, 500);\n",
       "            "
      ],
      "text/plain": [
       "<IPython.core.display.Javascript object>"
      ]
     },
     "metadata": {},
     "output_type": "display_data"
    }
   ],
   "source": [
    "model = svm.SVC(random_state=seed)\n",
    "model.fit(train, y_train)\n",
    "raport(model, train, test, y_train, y_test, True)"
   ]
  },
  {
   "cell_type": "code",
   "execution_count": 44,
   "id": "raising-fleece",
   "metadata": {},
   "outputs": [
    {
     "name": "stdout",
     "output_type": "stream",
     "text": [
      "***TRAIN SET RAPORT***\n",
      "              precision    recall  f1-score   support\n",
      "\n",
      "    employee       1.00      1.00      1.00        50\n",
      "     manager       1.00      1.00      1.00         5\n",
      "    director       1.00      1.00      1.00        11\n",
      "\n",
      "    accuracy                           1.00        66\n",
      "   macro avg       1.00      1.00      1.00        66\n",
      "weighted avg       1.00      1.00      1.00        66\n",
      "\n"
     ]
    },
    {
     "data": {
      "image/png": "[encoded data removed]",
      "text/plain": [
       "<Figure size 432x288 with 2 Axes>"
      ]
     },
     "metadata": {
      "needs_background": "light"
     },
     "output_type": "display_data"
    },
    {
     "name": "stdout",
     "output_type": "stream",
     "text": [
      "***TEST SET RAPORT***\n",
      "              precision    recall  f1-score   support\n",
      "\n",
      "    employee       0.96      1.00      0.98        97\n",
      "     manager       0.00      0.00      0.00         3\n",
      "    director       0.00      0.00      0.00         1\n",
      "\n",
      "    accuracy                           0.96       101\n",
      "   macro avg       0.32      0.33      0.33       101\n",
      "weighted avg       0.92      0.96      0.94       101\n",
      "\n"
     ]
    },
    {
     "data": {
      "image/png": "[encoded data removed]",
      "text/plain": [
       "<Figure size 432x288 with 2 Axes>"
      ]
     },
     "metadata": {
      "needs_background": "light"
     },
     "output_type": "display_data"
    },
    {
     "data": {
      "application/javascript": [
       "\n",
       "            setTimeout(function() {\n",
       "                var nbb_cell_id = 44;\n",
       "                var nbb_unformatted_code = \"model = RandomForestClassifier(random_state=seed)\\nmodel.fit(train, y_train)\\nraport(model, train, test, y_train, y_test, True)\";\n",
       "                var nbb_formatted_code = \"model = RandomForestClassifier(random_state=seed)\\nmodel.fit(train, y_train)\\nraport(model, train, test, y_train, y_test, True)\";\n",
       "                var nbb_cells = Jupyter.notebook.get_cells();\n",
       "                for (var i = 0; i < nbb_cells.length; ++i) {\n",
       "                    if (nbb_cells[i].input_prompt_number == nbb_cell_id) {\n",
       "                        if (nbb_cells[i].get_text() == nbb_unformatted_code) {\n",
       "                             nbb_cells[i].set_text(nbb_formatted_code);\n",
       "                        }\n",
       "                        break;\n",
       "                    }\n",
       "                }\n",
       "            }, 500);\n",
       "            "
      ],
      "text/plain": [
       "<IPython.core.display.Javascript object>"
      ]
     },
     "metadata": {},
     "output_type": "display_data"
    }
   ],
   "source": [
    "model = RandomForestClassifier(random_state=seed)\n",
    "model.fit(train, y_train)\n",
    "raport(model, train, test, y_train, y_test, True)"
   ]
  },
  {
   "cell_type": "code",
   "execution_count": 45,
   "id": "documentary-arcade",
   "metadata": {},
   "outputs": [
    {
     "name": "stdout",
     "output_type": "stream",
     "text": [
      "***TRAIN SET RAPORT***\n",
      "              precision    recall  f1-score   support\n",
      "\n",
      "    employee       0.85      1.00      0.92        50\n",
      "     manager       1.00      0.80      0.89         5\n",
      "    director       1.00      0.27      0.43        11\n",
      "\n",
      "    accuracy                           0.86        66\n",
      "   macro avg       0.95      0.69      0.74        66\n",
      "weighted avg       0.88      0.86      0.83        66\n",
      "\n"
     ]
    },
    {
     "data": {
      "image/png": "[encoded data removed]",
      "text/plain": [
       "<Figure size 432x288 with 2 Axes>"
      ]
     },
     "metadata": {
      "needs_background": "light"
     },
     "output_type": "display_data"
    },
    {
     "name": "stdout",
     "output_type": "stream",
     "text": [
      "***TEST SET RAPORT***\n",
      "              precision    recall  f1-score   support\n",
      "\n",
      "    employee       0.96      1.00      0.98        97\n",
      "     manager       0.00      0.00      0.00         3\n",
      "    director       0.00      0.00      0.00         1\n",
      "\n",
      "    accuracy                           0.96       101\n",
      "   macro avg       0.32      0.33      0.33       101\n",
      "weighted avg       0.92      0.96      0.94       101\n",
      "\n"
     ]
    },
    {
     "data": {
      "image/png": "[encoded data removed]",
      "text/plain": [
       "<Figure size 432x288 with 2 Axes>"
      ]
     },
     "metadata": {
      "needs_background": "light"
     },
     "output_type": "display_data"
    },
    {
     "data": {
      "application/javascript": [
       "\n",
       "            setTimeout(function() {\n",
       "                var nbb_cell_id = 45;\n",
       "                var nbb_unformatted_code = \"model = AdaBoostClassifier(random_state=seed)\\nmodel.fit(train, y_train)\\nraport(model, train, test, y_train, y_test, True)\";\n",
       "                var nbb_formatted_code = \"model = AdaBoostClassifier(random_state=seed)\\nmodel.fit(train, y_train)\\nraport(model, train, test, y_train, y_test, True)\";\n",
       "                var nbb_cells = Jupyter.notebook.get_cells();\n",
       "                for (var i = 0; i < nbb_cells.length; ++i) {\n",
       "                    if (nbb_cells[i].input_prompt_number == nbb_cell_id) {\n",
       "                        if (nbb_cells[i].get_text() == nbb_unformatted_code) {\n",
       "                             nbb_cells[i].set_text(nbb_formatted_code);\n",
       "                        }\n",
       "                        break;\n",
       "                    }\n",
       "                }\n",
       "            }, 500);\n",
       "            "
      ],
      "text/plain": [
       "<IPython.core.display.Javascript object>"
      ]
     },
     "metadata": {},
     "output_type": "display_data"
    }
   ],
   "source": [
    "model = AdaBoostClassifier(random_state=seed)\n",
    "model.fit(train, y_train)\n",
    "raport(model, train, test, y_train, y_test, True)"
   ]
  },
  {
   "cell_type": "code",
   "execution_count": null,
   "id": "electoral-agriculture",
   "metadata": {},
   "outputs": [],
   "source": []
  }
 ],
 "metadata": {
  "kernelspec": {
   "display_name": "Python 3",
   "language": "python",
   "name": "python3"
  },
  "language_info": {
   "codemirror_mode": {
    "name": "ipython",
    "version": 3
   },
   "file_extension": ".py",
   "mimetype": "text/x-python",
   "name": "python",
   "nbconvert_exporter": "python",
   "pygments_lexer": "ipython3",
   "version": "3.9.2"
  }
 },
 "nbformat": 4,
 "nbformat_minor": 5
}
