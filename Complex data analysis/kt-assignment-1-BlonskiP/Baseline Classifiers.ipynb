{
 "cells": [
  {
   "cell_type": "code",
   "execution_count": 41,
   "id": "toxic-amber",
   "metadata": {},
   "outputs": [
    {
     "name": "stdout",
     "output_type": "stream",
     "text": [
      "The autoreload extension is already loaded. To reload it, use:\n",
      "  %reload_ext autoreload\n",
      "The nb_black extension is already loaded. To reload it, use:\n",
      "  %reload_ext nb_black\n"
     ]
    },
    {
     "data": {
      "application/javascript": [
       "\n",
       "            setTimeout(function() {\n",
       "                var nbb_cell_id = 41;\n",
       "                var nbb_unformatted_code = \"%load_ext autoreload\\n%load_ext nb_black\\n%autoreload 2\\nimport warnings\\n\\nwarnings.filterwarnings(\\\"ignore\\\")\\nimport sys\\nimport os\\nfrom sklearn.naive_bayes import GaussianNB\\nfrom sklearn.ensemble import AdaBoostClassifier\\nfrom sklearn.metrics import classification_report\\nfrom sklearn.ensemble import RandomForestClassifier\\nfrom sklearn.neighbors import KNeighborsClassifier\\nfrom sklearn import svm\\n\\nseed = 42\\nsys.path.append(\\\"../../\\\")\\nfrom sklearn.model_selection import train_test_split\";\n",
       "                var nbb_formatted_code = \"%load_ext autoreload\\n%load_ext nb_black\\n%autoreload 2\\nimport warnings\\n\\nwarnings.filterwarnings(\\\"ignore\\\")\\nimport sys\\nimport os\\nfrom sklearn.naive_bayes import GaussianNB\\nfrom sklearn.ensemble import AdaBoostClassifier\\nfrom sklearn.metrics import classification_report\\nfrom sklearn.ensemble import RandomForestClassifier\\nfrom sklearn.neighbors import KNeighborsClassifier\\nfrom sklearn import svm\\n\\nseed = 42\\nsys.path.append(\\\"../../\\\")\\nfrom sklearn.model_selection import train_test_split\";\n",
       "                var nbb_cells = Jupyter.notebook.get_cells();\n",
       "                for (var i = 0; i < nbb_cells.length; ++i) {\n",
       "                    if (nbb_cells[i].input_prompt_number == nbb_cell_id) {\n",
       "                        if (nbb_cells[i].get_text() == nbb_unformatted_code) {\n",
       "                             nbb_cells[i].set_text(nbb_formatted_code);\n",
       "                        }\n",
       "                        break;\n",
       "                    }\n",
       "                }\n",
       "            }, 500);\n",
       "            "
      ],
      "text/plain": [
       "<IPython.core.display.Javascript object>"
      ]
     },
     "metadata": {},
     "output_type": "display_data"
    }
   ],
   "source": [
    "%load_ext autoreload\n",
    "%load_ext nb_black\n",
    "%autoreload 2\n",
    "import warnings\n",
    "\n",
    "warnings.filterwarnings(\"ignore\")\n",
    "import sys\n",
    "import os\n",
    "from sklearn.naive_bayes import GaussianNB\n",
    "from sklearn.ensemble import AdaBoostClassifier\n",
    "from sklearn.metrics import classification_report\n",
    "from sklearn.ensemble import RandomForestClassifier\n",
    "from sklearn.neighbors import KNeighborsClassifier\n",
    "from sklearn import svm\n",
    "\n",
    "seed = 42\n",
    "sys.path.append(\"../../\")\n",
    "from sklearn.model_selection import train_test_split"
   ]
  },
  {
   "cell_type": "code",
   "execution_count": 13,
   "id": "double-affair",
   "metadata": {},
   "outputs": [
    {
     "data": {
      "application/javascript": [
       "\n",
       "            setTimeout(function() {\n",
       "                var nbb_cell_id = 13;\n",
       "                var nbb_unformatted_code = \"from src.dataset_loader import *\\nfrom src.utils import *\";\n",
       "                var nbb_formatted_code = \"from src.dataset_loader import *\\nfrom src.utils import *\";\n",
       "                var nbb_cells = Jupyter.notebook.get_cells();\n",
       "                for (var i = 0; i < nbb_cells.length; ++i) {\n",
       "                    if (nbb_cells[i].input_prompt_number == nbb_cell_id) {\n",
       "                        if (nbb_cells[i].get_text() == nbb_unformatted_code) {\n",
       "                             nbb_cells[i].set_text(nbb_formatted_code);\n",
       "                        }\n",
       "                        break;\n",
       "                    }\n",
       "                }\n",
       "            }, 500);\n",
       "            "
      ],
      "text/plain": [
       "<IPython.core.display.Javascript object>"
      ]
     },
     "metadata": {},
     "output_type": "display_data"
    }
   ],
   "source": [
    "from src.dataset_loader import *\n",
    "from src.utils import *"
   ]
  },
  {
   "cell_type": "code",
   "execution_count": 20,
   "id": "opponent-chemistry",
   "metadata": {},
   "outputs": [
    {
     "data": {
      "application/javascript": [
       "\n",
       "            setTimeout(function() {\n",
       "                var nbb_cell_id = 20;\n",
       "                var nbb_unformatted_code = \"data = create_dataset()\";\n",
       "                var nbb_formatted_code = \"data = create_dataset()\";\n",
       "                var nbb_cells = Jupyter.notebook.get_cells();\n",
       "                for (var i = 0; i < nbb_cells.length; ++i) {\n",
       "                    if (nbb_cells[i].input_prompt_number == nbb_cell_id) {\n",
       "                        if (nbb_cells[i].get_text() == nbb_unformatted_code) {\n",
       "                             nbb_cells[i].set_text(nbb_formatted_code);\n",
       "                        }\n",
       "                        break;\n",
       "                    }\n",
       "                }\n",
       "            }, 500);\n",
       "            "
      ],
      "text/plain": [
       "<IPython.core.display.Javascript object>"
      ]
     },
     "metadata": {},
     "output_type": "display_data"
    }
   ],
   "source": [
    "data = create_dataset()"
   ]
  },
  {
   "cell_type": "code",
   "execution_count": 15,
   "id": "artificial-horizon",
   "metadata": {},
   "outputs": [
    {
     "data": {
      "application/javascript": [
       "\n",
       "            setTimeout(function() {\n",
       "                var nbb_cell_id = 15;\n",
       "                var nbb_unformatted_code = \"train, test, y_train, y_test = split_dataset(data)\";\n",
       "                var nbb_formatted_code = \"train, test, y_train, y_test = split_dataset(data)\";\n",
       "                var nbb_cells = Jupyter.notebook.get_cells();\n",
       "                for (var i = 0; i < nbb_cells.length; ++i) {\n",
       "                    if (nbb_cells[i].input_prompt_number == nbb_cell_id) {\n",
       "                        if (nbb_cells[i].get_text() == nbb_unformatted_code) {\n",
       "                             nbb_cells[i].set_text(nbb_formatted_code);\n",
       "                        }\n",
       "                        break;\n",
       "                    }\n",
       "                }\n",
       "            }, 500);\n",
       "            "
      ],
      "text/plain": [
       "<IPython.core.display.Javascript object>"
      ]
     },
     "metadata": {},
     "output_type": "display_data"
    }
   ],
   "source": [
    "train, test, y_train, y_test = split_dataset(data)"
   ]
  },
  {
   "cell_type": "markdown",
   "id": "spare-branch",
   "metadata": {},
   "source": [
    "# Baseline - Naive Bayes"
   ]
  },
  {
   "cell_type": "code",
   "execution_count": 31,
   "id": "mighty-technical",
   "metadata": {},
   "outputs": [
    {
     "name": "stdout",
     "output_type": "stream",
     "text": [
      "***TRAIN SET RAPORT***\n",
      "              precision    recall  f1-score   support\n",
      "\n",
      "    employee       0.88      1.00      0.94        29\n",
      "     manager       0.00      0.00      0.00         2\n",
      "    director       0.00      0.00      0.00         2\n",
      "\n",
      "    accuracy                           0.88        33\n",
      "   macro avg       0.29      0.33      0.31        33\n",
      "weighted avg       0.77      0.88      0.82        33\n",
      "\n"
     ]
    },
    {
     "data": {
      "image/png": "[encoded data removed]",
      "text/plain": [
       "<Figure size 432x288 with 2 Axes>"
      ]
     },
     "metadata": {
      "needs_background": "light"
     },
     "output_type": "display_data"
    },
    {
     "name": "stdout",
     "output_type": "stream",
     "text": [
      "***TEST SET RAPORT***\n",
      "              precision    recall  f1-score   support\n",
      "\n",
      "    employee       0.88      1.00      0.94       118\n",
      "     manager       0.00      0.00      0.00         6\n",
      "    director       0.00      0.00      0.00        10\n",
      "\n",
      "    accuracy                           0.88       134\n",
      "   macro avg       0.29      0.33      0.31       134\n",
      "weighted avg       0.78      0.88      0.82       134\n",
      "\n"
     ]
    },
    {
     "data": {
      "image/png": "[encoded data removed]",
      "text/plain": [
       "<Figure size 432x288 with 2 Axes>"
      ]
     },
     "metadata": {
      "needs_background": "light"
     },
     "output_type": "display_data"
    },
    {
     "data": {
      "application/javascript": [
       "\n",
       "            setTimeout(function() {\n",
       "                var nbb_cell_id = 31;\n",
       "                var nbb_unformatted_code = \"model = GaussianNB()\\nmodel.fit(train, y_train)\\nraport(model, train, test, y_train, y_test, True)\";\n",
       "                var nbb_formatted_code = \"model = GaussianNB()\\nmodel.fit(train, y_train)\\nraport(model, train, test, y_train, y_test, True)\";\n",
       "                var nbb_cells = Jupyter.notebook.get_cells();\n",
       "                for (var i = 0; i < nbb_cells.length; ++i) {\n",
       "                    if (nbb_cells[i].input_prompt_number == nbb_cell_id) {\n",
       "                        if (nbb_cells[i].get_text() == nbb_unformatted_code) {\n",
       "                             nbb_cells[i].set_text(nbb_formatted_code);\n",
       "                        }\n",
       "                        break;\n",
       "                    }\n",
       "                }\n",
       "            }, 500);\n",
       "            "
      ],
      "text/plain": [
       "<IPython.core.display.Javascript object>"
      ]
     },
     "metadata": {},
     "output_type": "display_data"
    }
   ],
   "source": [
    "model = GaussianNB()\n",
    "model.fit(train, y_train)\n",
    "raport(model, train, test, y_train, y_test, True)"
   ]
  },
  {
   "cell_type": "markdown",
   "id": "arabic-brisbane",
   "metadata": {},
   "source": [
    "# Adaboost"
   ]
  },
  {
   "cell_type": "code",
   "execution_count": 34,
   "id": "requested-spoke",
   "metadata": {},
   "outputs": [
    {
     "name": "stdout",
     "output_type": "stream",
     "text": [
      "***TRAIN SET RAPORT***\n",
      "              precision    recall  f1-score   support\n",
      "\n",
      "    employee       0.88      1.00      0.94        29\n",
      "     manager       0.00      0.00      0.00         2\n",
      "    director       0.00      0.00      0.00         2\n",
      "\n",
      "    accuracy                           0.88        33\n",
      "   macro avg       0.29      0.33      0.31        33\n",
      "weighted avg       0.77      0.88      0.82        33\n",
      "\n"
     ]
    },
    {
     "data": {
      "image/png": "[encoded data removed]",
      "text/plain": [
       "<Figure size 432x288 with 2 Axes>"
      ]
     },
     "metadata": {
      "needs_background": "light"
     },
     "output_type": "display_data"
    },
    {
     "name": "stdout",
     "output_type": "stream",
     "text": [
      "***TEST SET RAPORT***\n",
      "              precision    recall  f1-score   support\n",
      "\n",
      "    employee       0.88      1.00      0.94       118\n",
      "     manager       0.00      0.00      0.00         6\n",
      "    director       0.00      0.00      0.00        10\n",
      "\n",
      "    accuracy                           0.88       134\n",
      "   macro avg       0.29      0.33      0.31       134\n",
      "weighted avg       0.78      0.88      0.82       134\n",
      "\n"
     ]
    },
    {
     "data": {
      "image/png": "[encoded data removed]",
      "text/plain": [
       "<Figure size 432x288 with 2 Axes>"
      ]
     },
     "metadata": {
      "needs_background": "light"
     },
     "output_type": "display_data"
    },
    {
     "data": {
      "application/javascript": [
       "\n",
       "            setTimeout(function() {\n",
       "                var nbb_cell_id = 34;\n",
       "                var nbb_unformatted_code = \"model = AdaBoostClassifier(random_state=seed)\\nmodel.fit(train, y_train)\\nraport(model, train, test, y_train, y_test, True)\";\n",
       "                var nbb_formatted_code = \"model = AdaBoostClassifier(random_state=seed)\\nmodel.fit(train, y_train)\\nraport(model, train, test, y_train, y_test, True)\";\n",
       "                var nbb_cells = Jupyter.notebook.get_cells();\n",
       "                for (var i = 0; i < nbb_cells.length; ++i) {\n",
       "                    if (nbb_cells[i].input_prompt_number == nbb_cell_id) {\n",
       "                        if (nbb_cells[i].get_text() == nbb_unformatted_code) {\n",
       "                             nbb_cells[i].set_text(nbb_formatted_code);\n",
       "                        }\n",
       "                        break;\n",
       "                    }\n",
       "                }\n",
       "            }, 500);\n",
       "            "
      ],
      "text/plain": [
       "<IPython.core.display.Javascript object>"
      ]
     },
     "metadata": {},
     "output_type": "display_data"
    }
   ],
   "source": [
    "model = AdaBoostClassifier(random_state=seed)\n",
    "model.fit(train, y_train)\n",
    "raport(model, train, test, y_train, y_test, True)"
   ]
  },
  {
   "cell_type": "code",
   "execution_count": 36,
   "id": "textile-session",
   "metadata": {},
   "outputs": [
    {
     "name": "stdout",
     "output_type": "stream",
     "text": [
      "***TRAIN SET RAPORT***\n",
      "              precision    recall  f1-score   support\n",
      "\n",
      "    employee       1.00      1.00      1.00        29\n",
      "     manager       1.00      1.00      1.00         2\n",
      "    director       1.00      1.00      1.00         2\n",
      "\n",
      "    accuracy                           1.00        33\n",
      "   macro avg       1.00      1.00      1.00        33\n",
      "weighted avg       1.00      1.00      1.00        33\n",
      "\n"
     ]
    },
    {
     "data": {
      "image/png": "[encoded data removed]",
      "text/plain": [
       "<Figure size 432x288 with 2 Axes>"
      ]
     },
     "metadata": {
      "needs_background": "light"
     },
     "output_type": "display_data"
    },
    {
     "name": "stdout",
     "output_type": "stream",
     "text": [
      "***TEST SET RAPORT***\n",
      "              precision    recall  f1-score   support\n",
      "\n",
      "    employee       0.88      0.99      0.93       118\n",
      "     manager       0.00      0.00      0.00         6\n",
      "    director       0.00      0.00      0.00        10\n",
      "\n",
      "    accuracy                           0.87       134\n",
      "   macro avg       0.29      0.33      0.31       134\n",
      "weighted avg       0.77      0.87      0.82       134\n",
      "\n"
     ]
    },
    {
     "data": {
      "image/png": "[encoded data removed]",
      "text/plain": [
       "<Figure size 432x288 with 2 Axes>"
      ]
     },
     "metadata": {
      "needs_background": "light"
     },
     "output_type": "display_data"
    },
    {
     "data": {
      "application/javascript": [
       "\n",
       "            setTimeout(function() {\n",
       "                var nbb_cell_id = 36;\n",
       "                var nbb_unformatted_code = \"model = RandomForestClassifier(random_state=seed)\\nmodel.fit(train, y_train)\\nraport(model, train, test, y_train, y_test, True)\";\n",
       "                var nbb_formatted_code = \"model = RandomForestClassifier(random_state=seed)\\nmodel.fit(train, y_train)\\nraport(model, train, test, y_train, y_test, True)\";\n",
       "                var nbb_cells = Jupyter.notebook.get_cells();\n",
       "                for (var i = 0; i < nbb_cells.length; ++i) {\n",
       "                    if (nbb_cells[i].input_prompt_number == nbb_cell_id) {\n",
       "                        if (nbb_cells[i].get_text() == nbb_unformatted_code) {\n",
       "                             nbb_cells[i].set_text(nbb_formatted_code);\n",
       "                        }\n",
       "                        break;\n",
       "                    }\n",
       "                }\n",
       "            }, 500);\n",
       "            "
      ],
      "text/plain": [
       "<IPython.core.display.Javascript object>"
      ]
     },
     "metadata": {},
     "output_type": "display_data"
    }
   ],
   "source": [
    "model = RandomForestClassifier(random_state=seed)\n",
    "model.fit(train, y_train)\n",
    "raport(model, train, test, y_train, y_test, True)"
   ]
  },
  {
   "cell_type": "code",
   "execution_count": 39,
   "id": "turkish-valuable",
   "metadata": {},
   "outputs": [
    {
     "name": "stdout",
     "output_type": "stream",
     "text": [
      "***TRAIN SET RAPORT***\n",
      "              precision    recall  f1-score   support\n",
      "\n",
      "    employee       0.88      1.00      0.94        29\n",
      "     manager       0.00      0.00      0.00         2\n",
      "    director       0.00      0.00      0.00         2\n",
      "\n",
      "    accuracy                           0.88        33\n",
      "   macro avg       0.29      0.33      0.31        33\n",
      "weighted avg       0.77      0.88      0.82        33\n",
      "\n"
     ]
    },
    {
     "data": {
      "image/png": "[encoded data removed]",
      "text/plain": [
       "<Figure size 432x288 with 2 Axes>"
      ]
     },
     "metadata": {
      "needs_background": "light"
     },
     "output_type": "display_data"
    },
    {
     "name": "stdout",
     "output_type": "stream",
     "text": [
      "***TEST SET RAPORT***\n",
      "              precision    recall  f1-score   support\n",
      "\n",
      "    employee       0.88      1.00      0.94       118\n",
      "     manager       0.00      0.00      0.00         6\n",
      "    director       0.00      0.00      0.00        10\n",
      "\n",
      "    accuracy                           0.88       134\n",
      "   macro avg       0.29      0.33      0.31       134\n",
      "weighted avg       0.78      0.88      0.82       134\n",
      "\n"
     ]
    },
    {
     "data": {
      "image/png": "[encoded data removed]",
      "text/plain": [
       "<Figure size 432x288 with 2 Axes>"
      ]
     },
     "metadata": {
      "needs_background": "light"
     },
     "output_type": "display_data"
    },
    {
     "data": {
      "application/javascript": [
       "\n",
       "            setTimeout(function() {\n",
       "                var nbb_cell_id = 39;\n",
       "                var nbb_unformatted_code = \"model = svm.SVC(random_state=seed)\\nmodel.fit(train, y_train)\\nraport(model, train, test, y_train, y_test, True)\";\n",
       "                var nbb_formatted_code = \"model = svm.SVC(random_state=seed)\\nmodel.fit(train, y_train)\\nraport(model, train, test, y_train, y_test, True)\";\n",
       "                var nbb_cells = Jupyter.notebook.get_cells();\n",
       "                for (var i = 0; i < nbb_cells.length; ++i) {\n",
       "                    if (nbb_cells[i].input_prompt_number == nbb_cell_id) {\n",
       "                        if (nbb_cells[i].get_text() == nbb_unformatted_code) {\n",
       "                             nbb_cells[i].set_text(nbb_formatted_code);\n",
       "                        }\n",
       "                        break;\n",
       "                    }\n",
       "                }\n",
       "            }, 500);\n",
       "            "
      ],
      "text/plain": [
       "<IPython.core.display.Javascript object>"
      ]
     },
     "metadata": {},
     "output_type": "display_data"
    }
   ],
   "source": [
    "model = svm.SVC(random_state=seed)\n",
    "model.fit(train, y_train)\n",
    "raport(model, train, test, y_train, y_test, True)"
   ]
  },
  {
   "cell_type": "code",
   "execution_count": 42,
   "id": "minute-telescope",
   "metadata": {},
   "outputs": [
    {
     "name": "stdout",
     "output_type": "stream",
     "text": [
      "***TRAIN SET RAPORT***\n",
      "              precision    recall  f1-score   support\n",
      "\n",
      "    employee       0.88      1.00      0.94        29\n",
      "     manager       0.00      0.00      0.00         2\n",
      "    director       0.00      0.00      0.00         2\n",
      "\n",
      "    accuracy                           0.88        33\n",
      "   macro avg       0.29      0.33      0.31        33\n",
      "weighted avg       0.77      0.88      0.82        33\n",
      "\n"
     ]
    },
    {
     "data": {
      "image/png": "[encoded data removed]",
      "text/plain": [
       "<Figure size 432x288 with 2 Axes>"
      ]
     },
     "metadata": {
      "needs_background": "light"
     },
     "output_type": "display_data"
    },
    {
     "name": "stdout",
     "output_type": "stream",
     "text": [
      "***TEST SET RAPORT***\n",
      "              precision    recall  f1-score   support\n",
      "\n",
      "    employee       0.88      1.00      0.94       118\n",
      "     manager       0.00      0.00      0.00         6\n",
      "    director       0.00      0.00      0.00        10\n",
      "\n",
      "    accuracy                           0.88       134\n",
      "   macro avg       0.29      0.33      0.31       134\n",
      "weighted avg       0.78      0.88      0.82       134\n",
      "\n"
     ]
    },
    {
     "data": {
      "image/png": "[encoded data removed]",
      "text/plain": [
       "<Figure size 432x288 with 2 Axes>"
      ]
     },
     "metadata": {
      "needs_background": "light"
     },
     "output_type": "display_data"
    },
    {
     "data": {
      "application/javascript": [
       "\n",
       "            setTimeout(function() {\n",
       "                var nbb_cell_id = 42;\n",
       "                var nbb_unformatted_code = \"model = KNeighborsClassifier(n_neighbors=3)\\nmodel.fit(train, y_train)\\nraport(model, train, test, y_train, y_test, True)\";\n",
       "                var nbb_formatted_code = \"model = KNeighborsClassifier(n_neighbors=3)\\nmodel.fit(train, y_train)\\nraport(model, train, test, y_train, y_test, True)\";\n",
       "                var nbb_cells = Jupyter.notebook.get_cells();\n",
       "                for (var i = 0; i < nbb_cells.length; ++i) {\n",
       "                    if (nbb_cells[i].input_prompt_number == nbb_cell_id) {\n",
       "                        if (nbb_cells[i].get_text() == nbb_unformatted_code) {\n",
       "                             nbb_cells[i].set_text(nbb_formatted_code);\n",
       "                        }\n",
       "                        break;\n",
       "                    }\n",
       "                }\n",
       "            }, 500);\n",
       "            "
      ],
      "text/plain": [
       "<IPython.core.display.Javascript object>"
      ]
     },
     "metadata": {},
     "output_type": "display_data"
    }
   ],
   "source": [
    "model = KNeighborsClassifier(n_neighbors=3)\n",
    "model.fit(train, y_train)\n",
    "raport(model, train, test, y_train, y_test, True)"
   ]
  },
  {
   "cell_type": "code",
   "execution_count": null,
   "id": "dental-threshold",
   "metadata": {},
   "outputs": [],
   "source": []
  }
 ],
 "metadata": {
  "kernelspec": {
   "display_name": "Python 3",
   "language": "python",
   "name": "python3"
  },
  "language_info": {
   "codemirror_mode": {
    "name": "ipython",
    "version": 3
   },
   "file_extension": ".py",
   "mimetype": "text/x-python",
   "name": "python",
   "nbconvert_exporter": "python",
   "pygments_lexer": "ipython3",
   "version": "3.9.2"
  }
 },
 "nbformat": 4,
 "nbformat_minor": 5
}
